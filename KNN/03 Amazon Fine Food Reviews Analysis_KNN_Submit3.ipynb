{
 "cells": [
  {
   "cell_type": "markdown",
   "metadata": {},
   "source": [
    "# Amazon Fine Food Reviews Analysis\n",
    "\n",
    "\n",
    "Data Source: https://www.kaggle.com/snap/amazon-fine-food-reviews <br>\n",
    "\n",
    "EDA: https://nycdatascience.com/blog/student-works/amazon-fine-foods-visualization/\n",
    "\n",
    "\n",
    "The Amazon Fine Food Reviews dataset consists of reviews of fine foods from Amazon.<br>\n",
    "\n",
    "Number of reviews: 568,454<br>\n",
    "Number of users: 256,059<br>\n",
    "Number of products: 74,258<br>\n",
    "Timespan: Oct 1999 - Oct 2012<br>\n",
    "Number of Attributes/Columns in data: 10 \n",
    "\n",
    "Attribute Information:\n",
    "\n",
    "1. Id\n",
    "2. ProductId - unique identifier for the product\n",
    "3. UserId - unqiue identifier for the user\n",
    "4. ProfileName\n",
    "5. HelpfulnessNumerator - number of users who found the review helpful\n",
    "6. HelpfulnessDenominator - number of users who indicated whether they found the review helpful or not\n",
    "7. Score - rating between 1 and 5\n",
    "8. Time - timestamp for the review\n",
    "9. Summary - brief summary of the review\n",
    "10. Text - text of the review\n",
    "\n",
    "\n",
    "#### Objective:\n",
    "Given a review, determine whether the review is positive (rating of 4 or 5) or negative (rating of 1 or 2).\n",
    "\n",
    "<br>\n",
    "[Q] How to determine if a review is positive or negative?<br>\n",
    "<br> \n",
    "[Ans] We could use Score/Rating. A rating of 4 or 5 can be cosnidered as a positive review. A rating of 1 or 2 can be considered as negative one. A review of rating 3 is considered nuetral and such reviews are ignored from our analysis. This is an approximate and proxy way of determining the polarity (positivity/negativity) of a review.\n",
    "\n",
    "\n"
   ]
  },
  {
   "cell_type": "markdown",
   "metadata": {},
   "source": [
    "# [1]. Reading Data"
   ]
  },
  {
   "cell_type": "markdown",
   "metadata": {},
   "source": [
    "## [1.1] Loading the data\n",
    "\n",
    "The dataset is available in two forms\n",
    "1. .csv file\n",
    "2. SQLite Database\n",
    "\n",
    "In order to load the data, We have used the SQLITE dataset as it is easier to query the data and visualise the data efficiently.\n",
    "<br> \n",
    "\n",
    "Here as we only want to get the global sentiment of the recommendations (positive or negative), we will purposefully ignore all Scores equal to 3. If the score is above 3, then the recommendation wil be set to \"positive\". Otherwise, it will be set to \"negative\"."
   ]
  },
  {
   "cell_type": "code",
   "execution_count": 2,
   "metadata": {},
   "outputs": [],
   "source": [
    "%matplotlib inline\n",
    "import warnings\n",
    "warnings.filterwarnings(\"ignore\")\n",
    "\n",
    "\n",
    "import sqlite3\n",
    "import pandas as pd\n",
    "import numpy as np\n",
    "import nltk\n",
    "import string\n",
    "import matplotlib.pyplot as plt\n",
    "import seaborn as sns\n",
    "# from sklearn.feature_extraction.text import TfidfTransformer\n",
    "from sklearn.feature_extraction.text import TfidfVectorizer\n",
    "\n",
    "from sklearn.feature_extraction.text import CountVectorizer\n",
    "from sklearn.metrics import confusion_matrix\n",
    "from sklearn import metrics\n",
    "from sklearn.metrics import roc_curve, auc\n",
    "# from nltk.stem.porter import PorterStemmer\n",
    "\n",
    "import re\n",
    "# Tutorial about Python regular expressions: https://pymotw.com/2/re/\n",
    "import string\n",
    "from nltk.corpus import stopwords\n",
    "# from nltk.stem import PorterStemmer\n",
    "# from nltk.stem.wordnet import WordNetLemmatizer\n",
    "\n",
    "from gensim.models import Word2Vec\n",
    "from gensim.models import KeyedVectors\n",
    "import pickle\n",
    "\n",
    "from tqdm import tqdm\n",
    "import os"
   ]
  },
  {
   "cell_type": "code",
   "execution_count": 3,
   "metadata": {},
   "outputs": [
    {
     "name": "stdout",
     "output_type": "stream",
     "text": [
      "+------------+-------+-----------------+-----------+\n",
      "| Vectorizer | Model | Hyperparameters | AUC Score |\n",
      "+------------+-------+-----------------+-----------+\n",
      "+------------+-------+-----------------+-----------+\n"
     ]
    }
   ],
   "source": [
    "# Using prettyTable for showing the observations\n",
    "from prettytable import PrettyTable\n",
    "table = PrettyTable()\n",
    "table.field_names= [\"Vectorizer\", \"Model\", \"Hyperparameters\", \"AUC Score\"]\n",
    "print(table)"
   ]
  },
  {
   "cell_type": "code",
   "execution_count": 3,
   "metadata": {},
   "outputs": [
    {
     "name": "stdout",
     "output_type": "stream",
     "text": [
      "Number of data points in our data (60000, 10)\n"
     ]
    },
    {
     "data": {
      "text/html": [
       "<div>\n",
       "<style scoped>\n",
       "    .dataframe tbody tr th:only-of-type {\n",
       "        vertical-align: middle;\n",
       "    }\n",
       "\n",
       "    .dataframe tbody tr th {\n",
       "        vertical-align: top;\n",
       "    }\n",
       "\n",
       "    .dataframe thead th {\n",
       "        text-align: right;\n",
       "    }\n",
       "</style>\n",
       "<table border=\"1\" class=\"dataframe\">\n",
       "  <thead>\n",
       "    <tr style=\"text-align: right;\">\n",
       "      <th></th>\n",
       "      <th>Id</th>\n",
       "      <th>ProductId</th>\n",
       "      <th>UserId</th>\n",
       "      <th>ProfileName</th>\n",
       "      <th>HelpfulnessNumerator</th>\n",
       "      <th>HelpfulnessDenominator</th>\n",
       "      <th>Score</th>\n",
       "      <th>Time</th>\n",
       "      <th>Summary</th>\n",
       "      <th>Text</th>\n",
       "    </tr>\n",
       "  </thead>\n",
       "  <tbody>\n",
       "    <tr>\n",
       "      <th>0</th>\n",
       "      <td>2</td>\n",
       "      <td>B00813GRG4</td>\n",
       "      <td>A1D87F6ZCVE5NK</td>\n",
       "      <td>dll pa</td>\n",
       "      <td>0</td>\n",
       "      <td>0</td>\n",
       "      <td>0</td>\n",
       "      <td>1346976000</td>\n",
       "      <td>Not as Advertised</td>\n",
       "      <td>Product arrived labeled as Jumbo Salted Peanut...</td>\n",
       "    </tr>\n",
       "    <tr>\n",
       "      <th>1</th>\n",
       "      <td>4</td>\n",
       "      <td>B000UA0QIQ</td>\n",
       "      <td>A395BORC6FGVXV</td>\n",
       "      <td>Karl</td>\n",
       "      <td>3</td>\n",
       "      <td>3</td>\n",
       "      <td>0</td>\n",
       "      <td>1307923200</td>\n",
       "      <td>Cough Medicine</td>\n",
       "      <td>If you are looking for the secret ingredient i...</td>\n",
       "    </tr>\n",
       "    <tr>\n",
       "      <th>2</th>\n",
       "      <td>13</td>\n",
       "      <td>B0009XLVG0</td>\n",
       "      <td>A327PCT23YH90</td>\n",
       "      <td>LT</td>\n",
       "      <td>1</td>\n",
       "      <td>1</td>\n",
       "      <td>0</td>\n",
       "      <td>1339545600</td>\n",
       "      <td>My Cats Are Not Fans of the New Food</td>\n",
       "      <td>My cats have been happily eating Felidae Plati...</td>\n",
       "    </tr>\n",
       "  </tbody>\n",
       "</table>\n",
       "</div>"
      ],
      "text/plain": [
       "   Id   ProductId          UserId ProfileName  HelpfulnessNumerator  \\\n",
       "0   2  B00813GRG4  A1D87F6ZCVE5NK      dll pa                     0   \n",
       "1   4  B000UA0QIQ  A395BORC6FGVXV        Karl                     3   \n",
       "2  13  B0009XLVG0   A327PCT23YH90          LT                     1   \n",
       "\n",
       "   HelpfulnessDenominator  Score        Time  \\\n",
       "0                       0      0  1346976000   \n",
       "1                       3      0  1307923200   \n",
       "2                       1      0  1339545600   \n",
       "\n",
       "                                Summary  \\\n",
       "0                     Not as Advertised   \n",
       "1                        Cough Medicine   \n",
       "2  My Cats Are Not Fans of the New Food   \n",
       "\n",
       "                                                Text  \n",
       "0  Product arrived labeled as Jumbo Salted Peanut...  \n",
       "1  If you are looking for the secret ingredient i...  \n",
       "2  My cats have been happily eating Felidae Plati...  "
      ]
     },
     "execution_count": 3,
     "metadata": {},
     "output_type": "execute_result"
    }
   ],
   "source": [
    "# using SQLite Table to read data.\n",
    "con = sqlite3.connect('database.sqlite') \n",
    "\n",
    "# filtering only positive and negative reviews i.e. \n",
    "# not taking into consideration those reviews with Score=3\n",
    "# SELECT * FROM Reviews WHERE Score != 3 LIMIT 500000, will give top 500000 data points\n",
    "# you can change the number to any other number based on your computing power\n",
    "\n",
    "# filtered_data = pd.read_sql_query(\"\"\" SELECT * FROM Reviews WHERE Score != 3 LIMIT 500000\"\"\", con) \n",
    "\n",
    "\n",
    "# We are taking 60k positive and negative points to keep data balanced\n",
    "filtered_data = pd.read_sql_query(\"\"\" SELECT * FROM Reviews WHERE Score in (1,2) LIMIT 30000 \"\"\", con) \n",
    "filtered_data = filtered_data.append(\n",
    "                    pd.read_sql_query(\"\"\" SELECT * FROM Reviews WHERE Score in (4,5) LIMIT 30000 \"\"\", con))\n",
    "\n",
    "# Give reviews with Score>3 a positive rating(1), and reviews with a score<3 a negative rating(0).\n",
    "def partition(x):\n",
    "    if x < 3:\n",
    "        return 0\n",
    "    return 1\n",
    "\n",
    "#changing reviews with score less than 3 to be negative and vice-versa\n",
    "actualScore = filtered_data['Score']\n",
    "positiveNegative = actualScore.map(partition) \n",
    "filtered_data['Score'] = positiveNegative\n",
    "print(\"Number of data points in our data\", filtered_data.shape)\n",
    "filtered_data.head(3)"
   ]
  },
  {
   "cell_type": "code",
   "execution_count": 5,
   "metadata": {},
   "outputs": [],
   "source": [
    "display = pd.read_sql_query(\"\"\"\n",
    "SELECT UserId, ProductId, ProfileName, Time, Score, Text, COUNT(*)\n",
    "FROM Reviews\n",
    "GROUP BY UserId\n",
    "HAVING COUNT(*)>1\n",
    "\"\"\", con)"
   ]
  },
  {
   "cell_type": "code",
   "execution_count": 6,
   "metadata": {
    "scrolled": true
   },
   "outputs": [
    {
     "name": "stdout",
     "output_type": "stream",
     "text": [
      "(80668, 7)\n"
     ]
    },
    {
     "data": {
      "text/html": [
       "<div>\n",
       "<style scoped>\n",
       "    .dataframe tbody tr th:only-of-type {\n",
       "        vertical-align: middle;\n",
       "    }\n",
       "\n",
       "    .dataframe tbody tr th {\n",
       "        vertical-align: top;\n",
       "    }\n",
       "\n",
       "    .dataframe thead th {\n",
       "        text-align: right;\n",
       "    }\n",
       "</style>\n",
       "<table border=\"1\" class=\"dataframe\">\n",
       "  <thead>\n",
       "    <tr style=\"text-align: right;\">\n",
       "      <th></th>\n",
       "      <th>UserId</th>\n",
       "      <th>ProductId</th>\n",
       "      <th>ProfileName</th>\n",
       "      <th>Time</th>\n",
       "      <th>Score</th>\n",
       "      <th>Text</th>\n",
       "      <th>COUNT(*)</th>\n",
       "    </tr>\n",
       "  </thead>\n",
       "  <tbody>\n",
       "    <tr>\n",
       "      <th>0</th>\n",
       "      <td>#oc-R115TNMSPFT9I7</td>\n",
       "      <td>B005ZBZLT4</td>\n",
       "      <td>Breyton</td>\n",
       "      <td>1331510400</td>\n",
       "      <td>2</td>\n",
       "      <td>Overall its just OK when considering the price...</td>\n",
       "      <td>2</td>\n",
       "    </tr>\n",
       "    <tr>\n",
       "      <th>1</th>\n",
       "      <td>#oc-R11D9D7SHXIJB9</td>\n",
       "      <td>B005HG9ESG</td>\n",
       "      <td>Louis E. Emory \"hoppy\"</td>\n",
       "      <td>1342396800</td>\n",
       "      <td>5</td>\n",
       "      <td>My wife has recurring extreme muscle spasms, u...</td>\n",
       "      <td>3</td>\n",
       "    </tr>\n",
       "    <tr>\n",
       "      <th>2</th>\n",
       "      <td>#oc-R11DNU2NBKQ23Z</td>\n",
       "      <td>B005ZBZLT4</td>\n",
       "      <td>Kim Cieszykowski</td>\n",
       "      <td>1348531200</td>\n",
       "      <td>1</td>\n",
       "      <td>This coffee is horrible and unfortunately not ...</td>\n",
       "      <td>2</td>\n",
       "    </tr>\n",
       "    <tr>\n",
       "      <th>3</th>\n",
       "      <td>#oc-R11O5J5ZVQE25C</td>\n",
       "      <td>B005HG9ESG</td>\n",
       "      <td>Penguin Chick</td>\n",
       "      <td>1346889600</td>\n",
       "      <td>5</td>\n",
       "      <td>This will be the bottle that you grab from the...</td>\n",
       "      <td>3</td>\n",
       "    </tr>\n",
       "    <tr>\n",
       "      <th>4</th>\n",
       "      <td>#oc-R12KPBODL2B5ZD</td>\n",
       "      <td>B007OSBEV0</td>\n",
       "      <td>Christopher P. Presta</td>\n",
       "      <td>1348617600</td>\n",
       "      <td>1</td>\n",
       "      <td>I didnt like this coffee. Instead of telling y...</td>\n",
       "      <td>2</td>\n",
       "    </tr>\n",
       "  </tbody>\n",
       "</table>\n",
       "</div>"
      ],
      "text/plain": [
       "               UserId   ProductId             ProfileName        Time  Score  \\\n",
       "0  #oc-R115TNMSPFT9I7  B005ZBZLT4                 Breyton  1331510400      2   \n",
       "1  #oc-R11D9D7SHXIJB9  B005HG9ESG  Louis E. Emory \"hoppy\"  1342396800      5   \n",
       "2  #oc-R11DNU2NBKQ23Z  B005ZBZLT4        Kim Cieszykowski  1348531200      1   \n",
       "3  #oc-R11O5J5ZVQE25C  B005HG9ESG           Penguin Chick  1346889600      5   \n",
       "4  #oc-R12KPBODL2B5ZD  B007OSBEV0   Christopher P. Presta  1348617600      1   \n",
       "\n",
       "                                                Text  COUNT(*)  \n",
       "0  Overall its just OK when considering the price...         2  \n",
       "1  My wife has recurring extreme muscle spasms, u...         3  \n",
       "2  This coffee is horrible and unfortunately not ...         2  \n",
       "3  This will be the bottle that you grab from the...         3  \n",
       "4  I didnt like this coffee. Instead of telling y...         2  "
      ]
     },
     "execution_count": 6,
     "metadata": {},
     "output_type": "execute_result"
    }
   ],
   "source": [
    "print(display.shape)\n",
    "display.head()"
   ]
  },
  {
   "cell_type": "code",
   "execution_count": 7,
   "metadata": {},
   "outputs": [
    {
     "data": {
      "text/html": [
       "<div>\n",
       "<style scoped>\n",
       "    .dataframe tbody tr th:only-of-type {\n",
       "        vertical-align: middle;\n",
       "    }\n",
       "\n",
       "    .dataframe tbody tr th {\n",
       "        vertical-align: top;\n",
       "    }\n",
       "\n",
       "    .dataframe thead th {\n",
       "        text-align: right;\n",
       "    }\n",
       "</style>\n",
       "<table border=\"1\" class=\"dataframe\">\n",
       "  <thead>\n",
       "    <tr style=\"text-align: right;\">\n",
       "      <th></th>\n",
       "      <th>UserId</th>\n",
       "      <th>ProductId</th>\n",
       "      <th>ProfileName</th>\n",
       "      <th>Time</th>\n",
       "      <th>Score</th>\n",
       "      <th>Text</th>\n",
       "      <th>COUNT(*)</th>\n",
       "    </tr>\n",
       "  </thead>\n",
       "  <tbody>\n",
       "    <tr>\n",
       "      <th>80638</th>\n",
       "      <td>AZY10LLTJ71NX</td>\n",
       "      <td>B001ATMQK2</td>\n",
       "      <td>undertheshrine \"undertheshrine\"</td>\n",
       "      <td>1296691200</td>\n",
       "      <td>5</td>\n",
       "      <td>I bought this 6 pack because for the price tha...</td>\n",
       "      <td>5</td>\n",
       "    </tr>\n",
       "  </tbody>\n",
       "</table>\n",
       "</div>"
      ],
      "text/plain": [
       "              UserId   ProductId                      ProfileName        Time  \\\n",
       "80638  AZY10LLTJ71NX  B001ATMQK2  undertheshrine \"undertheshrine\"  1296691200   \n",
       "\n",
       "       Score                                               Text  COUNT(*)  \n",
       "80638      5  I bought this 6 pack because for the price tha...         5  "
      ]
     },
     "execution_count": 7,
     "metadata": {},
     "output_type": "execute_result"
    }
   ],
   "source": [
    "display[display['UserId']=='AZY10LLTJ71NX']"
   ]
  },
  {
   "cell_type": "code",
   "execution_count": 8,
   "metadata": {},
   "outputs": [
    {
     "data": {
      "text/plain": [
       "393063"
      ]
     },
     "execution_count": 8,
     "metadata": {},
     "output_type": "execute_result"
    }
   ],
   "source": [
    "display['COUNT(*)'].sum()"
   ]
  },
  {
   "cell_type": "markdown",
   "metadata": {},
   "source": [
    "#  [2] Exploratory Data Analysis"
   ]
  },
  {
   "cell_type": "markdown",
   "metadata": {},
   "source": [
    "## [2.1] Data Cleaning: Deduplication\n",
    "\n",
    "It is observed (as shown in the table below) that the reviews data had many duplicate entries. Hence it was necessary to remove duplicates in order to get unbiased results for the analysis of the data.  Following is an example:"
   ]
  },
  {
   "cell_type": "code",
   "execution_count": 9,
   "metadata": {
    "scrolled": false
   },
   "outputs": [
    {
     "data": {
      "text/html": [
       "<div>\n",
       "<style scoped>\n",
       "    .dataframe tbody tr th:only-of-type {\n",
       "        vertical-align: middle;\n",
       "    }\n",
       "\n",
       "    .dataframe tbody tr th {\n",
       "        vertical-align: top;\n",
       "    }\n",
       "\n",
       "    .dataframe thead th {\n",
       "        text-align: right;\n",
       "    }\n",
       "</style>\n",
       "<table border=\"1\" class=\"dataframe\">\n",
       "  <thead>\n",
       "    <tr style=\"text-align: right;\">\n",
       "      <th></th>\n",
       "      <th>Id</th>\n",
       "      <th>ProductId</th>\n",
       "      <th>UserId</th>\n",
       "      <th>ProfileName</th>\n",
       "      <th>HelpfulnessNumerator</th>\n",
       "      <th>HelpfulnessDenominator</th>\n",
       "      <th>Score</th>\n",
       "      <th>Time</th>\n",
       "      <th>Summary</th>\n",
       "      <th>Text</th>\n",
       "    </tr>\n",
       "  </thead>\n",
       "  <tbody>\n",
       "    <tr>\n",
       "      <th>0</th>\n",
       "      <td>78445</td>\n",
       "      <td>B000HDL1RQ</td>\n",
       "      <td>AR5J8UI46CURR</td>\n",
       "      <td>Geetha Krishnan</td>\n",
       "      <td>2</td>\n",
       "      <td>2</td>\n",
       "      <td>5</td>\n",
       "      <td>1199577600</td>\n",
       "      <td>LOACKER QUADRATINI VANILLA WAFERS</td>\n",
       "      <td>DELICIOUS WAFERS. I FIND THAT EUROPEAN WAFERS ...</td>\n",
       "    </tr>\n",
       "    <tr>\n",
       "      <th>1</th>\n",
       "      <td>138317</td>\n",
       "      <td>B000HDOPYC</td>\n",
       "      <td>AR5J8UI46CURR</td>\n",
       "      <td>Geetha Krishnan</td>\n",
       "      <td>2</td>\n",
       "      <td>2</td>\n",
       "      <td>5</td>\n",
       "      <td>1199577600</td>\n",
       "      <td>LOACKER QUADRATINI VANILLA WAFERS</td>\n",
       "      <td>DELICIOUS WAFERS. I FIND THAT EUROPEAN WAFERS ...</td>\n",
       "    </tr>\n",
       "    <tr>\n",
       "      <th>2</th>\n",
       "      <td>138277</td>\n",
       "      <td>B000HDOPYM</td>\n",
       "      <td>AR5J8UI46CURR</td>\n",
       "      <td>Geetha Krishnan</td>\n",
       "      <td>2</td>\n",
       "      <td>2</td>\n",
       "      <td>5</td>\n",
       "      <td>1199577600</td>\n",
       "      <td>LOACKER QUADRATINI VANILLA WAFERS</td>\n",
       "      <td>DELICIOUS WAFERS. I FIND THAT EUROPEAN WAFERS ...</td>\n",
       "    </tr>\n",
       "    <tr>\n",
       "      <th>3</th>\n",
       "      <td>73791</td>\n",
       "      <td>B000HDOPZG</td>\n",
       "      <td>AR5J8UI46CURR</td>\n",
       "      <td>Geetha Krishnan</td>\n",
       "      <td>2</td>\n",
       "      <td>2</td>\n",
       "      <td>5</td>\n",
       "      <td>1199577600</td>\n",
       "      <td>LOACKER QUADRATINI VANILLA WAFERS</td>\n",
       "      <td>DELICIOUS WAFERS. I FIND THAT EUROPEAN WAFERS ...</td>\n",
       "    </tr>\n",
       "    <tr>\n",
       "      <th>4</th>\n",
       "      <td>155049</td>\n",
       "      <td>B000PAQ75C</td>\n",
       "      <td>AR5J8UI46CURR</td>\n",
       "      <td>Geetha Krishnan</td>\n",
       "      <td>2</td>\n",
       "      <td>2</td>\n",
       "      <td>5</td>\n",
       "      <td>1199577600</td>\n",
       "      <td>LOACKER QUADRATINI VANILLA WAFERS</td>\n",
       "      <td>DELICIOUS WAFERS. I FIND THAT EUROPEAN WAFERS ...</td>\n",
       "    </tr>\n",
       "  </tbody>\n",
       "</table>\n",
       "</div>"
      ],
      "text/plain": [
       "       Id   ProductId         UserId      ProfileName  HelpfulnessNumerator  \\\n",
       "0   78445  B000HDL1RQ  AR5J8UI46CURR  Geetha Krishnan                     2   \n",
       "1  138317  B000HDOPYC  AR5J8UI46CURR  Geetha Krishnan                     2   \n",
       "2  138277  B000HDOPYM  AR5J8UI46CURR  Geetha Krishnan                     2   \n",
       "3   73791  B000HDOPZG  AR5J8UI46CURR  Geetha Krishnan                     2   \n",
       "4  155049  B000PAQ75C  AR5J8UI46CURR  Geetha Krishnan                     2   \n",
       "\n",
       "   HelpfulnessDenominator  Score        Time  \\\n",
       "0                       2      5  1199577600   \n",
       "1                       2      5  1199577600   \n",
       "2                       2      5  1199577600   \n",
       "3                       2      5  1199577600   \n",
       "4                       2      5  1199577600   \n",
       "\n",
       "                             Summary  \\\n",
       "0  LOACKER QUADRATINI VANILLA WAFERS   \n",
       "1  LOACKER QUADRATINI VANILLA WAFERS   \n",
       "2  LOACKER QUADRATINI VANILLA WAFERS   \n",
       "3  LOACKER QUADRATINI VANILLA WAFERS   \n",
       "4  LOACKER QUADRATINI VANILLA WAFERS   \n",
       "\n",
       "                                                Text  \n",
       "0  DELICIOUS WAFERS. I FIND THAT EUROPEAN WAFERS ...  \n",
       "1  DELICIOUS WAFERS. I FIND THAT EUROPEAN WAFERS ...  \n",
       "2  DELICIOUS WAFERS. I FIND THAT EUROPEAN WAFERS ...  \n",
       "3  DELICIOUS WAFERS. I FIND THAT EUROPEAN WAFERS ...  \n",
       "4  DELICIOUS WAFERS. I FIND THAT EUROPEAN WAFERS ...  "
      ]
     },
     "execution_count": 9,
     "metadata": {},
     "output_type": "execute_result"
    }
   ],
   "source": [
    "display= pd.read_sql_query(\"\"\"\n",
    "SELECT *\n",
    "FROM Reviews\n",
    "WHERE Score != 3 AND UserId=\"AR5J8UI46CURR\"\n",
    "ORDER BY ProductID\n",
    "\"\"\", con)\n",
    "display.head()"
   ]
  },
  {
   "cell_type": "markdown",
   "metadata": {},
   "source": [
    "As it can be seen above that same user has multiple reviews with same values for HelpfulnessNumerator, HelpfulnessDenominator, Score, Time, Summary and Text and on doing analysis it was found that <br>\n",
    "<br> \n",
    "ProductId=B000HDOPZG was Loacker Quadratini Vanilla Wafer Cookies, 8.82-Ounce Packages (Pack of 8)<br>\n",
    "<br> \n",
    "ProductId=B000HDL1RQ was Loacker Quadratini Lemon Wafer Cookies, 8.82-Ounce Packages (Pack of 8) and so on<br>\n",
    "\n",
    "It was inferred after analysis that reviews with same parameters other than ProductId belonged to the same product just having different flavour or quantity. Hence in order to reduce redundancy it was decided to eliminate the rows having same parameters.<br>\n",
    "\n",
    "The method used for the same was that we first sort the data according to ProductId and then just keep the first similar product review and delelte the others. for eg. in the above just the review for ProductId=B000HDL1RQ remains. This method ensures that there is only one representative for each product and deduplication without sorting would lead to possibility of different representatives still existing for the same product."
   ]
  },
  {
   "cell_type": "code",
   "execution_count": 10,
   "metadata": {},
   "outputs": [],
   "source": [
    "#Sorting data according to ProductId in ascending order\n",
    "sorted_data=filtered_data.sort_values('ProductId', axis=0, ascending=True, inplace=False, kind='quicksort', na_position='last')"
   ]
  },
  {
   "cell_type": "code",
   "execution_count": 11,
   "metadata": {},
   "outputs": [
    {
     "data": {
      "text/plain": [
       "(52673, 10)"
      ]
     },
     "execution_count": 11,
     "metadata": {},
     "output_type": "execute_result"
    }
   ],
   "source": [
    "#Deduplication of entries\n",
    "final=sorted_data.drop_duplicates(subset={\"UserId\",\"ProfileName\",\"Time\",\"Text\"}, keep='first', inplace=False)\n",
    "final.shape"
   ]
  },
  {
   "cell_type": "code",
   "execution_count": 12,
   "metadata": {},
   "outputs": [
    {
     "data": {
      "text/plain": [
       "87.78833333333334"
      ]
     },
     "execution_count": 12,
     "metadata": {},
     "output_type": "execute_result"
    }
   ],
   "source": [
    "#Checking to see how much % of data still remains\n",
    "(final['Id'].size*1.0)/(filtered_data['Id'].size*1.0)*100"
   ]
  },
  {
   "cell_type": "markdown",
   "metadata": {},
   "source": [
    "<b>Observation:-</b> It was also seen that in two rows given below the value of HelpfulnessNumerator is greater than HelpfulnessDenominator which is not practically possible hence these two rows too are removed from calcualtions"
   ]
  },
  {
   "cell_type": "code",
   "execution_count": 13,
   "metadata": {},
   "outputs": [
    {
     "data": {
      "text/html": [
       "<div>\n",
       "<style scoped>\n",
       "    .dataframe tbody tr th:only-of-type {\n",
       "        vertical-align: middle;\n",
       "    }\n",
       "\n",
       "    .dataframe tbody tr th {\n",
       "        vertical-align: top;\n",
       "    }\n",
       "\n",
       "    .dataframe thead th {\n",
       "        text-align: right;\n",
       "    }\n",
       "</style>\n",
       "<table border=\"1\" class=\"dataframe\">\n",
       "  <thead>\n",
       "    <tr style=\"text-align: right;\">\n",
       "      <th></th>\n",
       "      <th>Id</th>\n",
       "      <th>ProductId</th>\n",
       "      <th>UserId</th>\n",
       "      <th>ProfileName</th>\n",
       "      <th>HelpfulnessNumerator</th>\n",
       "      <th>HelpfulnessDenominator</th>\n",
       "      <th>Score</th>\n",
       "      <th>Time</th>\n",
       "      <th>Summary</th>\n",
       "      <th>Text</th>\n",
       "    </tr>\n",
       "  </thead>\n",
       "  <tbody>\n",
       "    <tr>\n",
       "      <th>0</th>\n",
       "      <td>64422</td>\n",
       "      <td>B000MIDROQ</td>\n",
       "      <td>A161DK06JJMCYF</td>\n",
       "      <td>J. E. Stephens \"Jeanne\"</td>\n",
       "      <td>3</td>\n",
       "      <td>1</td>\n",
       "      <td>5</td>\n",
       "      <td>1224892800</td>\n",
       "      <td>Bought This for My Son at College</td>\n",
       "      <td>My son loves spaghetti so I didn't hesitate or...</td>\n",
       "    </tr>\n",
       "    <tr>\n",
       "      <th>1</th>\n",
       "      <td>44737</td>\n",
       "      <td>B001EQ55RW</td>\n",
       "      <td>A2V0I904FH7ABY</td>\n",
       "      <td>Ram</td>\n",
       "      <td>3</td>\n",
       "      <td>2</td>\n",
       "      <td>4</td>\n",
       "      <td>1212883200</td>\n",
       "      <td>Pure cocoa taste with crunchy almonds inside</td>\n",
       "      <td>It was almost a 'love at first bite' - the per...</td>\n",
       "    </tr>\n",
       "  </tbody>\n",
       "</table>\n",
       "</div>"
      ],
      "text/plain": [
       "      Id   ProductId          UserId              ProfileName  \\\n",
       "0  64422  B000MIDROQ  A161DK06JJMCYF  J. E. Stephens \"Jeanne\"   \n",
       "1  44737  B001EQ55RW  A2V0I904FH7ABY                      Ram   \n",
       "\n",
       "   HelpfulnessNumerator  HelpfulnessDenominator  Score        Time  \\\n",
       "0                     3                       1      5  1224892800   \n",
       "1                     3                       2      4  1212883200   \n",
       "\n",
       "                                        Summary  \\\n",
       "0             Bought This for My Son at College   \n",
       "1  Pure cocoa taste with crunchy almonds inside   \n",
       "\n",
       "                                                Text  \n",
       "0  My son loves spaghetti so I didn't hesitate or...  \n",
       "1  It was almost a 'love at first bite' - the per...  "
      ]
     },
     "execution_count": 13,
     "metadata": {},
     "output_type": "execute_result"
    }
   ],
   "source": [
    "display= pd.read_sql_query(\"\"\"\n",
    "SELECT *\n",
    "FROM Reviews\n",
    "WHERE Score != 3 AND Id=44737 OR Id=64422\n",
    "ORDER BY ProductID\n",
    "\"\"\", con)\n",
    "\n",
    "display.head()"
   ]
  },
  {
   "cell_type": "code",
   "execution_count": 14,
   "metadata": {},
   "outputs": [],
   "source": [
    "final=final[final.HelpfulnessNumerator<=final.HelpfulnessDenominator]"
   ]
  },
  {
   "cell_type": "code",
   "execution_count": 15,
   "metadata": {},
   "outputs": [
    {
     "name": "stdout",
     "output_type": "stream",
     "text": [
      "(52673, 10)\n"
     ]
    },
    {
     "data": {
      "text/plain": [
       "1    28165\n",
       "0    24508\n",
       "Name: Score, dtype: int64"
      ]
     },
     "execution_count": 15,
     "metadata": {},
     "output_type": "execute_result"
    }
   ],
   "source": [
    "#Before starting the next phase of preprocessing lets see the number of entries left\n",
    "print(final.shape)\n",
    "\n",
    "#How many positive and negative reviews are present in our dataset?\n",
    "final['Score'].value_counts()"
   ]
  },
  {
   "cell_type": "markdown",
   "metadata": {},
   "source": [
    "#  [3] Preprocessing"
   ]
  },
  {
   "cell_type": "markdown",
   "metadata": {},
   "source": [
    "## [3.1].  Preprocessing Review Text\n",
    "\n",
    "Now that we have finished deduplication our data requires some preprocessing before we go on further with analysis and making the prediction model.\n",
    "\n",
    "Hence in the Preprocessing phase we do the following in the order below:-\n",
    "\n",
    "1. Begin by removing the html tags\n",
    "2. Remove any punctuations or limited set of special characters like , or . or # etc.\n",
    "3. Check if the word is made up of english letters and is not alpha-numeric\n",
    "4. Check to see if the length of the word is greater than 2 (as it was researched that there is no adjective in 2-letters)\n",
    "5. Convert the word to lowercase\n",
    "6. Remove Stopwords\n",
    "7. Finally Snowball Stemming the word (it was obsereved to be better than Porter Stemming)<br>\n",
    "\n",
    "After which we collect the words used to describe positive and negative reviews"
   ]
  },
  {
   "cell_type": "code",
   "execution_count": 16,
   "metadata": {},
   "outputs": [
    {
     "name": "stdout",
     "output_type": "stream",
     "text": [
      "I give five stars to the Maurice Sendak story. One star for this printed edition of the book.<br />My children had an older copy this book, so I was very familiar with the previous softcover version. I ordered this for my granddaughters, but I'm embarrassed to give it as a gift, it looks so puny. The book is about the size of a postcard and I think it's overpriced. I've learned my lesson: I will not be buying any more softcover children books, next time I'll get a used copy.\n",
      "==================================================\n",
      "Reality strikes.  I have been drinking this tea every night for 10 years !  It is the best thing to keep me on the straight n narrow!\n",
      "==================================================\n",
      "This lefse' isn't even worth one star, but that was the lowest Amazon would let me go.  There is no flavor to it what-so-ever.  You can't taste the potatoes or the butter, all you taste is flour and it's very dry.  It used to be better years ago when it slightly resembled the taste of potatoes, but as it is with many items, they must have found ways to save a buck at the expense of the quality & flavor.  Don't waste your money!  You're better off investing in the equipment to make your own, or finding a website that sells an authentic \"home-made\" variety.  I grew up in a Scandinavian household that made traditional lefse' for family gatherings, trust me when I say Mrs Olson's is absolutely horrible.\n",
      "==================================================\n",
      "This mix allows me to make delicious bread, rolls, & pizza crust so I don't feel deprived.  I mix the dough in my bread machine & then bake it in the oven.  Also love Pamela's Pancake & Baking Mix--from it I can make muffins, cookies, cakes and the yummiest pancakes.\n",
      "==================================================\n"
     ]
    }
   ],
   "source": [
    "# printing some random reviews\n",
    "sent_0 = final['Text'].values[0]\n",
    "print(sent_0)\n",
    "print(\"=\"*50)\n",
    "\n",
    "sent_1000 = final['Text'].values[1000]\n",
    "print(sent_1000)\n",
    "print(\"=\"*50)\n",
    "\n",
    "sent_1500 = final['Text'].values[1500]\n",
    "print(sent_1500)\n",
    "print(\"=\"*50)\n",
    "\n",
    "sent_4900 = final['Text'].values[4900]\n",
    "print(sent_4900)\n",
    "print(\"=\"*50)"
   ]
  },
  {
   "cell_type": "code",
   "execution_count": 17,
   "metadata": {},
   "outputs": [
    {
     "name": "stdout",
     "output_type": "stream",
     "text": [
      "I give five stars to the Maurice Sendak story. One star for this printed edition of the book.<br />My children had an older copy this book, so I was very familiar with the previous softcover version. I ordered this for my granddaughters, but I'm embarrassed to give it as a gift, it looks so puny. The book is about the size of a postcard and I think it's overpriced. I've learned my lesson: I will not be buying any more softcover children books, next time I'll get a used copy.\n"
     ]
    }
   ],
   "source": [
    "# remove urls from text python: https://stackoverflow.com/a/40823105/4084039\n",
    "sent_0 = re.sub(r\"http\\S+\", \"\", sent_0)\n",
    "sent_1000 = re.sub(r\"http\\S+\", \"\", sent_1000)\n",
    "sent_150 = re.sub(r\"http\\S+\", \"\", sent_1500)\n",
    "sent_4900 = re.sub(r\"http\\S+\", \"\", sent_4900)\n",
    "\n",
    "print(sent_0)"
   ]
  },
  {
   "cell_type": "code",
   "execution_count": 18,
   "metadata": {},
   "outputs": [
    {
     "name": "stdout",
     "output_type": "stream",
     "text": [
      "I give five stars to the Maurice Sendak story. One star for this printed edition of the book.My children had an older copy this book, so I was very familiar with the previous softcover version. I ordered this for my granddaughters, but I'm embarrassed to give it as a gift, it looks so puny. The book is about the size of a postcard and I think it's overpriced. I've learned my lesson: I will not be buying any more softcover children books, next time I'll get a used copy.\n",
      "==================================================\n",
      "Reality strikes.  I have been drinking this tea every night for 10 years !  It is the best thing to keep me on the straight n narrow!\n",
      "==================================================\n",
      "This lefse' isn't even worth one star, but that was the lowest Amazon would let me go.  There is no flavor to it what-so-ever.  You can't taste the potatoes or the butter, all you taste is flour and it's very dry.  It used to be better years ago when it slightly resembled the taste of potatoes, but as it is with many items, they must have found ways to save a buck at the expense of the quality & flavor.  Don't waste your money!  You're better off investing in the equipment to make your own, or finding a website that sells an authentic \"home-made\" variety.  I grew up in a Scandinavian household that made traditional lefse' for family gatherings, trust me when I say Mrs Olson's is absolutely horrible.\n",
      "==================================================\n",
      "This mix allows me to make delicious bread, rolls, & pizza crust so I don't feel deprived.  I mix the dough in my bread machine & then bake it in the oven.  Also love Pamela's Pancake & Baking Mix--from it I can make muffins, cookies, cakes and the yummiest pancakes.\n"
     ]
    }
   ],
   "source": [
    "# https://stackoverflow.com/questions/16206380/python-beautifulsoup-how-to-remove-all-tags-from-an-element\n",
    "from bs4 import BeautifulSoup\n",
    "\n",
    "soup = BeautifulSoup(sent_0, 'lxml')\n",
    "text = soup.get_text()\n",
    "print(text)\n",
    "print(\"=\"*50)\n",
    "\n",
    "soup = BeautifulSoup(sent_1000, 'lxml')\n",
    "text = soup.get_text()\n",
    "print(text)\n",
    "print(\"=\"*50)\n",
    "\n",
    "soup = BeautifulSoup(sent_1500, 'lxml')\n",
    "text = soup.get_text()\n",
    "print(text)\n",
    "print(\"=\"*50)\n",
    "\n",
    "soup = BeautifulSoup(sent_4900, 'lxml')\n",
    "text = soup.get_text()\n",
    "print(text)"
   ]
  },
  {
   "cell_type": "code",
   "execution_count": 19,
   "metadata": {},
   "outputs": [],
   "source": [
    "# https://stackoverflow.com/a/47091490/4084039\n",
    "import re\n",
    "\n",
    "def decontracted(phrase):\n",
    "    # specific\n",
    "    phrase = re.sub(r\"won't\", \"will not\", phrase)\n",
    "    phrase = re.sub(r\"can\\'t\", \"can not\", phrase)\n",
    "\n",
    "    # general\n",
    "    phrase = re.sub(r\"n\\'t\", \" not\", phrase)\n",
    "    phrase = re.sub(r\"\\'re\", \" are\", phrase)\n",
    "    phrase = re.sub(r\"\\'s\", \" is\", phrase)\n",
    "    phrase = re.sub(r\"\\'d\", \" would\", phrase)\n",
    "    phrase = re.sub(r\"\\'ll\", \" will\", phrase)\n",
    "    phrase = re.sub(r\"\\'t\", \" not\", phrase)\n",
    "    phrase = re.sub(r\"\\'ve\", \" have\", phrase)\n",
    "    phrase = re.sub(r\"\\'m\", \" am\", phrase)\n",
    "    return phrase"
   ]
  },
  {
   "cell_type": "code",
   "execution_count": 20,
   "metadata": {},
   "outputs": [
    {
     "name": "stdout",
     "output_type": "stream",
     "text": [
      "This lefse' is not even worth one star, but that was the lowest Amazon would let me go.  There is no flavor to it what-so-ever.  You can not taste the potatoes or the butter, all you taste is flour and it is very dry.  It used to be better years ago when it slightly resembled the taste of potatoes, but as it is with many items, they must have found ways to save a buck at the expense of the quality & flavor.  Do not waste your money!  You are better off investing in the equipment to make your own, or finding a website that sells an authentic \"home-made\" variety.  I grew up in a Scandinavian household that made traditional lefse' for family gatherings, trust me when I say Mrs Olson is is absolutely horrible.\n",
      "==================================================\n"
     ]
    }
   ],
   "source": [
    "sent_1500 = decontracted(sent_1500)\n",
    "print(sent_1500)\n",
    "print(\"=\"*50)"
   ]
  },
  {
   "cell_type": "code",
   "execution_count": 21,
   "metadata": {},
   "outputs": [
    {
     "name": "stdout",
     "output_type": "stream",
     "text": [
      "I give five stars to the Maurice Sendak story. One star for this printed edition of the book.<br />My children had an older copy this book, so I was very familiar with the previous softcover version. I ordered this for my granddaughters, but I'm embarrassed to give it as a gift, it looks so puny. The book is about the size of a postcard and I think it's overpriced. I've learned my lesson: I will not be buying any more softcover children books, next time I'll get a used copy.\n"
     ]
    }
   ],
   "source": [
    "#remove words with numbers python: https://stackoverflow.com/a/18082370/4084039\n",
    "sent_0 = re.sub(\"\\S*\\d\\S*\", \"\", sent_0).strip()\n",
    "print(sent_0)"
   ]
  },
  {
   "cell_type": "code",
   "execution_count": 22,
   "metadata": {},
   "outputs": [
    {
     "name": "stdout",
     "output_type": "stream",
     "text": [
      "This lefse is not even worth one star but that was the lowest Amazon would let me go There is no flavor to it what so ever You can not taste the potatoes or the butter all you taste is flour and it is very dry It used to be better years ago when it slightly resembled the taste of potatoes but as it is with many items they must have found ways to save a buck at the expense of the quality flavor Do not waste your money You are better off investing in the equipment to make your own or finding a website that sells an authentic home made variety I grew up in a Scandinavian household that made traditional lefse for family gatherings trust me when I say Mrs Olson is is absolutely horrible \n"
     ]
    }
   ],
   "source": [
    "#remove spacial character: https://stackoverflow.com/a/5843547/4084039\n",
    "sent_1500 = re.sub('[^A-Za-z0-9]+', ' ', sent_1500)\n",
    "print(sent_1500)"
   ]
  },
  {
   "cell_type": "code",
   "execution_count": 23,
   "metadata": {},
   "outputs": [],
   "source": [
    "# https://gist.github.com/sebleier/554280\n",
    "# we are removing the words from the stop words list: 'no', 'nor', 'not'\n",
    "# <br /><br /> ==> after the above steps, we are getting \"br br\"\n",
    "# we are including them into stop words list\n",
    "# instead of <br /> if we have <br/> these tags would have revmoved in the 1st step\n",
    "\n",
    "stopwords= set(['br', 'the', 'i', 'me', 'my', 'myself', 'we', 'our', 'ours', 'ourselves', 'you', \"you're\", \"you've\",\\\n",
    "            \"you'll\", \"you'd\", 'your', 'yours', 'yourself', 'yourselves', 'he', 'him', 'his', 'himself', \\\n",
    "            'she', \"she's\", 'her', 'hers', 'herself', 'it', \"it's\", 'its', 'itself', 'they', 'them', 'their',\\\n",
    "            'theirs', 'themselves', 'what', 'which', 'who', 'whom', 'this', 'that', \"that'll\", 'these', 'those', \\\n",
    "            'am', 'is', 'are', 'was', 'were', 'be', 'been', 'being', 'have', 'has', 'had', 'having', 'do', 'does', \\\n",
    "            'did', 'doing', 'a', 'an', 'the', 'and', 'but', 'if', 'or', 'because', 'as', 'until', 'while', 'of', \\\n",
    "            'at', 'by', 'for', 'with', 'about', 'against', 'between', 'into', 'through', 'during', 'before', 'after',\\\n",
    "            'above', 'below', 'to', 'from', 'up', 'down', 'in', 'out', 'on', 'off', 'over', 'under', 'again', 'further',\\\n",
    "            'then', 'once', 'here', 'there', 'when', 'where', 'why', 'how', 'all', 'any', 'both', 'each', 'few', 'more',\\\n",
    "            'most', 'other', 'some', 'such', 'only', 'own', 'same', 'so', 'than', 'too', 'very', \\\n",
    "            's', 't', 'can', 'will', 'just', 'don', \"don't\", 'should', \"should've\", 'now', 'd', 'll', 'm', 'o', 're', \\\n",
    "            've', 'y', 'ain', 'aren', \"aren't\", 'couldn', \"couldn't\", 'didn', \"didn't\", 'doesn', \"doesn't\", 'hadn',\\\n",
    "            \"hadn't\", 'hasn', \"hasn't\", 'haven', \"haven't\", 'isn', \"isn't\", 'ma', 'mightn', \"mightn't\", 'mustn',\\\n",
    "            \"mustn't\", 'needn', \"needn't\", 'shan', \"shan't\", 'shouldn', \"shouldn't\", 'wasn', \"wasn't\", 'weren', \"weren't\", \\\n",
    "            'won', \"won't\", 'wouldn', \"wouldn't\"])"
   ]
  },
  {
   "cell_type": "code",
   "execution_count": 23,
   "metadata": {},
   "outputs": [
    {
     "name": "stderr",
     "output_type": "stream",
     "text": [
      "100%|██████████| 52673/52673 [00:17<00:00, 3041.04it/s]\n"
     ]
    }
   ],
   "source": [
    "# Combining all the above stundents \n",
    "from tqdm import tqdm\n",
    "preprocessed_reviews = []\n",
    "review_score = []    # Storing score for later\n",
    "# tqdm is for printing the status bar\n",
    "for sentence, score in tqdm(final[['Text', 'Score']].values):\n",
    "    sentence = re.sub(r\"http\\S+\", \"\", sentence)\n",
    "    sentence = BeautifulSoup(sentence, 'lxml').get_text()\n",
    "    sentence = decontracted(sentence)\n",
    "    sentence = re.sub(\"\\S*\\d\\S*\", \"\", sentence).strip()\n",
    "    sentence = re.sub('[^A-Za-z0-9]+', ' ', sentence)   # adding 0-9 in the regex\n",
    "    # https://gist.github.com/sebleier/554280\n",
    "    sentence = ' '.join(e.lower() for e in sentence.split() if e.lower() not in stopwords)\n",
    "    preprocessed_reviews.append(sentence.strip())\n",
    "    review_score.append(score)"
   ]
  },
  {
   "cell_type": "code",
   "execution_count": 24,
   "metadata": {},
   "outputs": [
    {
     "data": {
      "text/plain": [
       "'lefse not even worth one star lowest amazon would let go no flavor ever not taste potatoes butter taste flour dry used better years ago slightly resembled taste potatoes many items must found ways save buck expense quality flavor not waste money better investing equipment make finding website sells authentic home made variety grew scandinavian household made traditional lefse family gatherings trust say mrs olson absolutely horrible'"
      ]
     },
     "execution_count": 24,
     "metadata": {},
     "output_type": "execute_result"
    }
   ],
   "source": [
    "preprocessed_reviews[1500]"
   ]
  },
  {
   "cell_type": "code",
   "execution_count": 25,
   "metadata": {},
   "outputs": [
    {
     "data": {
      "text/plain": [
       "52673"
      ]
     },
     "execution_count": 25,
     "metadata": {},
     "output_type": "execute_result"
    }
   ],
   "source": [
    "len(preprocessed_reviews)"
   ]
  },
  {
   "cell_type": "code",
   "execution_count": 26,
   "metadata": {},
   "outputs": [
    {
     "data": {
      "text/plain": [
       "(array([1.600e+02, 3.100e+01, 1.510e+02, 6.100e+02, 1.682e+03, 2.658e+03,\n",
       "        3.031e+03, 3.014e+03, 2.819e+03, 2.656e+03, 2.426e+03, 2.192e+03,\n",
       "        1.907e+03, 1.943e+03, 1.841e+03, 1.737e+03, 1.625e+03, 1.400e+03,\n",
       "        1.369e+03, 1.267e+03, 1.181e+03, 1.060e+03, 1.025e+03, 9.300e+02,\n",
       "        8.470e+02, 8.370e+02, 7.260e+02, 7.030e+02, 6.440e+02, 6.120e+02,\n",
       "        5.750e+02, 5.110e+02, 4.760e+02, 4.910e+02, 4.090e+02, 4.300e+02,\n",
       "        3.280e+02, 3.460e+02, 3.330e+02, 3.280e+02, 2.760e+02, 2.570e+02,\n",
       "        2.370e+02, 2.420e+02, 2.040e+02, 2.040e+02, 2.050e+02, 1.740e+02,\n",
       "        1.580e+02, 1.570e+02, 1.320e+02, 1.560e+02, 1.370e+02, 1.390e+02,\n",
       "        1.140e+02, 1.200e+02, 9.900e+01, 9.700e+01, 8.900e+01, 1.150e+02,\n",
       "        9.300e+01, 7.300e+01, 6.600e+01, 6.300e+01, 7.700e+01, 5.800e+01,\n",
       "        7.200e+01, 5.100e+01, 4.500e+01, 6.700e+01, 5.500e+01, 5.900e+01,\n",
       "        4.900e+01, 3.200e+01, 3.800e+01, 3.800e+01, 4.100e+01, 4.300e+01,\n",
       "        4.100e+01, 3.000e+01, 2.700e+01, 3.300e+01, 2.200e+01, 2.600e+01,\n",
       "        2.700e+01, 3.800e+01, 1.900e+01, 2.200e+01, 2.400e+01, 2.900e+01,\n",
       "        2.400e+01, 2.300e+01, 1.700e+01, 1.400e+01, 1.500e+01, 1.900e+01,\n",
       "        1.500e+01, 1.800e+01, 1.900e+01, 1.600e+01, 1.900e+01, 1.000e+01,\n",
       "        1.700e+01, 1.100e+01, 1.700e+01, 1.000e+01, 1.000e+01, 9.000e+00,\n",
       "        1.200e+01, 1.500e+01, 5.000e+00, 9.000e+00, 8.000e+00, 8.000e+00,\n",
       "        1.100e+01, 1.200e+01, 7.000e+00, 6.000e+00, 1.000e+01, 7.000e+00,\n",
       "        1.000e+01, 1.000e+01, 4.000e+00, 5.000e+00, 8.000e+00, 2.000e+00,\n",
       "        9.000e+00, 6.000e+00, 4.000e+00, 5.000e+00, 6.000e+00, 8.000e+00,\n",
       "        5.000e+00, 9.000e+00, 9.000e+00, 0.000e+00, 5.000e+00, 6.000e+00,\n",
       "        3.000e+00, 3.000e+00, 4.000e+00, 2.000e+00, 4.000e+00, 4.000e+00,\n",
       "        3.000e+00, 4.000e+00, 6.000e+00, 5.000e+00, 1.000e+00, 3.000e+00,\n",
       "        4.000e+00, 2.000e+00, 3.000e+00, 4.000e+00, 3.000e+00, 3.000e+00,\n",
       "        5.000e+00, 1.000e+00, 1.000e+00, 5.000e+00, 2.000e+00, 3.000e+00,\n",
       "        2.000e+00, 6.000e+00, 1.000e+00, 1.000e+00, 8.000e+00, 3.000e+00,\n",
       "        3.000e+00, 0.000e+00, 2.000e+00, 1.000e+00, 1.000e+00, 2.000e+00,\n",
       "        1.000e+00, 1.000e+00, 3.000e+00, 1.000e+00, 4.000e+00, 1.000e+00,\n",
       "        0.000e+00, 1.000e+00, 1.000e+00, 2.000e+00, 0.000e+00, 3.000e+00,\n",
       "        1.000e+00, 3.000e+00, 0.000e+00, 1.000e+00, 1.000e+00, 0.000e+00,\n",
       "        0.000e+00, 0.000e+00, 0.000e+00, 0.000e+00, 0.000e+00, 1.000e+00,\n",
       "        1.000e+00, 0.000e+00, 2.000e+00, 0.000e+00, 3.000e+00, 0.000e+00,\n",
       "        0.000e+00, 1.000e+00, 1.000e+00, 3.000e+00, 0.000e+00, 1.000e+00,\n",
       "        0.000e+00, 1.000e+00, 0.000e+00, 0.000e+00, 0.000e+00, 1.000e+00,\n",
       "        0.000e+00, 0.000e+00, 0.000e+00, 1.000e+00, 3.000e+00, 1.000e+00,\n",
       "        0.000e+00, 0.000e+00, 0.000e+00, 1.000e+00, 0.000e+00, 0.000e+00,\n",
       "        1.000e+00, 0.000e+00, 1.000e+00, 0.000e+00, 1.000e+00, 0.000e+00,\n",
       "        1.000e+00, 1.000e+00, 0.000e+00, 0.000e+00, 0.000e+00, 0.000e+00,\n",
       "        0.000e+00, 0.000e+00, 3.000e+00, 0.000e+00, 1.000e+00, 0.000e+00,\n",
       "        1.000e+00, 0.000e+00, 1.000e+00, 0.000e+00, 0.000e+00, 0.000e+00,\n",
       "        0.000e+00, 0.000e+00, 0.000e+00, 1.000e+00, 0.000e+00, 2.000e+00,\n",
       "        0.000e+00, 1.000e+00, 2.000e+00, 0.000e+00, 0.000e+00, 0.000e+00,\n",
       "        1.000e+00, 0.000e+00, 0.000e+00, 0.000e+00, 1.000e+00, 1.000e+00,\n",
       "        0.000e+00, 0.000e+00, 0.000e+00, 0.000e+00, 1.000e+00, 0.000e+00,\n",
       "        0.000e+00, 0.000e+00, 0.000e+00, 0.000e+00, 0.000e+00, 0.000e+00,\n",
       "        0.000e+00, 0.000e+00, 1.000e+00, 1.000e+00, 0.000e+00, 1.000e+00,\n",
       "        0.000e+00, 0.000e+00, 0.000e+00, 0.000e+00, 0.000e+00, 0.000e+00,\n",
       "        0.000e+00, 0.000e+00, 0.000e+00, 0.000e+00, 0.000e+00, 0.000e+00,\n",
       "        0.000e+00, 0.000e+00, 0.000e+00, 0.000e+00, 1.000e+00, 0.000e+00,\n",
       "        0.000e+00, 0.000e+00, 0.000e+00, 0.000e+00, 0.000e+00, 0.000e+00,\n",
       "        1.000e+00, 0.000e+00, 0.000e+00, 0.000e+00, 0.000e+00, 0.000e+00,\n",
       "        1.000e+00, 0.000e+00, 0.000e+00, 0.000e+00, 0.000e+00, 0.000e+00,\n",
       "        1.000e+00, 0.000e+00, 0.000e+00, 0.000e+00, 1.000e+00, 0.000e+00,\n",
       "        0.000e+00, 0.000e+00, 0.000e+00, 0.000e+00, 0.000e+00, 0.000e+00,\n",
       "        0.000e+00, 0.000e+00, 0.000e+00, 0.000e+00, 0.000e+00, 0.000e+00,\n",
       "        0.000e+00, 0.000e+00, 0.000e+00, 1.000e+00, 0.000e+00, 0.000e+00,\n",
       "        0.000e+00, 0.000e+00, 0.000e+00, 0.000e+00, 0.000e+00, 0.000e+00,\n",
       "        0.000e+00, 0.000e+00, 0.000e+00, 0.000e+00, 0.000e+00, 0.000e+00,\n",
       "        0.000e+00, 0.000e+00, 0.000e+00, 0.000e+00, 0.000e+00, 0.000e+00,\n",
       "        0.000e+00, 0.000e+00, 0.000e+00, 0.000e+00, 1.000e+00, 0.000e+00,\n",
       "        0.000e+00, 0.000e+00, 0.000e+00, 0.000e+00, 0.000e+00, 0.000e+00,\n",
       "        0.000e+00, 0.000e+00, 0.000e+00, 0.000e+00, 0.000e+00, 0.000e+00,\n",
       "        0.000e+00, 0.000e+00, 0.000e+00, 0.000e+00, 0.000e+00, 0.000e+00,\n",
       "        0.000e+00, 0.000e+00, 0.000e+00, 0.000e+00, 0.000e+00, 0.000e+00,\n",
       "        0.000e+00, 0.000e+00, 0.000e+00, 0.000e+00, 0.000e+00, 0.000e+00,\n",
       "        0.000e+00, 0.000e+00, 0.000e+00, 0.000e+00, 1.000e+00, 0.000e+00,\n",
       "        0.000e+00, 0.000e+00, 0.000e+00, 0.000e+00, 0.000e+00, 1.000e+00,\n",
       "        0.000e+00, 0.000e+00, 0.000e+00, 0.000e+00, 0.000e+00, 0.000e+00,\n",
       "        0.000e+00, 0.000e+00, 0.000e+00, 0.000e+00, 0.000e+00, 0.000e+00,\n",
       "        0.000e+00, 0.000e+00, 0.000e+00, 0.000e+00, 0.000e+00, 0.000e+00,\n",
       "        0.000e+00, 0.000e+00, 0.000e+00, 0.000e+00, 0.000e+00, 0.000e+00,\n",
       "        0.000e+00, 0.000e+00, 0.000e+00, 0.000e+00, 0.000e+00, 0.000e+00,\n",
       "        0.000e+00, 0.000e+00, 0.000e+00, 0.000e+00, 0.000e+00, 0.000e+00,\n",
       "        0.000e+00, 0.000e+00, 0.000e+00, 0.000e+00, 0.000e+00, 0.000e+00,\n",
       "        0.000e+00, 0.000e+00, 0.000e+00, 0.000e+00, 1.000e+00, 0.000e+00,\n",
       "        0.000e+00, 0.000e+00, 0.000e+00, 0.000e+00, 0.000e+00, 0.000e+00,\n",
       "        0.000e+00, 0.000e+00, 0.000e+00, 0.000e+00, 0.000e+00, 0.000e+00,\n",
       "        0.000e+00, 0.000e+00, 0.000e+00, 0.000e+00, 0.000e+00, 0.000e+00,\n",
       "        0.000e+00, 0.000e+00, 0.000e+00, 0.000e+00, 0.000e+00, 0.000e+00,\n",
       "        0.000e+00, 0.000e+00, 0.000e+00, 0.000e+00, 0.000e+00, 0.000e+00,\n",
       "        0.000e+00, 0.000e+00, 0.000e+00, 0.000e+00, 0.000e+00, 0.000e+00,\n",
       "        0.000e+00, 0.000e+00, 0.000e+00, 0.000e+00, 0.000e+00, 0.000e+00,\n",
       "        0.000e+00, 0.000e+00, 0.000e+00, 0.000e+00, 0.000e+00, 0.000e+00,\n",
       "        0.000e+00, 0.000e+00, 0.000e+00, 0.000e+00, 0.000e+00, 0.000e+00,\n",
       "        0.000e+00, 0.000e+00, 0.000e+00, 0.000e+00, 0.000e+00, 0.000e+00,\n",
       "        0.000e+00, 0.000e+00, 0.000e+00, 1.000e+00]),\n",
       " array([   0.        ,   12.91825095,   25.8365019 ,   38.75475285,\n",
       "          51.6730038 ,   64.59125475,   77.5095057 ,   90.42775665,\n",
       "         103.3460076 ,  116.26425856,  129.18250951,  142.10076046,\n",
       "         155.01901141,  167.93726236,  180.85551331,  193.77376426,\n",
       "         206.69201521,  219.61026616,  232.52851711,  245.44676806,\n",
       "         258.36501901,  271.28326996,  284.20152091,  297.11977186,\n",
       "         310.03802281,  322.95627376,  335.87452471,  348.79277567,\n",
       "         361.71102662,  374.62927757,  387.54752852,  400.46577947,\n",
       "         413.38403042,  426.30228137,  439.22053232,  452.13878327,\n",
       "         465.05703422,  477.97528517,  490.89353612,  503.81178707,\n",
       "         516.73003802,  529.64828897,  542.56653992,  555.48479087,\n",
       "         568.40304183,  581.32129278,  594.23954373,  607.15779468,\n",
       "         620.07604563,  632.99429658,  645.91254753,  658.83079848,\n",
       "         671.74904943,  684.66730038,  697.58555133,  710.50380228,\n",
       "         723.42205323,  736.34030418,  749.25855513,  762.17680608,\n",
       "         775.09505703,  788.01330798,  800.93155894,  813.84980989,\n",
       "         826.76806084,  839.68631179,  852.60456274,  865.52281369,\n",
       "         878.44106464,  891.35931559,  904.27756654,  917.19581749,\n",
       "         930.11406844,  943.03231939,  955.95057034,  968.86882129,\n",
       "         981.78707224,  994.70532319, 1007.62357414, 1020.5418251 ,\n",
       "        1033.46007605, 1046.378327  , 1059.29657795, 1072.2148289 ,\n",
       "        1085.13307985, 1098.0513308 , 1110.96958175, 1123.8878327 ,\n",
       "        1136.80608365, 1149.7243346 , 1162.64258555, 1175.5608365 ,\n",
       "        1188.47908745, 1201.3973384 , 1214.31558935, 1227.2338403 ,\n",
       "        1240.15209125, 1253.07034221, 1265.98859316, 1278.90684411,\n",
       "        1291.82509506, 1304.74334601, 1317.66159696, 1330.57984791,\n",
       "        1343.49809886, 1356.41634981, 1369.33460076, 1382.25285171,\n",
       "        1395.17110266, 1408.08935361, 1421.00760456, 1433.92585551,\n",
       "        1446.84410646, 1459.76235741, 1472.68060837, 1485.59885932,\n",
       "        1498.51711027, 1511.43536122, 1524.35361217, 1537.27186312,\n",
       "        1550.19011407, 1563.10836502, 1576.02661597, 1588.94486692,\n",
       "        1601.86311787, 1614.78136882, 1627.69961977, 1640.61787072,\n",
       "        1653.53612167, 1666.45437262, 1679.37262357, 1692.29087452,\n",
       "        1705.20912548, 1718.12737643, 1731.04562738, 1743.96387833,\n",
       "        1756.88212928, 1769.80038023, 1782.71863118, 1795.63688213,\n",
       "        1808.55513308, 1821.47338403, 1834.39163498, 1847.30988593,\n",
       "        1860.22813688, 1873.14638783, 1886.06463878, 1898.98288973,\n",
       "        1911.90114068, 1924.81939163, 1937.73764259, 1950.65589354,\n",
       "        1963.57414449, 1976.49239544, 1989.41064639, 2002.32889734,\n",
       "        2015.24714829, 2028.16539924, 2041.08365019, 2054.00190114,\n",
       "        2066.92015209, 2079.83840304, 2092.75665399, 2105.67490494,\n",
       "        2118.59315589, 2131.51140684, 2144.42965779, 2157.34790875,\n",
       "        2170.2661597 , 2183.18441065, 2196.1026616 , 2209.02091255,\n",
       "        2221.9391635 , 2234.85741445, 2247.7756654 , 2260.69391635,\n",
       "        2273.6121673 , 2286.53041825, 2299.4486692 , 2312.36692015,\n",
       "        2325.2851711 , 2338.20342205, 2351.121673  , 2364.03992395,\n",
       "        2376.9581749 , 2389.87642586, 2402.79467681, 2415.71292776,\n",
       "        2428.63117871, 2441.54942966, 2454.46768061, 2467.38593156,\n",
       "        2480.30418251, 2493.22243346, 2506.14068441, 2519.05893536,\n",
       "        2531.97718631, 2544.89543726, 2557.81368821, 2570.73193916,\n",
       "        2583.65019011, 2596.56844106, 2609.48669202, 2622.40494297,\n",
       "        2635.32319392, 2648.24144487, 2661.15969582, 2674.07794677,\n",
       "        2686.99619772, 2699.91444867, 2712.83269962, 2725.75095057,\n",
       "        2738.66920152, 2751.58745247, 2764.50570342, 2777.42395437,\n",
       "        2790.34220532, 2803.26045627, 2816.17870722, 2829.09695817,\n",
       "        2842.01520913, 2854.93346008, 2867.85171103, 2880.76996198,\n",
       "        2893.68821293, 2906.60646388, 2919.52471483, 2932.44296578,\n",
       "        2945.36121673, 2958.27946768, 2971.19771863, 2984.11596958,\n",
       "        2997.03422053, 3009.95247148, 3022.87072243, 3035.78897338,\n",
       "        3048.70722433, 3061.62547529, 3074.54372624, 3087.46197719,\n",
       "        3100.38022814, 3113.29847909, 3126.21673004, 3139.13498099,\n",
       "        3152.05323194, 3164.97148289, 3177.88973384, 3190.80798479,\n",
       "        3203.72623574, 3216.64448669, 3229.56273764, 3242.48098859,\n",
       "        3255.39923954, 3268.31749049, 3281.23574144, 3294.1539924 ,\n",
       "        3307.07224335, 3319.9904943 , 3332.90874525, 3345.8269962 ,\n",
       "        3358.74524715, 3371.6634981 , 3384.58174905, 3397.5       ,\n",
       "        3410.41825095, 3423.3365019 , 3436.25475285, 3449.1730038 ,\n",
       "        3462.09125475, 3475.0095057 , 3487.92775665, 3500.8460076 ,\n",
       "        3513.76425856, 3526.68250951, 3539.60076046, 3552.51901141,\n",
       "        3565.43726236, 3578.35551331, 3591.27376426, 3604.19201521,\n",
       "        3617.11026616, 3630.02851711, 3642.94676806, 3655.86501901,\n",
       "        3668.78326996, 3681.70152091, 3694.61977186, 3707.53802281,\n",
       "        3720.45627376, 3733.37452471, 3746.29277567, 3759.21102662,\n",
       "        3772.12927757, 3785.04752852, 3797.96577947, 3810.88403042,\n",
       "        3823.80228137, 3836.72053232, 3849.63878327, 3862.55703422,\n",
       "        3875.47528517, 3888.39353612, 3901.31178707, 3914.23003802,\n",
       "        3927.14828897, 3940.06653992, 3952.98479087, 3965.90304183,\n",
       "        3978.82129278, 3991.73954373, 4004.65779468, 4017.57604563,\n",
       "        4030.49429658, 4043.41254753, 4056.33079848, 4069.24904943,\n",
       "        4082.16730038, 4095.08555133, 4108.00380228, 4120.92205323,\n",
       "        4133.84030418, 4146.75855513, 4159.67680608, 4172.59505703,\n",
       "        4185.51330798, 4198.43155894, 4211.34980989, 4224.26806084,\n",
       "        4237.18631179, 4250.10456274, 4263.02281369, 4275.94106464,\n",
       "        4288.85931559, 4301.77756654, 4314.69581749, 4327.61406844,\n",
       "        4340.53231939, 4353.45057034, 4366.36882129, 4379.28707224,\n",
       "        4392.20532319, 4405.12357414, 4418.0418251 , 4430.96007605,\n",
       "        4443.878327  , 4456.79657795, 4469.7148289 , 4482.63307985,\n",
       "        4495.5513308 , 4508.46958175, 4521.3878327 , 4534.30608365,\n",
       "        4547.2243346 , 4560.14258555, 4573.0608365 , 4585.97908745,\n",
       "        4598.8973384 , 4611.81558935, 4624.7338403 , 4637.65209125,\n",
       "        4650.57034221, 4663.48859316, 4676.40684411, 4689.32509506,\n",
       "        4702.24334601, 4715.16159696, 4728.07984791, 4740.99809886,\n",
       "        4753.91634981, 4766.83460076, 4779.75285171, 4792.67110266,\n",
       "        4805.58935361, 4818.50760456, 4831.42585551, 4844.34410646,\n",
       "        4857.26235741, 4870.18060837, 4883.09885932, 4896.01711027,\n",
       "        4908.93536122, 4921.85361217, 4934.77186312, 4947.69011407,\n",
       "        4960.60836502, 4973.52661597, 4986.44486692, 4999.36311787,\n",
       "        5012.28136882, 5025.19961977, 5038.11787072, 5051.03612167,\n",
       "        5063.95437262, 5076.87262357, 5089.79087452, 5102.70912548,\n",
       "        5115.62737643, 5128.54562738, 5141.46387833, 5154.38212928,\n",
       "        5167.30038023, 5180.21863118, 5193.13688213, 5206.05513308,\n",
       "        5218.97338403, 5231.89163498, 5244.80988593, 5257.72813688,\n",
       "        5270.64638783, 5283.56463878, 5296.48288973, 5309.40114068,\n",
       "        5322.31939163, 5335.23764259, 5348.15589354, 5361.07414449,\n",
       "        5373.99239544, 5386.91064639, 5399.82889734, 5412.74714829,\n",
       "        5425.66539924, 5438.58365019, 5451.50190114, 5464.42015209,\n",
       "        5477.33840304, 5490.25665399, 5503.17490494, 5516.09315589,\n",
       "        5529.01140684, 5541.92965779, 5554.84790875, 5567.7661597 ,\n",
       "        5580.68441065, 5593.6026616 , 5606.52091255, 5619.4391635 ,\n",
       "        5632.35741445, 5645.2756654 , 5658.19391635, 5671.1121673 ,\n",
       "        5684.03041825, 5696.9486692 , 5709.86692015, 5722.7851711 ,\n",
       "        5735.70342205, 5748.621673  , 5761.53992395, 5774.4581749 ,\n",
       "        5787.37642586, 5800.29467681, 5813.21292776, 5826.13117871,\n",
       "        5839.04942966, 5851.96768061, 5864.88593156, 5877.80418251,\n",
       "        5890.72243346, 5903.64068441, 5916.55893536, 5929.47718631,\n",
       "        5942.39543726, 5955.31368821, 5968.23193916, 5981.15019011,\n",
       "        5994.06844106, 6006.98669202, 6019.90494297, 6032.82319392,\n",
       "        6045.74144487, 6058.65969582, 6071.57794677, 6084.49619772,\n",
       "        6097.41444867, 6110.33269962, 6123.25095057, 6136.16920152,\n",
       "        6149.08745247, 6162.00570342, 6174.92395437, 6187.84220532,\n",
       "        6200.76045627, 6213.67870722, 6226.59695817, 6239.51520913,\n",
       "        6252.43346008, 6265.35171103, 6278.26996198, 6291.18821293,\n",
       "        6304.10646388, 6317.02471483, 6329.94296578, 6342.86121673,\n",
       "        6355.77946768, 6368.69771863, 6381.61596958, 6394.53422053,\n",
       "        6407.45247148, 6420.37072243, 6433.28897338, 6446.20722433,\n",
       "        6459.12547529, 6472.04372624, 6484.96197719, 6497.88022814,\n",
       "        6510.79847909, 6523.71673004, 6536.63498099, 6549.55323194,\n",
       "        6562.47148289, 6575.38973384, 6588.30798479, 6601.22623574,\n",
       "        6614.14448669, 6627.06273764, 6639.98098859, 6652.89923954,\n",
       "        6665.81749049, 6678.73574144, 6691.6539924 , 6704.57224335,\n",
       "        6717.4904943 , 6730.40874525, 6743.3269962 , 6756.24524715,\n",
       "        6769.1634981 , 6782.08174905, 6795.        ]),\n",
       " <a list of 526 Patch objects>)"
      ]
     },
     "execution_count": 26,
     "metadata": {},
     "output_type": "execute_result"
    },
    {
     "data": {
      "image/png": "[encoded data removed]",
      "text/plain": [
       "<Figure size 432x288 with 1 Axes>"
      ]
     },
     "metadata": {
      "needs_background": "light"
     },
     "output_type": "display_data"
    }
   ],
   "source": [
    "plt.hist([len(x) for x in preprocessed_reviews], bins=len(preprocessed_reviews)//100)"
   ]
  },
  {
   "cell_type": "markdown",
   "metadata": {},
   "source": [
    "<h2><font color='red'>[3.2] Preprocessing Review Summary</font></h2>"
   ]
  },
  {
   "cell_type": "code",
   "execution_count": 27,
   "metadata": {},
   "outputs": [
    {
     "name": "stderr",
     "output_type": "stream",
     "text": [
      "100%|██████████| 52673/52673 [00:10<00:00, 4996.13it/s]\n"
     ]
    }
   ],
   "source": [
    "## Similartly you can do preprocessing for review summary also.\n",
    "preprocessed_summary = []\n",
    "for summary in tqdm(final['Summary'].values):\n",
    "    summary = re.sub(r\"http\\S+\", \"\", summary)\n",
    "    summary = BeautifulSoup(summary, 'lxml').get_text()\n",
    "    summary = decontracted(summary)\n",
    "    summary = re.sub(\"\\S*\\d\\S*\", \"\", summary).strip()\n",
    "    summary = re.sub('[^A-Za-z0-9]+', ' ', summary)   # adding 0-9 in the regex\n",
    "    summary = ' '.join(e.lower() for e in summary.split() if e.lower() not in stopwords)\n",
    "    preprocessed_summary.append(summary.strip())"
   ]
  },
  {
   "cell_type": "markdown",
   "metadata": {},
   "source": [
    "# [4] Featurization"
   ]
  },
  {
   "cell_type": "markdown",
   "metadata": {},
   "source": [
    "## [4.1] BAG OF WORDS"
   ]
  },
  {
   "cell_type": "code",
   "execution_count": 30,
   "metadata": {},
   "outputs": [],
   "source": [
    "# importing train_test_split to split data for kNN\n",
    "\n",
    "from sklearn.model_selection import train_test_split"
   ]
  },
  {
   "cell_type": "code",
   "execution_count": 29,
   "metadata": {},
   "outputs": [
    {
     "name": "stdout",
     "output_type": "stream",
     "text": [
      "Total training features :  500\n",
      "some feature names  ['able', 'absolutely', 'acid', 'actually', 'add', 'added', 'aftertaste', 'ago', 'almost', 'also']\n",
      "==================================================\n",
      "\n",
      "Shapes After Vectorization \n",
      "(35290, 500) 35290\n",
      "(8691, 500) 8691\n",
      "(8692, 500) 8692\n",
      "Unique words in training :  500\n"
     ]
    }
   ],
   "source": [
    "#BoW\n",
    "# this is random splitting into train, test and cross validation set\n",
    "ppReview_train, ppReview_test, rs_train, rs_test = train_test_split(preprocessed_reviews, review_score, \n",
    "                                                                    test_size=0.33, random_state = 0) \n",
    "ppReview_cv, ppReview_test, rs_cv, rs_test = train_test_split(ppReview_test, rs_test, test_size=0.50, \n",
    "                                                              random_state=0)\n",
    "count_vect = CountVectorizer(min_df=10, max_features=500)    #in scikit-learn\n",
    "count_vect.fit(ppReview_train)    # fitting done only on training set\n",
    "print(\"Total training features : \", len(count_vect.get_feature_names()))\n",
    "print(\"some feature names \", count_vect.get_feature_names()[:10])\n",
    "\n",
    "print('='*50)\n",
    "\n",
    "bow_train = count_vect.transform(ppReview_train)\n",
    "bow_cv = count_vect.transform(ppReview_cv)\n",
    "bow_test = count_vect.transform(ppReview_test)\n",
    "\n",
    "print(\"\\nShapes After Vectorization \")\n",
    "print(bow_train.shape, len(rs_train))\n",
    "print(bow_cv.shape, len(rs_cv))\n",
    "print(bow_test.shape, len(rs_test))\n",
    "print(\"Unique words in training : \", bow_train.get_shape()[1])"
   ]
  },
  {
   "cell_type": "markdown",
   "metadata": {},
   "source": [
    "## [4.2] Bi-Grams and n-Grams."
   ]
  },
  {
   "cell_type": "code",
   "execution_count": 30,
   "metadata": {},
   "outputs": [
    {
     "name": "stdout",
     "output_type": "stream",
     "text": [
      "the type of count vectorizer  <class 'scipy.sparse.csr.csr_matrix'>\n",
      "the shape of out text BOW vectorizer  (52673, 500)\n",
      "the number of unique words including both unigrams and bigrams  500\n"
     ]
    }
   ],
   "source": [
    "#bi-gram, tri-gram and n-gram\n",
    "\n",
    "#removing stop words like \"not\" should be avoided before building n-grams\n",
    "# count_vect = CountVectorizer(ngram_range=(1,2))\n",
    "# please do read the CountVectorizer documentation http://scikit-learn.org/stable/modules/generated/sklearn.feature_extraction.text.CountVectorizer.html\n",
    "\n",
    "# you can choose these numebrs min_df=10, max_features=5000, of your choice\n",
    "count_vect = CountVectorizer(ngram_range=(1,2), min_df=10, max_features=500)\n",
    "final_bigram_counts = count_vect.fit_transform(preprocessed_reviews)\n",
    "print(\"the type of count vectorizer \",type(final_bigram_counts))\n",
    "print(\"the shape of out text BOW vectorizer \",final_bigram_counts.get_shape())\n",
    "print(\"the number of unique words including both unigrams and bigrams \", final_bigram_counts.get_shape()[1])"
   ]
  },
  {
   "cell_type": "markdown",
   "metadata": {},
   "source": [
    "## [4.3] TF-IDF"
   ]
  },
  {
   "cell_type": "code",
   "execution_count": 31,
   "metadata": {},
   "outputs": [
    {
     "name": "stdout",
     "output_type": "stream",
     "text": [
      "Total training features :  500\n",
      "some feature names  ['able', 'absolutely', 'acid', 'actually', 'add', 'added', 'aftertaste', 'ago', 'almost', 'also']\n",
      "==================================================\n",
      "\n",
      "Shapes After Vectorization \n",
      "(35290, 500) 35290\n",
      "(8691, 500) 8691\n",
      "(8692, 500) 8692\n",
      "Unique words in training :  500\n"
     ]
    }
   ],
   "source": [
    "#tf-IDF\n",
    "tf_idf_vect = TfidfVectorizer(min_df=10, max_features=500)\n",
    "tf_idf_vect.fit(ppReview_train)\n",
    "print(\"Total training features : \", len(count_vect.get_feature_names()))\n",
    "print(\"some feature names \", tf_idf_vect.get_feature_names()[:10])\n",
    "print('='*50)\n",
    "\n",
    "tfIdf_train = tf_idf_vect.transform(ppReview_train)\n",
    "tfIdf_cv = tf_idf_vect.transform(ppReview_cv)\n",
    "tfIdf_test = tf_idf_vect.transform(ppReview_test)\n",
    "print(\"\\nShapes After Vectorization \")\n",
    "print(tfIdf_train.shape, len(rs_train))\n",
    "print(tfIdf_cv.shape, len(rs_cv))\n",
    "print(tfIdf_test.shape, len(rs_test))\n",
    "print(\"Unique words in training : \", tfIdf_train.get_shape()[1])"
   ]
  },
  {
   "cell_type": "markdown",
   "metadata": {},
   "source": [
    "## [4.4] Word2Vec"
   ]
  },
  {
   "cell_type": "code",
   "execution_count": 47,
   "metadata": {},
   "outputs": [],
   "source": [
    "# Train your own Word2Vec model using your own text corpus\n",
    "i=0\n",
    "# list of sentences divide into train, test and cross validation set\n",
    "list_of_sentance_train=[sentance.split() for sentance in ppReview_train]\n",
    "list_of_sentance_cv=[sentance.split() for sentance in ppReview_cv]\n",
    "list_of_sentance_test=[sentance.split() for sentance in ppReview_test]"
   ]
  },
  {
   "cell_type": "code",
   "execution_count": 48,
   "metadata": {
    "scrolled": true
   },
   "outputs": [
    {
     "name": "stdout",
     "output_type": "stream",
     "text": [
      "[('good', 0.8250088095664978), ('excellent', 0.7423622012138367), ('perfect', 0.7097649574279785), ('wonderful', 0.7050350904464722), ('makes', 0.7005448937416077), ('well', 0.6867148280143738), ('love', 0.6747015714645386), ('delicious', 0.6628507375717163), ('decent', 0.6592996120452881), ('awesome', 0.6547524929046631)]\n",
      "==================================================\n",
      "[('ever', 0.8932048082351685), ('misfortune', 0.8682041168212891), ('eaten', 0.8630183935165405), ('hottest', 0.8468180298805237), ('lover', 0.842382550239563), ('liked', 0.839311957359314), ('repulsive', 0.8293436169624329), ('fantasicakes', 0.8267478942871094), ('favorites', 0.8228455185890198), ('awful', 0.8225680589675903)]\n"
     ]
    }
   ],
   "source": [
    "# Using Google News Word2Vectors\n",
    "\n",
    "# in this project we are using a pretrained model by google\n",
    "# its 3.3G file, once you load this into your memory \n",
    "# it occupies ~9Gb, so please do this step only if you have >12G of ram\n",
    "# we will provide a pickle file wich contains a dict , \n",
    "# and it contains all our courpus words as keys and  model[word] as values\n",
    "# To use this code-snippet, download \"GoogleNews-vectors-negative300.bin\" \n",
    "# from https://drive.google.com/file/d/0B7XkCwpI5KDYNlNUTTlSS21pQmM/edit\n",
    "# it's 1.9GB in size.\n",
    "\n",
    "\n",
    "# http://kavita-ganesan.com/gensim-word2vec-tutorial-starter-code/#.W17SRFAzZPY\n",
    "# you can comment this whole cell\n",
    "# or change these varible according to your need\n",
    "\n",
    "is_your_ram_gt_16g=False\n",
    "want_to_use_google_w2v = False\n",
    "want_to_train_w2v = True\n",
    "\n",
    "if want_to_train_w2v:\n",
    "    # min_count = 5 considers only words that occured atleast 5 times\n",
    "    # training the word2Vec model only on the train dataset\n",
    "    w2v_model=Word2Vec(list_of_sentance_train,min_count=5,size=50, workers=4)\n",
    "    print(w2v_model.wv.most_similar('great'))\n",
    "    print('='*50)\n",
    "    print(w2v_model.wv.most_similar('worst'))\n",
    "    \n",
    "elif want_to_use_google_w2v and is_your_ram_gt_16g:\n",
    "    if os.path.isfile('GoogleNews-vectors-negative300.bin'):\n",
    "        w2v_model=KeyedVectors.load_word2vec_format('GoogleNews-vectors-negative300.bin', binary=True)\n",
    "        print(w2v_model.wv.most_similar('great'))\n",
    "        print(w2v_model.wv.most_similar('worst'))\n",
    "    else:\n",
    "        print(\"you don't have google's word2vec file, keep want_to_train_w2v = True, to train your own w2v \")"
   ]
  },
  {
   "cell_type": "code",
   "execution_count": 49,
   "metadata": {},
   "outputs": [
    {
     "name": "stdout",
     "output_type": "stream",
     "text": [
      "number of words that occured minimum 5 times  7269\n",
      "sample words  ['discount', 'tommy', 'best', 'popcorn', 'needs', 'great', 'northern', 'better', 'others', 'tea', 'good', 'even', 'adding', 'hot', 'boiling', 'water', 'aroma', 'pleasing', 'enjoy', 'without', 'sugar', 'sometimes', 'milk', 'though', 'not', 'sweet', 'taste', 'iv', 'e', 'tried', 'different', 'gluten', 'free', 'breads', 'left', 'lot', 'desired', 'ate', 'stumbled', 'across', 'brand', 'bread', 'mix', 'yet', 'really', 'liked', 'ordered', 'made', 'plain', 'cheese']\n"
     ]
    }
   ],
   "source": [
    "w2v_words = list(w2v_model.wv.vocab)\n",
    "print(\"number of words that occured minimum 5 times \",len(w2v_words))\n",
    "print(\"sample words \", w2v_words[0:50])"
   ]
  },
  {
   "cell_type": "markdown",
   "metadata": {},
   "source": [
    "## [4.4.1] Converting text into vectors using Avg W2V, TFIDF-W2V"
   ]
  },
  {
   "cell_type": "markdown",
   "metadata": {},
   "source": [
    "#### [4.4.1.1] Avg W2v"
   ]
  },
  {
   "cell_type": "code",
   "execution_count": 35,
   "metadata": {},
   "outputs": [
    {
     "name": "stdout",
     "output_type": "stream",
     "text": [
      "Working on training set\n",
      "Working on cross validation set\n",
      "Working on test set\n",
      "Sentences Vectors created..\n"
     ]
    }
   ],
   "source": [
    "# average Word2Vec\n",
    "# compute average word2vec for each review in the train, test and CV set.\n",
    "# sent_vectors = []; # the avg-w2v for each sentence/review is stored in this list\n",
    "# for sent in tqdm(list_of_sentance): # for each review/sentence\n",
    "#     sent_vec = np.zeros(50) # as word vectors are of zero length 50, you might need to change this to 300 \n",
    "#                             # if you use google's w2v\n",
    "#     cnt_words =0; # num of words with a valid vector in the sentence/review\n",
    "#     for word in sent: # for each word in a review/sentence\n",
    "#         if word in w2v_words:\n",
    "#             vec = w2v_model.wv[word]\n",
    "#             sent_vec += vec\n",
    "#             cnt_words += 1\n",
    "#     if cnt_words != 0:\n",
    "#         sent_vec /= cnt_words\n",
    "#     sent_vectors.append(sent_vec)\n",
    "# print(len(sent_vectors))\n",
    "# print(len(sent_vectors[0]))\n",
    "\n",
    "sent_vectors_train, sent_vectors_test, sent_vectors_cv = [],[],[]\n",
    "for i, aset in enumerate([list_of_sentance_train, list_of_sentance_cv, list_of_sentance_test]):\n",
    "    if i==0:\n",
    "        print(\"Working on training set\")\n",
    "    elif i==1:\n",
    "        print(\"Working on cross validation set\")\n",
    "    elif i==2:\n",
    "        print(\"Working on test set\")\n",
    "    for sent in aset:\n",
    "        sent_vec = np.zeros(50) # as word vectors are of zero length 50\n",
    "        cnt_words =0; # num of words with a valid vector in the sentence/review\n",
    "        for word in sent: # for each word in a review/sentence\n",
    "            if word in w2v_words:\n",
    "                vec = w2v_model.wv[word]\n",
    "                sent_vec += vec\n",
    "                cnt_words += 1\n",
    "        if cnt_words != 0:\n",
    "            sent_vec /= cnt_words\n",
    "        if i==0:\n",
    "            sent_vectors_train.append(sent_vec)\n",
    "        elif i==1:\n",
    "            sent_vectors_cv.append(sent_vec)\n",
    "        elif i==2:\n",
    "            sent_vectors_test.append(sent_vec)\n",
    "            \n",
    "print(\"Sentences Vectors created..\")"
   ]
  },
  {
   "cell_type": "code",
   "execution_count": 36,
   "metadata": {},
   "outputs": [
    {
     "name": "stdout",
     "output_type": "stream",
     "text": [
      "Total training features :  50\n",
      "==================================================\n",
      "\n",
      "Shapes After Vectorization \n",
      "Train Set : ( 35290 50 )\n",
      "Test Set : ( 8692 50 )\n",
      "CV Set : ( 8691 50 )\n"
     ]
    }
   ],
   "source": [
    "# Average Word2Vec\n",
    "\n",
    "avgWV_vect_train = sent_vectors_train\n",
    "avgWV_vect_cv = sent_vectors_cv\n",
    "avgWV_vect_test = sent_vectors_test\n",
    "print(\"Total training features : \", len(avgWV_vect_train[0]))\n",
    "print('='*50)\n",
    "\n",
    "print(\"\\nShapes After Vectorization \")\n",
    "print(\"Train Set : (\", len(avgWV_vect_train), len(avgWV_vect_train[0]), \")\")\n",
    "print(\"Test Set : (\", len(avgWV_vect_test), len(avgWV_vect_test[0]), \")\")\n",
    "print(\"CV Set : (\", len(avgWV_vect_cv), len(avgWV_vect_cv[0]), \")\")"
   ]
  },
  {
   "cell_type": "markdown",
   "metadata": {},
   "source": [
    "#### [4.4.1.2] TFIDF weighted W2v"
   ]
  },
  {
   "cell_type": "code",
   "execution_count": 37,
   "metadata": {},
   "outputs": [],
   "source": [
    "# S = [\"abc def pqr\", \"def def def abc\", \"pqr pqr def\"]\n",
    "model = TfidfVectorizer(min_df=10, max_features=500)\n",
    "# fit transform only on training set\n",
    "tf_idf_matrix = model.fit_transform(ppReview_train)\n",
    "# we are converting a dictionary with word as a key, and the idf as a value\n",
    "dictionary = dict(zip(model.get_feature_names(), list(model.idf_)))"
   ]
  },
  {
   "cell_type": "code",
   "execution_count": 38,
   "metadata": {
    "scrolled": true
   },
   "outputs": [
    {
     "name": "stdout",
     "output_type": "stream",
     "text": [
      "Working on training set\n",
      "Working on cross validation set\n",
      "Working on test set\n",
      "Sentences Vectors created..\n"
     ]
    }
   ],
   "source": [
    "# TF-IDF weighted Word2Vec\n",
    "tfidf_feat = model.get_feature_names() # tfidf words/col-names\n",
    "# final_tf_idf is the sparse matrix with row= sentence, col=word and cell_val = tfidf\n",
    "\n",
    "# tfidf_sent_vectors = []; # the tfidf-w2v for each sentence/review is stored in this list\n",
    "# row=0;\n",
    "# for sent in tqdm(list_of_sentance): # for each review/sentence \n",
    "#     sent_vec = np.zeros(50) # as word vectors are of zero length\n",
    "#     weight_sum =0; # num of words with a valid vector in the sentence/review\n",
    "#     for word in sent: # for each word in a review/sentence\n",
    "#         if word in w2v_words and word in tfidf_feat:\n",
    "#             vec = w2v_model.wv[word]\n",
    "# #             tf_idf = tf_idf_matrix[row, tfidf_feat.index(word)]\n",
    "#             # to reduce the computation we are \n",
    "#             # dictionary[word] = idf value of word in whole courpus\n",
    "#             # sent.count(word) = tf valeus of word in this review\n",
    "#             tf_idf = dictionary[word]*(sent.count(word)/len(sent))\n",
    "#             sent_vec += (vec * tf_idf)\n",
    "#             weight_sum += tf_idf\n",
    "#     if weight_sum != 0:\n",
    "#         sent_vec /= weight_sum\n",
    "#     tfidf_sent_vectors.append(sent_vec)\n",
    "#     row += 1\n",
    "\n",
    "tfsent_vectors_train, tfsent_vectors_test, tfsent_vectors_cv = [],[],[]\n",
    "for i, aset in enumerate([list_of_sentance_train, list_of_sentance_cv, list_of_sentance_test]):\n",
    "    if i==0:\n",
    "        print(\"Working on training set\")\n",
    "    elif i==1:\n",
    "        print(\"Working on cross validation set\")\n",
    "    elif i==2:\n",
    "        print(\"Working on test set\")\n",
    "    rows=0\n",
    "    for sent in aset:\n",
    "        sent_vec = np.zeros(50) # as word vectors are of zero length 50\n",
    "        weight_sum =0; # num of words with a valid vector in the sentence/review\n",
    "        for word in sent: # for each word in a review/sentence\n",
    "            if word in w2v_words and word in tfidf_feat:\n",
    "                vec = w2v_model.wv[word]\n",
    "                tf_idf = dictionary[word]*(sent.count(word)/len(sent))\n",
    "                sent_vec += (vec * tf_idf)\n",
    "                weight_sum += tf_idf\n",
    "        if weight_sum != 0:\n",
    "            sent_vec /= weight_sum\n",
    "        if i==0:\n",
    "            tfsent_vectors_train.append(sent_vec)\n",
    "        elif i==1:\n",
    "            tfsent_vectors_cv.append(sent_vec)\n",
    "        elif i==2:\n",
    "            tfsent_vectors_test.append(sent_vec)\n",
    "        rows+=1\n",
    "            \n",
    "print(\"Sentences Vectors created..\")"
   ]
  },
  {
   "cell_type": "code",
   "execution_count": 39,
   "metadata": {},
   "outputs": [
    {
     "name": "stdout",
     "output_type": "stream",
     "text": [
      "Total training features :  50\n",
      "==================================================\n",
      "\n",
      "Shapes After Vectorization \n",
      "Train Set : ( 35290 50 )\n",
      "Test Set : ( 8692 50 )\n",
      "CV Set : ( 8691 50 )\n"
     ]
    }
   ],
   "source": [
    "# Tf-IDF Weighted Word2Vec\n",
    "\n",
    "tfIdfWV_vect_train = tfsent_vectors_train\n",
    "tfIdfWV_vect_cv = tfsent_vectors_cv\n",
    "tfIdfWV_vect_test = tfsent_vectors_test\n",
    "print(\"Total training features : \", len(tfIdfWV_vect_train[0]))\n",
    "print('='*50)\n",
    "\n",
    "print(\"\\nShapes After Vectorization \")\n",
    "print(\"Train Set : (\", len(tfIdfWV_vect_train), len(tfIdfWV_vect_train[0]), \")\")\n",
    "print(\"Test Set : (\", len(tfIdfWV_vect_test), len(tfIdfWV_vect_test[0]), \")\")\n",
    "print(\"CV Set : (\", len(tfIdfWV_vect_cv), len(tfIdfWV_vect_cv[0]), \")\")"
   ]
  },
  {
   "cell_type": "markdown",
   "metadata": {},
   "source": [
    "# [5] Assignment 3: KNN"
   ]
  },
  {
   "cell_type": "markdown",
   "metadata": {},
   "source": [
    "<ol>\n",
    "    <li><strong>Apply Knn(brute force version) on these feature sets</strong>\n",
    "        <ul>\n",
    "            <li><font color='red'>SET 1:</font>Review text, preprocessed one converted into vectors using (BOW)</li>\n",
    "            <li><font color='red'>SET 2:</font>Review text, preprocessed one converted into vectors using (TFIDF)</li>\n",
    "            <li><font color='red'>SET 3:</font>Review text, preprocessed one converted into vectors using (AVG W2v)</li>\n",
    "            <li><font color='red'>SET 4:</font>Review text, preprocessed one converted into vectors using (TFIDF W2v)</li>\n",
    "        </ul>\n",
    "    </li>\n",
    "    <br>\n",
    "    <li><strong>Apply Knn(kd tree version) on these feature sets</strong>\n",
    "        <br><font color='red'>NOTE: </font>sklearn implementation of kd-tree accepts only dense matrices, you need to convert the sparse matrices of CountVectorizer/TfidfVectorizer into dense matices. You can convert sparse matrices to dense using .toarray() attribute. For more information please visit this <a href='https://docs.scipy.org/doc/scipy-0.18.1/reference/generated/scipy.sparse.csr_matrix.toarray.html'>link</a>\n",
    "        <ul>\n",
    "            <li><font color='red'>SET 5:</font>Review text, preprocessed one converted into vectors using (BOW) but with restriction on maximum features generated.\n",
    "            <pre>\n",
    "            count_vect = CountVectorizer(min_df=10, max_features=500) \n",
    "            count_vect.fit(preprocessed_reviews)\n",
    "            </pre>\n",
    "            </li>\n",
    "            <li><font color='red'>SET 6:</font>Review text, preprocessed one converted into vectors using (TFIDF) but with restriction on maximum features generated.\n",
    "            <pre>\n",
    "                tf_idf_vect = TfidfVectorizer(min_df=10, max_features=500)\n",
    "                tf_idf_vect.fit(preprocessed_reviews)\n",
    "            </pre>\n",
    "            </li>\n",
    "            <li><font color='red'>SET 3:</font>Review text, preprocessed one converted into vectors using (AVG W2v)</li>\n",
    "            <li><font color='red'>SET 4:</font>Review text, preprocessed one converted into vectors using (TFIDF W2v)</li>\n",
    "        </ul>\n",
    "    </li>\n",
    "    <br>\n",
    "    <li><strong>The hyper paramter tuning(find best K)</strong>\n",
    "        <ul>\n",
    "    <li>Find the best hyper parameter which will give the maximum <a href='https://www.appliedaicourse.com/course/applied-ai-course-online/lessons/receiver-operating-characteristic-curve-roc-curve-and-auc-1/'>AUC</a> value</li>\n",
    "    <li>Find the best hyper paramter using k-fold cross validation or simple cross validation data</li>\n",
    "    <li>Use gridsearch cv or randomsearch cv or you can also write your own for loops to do this task of hyperparameter tuning</li>\n",
    "        </ul>\n",
    "    </li>\n",
    "    <br>\n",
    "    <li>\n",
    "    <strong>Representation of results</strong>\n",
    "        <ul>\n",
    "    <li>You need to plot the performance of model both on train data and cross validation data for each hyper parameter, like shown in the figure\n",
    "    <img src='train_cv_auc.JPG' width=300px></li>\n",
    "    <li>Once after you found the best hyper parameter, you need to train your model with it, and find the AUC on test data and plot the ROC curve on both train and test.\n",
    "    <img src='train_test_auc.JPG' width=300px></li>\n",
    "    <li>Along with plotting ROC curve, you need to print the <a href='https://www.appliedaicourse.com/course/applied-ai-course-online/lessons/confusion-matrix-tpr-fpr-fnr-tnr-1/'>confusion matrix</a> with predicted and original labels of test data points\n",
    "    <img src='confusion_matrix.png' width=300px></li>\n",
    "        </ul>\n",
    "    </li>\n",
    "    <br>\n",
    "    <li><strong>Conclusion</strong>\n",
    "        <ul>\n",
    "    <li>You need to summarize the results at the end of the notebook, summarize it in the table format. To print out a table please refer to this prettytable library<a href='http://zetcode.com/python/prettytable/'> link</a> \n",
    "        <img src='summary.JPG' width=400px>\n",
    "    </li>\n",
    "        </ul>\n",
    "</ol>"
   ]
  },
  {
   "cell_type": "markdown",
   "metadata": {},
   "source": [
    "<h4><font color='red'>Note: Data Leakage</font></h4>\n",
    "\n",
    "1. There will be an issue of data-leakage if you vectorize the entire data and then split it into train/cv/test.\n",
    "2. To avoid the issue of data-leakag, make sure to split your data first and then vectorize it. \n",
    "3. While vectorizing your data, apply the method fit_transform() on you train data, and apply the method transform() on cv/test data.\n",
    "4. For more details please go through this <a href='https://soundcloud.com/applied-ai-course/leakage-bow-and-tfidf'>link.</a>"
   ]
  },
  {
   "cell_type": "markdown",
   "metadata": {},
   "source": [
    "## [5.1] Applying KNN brute force"
   ]
  },
  {
   "cell_type": "markdown",
   "metadata": {},
   "source": [
    "### [5.1.1] Applying KNN brute force on BOW,<font color='red'> SET 1</font>"
   ]
  },
  {
   "cell_type": "code",
   "execution_count": 26,
   "metadata": {},
   "outputs": [],
   "source": [
    "# Please write all the code with proper documentation\n",
    "\n",
    "# Applying kNN on BOW vectors using brute force approach\n",
    "\n",
    "from sklearn.neighbors import KNeighborsClassifier\n",
    "from sklearn.metrics import roc_auc_score, roc_curve, auc\n",
    "import matplotlib.pyplot as plt\n",
    "from sklearn.metrics import accuracy_score, classification_report\n",
    "from sklearn.model_selection import cross_val_score\n",
    "from sklearn.preprocessing import StandardScaler\n",
    "import seaborn as sns\n",
    "from scipy.sparse import issparse"
   ]
  },
  {
   "cell_type": "code",
   "execution_count": 34,
   "metadata": {},
   "outputs": [],
   "source": [
    "def knn_classifier(X_train, y_train, X_test, y_test, algoType):\n",
    "    '''\n",
    "    This method run the kNN classification algorithm on the given dataset, using brute force approach. \n",
    "    It plots the curves of various metrics employed to gauge the classifier performance, and returns the \n",
    "    optimal value of k, based on the cross_validaton_score as defined in the problem\n",
    "    '''\n",
    "    train_auc, test_auc = [], []    # this is for AUC score\n",
    "    cvScore = []    # this is for cross validation accuracy\n",
    "    conf_mat = []    # this is to store the confusion matrix while training\n",
    "    \n",
    "    kNeighbours = [1, 5, 10, 15, 21, 31, 41, 51]    \n",
    "    for k in kNeighbours:\n",
    "        print(\"Progress : \" + str(int((k*100)/51)) +\"%   \", end='\\r')\n",
    "        knn = KNeighborsClassifier(n_neighbors=k, algorithm=algoType, n_jobs=4)\n",
    "        # scaling the test and train data for kNN - REMOVING STANDARDSCALER as its not helping much\n",
    "        scaler = StandardScaler(with_mean=False) if issparse(X_train) else StandardScaler()\n",
    "        scaler.fit(X_train)\n",
    "        X_train = scaler.transform(X_train)  \n",
    "        X_test = scaler.transform(X_test) \n",
    "        knn.fit(X_train, y_train)\n",
    "    \n",
    "        # calculate roc_auc_score and append\n",
    "        train_auc.append(roc_auc_score(y_train, knn.predict_proba(X_train)[:, 1]))\n",
    "        test_auc.append(roc_auc_score(y_test, knn.predict_proba(X_test)[:, 1]))\n",
    "        \n",
    "        \n",
    "        # Implementing the last parameter - cross validation error\n",
    "        scores = cross_val_score(knn, X_train, y_train, cv=5, scoring='roc_auc', n_jobs=4)\n",
    "        cvScore.append(1 - scores.mean())   # Substract from 1 to change score to Classification error\n",
    "        \n",
    "        \n",
    "    print('Progress : 100%        ')\n",
    "    \n",
    "    # Plot the Error curves\n",
    "    plt.figure(figsize=(10.0, 8.0))\n",
    "    plt.plot(kNeighbours, train_auc, label='Train AUC')\n",
    "    plt.plot(kNeighbours, test_auc, label='CV AUC')\n",
    "    plt.legend()\n",
    "    plt.xlabel(\"K: hyperparameter\")\n",
    "    plt.ylabel(\"AUC\")\n",
    "    plt.title(\"MODEL EVALUATION PLOT FOR kNN\")\n",
    "    plt.show()\n",
    "    \n",
    "    \n",
    "#     print(cvScore.index(min(cvScore)))\n",
    "    # returning the optimal value of K using the MSE of cross validation scores\n",
    "    return kNeighbours[cvScore.index(min(cvScore))]\n",
    "        "
   ]
  },
  {
   "cell_type": "code",
   "execution_count": 35,
   "metadata": {},
   "outputs": [],
   "source": [
    "def draw_Confusion_Matrix(actual, predicted):\n",
    "    class_label = [\"negative\", \"positive\"]\n",
    "    conf_matrix = confusion_matrix(actual, predicted)\n",
    "    df_cm = pd.DataFrame(conf_matrix, index = class_label, columns = class_label)\n",
    "    hm = sns.heatmap(df_cm, annot = True, fmt = \"d\")\n",
    "    plt.xlabel(\"Predicted Label\")\n",
    "    plt.ylabel(\"True Label\")\n",
    "    plt.show()"
   ]
  },
  {
   "cell_type": "code",
   "execution_count": 43,
   "metadata": {},
   "outputs": [
    {
     "name": "stdout",
     "output_type": "stream",
     "text": [
      "Progress : 1%   \r"
     ]
    },
    {
     "name": "stderr",
     "output_type": "stream",
     "text": [
      "/home/prince/anaconda3/envs/mainEnv/lib/python3.6/site-packages/sklearn/utils/validation.py:595: DataConversionWarning: Data with input dtype int64 was converted to float64 by StandardScaler.\n",
      "  warnings.warn(msg, DataConversionWarning)\n",
      "/home/prince/anaconda3/envs/mainEnv/lib/python3.6/site-packages/sklearn/utils/validation.py:595: DataConversionWarning: Data with input dtype int64 was converted to float64 by StandardScaler.\n",
      "  warnings.warn(msg, DataConversionWarning)\n",
      "/home/prince/anaconda3/envs/mainEnv/lib/python3.6/site-packages/sklearn/utils/validation.py:595: DataConversionWarning: Data with input dtype int64 was converted to float64 by StandardScaler.\n",
      "  warnings.warn(msg, DataConversionWarning)\n"
     ]
    },
    {
     "name": "stdout",
     "output_type": "stream",
     "text": [
      "Progress : 100%        \n"
     ]
    },
    {
     "data": {
      "image/png": "[encoded data removed]",
      "text/plain": [
       "<Figure size 720x576 with 1 Axes>"
      ]
     },
     "metadata": {
      "needs_background": "light"
     },
     "output_type": "display_data"
    },
    {
     "name": "stdout",
     "output_type": "stream",
     "text": [
      "7\n",
      "Optimal K value for BOW is :  51\n"
     ]
    }
   ],
   "source": [
    "optimalK_bow = knn_classifier(bow_train, rs_train, bow_cv, rs_cv, 'brute')\n",
    "print(\"Optimal K value for BOW is : \", optimalK_bow)"
   ]
  },
  {
   "cell_type": "code",
   "execution_count": 44,
   "metadata": {},
   "outputs": [
    {
     "name": "stdout",
     "output_type": "stream",
     "text": [
      "Using k value in kNN -  51\n",
      "Train accuracy for optimal kNN using BOW 73.3\n",
      "Test accuracy for optimal kNN using BOW 71.25\n"
     ]
    },
    {
     "data": {
      "image/png": "[encoded data removed]",
      "text/plain": [
       "<Figure size 432x288 with 1 Axes>"
      ]
     },
     "metadata": {
      "needs_background": "light"
     },
     "output_type": "display_data"
    }
   ],
   "source": [
    "# training the optimal KNeighbourClassifier using optimal number of neighbours for BOW vectors\n",
    "knn_optimal_bow = KNeighborsClassifier(n_neighbors=optimalK_bow, algorithm='brute')\n",
    "knn_optimal_bow.fit(bow_train, rs_train)\n",
    "\n",
    "# Prediction on training and test set using optimal\n",
    "pred_bow_train = knn_optimal_bow.predict(bow_train)\n",
    "pred_bow_test = knn_optimal_bow.predict(bow_test)\n",
    "print(\"Using k value in kNN - \", optimalK_bow)\n",
    "print(\"Train accuracy for optimal kNN using BOW\", round(accuracy_score(rs_train, pred_bow_train)*100, 2))\n",
    "print(\"Test accuracy for optimal kNN using BOW\", round(accuracy_score(rs_test, pred_bow_test) * 100, 2))\n",
    "\n",
    "# ROC-AUC on train & test data\n",
    "train_fpr, train_tpr, thresholds = roc_curve(rs_train, knn_optimal_bow.predict_proba(bow_train)[:, 1], pos_label=1)\n",
    "test_fpr, test_tpr, thresholds = roc_curve(rs_test, knn_optimal_bow.predict_proba(bow_test)[:, 1], pos_label=1)\n",
    "# Draw ROC curve\n",
    "plt.plot(train_fpr, train_tpr, label=\"Train AUC = \"+str(round(auc(train_fpr, train_tpr), 2)))\n",
    "auc_score = round(auc(test_fpr, test_tpr), 2)\n",
    "plt.plot(test_fpr, test_tpr, label=\"Test AUC = \"+str(auc_score))\n",
    "plt.legend()\n",
    "plt.xlabel(\"False Pos Rate\")\n",
    "plt.ylabel(\"True Pos Rate\")\n",
    "plt.title(\"ROC Curve of Train and Test\")\n",
    "plt.show()"
   ]
  },
  {
   "cell_type": "code",
   "execution_count": 45,
   "metadata": {},
   "outputs": [
    {
     "name": "stdout",
     "output_type": "stream",
     "text": [
      "Training Confusion Matrix\n"
     ]
    },
    {
     "data": {
      "image/png": "[encoded data removed]",
      "text/plain": [
       "<Figure size 432x288 with 2 Axes>"
      ]
     },
     "metadata": {
      "needs_background": "light"
     },
     "output_type": "display_data"
    },
    {
     "name": "stdout",
     "output_type": "stream",
     "text": [
      "\n",
      "\n",
      "\n",
      "Test Confusion Matrix\n"
     ]
    },
    {
     "data": {
      "image/png": "[encoded data removed]",
      "text/plain": [
       "<Figure size 432x288 with 2 Axes>"
      ]
     },
     "metadata": {
      "needs_background": "light"
     },
     "output_type": "display_data"
    }
   ],
   "source": [
    "print(\"Training Confusion Matrix\")\n",
    "draw_Confusion_Matrix(rs_train, pred_bow_train)\n",
    "print('\\n\\n')\n",
    "\n",
    "print(\"Test Confusion Matrix\")\n",
    "draw_Confusion_Matrix(rs_test, pred_bow_test)\n",
    "table.add_row([\"BOW\", \"Brute\", optimalK_bow, auc_score])"
   ]
  },
  {
   "cell_type": "code",
   "execution_count": 46,
   "metadata": {},
   "outputs": [
    {
     "name": "stdout",
     "output_type": "stream",
     "text": [
      "              precision    recall  f1-score   support\n",
      "\n",
      "           0       0.70      0.68      0.69      4064\n",
      "           1       0.73      0.74      0.73      4628\n",
      "\n",
      "   micro avg       0.71      0.71      0.71      8692\n",
      "   macro avg       0.71      0.71      0.71      8692\n",
      "weighted avg       0.71      0.71      0.71      8692\n",
      "\n"
     ]
    }
   ],
   "source": [
    "# Classification report \n",
    "print(classification_report(rs_test, pred_bow_test))"
   ]
  },
  {
   "cell_type": "markdown",
   "metadata": {},
   "source": [
    "# Observations\n",
    "\n",
    "- We use the cross validation method on ROC-AUC curve to get the optimal value of k for brute force approach K-Nearest Neighbour. It is found to be 51 for BOW vectors \n",
    "\n",
    "\n",
    "- The training accuracy for this value of k comes is 73.3, whereas test accuracy on the test data is 71.25. It shows the model is though not very accurate, but fairly balanced and tuned.\n",
    "\n",
    "\n",
    "- In the confusion matrix the total test datasets are calculated as: <br>\n",
    "            True Positives + False Postives + True Negatives + False Negatives\n",
    "  which are calculated as 3411+1282+2782+1217 = 8692 (our actual number of test data sets)\n",
    "\n",
    "\n",
    "- Overall model accuracy is : (True Positives + True Negatives) / Total, which is (3411+2782)/8692 ~71.2% as per our recorded observation\n",
    "\n",
    "\n",
    "- The overall misclassification rate or, error rate is : (False Positives + False Negative) / Total, which is (1282+1217)/8692 ~ 28.7%\n",
    "\n",
    "\n",
    "- Precision is defined as, how often is the model correct when it predicts something as positive. It is calculated as:\n",
    "        True Positives/ (True Positives + False Positive) = 3411/(3411+1282) ~ 0.72\n",
    "        \n",
    "  Recall is defined as, how much of the positive class data in the whole dataset is the model able to recall correctly. It is also called True Postive Rate(TPR). It is also calculated as:\n",
    "  \n",
    "        True Positives/ (True Positives + False Negatives) = 3411/(3411+1217) ~ 0.73\n",
    "        \n",
    "  Specificity(also called True Negative Rate) signifies as how correctly the model can correctly identify the data for negative classes. \n",
    "  \n",
    "        True Negatives/ (True Negatives + False Positives) = 2782/(2782+1282) ~ 0.68\n",
    "        \n",
    "  False Positive Rate : How often does the model predicts Positives for negatives classes. It is calculated as :\n",
    "  \n",
    "        False Positives/ (True Negatives + False Positives) = 1282/(2782+1282) ~ 0.31\n",
    "  \n",
    "  All the figures are consistent with our observations\n",
    "\n",
    "\n",
    "- F1-score : This is a single metric to combine the Precision and Recall values. It is calculated by taking their harmonic mean. The F1-Score figures tell us the model if slightly off for negative classes.\n",
    "        \n",
    "- Support : This is the actual number of data points in each of the classes\n",
    "\n",
    "\n",
    "- Notable Points :\n",
    "\n",
    "    - For increasing value of K, we see that : the classification error decreases. Also, the AUC score for test data increases and the accuracy curve improves. All these points signify the model to be working good, although the accuracy is not that good.\n",
    "    \n",
    "    - Also, from the confusion matrix we see that though the F1-Score for Positive class is good, but it is pretty bad for Negative class due to very high False Negative Rate. Evidently, the model is very bad in recognising negative class of data. "
   ]
  },
  {
   "cell_type": "markdown",
   "metadata": {},
   "source": [
    "### [5.1.2] Applying KNN brute force on TFIDF,<font color='red'> SET 2</font>"
   ]
  },
  {
   "cell_type": "code",
   "execution_count": 47,
   "metadata": {},
   "outputs": [
    {
     "name": "stdout",
     "output_type": "stream",
     "text": [
      "Progress : 100%        \n"
     ]
    },
    {
     "data": {
      "image/png": "[encoded data removed]",
      "text/plain": [
       "<Figure size 720x576 with 1 Axes>"
      ]
     },
     "metadata": {
      "needs_background": "light"
     },
     "output_type": "display_data"
    },
    {
     "name": "stdout",
     "output_type": "stream",
     "text": [
      "1\n",
      "Optimal K value for Tf-IDF is :  5\n"
     ]
    }
   ],
   "source": [
    "optimalK_tfIdf = knn_classifier(tfIdf_train, rs_train, tfIdf_cv, rs_cv, 'brute')\n",
    "print(\"Optimal K value for Tf-IDF is : \", optimalK_tfIdf)"
   ]
  },
  {
   "cell_type": "code",
   "execution_count": 49,
   "metadata": {},
   "outputs": [
    {
     "name": "stdout",
     "output_type": "stream",
     "text": [
      "Using k value in kNN -  5\n",
      "Train accuracy for optimal kNN using TFIDF 75.64\n",
      "Test accuracy for optimal kNN using TFIDF 60.48\n"
     ]
    },
    {
     "data": {
      "image/png": "[encoded data removed]",
      "text/plain": [
       "<Figure size 432x288 with 1 Axes>"
      ]
     },
     "metadata": {
      "needs_background": "light"
     },
     "output_type": "display_data"
    }
   ],
   "source": [
    "# training the optimal KNeighbourClassifier using optimal number of neighbours for TFIDF vectors\n",
    "knn_optimal_tf = KNeighborsClassifier(n_neighbors=optimalK_tfIdf, algorithm='brute')\n",
    "knn_optimal_tf.fit(tfIdf_train, rs_train)\n",
    "\n",
    "# Prediction on training and test set using optimal\n",
    "pred_tfIdf_train = knn_optimal_tf.predict(tfIdf_train)\n",
    "pred_tfIdf_test = knn_optimal_tf.predict(tfIdf_test)\n",
    "print(\"Using k value in kNN - \", optimalK_tfIdf)\n",
    "print(\"Train accuracy for optimal kNN using TFIDF\", round(accuracy_score(rs_train, pred_tfIdf_train)*100, 2))\n",
    "print(\"Test accuracy for optimal kNN using TFIDF\", round(accuracy_score(rs_test, pred_tfIdf_test) * 100, 2))\n",
    "\n",
    "# ROC-AUC on train & test data\n",
    "train_fpr, train_tpr, thresholds = roc_curve(rs_train, knn_optimal_tf.predict_proba(tfIdf_train)[:, 1])\n",
    "test_fpr, test_tpr, thresholds = roc_curve(rs_test, knn_optimal_tf.predict_proba(tfIdf_test)[:, 1])\n",
    "# Draw ROC curve\n",
    "plt.plot(train_fpr, train_tpr, label=\"Train AUC =\"+str(round(auc(train_fpr, train_tpr), 2)))\n",
    "auc_score = round(auc(test_fpr, test_tpr), 2)\n",
    "plt.plot(test_fpr, test_tpr, label=\"Test AUC =\"+str(auc_score))\n",
    "plt.legend()\n",
    "plt.xlabel(\"False Pos Rate\")\n",
    "plt.ylabel(\"True Pos Rate\")\n",
    "plt.title(\"ROC Curve of Train and Test\")\n",
    "plt.show()"
   ]
  },
  {
   "cell_type": "code",
   "execution_count": 50,
   "metadata": {},
   "outputs": [
    {
     "name": "stdout",
     "output_type": "stream",
     "text": [
      "Training Confusion Matrix\n"
     ]
    },
    {
     "data": {
      "image/png": "[encoded data removed]",
      "text/plain": [
       "<Figure size 432x288 with 2 Axes>"
      ]
     },
     "metadata": {
      "needs_background": "light"
     },
     "output_type": "display_data"
    },
    {
     "name": "stdout",
     "output_type": "stream",
     "text": [
      "\n",
      "\n",
      "\n",
      "Test Confusion Matrix\n"
     ]
    },
    {
     "data": {
      "image/png": "[encoded data removed]",
      "text/plain": [
       "<Figure size 432x288 with 2 Axes>"
      ]
     },
     "metadata": {
      "needs_background": "light"
     },
     "output_type": "display_data"
    }
   ],
   "source": [
    "print(\"Training Confusion Matrix\")\n",
    "draw_Confusion_Matrix(rs_train, pred_tfIdf_train)\n",
    "print('\\n\\n')\n",
    "\n",
    "print(\"Test Confusion Matrix\")\n",
    "draw_Confusion_Matrix(rs_test, pred_tfIdf_test)\n",
    "table.add_row([\"Tf-Idf\", \"Brute\", optimalK_tfIdf, auc_score])"
   ]
  },
  {
   "cell_type": "code",
   "execution_count": 51,
   "metadata": {},
   "outputs": [
    {
     "name": "stdout",
     "output_type": "stream",
     "text": [
      "              precision    recall  f1-score   support\n",
      "\n",
      "           0       0.59      0.53      0.56      4064\n",
      "           1       0.62      0.67      0.64      4628\n",
      "\n",
      "   micro avg       0.60      0.60      0.60      8692\n",
      "   macro avg       0.60      0.60      0.60      8692\n",
      "weighted avg       0.60      0.60      0.60      8692\n",
      "\n"
     ]
    }
   ],
   "source": [
    "# Classification report \n",
    "print(classification_report(rs_test, pred_tfIdf_test))"
   ]
  },
  {
   "cell_type": "markdown",
   "metadata": {},
   "source": [
    "# Observations\n",
    "\n",
    "- We use the cross validation method on ROC-AUC curve to get the optimal value of k for brute force approach K-Nearest Neighbour. It is found to be 5 for tf-IDF vectors \n",
    "\n",
    "\n",
    "- The training accuracy for this value of k comes is 75.64, whereas test accuracy on the test data is 60.48. It shows the model is though not very accurate, but fairly balanced and tuned. It is, however, not better than the model working on BOW vectors.\n",
    "\n",
    "\n",
    "- In the confusion matrix the total test datasets are calculated as: <br>\n",
    "            True Positives + False Postives + True Negatives + False Negatives\n",
    "  which are calculated as 3108+1915+2149+1520 = 8692 (our actual number of test data sets)\n",
    "\n",
    "\n",
    "- Overall model accuracy is : (True Positives + True Negatives) / Total, which is (3108+2149)/8692 ~60.4% as per our recorded observation\n",
    "\n",
    "\n",
    "- Notable Points :\n",
    "\n",
    "    - The value of K, decreases drastically for Tf-IDF vectors. Also, the test accuracy decreases drastically.\n",
    "    \n",
    "    - Also, from the confusion matrix and classification report we see that the F1-Score are really off for both positive and negative classes, as the False Positives and False Negatives have increased compared to the model using BOW."
   ]
  },
  {
   "cell_type": "markdown",
   "metadata": {},
   "source": [
    "### [5.1.3] Applying KNN brute force on AVG W2V,<font color='red'> SET 3</font>"
   ]
  },
  {
   "cell_type": "code",
   "execution_count": 52,
   "metadata": {},
   "outputs": [
    {
     "name": "stdout",
     "output_type": "stream",
     "text": [
      "Progress : 100%        \n"
     ]
    },
    {
     "data": {
      "image/png": "[encoded data removed]",
      "text/plain": [
       "<Figure size 720x576 with 1 Axes>"
      ]
     },
     "metadata": {
      "needs_background": "light"
     },
     "output_type": "display_data"
    },
    {
     "name": "stdout",
     "output_type": "stream",
     "text": [
      "7\n",
      "Optimal K value for Avg W2V is :  51\n"
     ]
    }
   ],
   "source": [
    "# Please write all the code with proper documentation\n",
    "optimalK_avgWV = knn_classifier(avgWV_vect_train, rs_train, avgWV_vect_cv, rs_cv, 'brute')\n",
    "print(\"Optimal K value for Avg W2V is : \", optimalK_avgWV)"
   ]
  },
  {
   "cell_type": "code",
   "execution_count": 53,
   "metadata": {},
   "outputs": [
    {
     "name": "stdout",
     "output_type": "stream",
     "text": [
      "Using k value in kNN -  51\n",
      "Train accuracy for optimal kNN using AvgW2V 83.39\n",
      "Test accuracy for optimal kNN using AvgW2V 81.81\n"
     ]
    },
    {
     "data": {
      "image/png": "[encoded data removed]",
      "text/plain": [
       "<Figure size 432x288 with 1 Axes>"
      ]
     },
     "metadata": {
      "needs_background": "light"
     },
     "output_type": "display_data"
    }
   ],
   "source": [
    "# training the optimal KNeighbourClassifier using optimal number of neighbours for Avg W2V vectors\n",
    "knn_optimal_avw2v = KNeighborsClassifier(n_neighbors=optimalK_avgWV, algorithm='brute')\n",
    "knn_optimal_avw2v.fit(avgWV_vect_train, rs_train)\n",
    "\n",
    "# Prediction on training and test set using optimal\n",
    "pred_avw2v_train = knn_optimal_avw2v.predict(avgWV_vect_train)\n",
    "pred_avw2v_test = knn_optimal_avw2v.predict(avgWV_vect_test)\n",
    "print(\"Using k value in kNN - \", optimalK_avgWV)\n",
    "print(\"Train accuracy for optimal kNN using AvgW2V\", round(accuracy_score(rs_train, pred_avw2v_train)*100, 2))\n",
    "print(\"Test accuracy for optimal kNN using AvgW2V\", round(accuracy_score(rs_test, pred_avw2v_test) * 100, 2))\n",
    "\n",
    "# ROC-AUC on train & test data\n",
    "train_fpr, train_tpr, thresholds = roc_curve(rs_train, knn_optimal_avw2v.predict_proba(avgWV_vect_train)[:, 1])\n",
    "test_fpr, test_tpr, thresholds = roc_curve(rs_test, knn_optimal_avw2v.predict_proba(avgWV_vect_test)[:, 1])\n",
    "# Draw ROC curve\n",
    "plt.plot(train_fpr, train_tpr, label=\"Train AUC =\"+str(round(auc(train_fpr, train_tpr), 2)))\n",
    "auc_score = round(auc(test_fpr, test_tpr), 2)\n",
    "plt.plot(test_fpr, test_tpr, label=\"Test AUC =\"+str(auc_score))\n",
    "plt.legend()\n",
    "plt.xlabel(\"False Pos Rate\")\n",
    "plt.ylabel(\"True Pos Rate\")\n",
    "plt.title(\"ROC Curve of Train and Test\")\n",
    "plt.show()"
   ]
  },
  {
   "cell_type": "code",
   "execution_count": 54,
   "metadata": {},
   "outputs": [
    {
     "name": "stdout",
     "output_type": "stream",
     "text": [
      "Training Confusion Matrix\n"
     ]
    },
    {
     "data": {
      "image/png": "[encoded data removed]",
      "text/plain": [
       "<Figure size 432x288 with 2 Axes>"
      ]
     },
     "metadata": {
      "needs_background": "light"
     },
     "output_type": "display_data"
    },
    {
     "name": "stdout",
     "output_type": "stream",
     "text": [
      "\n",
      "\n",
      "\n",
      "Test Confusion Matrix\n"
     ]
    },
    {
     "data": {
      "image/png": "[encoded data removed]",
      "text/plain": [
       "<Figure size 432x288 with 2 Axes>"
      ]
     },
     "metadata": {
      "needs_background": "light"
     },
     "output_type": "display_data"
    }
   ],
   "source": [
    "print(\"Training Confusion Matrix\")\n",
    "draw_Confusion_Matrix(rs_train, pred_avw2v_train)\n",
    "print('\\n\\n')\n",
    "\n",
    "print(\"Test Confusion Matrix\")\n",
    "draw_Confusion_Matrix(rs_test, pred_avw2v_test)\n",
    "table.add_row([\"Avg Word2Vec\", \"Brute\", optimalK_avgWV, auc_score])"
   ]
  },
  {
   "cell_type": "code",
   "execution_count": 55,
   "metadata": {},
   "outputs": [
    {
     "name": "stdout",
     "output_type": "stream",
     "text": [
      "              precision    recall  f1-score   support\n",
      "\n",
      "           0       0.80      0.82      0.81      4064\n",
      "           1       0.84      0.82      0.83      4628\n",
      "\n",
      "   micro avg       0.82      0.82      0.82      8692\n",
      "   macro avg       0.82      0.82      0.82      8692\n",
      "weighted avg       0.82      0.82      0.82      8692\n",
      "\n"
     ]
    }
   ],
   "source": [
    "# Classification report \n",
    "print(classification_report(rs_test, pred_avw2v_test))"
   ]
  },
  {
   "cell_type": "markdown",
   "metadata": {},
   "source": [
    "# Observations\n",
    "\n",
    "- We use the cross validation method on ROC-AUC curve to get the optimal value of k for brute force approach K-Nearest Neighbour. It is found to be 51 for Average Word2Vec vectors \n",
    "\n",
    "\n",
    "- The training accuracy for this value of k comes is 83.33%, whereas test accuracy on the unseen data is 81.67%. It shows the model is quite accurate, also fairly balanced and tuned. It is a good improvement against BOW model and also better than tf-IDF model, but we will analyse further.\n",
    "\n",
    "\n",
    "- In the confusion matrix the total test datasets are calculated as: <br>\n",
    "            True Positives + False Postives + True Negatives + False Negatives\n",
    "  which are calculated as 3751+716+3348+877 = 8692 (our actual number of test data sets)\n",
    "\n",
    "\n",
    "- Overall model accuracy is : (True Positives + True Negatives) / Total, which is (3751+3348)/8692 ~81.6% as per our recorded observation\n",
    "\n",
    "\n",
    "- Notable Points :\n",
    "\n",
    "    - The K value, again spikes back to 51. Also, the AUC score for test data increases. We observe a much smoother and gradual curves as compared to the traditional BOW and Tf-IDF models.\n",
    "    \n",
    "    - From the confusion matrix, we observe that the false positives and false negatives have largely reduced. So, overall this model is a good improvement over the ones using BOW and tf-IDF vectors.\n",
    "    \n",
    "    - The F1-Scores show a good improvement here."
   ]
  },
  {
   "cell_type": "markdown",
   "metadata": {},
   "source": [
    "### [5.1.4] Applying KNN brute force on TFIDF W2V,<font color='red'> SET 4</font>"
   ]
  },
  {
   "cell_type": "code",
   "execution_count": 56,
   "metadata": {},
   "outputs": [
    {
     "name": "stdout",
     "output_type": "stream",
     "text": [
      "Progress : 100%        \n"
     ]
    },
    {
     "data": {
      "image/png": "[encoded data removed]",
      "text/plain": [
       "<Figure size 720x576 with 1 Axes>"
      ]
     },
     "metadata": {
      "needs_background": "light"
     },
     "output_type": "display_data"
    },
    {
     "name": "stdout",
     "output_type": "stream",
     "text": [
      "7\n",
      "Optimal K value for Tf-IDF W2V is :  51\n"
     ]
    }
   ],
   "source": [
    "# Please write all the code with proper documentation\n",
    "optimalK_tfIdfWV = knn_classifier(tfIdfWV_vect_train, rs_train, tfIdfWV_vect_cv, rs_cv, 'brute')\n",
    "print(\"Optimal K value for Tf-IDF W2V is : \", optimalK_tfIdfWV)"
   ]
  },
  {
   "cell_type": "code",
   "execution_count": 60,
   "metadata": {},
   "outputs": [
    {
     "name": "stdout",
     "output_type": "stream",
     "text": [
      "Using k value in kNN -  51\n",
      "Train accuracy for optimal kNN using TfIDF-W2V 78.46\n",
      "Test accuracy for optimal kNN using TfIDF-W2V 76.71\n"
     ]
    },
    {
     "data": {
      "image/png": "[encoded data removed]",
      "text/plain": [
       "<Figure size 432x288 with 1 Axes>"
      ]
     },
     "metadata": {
      "needs_background": "light"
     },
     "output_type": "display_data"
    }
   ],
   "source": [
    "# training the optimal KNeighbourClassifier using optimal number of neighbours for TFIDF-W2V vectors\n",
    "knn_optimal_tfIdfWV = KNeighborsClassifier(n_neighbors=optimalK_tfIdfWV, algorithm='brute')\n",
    "knn_optimal_tfIdfWV.fit(tfIdfWV_vect_train, rs_train)\n",
    "\n",
    "# Prediction on training and test set using optimal\n",
    "pred_tfIdfWV_train = knn_optimal_tfIdfWV.predict(tfIdfWV_vect_train)\n",
    "pred_tfIdfWV_test = knn_optimal_tfIdfWV.predict(tfIdfWV_vect_test)\n",
    "print(\"Using k value in kNN - \", optimalK_tfIdfWV)\n",
    "print(\"Train accuracy for optimal kNN using TfIDF-W2V\", round(accuracy_score(rs_train, pred_tfIdfWV_train)*100, 2))\n",
    "print(\"Test accuracy for optimal kNN using TfIDF-W2V\", round(accuracy_score(rs_test, pred_tfIdfWV_test) * 100, 2))\n",
    "\n",
    "# ROC-AUC on train & test data\n",
    "train_fpr, train_tpr, thresholds = roc_curve(rs_train, knn_optimal_tfIdfWV.predict_proba(tfIdfWV_vect_train)[:, 1])\n",
    "test_fpr, test_tpr, thresholds = roc_curve(rs_test, knn_optimal_tfIdfWV.predict_proba(tfIdfWV_vect_test)[:, 1])\n",
    "# Draw ROC curve\n",
    "plt.plot(train_fpr, train_tpr, label=\"Train AUC =\"+str(round(auc(train_fpr, train_tpr), 2)))\n",
    "auc_score = round(auc(test_fpr, test_tpr), 2)\n",
    "plt.plot(test_fpr, test_tpr, label=\"Test AUC =\"+str(auc_score))\n",
    "plt.legend()\n",
    "plt.xlabel(\"False Pos Rate\")\n",
    "plt.ylabel(\"True Pos Rate\")\n",
    "plt.title(\"ROC Curve of Train and Test\")\n",
    "plt.show()"
   ]
  },
  {
   "cell_type": "code",
   "execution_count": 61,
   "metadata": {},
   "outputs": [
    {
     "name": "stdout",
     "output_type": "stream",
     "text": [
      "Training Confusion Matrix\n"
     ]
    },
    {
     "data": {
      "image/png": "[encoded data removed]",
      "text/plain": [
       "<Figure size 432x288 with 2 Axes>"
      ]
     },
     "metadata": {
      "needs_background": "light"
     },
     "output_type": "display_data"
    },
    {
     "name": "stdout",
     "output_type": "stream",
     "text": [
      "\n",
      "\n",
      "\n",
      "Test Confusion Matrix\n"
     ]
    },
    {
     "data": {
      "image/png": "[encoded data removed]",
      "text/plain": [
       "<Figure size 432x288 with 2 Axes>"
      ]
     },
     "metadata": {
      "needs_background": "light"
     },
     "output_type": "display_data"
    }
   ],
   "source": [
    "print(\"Training Confusion Matrix\")\n",
    "draw_Confusion_Matrix(rs_train, pred_tfIdfWV_train)\n",
    "print('\\n\\n')\n",
    "\n",
    "print(\"Test Confusion Matrix\")\n",
    "draw_Confusion_Matrix(rs_test, pred_tfIdfWV_test)\n",
    "table.add_row([\"Tf-IDF Word2Vec\", \"Brute\", optimalK_tfIdfWV, auc_score])"
   ]
  },
  {
   "cell_type": "code",
   "execution_count": 62,
   "metadata": {},
   "outputs": [
    {
     "name": "stdout",
     "output_type": "stream",
     "text": [
      "              precision    recall  f1-score   support\n",
      "\n",
      "           0       0.76      0.74      0.75      4064\n",
      "           1       0.78      0.79      0.78      4628\n",
      "\n",
      "   micro avg       0.77      0.77      0.77      8692\n",
      "   macro avg       0.77      0.77      0.77      8692\n",
      "weighted avg       0.77      0.77      0.77      8692\n",
      "\n"
     ]
    }
   ],
   "source": [
    "# Classification report \n",
    "print(classification_report(rs_test, pred_tfIdfWV_test))"
   ]
  },
  {
   "cell_type": "markdown",
   "metadata": {},
   "source": [
    "# Observations\n",
    "\n",
    "- We use the cross validation method on ROC-AUC curve to get the optimal value of k for brute force approach K-Nearest Neighbour. It is found to be 51 for Tf-IDF weighted Word2Vec vectors \n",
    "\n",
    "\n",
    "- The training accuracy for this value of k comes is 78.4%, whereas test accuracy on the unseen data is 76.9%. It shows the model is though not very accurate, but fairly balanced and tuned. It is a good improvement against Tf-IDF model and almost equal to BOW model, if we only consider the accuracy scores, but we will analyse further.\n",
    "\n",
    "\n",
    "- In the confusion matrix the total test datasets are calculated as: <br>\n",
    "            True Positives + False Postives + True Negatives + False Negatives\n",
    "  which are calculated as 3659+1039+3025+969 = 8692 (our actual number of test data sets)\n",
    "\n",
    "\n",
    "- Overall model accuracy is : (True Positives + True Negatives) / Total, which is (3659+3025)/8692 ~76.8% on unseen data as per our recorded observation\n",
    "\n",
    "\n",
    "- Notable Points :\n",
    "\n",
    "    - The value of K remains same. Also, the AUC score for test data decreases compared to the average Tf-IDF, but it is better compared to others. \n",
    "    \n",
    "    - From the confusion matrix, we can infer that this model is improvement over the ones using BOW and Tf-IDF but not much better than simple Word2Vec."
   ]
  },
  {
   "cell_type": "markdown",
   "metadata": {},
   "source": [
    "## [5.2] Applying KNN kd-tree"
   ]
  },
  {
   "cell_type": "code",
   "execution_count": 24,
   "metadata": {},
   "outputs": [
    {
     "name": "stderr",
     "output_type": "stream",
     "text": [
      "100%|██████████| 20000/20000 [00:07<00:00, 2790.54it/s]\n"
     ]
    }
   ],
   "source": [
    "# Taking 20k datapoints for kd-Tree\n",
    "\n",
    "# Combining all the above stundents \n",
    "from tqdm import tqdm\n",
    "preprocessed_reviews = []\n",
    "review_score = []    # Storing score for later\n",
    "# tqdm is for printing the status bar\n",
    "for sentence, score in tqdm(final[['Text', 'Score']].values[:20000]):\n",
    "    sentence = re.sub(r\"http\\S+\", \"\", sentence)\n",
    "    sentence = BeautifulSoup(sentence, 'lxml').get_text()\n",
    "    sentence = decontracted(sentence)\n",
    "    sentence = re.sub(\"\\S*\\d\\S*\", \"\", sentence).strip()\n",
    "    sentence = re.sub('[^A-Za-z0-9]+', ' ', sentence)   # adding 0-9 in the regex\n",
    "    # https://gist.github.com/sebleier/554280\n",
    "    sentence = ' '.join(e.lower() for e in sentence.split() if e.lower() not in stopwords)\n",
    "    preprocessed_reviews.append(sentence.strip())\n",
    "    review_score.append(score)"
   ]
  },
  {
   "cell_type": "code",
   "execution_count": 32,
   "metadata": {},
   "outputs": [
    {
     "name": "stdout",
     "output_type": "stream",
     "text": [
      "Total training features :  500\n",
      "some feature names  ['able', 'absolutely', 'actually', 'add', 'added', 'ago', 'almost', 'also', 'although', 'always']\n",
      "==================================================\n",
      "\n",
      "Shapes After Vectorization \n",
      "(13400, 500) 13400\n",
      "(3300, 500) 3300\n",
      "(3300, 500) 3300\n",
      "Unique words in training :  500\n"
     ]
    }
   ],
   "source": [
    "#BoW\n",
    "# this is random splitting into train, test and cross validation set\n",
    "ppReview_train, ppReview_test, rs_train, rs_test = train_test_split(preprocessed_reviews, review_score, \n",
    "                                                                    test_size=0.33, random_state = 0) \n",
    "ppReview_cv, ppReview_test, rs_cv, rs_test = train_test_split(ppReview_test, rs_test, test_size=0.50, \n",
    "                                                              random_state=0)\n",
    "count_vect = CountVectorizer(min_df=10, max_features=500)    #in scikit-learn\n",
    "count_vect.fit(ppReview_train)    # fitting done only on training set\n",
    "print(\"Total training features : \", len(count_vect.get_feature_names()))\n",
    "print(\"some feature names \", count_vect.get_feature_names()[:10])\n",
    "\n",
    "print('='*50)\n",
    "\n",
    "bow_train = count_vect.transform(ppReview_train)\n",
    "bow_cv = count_vect.transform(ppReview_cv)\n",
    "bow_test = count_vect.transform(ppReview_test)\n",
    "\n",
    "print(\"\\nShapes After Vectorization \")\n",
    "print(bow_train.shape, len(rs_train))\n",
    "print(bow_cv.shape, len(rs_cv))\n",
    "print(bow_test.shape, len(rs_test))\n",
    "print(\"Unique words in training : \", bow_train.get_shape()[1])"
   ]
  },
  {
   "cell_type": "markdown",
   "metadata": {},
   "source": [
    "### [5.2.1] Applying KNN kd-tree on BOW,<font color='red'> SET 5</font>"
   ]
  },
  {
   "cell_type": "code",
   "execution_count": 36,
   "metadata": {},
   "outputs": [
    {
     "name": "stdout",
     "output_type": "stream",
     "text": [
      "Progress : 1%   \r"
     ]
    },
    {
     "name": "stderr",
     "output_type": "stream",
     "text": [
      "/home/prince/anaconda3/envs/mainEnv/lib/python3.6/site-packages/sklearn/utils/validation.py:595: DataConversionWarning: Data with input dtype int64 was converted to float64 by StandardScaler.\n",
      "  warnings.warn(msg, DataConversionWarning)\n",
      "/home/prince/anaconda3/envs/mainEnv/lib/python3.6/site-packages/sklearn/utils/validation.py:595: DataConversionWarning: Data with input dtype int64 was converted to float64 by StandardScaler.\n",
      "  warnings.warn(msg, DataConversionWarning)\n",
      "/home/prince/anaconda3/envs/mainEnv/lib/python3.6/site-packages/sklearn/utils/validation.py:595: DataConversionWarning: Data with input dtype int64 was converted to float64 by StandardScaler.\n",
      "  warnings.warn(msg, DataConversionWarning)\n"
     ]
    },
    {
     "name": "stdout",
     "output_type": "stream",
     "text": [
      "Progress : 100%        \n"
     ]
    },
    {
     "data": {
      "image/png": "[encoded data removed]",
      "text/plain": [
       "<Figure size 720x576 with 1 Axes>"
      ]
     },
     "metadata": {
      "needs_background": "light"
     },
     "output_type": "display_data"
    },
    {
     "name": "stdout",
     "output_type": "stream",
     "text": [
      "Optimal K value for BOW using kd-Tree algo is :  51\n"
     ]
    }
   ],
   "source": [
    "optimalK_bow_kdt = knn_classifier(bow_train.A, rs_train, bow_cv.A, rs_cv, 'kd_tree')\n",
    "print(\"Optimal K value for BOW using kd-Tree algo is : \", optimalK_bow_kdt)"
   ]
  },
  {
   "cell_type": "code",
   "execution_count": 37,
   "metadata": {},
   "outputs": [
    {
     "name": "stdout",
     "output_type": "stream",
     "text": [
      "Using k value in kNN -  51\n",
      "Train accuracy for optimal kNN using BOW 75.7\n",
      "Test accuracy for optimal kNN using BOW 71.12\n"
     ]
    },
    {
     "data": {
      "image/png": "[encoded data removed]",
      "text/plain": [
       "<Figure size 432x288 with 1 Axes>"
      ]
     },
     "metadata": {
      "needs_background": "light"
     },
     "output_type": "display_data"
    }
   ],
   "source": [
    "# training the optimal KNeighbourClassifier using optimal number of neighbours for BOW vectors\n",
    "knn_kdtOptimal_bow = KNeighborsClassifier(n_neighbors=optimalK_bow_kdt, algorithm='kd_tree')\n",
    "knn_kdtOptimal_bow.fit(bow_train.A, rs_train)\n",
    "\n",
    "# Prediction on training and test set using optimal\n",
    "pred_bow_kdt_train = knn_kdtOptimal_bow.predict(bow_train.A)\n",
    "pred_bow_kdt_test = knn_kdtOptimal_bow.predict(bow_test.A)\n",
    "print(\"Using k value in kNN - \", optimalK_bow_kdt)\n",
    "print(\"Train accuracy for optimal kNN using BOW\", round(accuracy_score(rs_train, pred_bow_kdt_train)*100, 2))\n",
    "print(\"Test accuracy for optimal kNN using BOW\", round(accuracy_score(rs_test, pred_bow_kdt_test) * 100, 2))\n",
    "\n",
    "# ROC-AUC on train & test data\n",
    "train_fpr, train_tpr, thresholds = roc_curve(rs_train, knn_kdtOptimal_bow.predict_proba(bow_train.A)[:, 1])\n",
    "test_fpr, test_tpr, thresholds = roc_curve(rs_test, knn_kdtOptimal_bow.predict_proba(bow_test.A)[:, 1])\n",
    "# Draw ROC curve\n",
    "plt.plot(train_fpr, train_tpr, label=\"Train AUC =\"+str(round(auc(train_fpr, train_tpr), 2)))\n",
    "auc_score = round(auc(test_fpr, test_tpr), 2)\n",
    "plt.plot(test_fpr, test_tpr, label=\"Test AUC =\"+str(auc_score))\n",
    "plt.legend()\n",
    "plt.xlabel(\"False Pos Rate\")\n",
    "plt.ylabel(\"True Pos Rate\")\n",
    "plt.title(\"ROC Curve of Train and Test\")\n",
    "plt.show()"
   ]
  },
  {
   "cell_type": "code",
   "execution_count": 38,
   "metadata": {},
   "outputs": [
    {
     "name": "stdout",
     "output_type": "stream",
     "text": [
      "Training Confusion Matrix\n"
     ]
    },
    {
     "data": {
      "image/png": "[encoded data removed]",
      "text/plain": [
       "<Figure size 432x288 with 2 Axes>"
      ]
     },
     "metadata": {
      "needs_background": "light"
     },
     "output_type": "display_data"
    },
    {
     "name": "stdout",
     "output_type": "stream",
     "text": [
      "\n",
      "\n",
      "\n",
      "Test Confusion Matrix\n"
     ]
    },
    {
     "data": {
      "image/png": "[encoded data removed]",
      "text/plain": [
       "<Figure size 432x288 with 2 Axes>"
      ]
     },
     "metadata": {
      "needs_background": "light"
     },
     "output_type": "display_data"
    }
   ],
   "source": [
    "# plot confusion matrix to describe the performance of classifier.\n",
    "\n",
    "print(\"Training Confusion Matrix\")\n",
    "draw_Confusion_Matrix(rs_train, pred_bow_kdt_train)\n",
    "print('\\n\\n')\n",
    "\n",
    "print(\"Test Confusion Matrix\")\n",
    "draw_Confusion_Matrix(rs_test, pred_bow_kdt_test)\n",
    "table.add_row([\"BOW\", \"KD-Tree\", optimalK_bow_kdt, auc_score])"
   ]
  },
  {
   "cell_type": "code",
   "execution_count": 39,
   "metadata": {},
   "outputs": [
    {
     "name": "stdout",
     "output_type": "stream",
     "text": [
      "              precision    recall  f1-score   support\n",
      "\n",
      "           0       0.68      0.70      0.69      1535\n",
      "           1       0.74      0.72      0.73      1765\n",
      "\n",
      "   micro avg       0.71      0.71      0.71      3300\n",
      "   macro avg       0.71      0.71      0.71      3300\n",
      "weighted avg       0.71      0.71      0.71      3300\n",
      "\n"
     ]
    }
   ],
   "source": [
    "# Classification report \n",
    "print(classification_report(rs_test, pred_bow_kdt_test))"
   ]
  },
  {
   "cell_type": "markdown",
   "metadata": {},
   "source": [
    "# Observations\n",
    "\n",
    "- We use the cross validation method on ROC-AUC curve to get the optimal value of k for kd-Tree approach K-Nearest Neighbour. It is found to be 51 for BOW vectors \n",
    "\n",
    "\n",
    "- The training accuracy for this value of k comes is 75%, whereas test accuracy on the unseen data is 71%. The accuracy of the model increased slightly as compared to the model using brute force approach. Theoretically, the only difference in both is the way they are checking for the neighbours, and there should not be much accuracy difference between them.\n",
    "\n",
    "\n",
    "- In the confusion matrix the total test datasets are calculated as: <br>\n",
    "            True Positives + False Postives + True Negatives + False Negatives\n",
    "  which are calculated as 1266+454+1081+499 = 3300 (our actual number of test data sets)\n",
    "\n",
    "\n",
    "- Overall model accuracy is : (True Positives + True Negatives) / Total, which is (1266+1081)/3300 ~71.1% on unseen data as per our recorded observation\n",
    "\n",
    "\n",
    "- Notable Points :\n",
    "    \n",
    "    - From the confusion matrix, we can infer that this model is a fairly balanced and fine-tuned."
   ]
  },
  {
   "cell_type": "markdown",
   "metadata": {},
   "source": [
    "# [5.2.2] Applying KNN kd-tree on TFIDF,<font color='red'> SET 6</font>"
   ]
  },
  {
   "cell_type": "code",
   "execution_count": 40,
   "metadata": {},
   "outputs": [
    {
     "name": "stdout",
     "output_type": "stream",
     "text": [
      "Total training features :  500\n",
      "some feature names  ['able', 'absolutely', 'actually', 'add', 'added', 'ago', 'almost', 'also', 'although', 'always']\n",
      "==================================================\n",
      "\n",
      "Shapes After Vectorization \n",
      "(13400, 500) 13400\n",
      "(3300, 500) 3300\n",
      "(3300, 500) 3300\n",
      "Unique words in training :  500\n"
     ]
    }
   ],
   "source": [
    "#tf-IDF\n",
    "tf_idf_vect = TfidfVectorizer(ngram_range=(1,2), min_df=10, max_features=500)\n",
    "tf_idf_vect.fit(ppReview_train)\n",
    "print(\"Total training features : \", len(count_vect.get_feature_names()))\n",
    "print(\"some feature names \", tf_idf_vect.get_feature_names()[:10])\n",
    "print('='*50)\n",
    "\n",
    "tfIdf_train = tf_idf_vect.transform(ppReview_train)\n",
    "tfIdf_cv = tf_idf_vect.transform(ppReview_cv)\n",
    "tfIdf_test = tf_idf_vect.transform(ppReview_test)\n",
    "print(\"\\nShapes After Vectorization \")\n",
    "print(bow_train.shape, len(rs_train))\n",
    "print(bow_cv.shape, len(rs_cv))\n",
    "print(bow_test.shape, len(rs_test))\n",
    "print(\"Unique words in training : \", bow_train.get_shape()[1])"
   ]
  },
  {
   "cell_type": "code",
   "execution_count": 41,
   "metadata": {},
   "outputs": [
    {
     "name": "stdout",
     "output_type": "stream",
     "text": [
      "Progress : 100%        \n"
     ]
    },
    {
     "data": {
      "image/png": "[encoded data removed]",
      "text/plain": [
       "<Figure size 720x576 with 1 Axes>"
      ]
     },
     "metadata": {
      "needs_background": "light"
     },
     "output_type": "display_data"
    },
    {
     "name": "stdout",
     "output_type": "stream",
     "text": [
      "Optimal K value for Tf-IDF using kd-Tree algo is :  51\n"
     ]
    }
   ],
   "source": [
    "optimalK_tfIdf_kdt = knn_classifier(tfIdf_train.A, rs_train, tfIdf_cv.A, rs_cv, 'kd_tree')\n",
    "print(\"Optimal K value for Tf-IDF using kd-Tree algo is : \", optimalK_tfIdf_kdt)"
   ]
  },
  {
   "cell_type": "code",
   "execution_count": 42,
   "metadata": {},
   "outputs": [
    {
     "name": "stdout",
     "output_type": "stream",
     "text": [
      "Using k value in kNN -  51\n",
      "Train accuracy for optimal kNN using TFIDF 78.3\n",
      "Test accuracy for optimal kNN using TFIDF 70.0\n"
     ]
    },
    {
     "data": {
      "image/png": "[encoded data removed]",
      "text/plain": [
       "<Figure size 432x288 with 1 Axes>"
      ]
     },
     "metadata": {
      "needs_background": "light"
     },
     "output_type": "display_data"
    }
   ],
   "source": [
    "# training the optimal KNeighbourClassifier using optimal number of neighbours for TFIDF vectors\n",
    "knn_kdtOptimal_tf = KNeighborsClassifier(n_neighbors=optimalK_tfIdf_kdt, algorithm='kd_tree')\n",
    "knn_kdtOptimal_tf.fit(tfIdf_train.A, rs_train)\n",
    "\n",
    "# Prediction on training and test set using optimal\n",
    "pred_tfIdf_kdt_test = knn_kdtOptimal_tf.predict(tfIdf_test.A)\n",
    "pred_tfIdf_kdt_train = knn_kdtOptimal_tf.predict(tfIdf_train.A)\n",
    "print(\"Using k value in kNN - \", optimalK_tfIdf_kdt)\n",
    "print(\"Train accuracy for optimal kNN using TFIDF\", round(accuracy_score(rs_train, pred_tfIdf_kdt_train)*100, 2))\n",
    "print(\"Test accuracy for optimal kNN using TFIDF\", round(accuracy_score(rs_test, pred_tfIdf_kdt_test) * 100, 2))\n",
    "\n",
    "# ROC-AUC on train & test data\n",
    "train_fpr, train_tpr, thresholds = roc_curve(rs_train, knn_kdtOptimal_tf.predict_proba(tfIdf_train.A)[:, 1])\n",
    "test_fpr, test_tpr, thresholds = roc_curve(rs_test, knn_kdtOptimal_tf.predict_proba(tfIdf_test.A)[:, 1])\n",
    "# Draw ROC curve\n",
    "plt.plot(train_fpr, train_tpr, label=\"Train AUC = \"+str(round(auc(train_fpr, train_tpr), 2)))\n",
    "auc_score = round(auc(test_fpr, test_tpr), 2)\n",
    "plt.plot(test_fpr, test_tpr, label=\"Test AUC = \"+str(auc_score))\n",
    "plt.legend()\n",
    "plt.xlabel(\"False Pos Rate\")\n",
    "plt.ylabel(\"True Pos Rate\")\n",
    "plt.title(\"ROC Curve of Train and Test\")\n",
    "plt.show()"
   ]
  },
  {
   "cell_type": "code",
   "execution_count": 43,
   "metadata": {},
   "outputs": [
    {
     "name": "stdout",
     "output_type": "stream",
     "text": [
      "Training Confusion Matrix\n"
     ]
    },
    {
     "data": {
      "image/png": "[encoded data removed]",
      "text/plain": [
       "<Figure size 432x288 with 2 Axes>"
      ]
     },
     "metadata": {
      "needs_background": "light"
     },
     "output_type": "display_data"
    },
    {
     "name": "stdout",
     "output_type": "stream",
     "text": [
      "\n",
      "\n",
      "\n",
      "Test Confusion Matrix\n"
     ]
    },
    {
     "data": {
      "image/png": "[encoded data removed]",
      "text/plain": [
       "<Figure size 432x288 with 2 Axes>"
      ]
     },
     "metadata": {
      "needs_background": "light"
     },
     "output_type": "display_data"
    }
   ],
   "source": [
    "# plot confusion matrix to describe the performance of classifier.\n",
    "\n",
    "print(\"Training Confusion Matrix\")\n",
    "draw_Confusion_Matrix(rs_train, pred_tfIdf_kdt_train)\n",
    "print('\\n\\n')\n",
    "\n",
    "print(\"Test Confusion Matrix\")\n",
    "draw_Confusion_Matrix(rs_test, pred_tfIdf_kdt_test)\n",
    "table.add_row([\"Tf-Idf\", \"KD-Tree\", optimalK_tfIdf_kdt, auc_score])"
   ]
  },
  {
   "cell_type": "code",
   "execution_count": 44,
   "metadata": {},
   "outputs": [
    {
     "name": "stdout",
     "output_type": "stream",
     "text": [
      "              precision    recall  f1-score   support\n",
      "\n",
      "           0       0.78      0.50      0.61      1535\n",
      "           1       0.67      0.87      0.76      1765\n",
      "\n",
      "   micro avg       0.70      0.70      0.70      3300\n",
      "   macro avg       0.72      0.69      0.68      3300\n",
      "weighted avg       0.72      0.70      0.69      3300\n",
      "\n"
     ]
    }
   ],
   "source": [
    "# Classification report \n",
    "print(classification_report(rs_test, pred_tfIdf_kdt_test))"
   ]
  },
  {
   "cell_type": "markdown",
   "metadata": {},
   "source": [
    "#### Observations\n",
    "\n",
    "- We use the cross validation method on ROC-AUC curve to get the optimal value of k for kd-Tree approach K-Nearest Neighbour. It is found to be 51 for Tf-IDF vectors \n",
    "\n",
    "\n",
    "- The training accuracy for this value of k comes is 78.3%, whereas test accuracy on the unseen data is 70%. The accuracy of the model improved fairly as compared to the model using BOW vectors for same k-d Tree approach. Both are having the same approach and same number of features(500), so by the improvement shown by Tf-IDF vectors, we can safely conclude that Tf-IDF vectors are much better.\n",
    "\n",
    "- In the confusion matrix the total test datasets are calculated as: <br>\n",
    "            True Positives + False Postives + True Negatives + False Negatives\n",
    "  which are calculated as 1544+769+766+221 = 3300 (our actual number of test data sets)\n",
    "\n",
    "\n",
    "- Overall model accuracy is : (True Positives + True Negatives) / Total, which is (1544+766)/3300 ~70% on unseen data as per our recorded observation\n",
    "\n",
    "\n",
    "\n",
    "- Notable Points :\n",
    "\n",
    "    - The graph for the AUC and accuracy curves are very random, as we have less features and limited data due to hardware constranits. However, they are better compared to the model on BOW. \n",
    "    \n",
    "    - From the confusion matrix, we can infer after reading the F1-Score, that this model is a very bad predictor of the negative classes."
   ]
  },
  {
   "cell_type": "code",
   "execution_count": 50,
   "metadata": {},
   "outputs": [],
   "source": [
    "# Train your own Word2Vec model using your own text corpus\n",
    "i=0\n",
    "# list of sentences divide into train, test and cross validation set\n",
    "list_of_sentance_train=[sentance.split() for sentance in ppReview_train]\n",
    "list_of_sentance_cv=[sentance.split() for sentance in ppReview_cv]\n",
    "list_of_sentance_test=[sentance.split() for sentance in ppReview_test]"
   ]
  },
  {
   "cell_type": "code",
   "execution_count": 51,
   "metadata": {},
   "outputs": [
    {
     "name": "stdout",
     "output_type": "stream",
     "text": [
      "Working on training set\n",
      "Working on cross validation set\n",
      "Working on test set\n",
      "Sentences Vectors created..\n"
     ]
    }
   ],
   "source": [
    "sent_vectors_train, sent_vectors_test, sent_vectors_cv = [],[],[]\n",
    "for i, aset in enumerate([list_of_sentance_train, list_of_sentance_cv, list_of_sentance_test]):\n",
    "    if i==0:\n",
    "        print(\"Working on training set\")\n",
    "    elif i==1:\n",
    "        print(\"Working on cross validation set\")\n",
    "    elif i==2:\n",
    "        print(\"Working on test set\")\n",
    "    for sent in aset:\n",
    "        sent_vec = np.zeros(50) # as word vectors are of zero length 50\n",
    "        cnt_words =0; # num of words with a valid vector in the sentence/review\n",
    "        for word in sent: # for each word in a review/sentence\n",
    "            if word in w2v_words:\n",
    "                vec = w2v_model.wv[word]\n",
    "                sent_vec += vec\n",
    "                cnt_words += 1\n",
    "        if cnt_words != 0:\n",
    "            sent_vec /= cnt_words\n",
    "        if i==0:\n",
    "            sent_vectors_train.append(sent_vec)\n",
    "        elif i==1:\n",
    "            sent_vectors_cv.append(sent_vec)\n",
    "        elif i==2:\n",
    "            sent_vectors_test.append(sent_vec)\n",
    "            \n",
    "print(\"Sentences Vectors created..\")"
   ]
  },
  {
   "cell_type": "markdown",
   "metadata": {},
   "source": [
    "### [5.2.3] Applying KNN kd-tree on AVG W2V,<font color='red'> SET 3</font>"
   ]
  },
  {
   "cell_type": "code",
   "execution_count": 52,
   "metadata": {},
   "outputs": [
    {
     "name": "stdout",
     "output_type": "stream",
     "text": [
      "Total training features :  50\n",
      "==================================================\n",
      "\n",
      "Shapes After Vectorization \n",
      "Train Set : ( 13400 50 )\n",
      "Test Set : ( 3300 50 )\n",
      "CV Set : ( 3300 50 )\n"
     ]
    }
   ],
   "source": [
    "# Average Word2Vec\n",
    "\n",
    "avgWV_vect_train = sent_vectors_train\n",
    "avgWV_vect_cv = sent_vectors_cv\n",
    "avgWV_vect_test = sent_vectors_test\n",
    "print(\"Total training features : \", len(avgWV_vect_train[0]))\n",
    "print('='*50)\n",
    "\n",
    "print(\"\\nShapes After Vectorization \")\n",
    "print(\"Train Set : (\", len(avgWV_vect_train), len(avgWV_vect_train[0]), \")\")\n",
    "print(\"Test Set : (\", len(avgWV_vect_test), len(avgWV_vect_test[0]), \")\")\n",
    "print(\"CV Set : (\", len(avgWV_vect_cv), len(avgWV_vect_cv[0]), \")\")"
   ]
  },
  {
   "cell_type": "code",
   "execution_count": 53,
   "metadata": {},
   "outputs": [
    {
     "name": "stdout",
     "output_type": "stream",
     "text": [
      "Progress : 100%        \n"
     ]
    },
    {
     "data": {
      "image/png": "[encoded data removed]",
      "text/plain": [
       "<Figure size 720x576 with 1 Axes>"
      ]
     },
     "metadata": {
      "needs_background": "light"
     },
     "output_type": "display_data"
    },
    {
     "name": "stdout",
     "output_type": "stream",
     "text": [
      "Optimal K value for Avg W2V using kdTree algo is :  51\n"
     ]
    }
   ],
   "source": [
    "# Please write all the code with proper documentation\n",
    "optimalK_avgWV_kdt = knn_classifier(avgWV_vect_train, rs_train, avgWV_vect_cv, rs_cv, 'kd_tree')\n",
    "print(\"Optimal K value for Avg W2V using kdTree algo is : \", optimalK_avgWV_kdt)"
   ]
  },
  {
   "cell_type": "code",
   "execution_count": 54,
   "metadata": {},
   "outputs": [
    {
     "name": "stdout",
     "output_type": "stream",
     "text": [
      "Using k value in kNN -  51\n",
      "Train accuracy for optimal kNN using AvgW2V 79.42\n",
      "Test accuracy for optimal kNN using AvgW2V 78.79\n"
     ]
    },
    {
     "data": {
      "image/png": "[encoded data removed]",
      "text/plain": [
       "<Figure size 432x288 with 1 Axes>"
      ]
     },
     "metadata": {
      "needs_background": "light"
     },
     "output_type": "display_data"
    }
   ],
   "source": [
    "# training the optimal KNeighbourClassifier using optimal number of neighbours for Average W2V vectors\n",
    "knn_kdtOptimal_avw2v = KNeighborsClassifier(n_neighbors=optimalK_avgWV_kdt, algorithm='kd_tree')\n",
    "knn_kdtOptimal_avw2v.fit(avgWV_vect_train, rs_train)\n",
    "\n",
    "# Prediction on training and test set using optimal\n",
    "pred_avw2v_kdt_train = knn_kdtOptimal_avw2v.predict(avgWV_vect_train)\n",
    "pred_avw2v_kdt_test = knn_kdtOptimal_avw2v.predict(avgWV_vect_test)\n",
    "print(\"Using k value in kNN - \", optimalK_avgWV_kdt)\n",
    "print(\"Train accuracy for optimal kNN using AvgW2V\", round(accuracy_score(rs_train, pred_avw2v_kdt_train)*100, 2))\n",
    "print(\"Test accuracy for optimal kNN using AvgW2V\", round(accuracy_score(rs_test, pred_avw2v_kdt_test) * 100, 2))\n",
    "\n",
    "# ROC-AUC on train & test data\n",
    "train_fpr, train_tpr, thresholds = roc_curve(rs_train, knn_kdtOptimal_avw2v.predict_proba(avgWV_vect_train)[:, 1])\n",
    "test_fpr, test_tpr, thresholds = roc_curve(rs_test, knn_kdtOptimal_avw2v.predict_proba(avgWV_vect_test)[:, 1])\n",
    "# Draw ROC curve\n",
    "plt.plot(train_fpr, train_tpr, label=\"Train AUC = \"+str(round(auc(train_fpr, train_tpr), 2)))\n",
    "auc_score = round(auc(test_fpr, test_tpr), 2)\n",
    "plt.plot(test_fpr, test_tpr, label=\"Test AUC = \"+str(auc_score))\n",
    "plt.legend()\n",
    "plt.xlabel(\"False Pos Rate\")\n",
    "plt.ylabel(\"True Pos Rate\")\n",
    "plt.title(\"ROC Curve of Train and Test\")\n",
    "plt.show()"
   ]
  },
  {
   "cell_type": "code",
   "execution_count": 55,
   "metadata": {},
   "outputs": [
    {
     "name": "stdout",
     "output_type": "stream",
     "text": [
      "Training Confusion Matrix\n"
     ]
    },
    {
     "data": {
      "image/png": "[encoded data removed]",
      "text/plain": [
       "<Figure size 432x288 with 2 Axes>"
      ]
     },
     "metadata": {
      "needs_background": "light"
     },
     "output_type": "display_data"
    },
    {
     "name": "stdout",
     "output_type": "stream",
     "text": [
      "\n",
      "\n",
      "\n",
      "Test Confusion Matrix\n"
     ]
    },
    {
     "data": {
      "image/png": "[encoded data removed]",
      "text/plain": [
       "<Figure size 432x288 with 2 Axes>"
      ]
     },
     "metadata": {
      "needs_background": "light"
     },
     "output_type": "display_data"
    }
   ],
   "source": [
    "# plot confusion matrix to describe the performance of classifier.\n",
    "\n",
    "print(\"Training Confusion Matrix\")\n",
    "draw_Confusion_Matrix(rs_train, pred_avw2v_kdt_train)\n",
    "print('\\n\\n')\n",
    "\n",
    "print(\"Test Confusion Matrix\")\n",
    "draw_Confusion_Matrix(rs_test, pred_avw2v_kdt_test)\n",
    "table.add_row([\"Avg Word2Vec\", \"KD-Tree\", optimalK_avgWV_kdt, auc_score])"
   ]
  },
  {
   "cell_type": "code",
   "execution_count": 56,
   "metadata": {},
   "outputs": [
    {
     "name": "stdout",
     "output_type": "stream",
     "text": [
      "              precision    recall  f1-score   support\n",
      "\n",
      "           0       0.76      0.80      0.78      1535\n",
      "           1       0.82      0.78      0.80      1765\n",
      "\n",
      "   micro avg       0.79      0.79      0.79      3300\n",
      "   macro avg       0.79      0.79      0.79      3300\n",
      "weighted avg       0.79      0.79      0.79      3300\n",
      "\n"
     ]
    }
   ],
   "source": [
    "# Classification report \n",
    "print(classification_report(rs_test, pred_avw2v_kdt_test))"
   ]
  },
  {
   "cell_type": "markdown",
   "metadata": {},
   "source": [
    "# Observations\n",
    "\n",
    "- We use the cross validation method on ROC-AUC curve to get the optimal value of k for kd-Tree approach K-Nearest Neighbour. It is found to be 51 for Average Word2Vec vectors \n",
    "\n",
    "\n",
    "- The training accuracy for this value of k comes is 79%, whereas test accuracy on the unseen data is 78%. The accuracy of the model is comparable to the BOW and Tf-IDF models, but F1 scores will give a clearer picture.\n",
    "\n",
    "- In the confusion matrix the total test datasets are calculated as: <br>\n",
    "            True Positives + False Postives + True Negatives + False Negatives\n",
    "  which are calculated as 1369+304+1231+396 = 3300 (our actual number of test data sets)\n",
    "\n",
    "\n",
    "- Overall model accuracy is : (True Positives + True Negatives) / Total, which is (1369+1231)/3300 ~78% on unseen data as per our recorded observation\n",
    "\n",
    "\n",
    "\n",
    "- Notable Points :\n",
    "\n",
    "    - The graph for the AUC and accuracy curves are much smooth compared to the previous models but the F1-score improved drastically, which shows that this model is better predictor of the negative classs values."
   ]
  },
  {
   "cell_type": "markdown",
   "metadata": {},
   "source": [
    "### [5.2.4] Applying KNN kd-tree on TFIDF W2V,<font color='red'> SET 4</font>"
   ]
  },
  {
   "cell_type": "code",
   "execution_count": 57,
   "metadata": {},
   "outputs": [],
   "source": [
    "model = TfidfVectorizer(min_df=10, max_features=500)\n",
    "# fit transform only on training set\n",
    "tf_idf_matrix = model.fit_transform(ppReview_train)\n",
    "# we are converting a dictionary with word as a key, and the idf as a value\n",
    "dictionary = dict(zip(model.get_feature_names(), list(model.idf_)))"
   ]
  },
  {
   "cell_type": "code",
   "execution_count": 58,
   "metadata": {},
   "outputs": [
    {
     "name": "stdout",
     "output_type": "stream",
     "text": [
      "Working on training set\n",
      "Working on cross validation set\n",
      "Working on test set\n",
      "Sentences Vectors created..\n"
     ]
    }
   ],
   "source": [
    "# TF-IDF weighted Word2Vec\n",
    "tfidf_feat = model.get_feature_names() # tfidf words/col-names\n",
    "\n",
    "tfsent_vectors_train, tfsent_vectors_test, tfsent_vectors_cv = [],[],[]\n",
    "for i, aset in enumerate([list_of_sentance_train, list_of_sentance_cv, list_of_sentance_test]):\n",
    "    if i==0:\n",
    "        print(\"Working on training set\")\n",
    "    elif i==1:\n",
    "        print(\"Working on cross validation set\")\n",
    "    elif i==2:\n",
    "        print(\"Working on test set\")\n",
    "    rows=0\n",
    "    for sent in aset:\n",
    "        sent_vec = np.zeros(50) # as word vectors are of zero length 50\n",
    "        weight_sum =0; # num of words with a valid vector in the sentence/review\n",
    "        for word in sent: # for each word in a review/sentence\n",
    "            if word in w2v_words and word in tfidf_feat:\n",
    "                vec = w2v_model.wv[word]\n",
    "                tf_idf = dictionary[word]*(sent.count(word)/len(sent))\n",
    "                sent_vec += (vec * tf_idf)\n",
    "                weight_sum += tf_idf\n",
    "        if weight_sum != 0:\n",
    "            sent_vec /= weight_sum\n",
    "        if i==0:\n",
    "            tfsent_vectors_train.append(sent_vec)\n",
    "        elif i==1:\n",
    "            tfsent_vectors_cv.append(sent_vec)\n",
    "        elif i==2:\n",
    "            tfsent_vectors_test.append(sent_vec)\n",
    "        rows+=1\n",
    "            \n",
    "print(\"Sentences Vectors created..\")"
   ]
  },
  {
   "cell_type": "code",
   "execution_count": 59,
   "metadata": {},
   "outputs": [
    {
     "name": "stdout",
     "output_type": "stream",
     "text": [
      "Total training features :  50\n",
      "==================================================\n",
      "\n",
      "Shapes After Vectorization \n",
      "Train Set : ( 13400 50 )\n",
      "Test Set : ( 3300 50 )\n",
      "CV Set : ( 3300 50 )\n"
     ]
    }
   ],
   "source": [
    "# Tf-IDF Weighted Word2Vec\n",
    "\n",
    "tfIdfWV_vect_train = tfsent_vectors_train\n",
    "tfIdfWV_vect_cv = tfsent_vectors_cv\n",
    "tfIdfWV_vect_test = tfsent_vectors_test\n",
    "print(\"Total training features : \", len(tfIdfWV_vect_train[0]))\n",
    "print('='*50)\n",
    "\n",
    "print(\"\\nShapes After Vectorization \")\n",
    "print(\"Train Set : (\", len(tfIdfWV_vect_train), len(tfIdfWV_vect_train[0]), \")\")\n",
    "print(\"Test Set : (\", len(tfIdfWV_vect_test), len(tfIdfWV_vect_test[0]), \")\")\n",
    "print(\"CV Set : (\", len(tfIdfWV_vect_cv), len(tfIdfWV_vect_cv[0]), \")\")"
   ]
  },
  {
   "cell_type": "code",
   "execution_count": 60,
   "metadata": {},
   "outputs": [
    {
     "name": "stdout",
     "output_type": "stream",
     "text": [
      "Progress : 100%        \n"
     ]
    },
    {
     "data": {
      "image/png": "[encoded data removed]",
      "text/plain": [
       "<Figure size 720x576 with 1 Axes>"
      ]
     },
     "metadata": {
      "needs_background": "light"
     },
     "output_type": "display_data"
    },
    {
     "name": "stdout",
     "output_type": "stream",
     "text": [
      "Optimal K value for Tf-IDF W2V using kdTree algo is :  51\n"
     ]
    }
   ],
   "source": [
    "# Please write all the code with proper documentation\n",
    "optimalK_tfIdfWV_kdt = knn_classifier(avgWV_vect_train, rs_train, avgWV_vect_cv, rs_cv, 'kd_tree')\n",
    "print(\"Optimal K value for Tf-IDF W2V using kdTree algo is : \", optimalK_tfIdfWV_kdt)"
   ]
  },
  {
   "cell_type": "code",
   "execution_count": 61,
   "metadata": {},
   "outputs": [
    {
     "name": "stdout",
     "output_type": "stream",
     "text": [
      "Using k value in kNN -  51\n",
      "Train accuracy for optimal kNN using Tf-IDF W2V 76.29\n",
      "Test accuracy for optimal kNN using Tf-IDF W2V 76.3\n"
     ]
    },
    {
     "data": {
      "image/png": "[encoded data removed]",
      "text/plain": [
       "<Figure size 432x288 with 1 Axes>"
      ]
     },
     "metadata": {
      "needs_background": "light"
     },
     "output_type": "display_data"
    }
   ],
   "source": [
    "# training the optimal KNeighbourClassifier using optimal number of neighbours for Tf-IDF W2V vectors\n",
    "knn_kdtOptimal_tfIdfWV = KNeighborsClassifier(n_neighbors=optimalK_tfIdfWV_kdt, algorithm='kd_tree')\n",
    "knn_kdtOptimal_tfIdfWV.fit(tfIdfWV_vect_train, rs_train)\n",
    "\n",
    "# Prediction on training and test set using optimal\n",
    "pred_tfIdfWV_kdt_train = knn_kdtOptimal_tfIdfWV.predict(tfIdfWV_vect_train)\n",
    "pred_tfIdfWV_kdt_test = knn_kdtOptimal_tfIdfWV.predict(tfIdfWV_vect_test)\n",
    "print(\"Using k value in kNN - \", optimalK_tfIdfWV_kdt)\n",
    "print(\"Train accuracy for optimal kNN using Tf-IDF W2V\", round(accuracy_score(rs_train, pred_tfIdfWV_kdt_train)*100, 2))\n",
    "print(\"Test accuracy for optimal kNN using Tf-IDF W2V\", round(accuracy_score(rs_test, pred_tfIdfWV_kdt_test) * 100, 2))\n",
    "\n",
    "# ROC-AUC on train & test data\n",
    "train_fpr, train_tpr, thresholds = roc_curve(rs_train, knn_kdtOptimal_tfIdfWV.predict_proba(tfIdfWV_vect_train)[:, 1])\n",
    "test_fpr, test_tpr, thresholds = roc_curve(rs_test, knn_kdtOptimal_tfIdfWV.predict_proba(tfIdfWV_vect_test)[:, 1])\n",
    "# Draw ROC curve\n",
    "plt.plot(train_fpr, train_tpr, label=\"Train AUC = \"+str(round(auc(train_fpr, train_tpr), 2)))\n",
    "auc_score = round(auc(test_fpr, test_tpr), 2)\n",
    "plt.plot(test_fpr, test_tpr, label=\"Test AUC = \"+str(auc_score))\n",
    "plt.legend()\n",
    "plt.xlabel(\"False Pos Rate\")\n",
    "plt.ylabel(\"True Pos Rate\")\n",
    "plt.title(\"ROC Curve of Train and Test\")\n",
    "plt.show()"
   ]
  },
  {
   "cell_type": "code",
   "execution_count": 62,
   "metadata": {},
   "outputs": [
    {
     "name": "stdout",
     "output_type": "stream",
     "text": [
      "Training Confusion Matrix\n"
     ]
    },
    {
     "data": {
      "image/png": "[encoded data removed]",
      "text/plain": [
       "<Figure size 432x288 with 2 Axes>"
      ]
     },
     "metadata": {
      "needs_background": "light"
     },
     "output_type": "display_data"
    },
    {
     "name": "stdout",
     "output_type": "stream",
     "text": [
      "\n",
      "\n",
      "\n",
      "Test Confusion Matrix\n"
     ]
    },
    {
     "data": {
      "image/png": "[encoded data removed]",
      "text/plain": [
       "<Figure size 432x288 with 2 Axes>"
      ]
     },
     "metadata": {
      "needs_background": "light"
     },
     "output_type": "display_data"
    }
   ],
   "source": [
    "# plot confusion matrix to describe the performance of classifier.\n",
    "\n",
    "print(\"Training Confusion Matrix\")\n",
    "draw_Confusion_Matrix(rs_train, pred_tfIdfWV_kdt_train)\n",
    "print('\\n\\n')\n",
    "\n",
    "print(\"Test Confusion Matrix\")\n",
    "draw_Confusion_Matrix(rs_test, pred_tfIdfWV_kdt_test)\n",
    "table.add_row([\"Tf-IDF Word2Vec\", \"KD-Tree\", optimalK_tfIdfWV_kdt, auc_score])"
   ]
  },
  {
   "cell_type": "code",
   "execution_count": 63,
   "metadata": {},
   "outputs": [
    {
     "name": "stdout",
     "output_type": "stream",
     "text": [
      "              precision    recall  f1-score   support\n",
      "\n",
      "           0       0.76      0.72      0.74      1535\n",
      "           1       0.77      0.80      0.78      1765\n",
      "\n",
      "   micro avg       0.76      0.76      0.76      3300\n",
      "   macro avg       0.76      0.76      0.76      3300\n",
      "weighted avg       0.76      0.76      0.76      3300\n",
      "\n"
     ]
    }
   ],
   "source": [
    "# Classification report \n",
    "print(classification_report(rs_test, pred_tfIdfWV_kdt_test))"
   ]
  },
  {
   "cell_type": "markdown",
   "metadata": {},
   "source": [
    "# Observations\n",
    "\n",
    "- We use the cross validation method on ROC-AUC curve to get the optimal value of k for kd-Tree approach K-Nearest Neighbour. It is found to be 51 for Tf-IDF weighted Word2Vec vectors \n",
    "\n",
    "\n",
    "- The training accuracy for this value of k comes is 76%, whereas test accuracy on the unseen data is also around 76%. The accuracy of the model is comparable to the BOW and Tf-IDF models, but F1 scores will give a clearer picture.\n",
    "\n",
    "- In the confusion matrix the total test datasets are calculated as: <br>\n",
    "            True Positives + False Postives + True Negatives + False Negatives\n",
    "  which are calculated as 1406+423+1112+359 = 3300 (our actual number of test data sets)\n",
    "\n",
    "\n",
    "- Overall model accuracy is : (True Positives + True Negatives) / Total, which is (1406+1112)/3300 ~76.3% on unseen data as per our recorded observation\n",
    "\n",
    "\n",
    "\n",
    "- Notable Points :\n",
    "\n",
    "    - From the confusion matrix, we can infer after reading the F1-Score, that this model is improvement over the ones using BOW and Tf-IDF but not much better than simple Word2Vec."
   ]
  },
  {
   "cell_type": "markdown",
   "metadata": {},
   "source": [
    "# [6] Conclusions"
   ]
  },
  {
   "cell_type": "code",
   "execution_count": 72,
   "metadata": {},
   "outputs": [
    {
     "name": "stdout",
     "output_type": "stream",
     "text": [
      "+-----------------+---------+-----------------+-----------+\n",
      "|    Vectorizer   |  Model  | Hyperparameters | AUC Score |\n",
      "+-----------------+---------+-----------------+-----------+\n",
      "|       BOW       | KD-Tree |        51       |    0.77   |\n",
      "|      Tf-Idf     | KD-Tree |        51       |    0.78   |\n",
      "|   Avg Word2Vec  | KD-Tree |        51       |    0.87   |\n",
      "| Tf-IDF Word2Vec | KD-Tree |        51       |    0.84   |\n",
      "|       BOW       |  Brute  |        51       |    0.78   |\n",
      "|      Tf-Idf     |  Brute  |        5        |    0.64   |\n",
      "|   Avg Word2Vec  |  Brute  |        51       |    0.9    |\n",
      "| Tf-IDF Word2Vec |  Brute  |        51       |    0.85   |\n",
      "+-----------------+---------+-----------------+-----------+\n"
     ]
    }
   ],
   "source": [
    "# Please compare all your models using Prettytable library\n",
    "print(table)"
   ]
  },
  {
   "cell_type": "code",
   "execution_count": null,
   "metadata": {},
   "outputs": [],
   "source": []
  }
 ],
 "metadata": {
  "kernelspec": {
   "display_name": "Python 3",
   "language": "python",
   "name": "python3"
  },
  "language_info": {
   "codemirror_mode": {
    "name": "ipython",
    "version": 3
   },
   "file_extension": ".py",
   "mimetype": "text/x-python",
   "name": "python",
   "nbconvert_exporter": "python",
   "pygments_lexer": "ipython3",
   "version": "3.6.8"
  }
 },
 "nbformat": 4,
 "nbformat_minor": 2
}
