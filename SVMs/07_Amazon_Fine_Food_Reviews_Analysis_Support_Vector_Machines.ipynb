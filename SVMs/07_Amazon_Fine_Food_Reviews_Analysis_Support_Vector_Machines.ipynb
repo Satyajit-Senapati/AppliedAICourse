{
 "cells": [
  {
   "cell_type": "markdown",
   "metadata": {
    "colab_type": "text",
    "id": "Bc0rCmL_xYwG"
   },
   "source": [
    "# Amazon Fine Food Reviews Analysis\n",
    "\n",
    "\n",
    "Data Source: https://www.kaggle.com/snap/amazon-fine-food-reviews <br>\n",
    "\n",
    "EDA: https://nycdatascience.com/blog/student-works/amazon-fine-foods-visualization/\n",
    "\n",
    "\n",
    "The Amazon Fine Food Reviews dataset consists of reviews of fine foods from Amazon.<br>\n",
    "\n",
    "Number of reviews: 568,454<br>\n",
    "Number of users: 256,059<br>\n",
    "Number of products: 74,258<br>\n",
    "Timespan: Oct 1999 - Oct 2012<br>\n",
    "Number of Attributes/Columns in data: 10 \n",
    "\n",
    "Attribute Information:\n",
    "\n",
    "1. Id\n",
    "2. ProductId - unique identifier for the product\n",
    "3. UserId - unqiue identifier for the user\n",
    "4. ProfileName\n",
    "5. HelpfulnessNumerator - number of users who found the review helpful\n",
    "6. HelpfulnessDenominator - number of users who indicated whether they found the review helpful or not\n",
    "7. Score - rating between 1 and 5\n",
    "8. Time - timestamp for the review\n",
    "9. Summary - brief summary of the review\n",
    "10. Text - text of the review\n",
    "\n",
    "\n",
    "#### Objective:\n",
    "Given a review, determine whether the review is positive (rating of 4 or 5) or negative (rating of 1 or 2).\n",
    "\n",
    "<br>\n",
    "[Q] How to determine if a review is positive or negative?<br>\n",
    "<br> \n",
    "[Ans] We could use Score/Rating. A rating of 4 or 5 can be cosnidered as a positive review. A rating of 1 or 2 can be considered as negative one. A review of rating 3 is considered nuetral and such reviews are ignored from our analysis. This is an approximate and proxy way of determining the polarity (positivity/negativity) of a review.\n",
    "\n",
    "\n"
   ]
  },
  {
   "cell_type": "markdown",
   "metadata": {
    "colab_type": "text",
    "id": "BB3Brfx1xYwI"
   },
   "source": [
    "# [1]. Reading Data"
   ]
  },
  {
   "cell_type": "markdown",
   "metadata": {
    "colab_type": "text",
    "id": "s4yllMGOxYwI"
   },
   "source": [
    "## [1.1] Loading the data\n",
    "\n",
    "The dataset is available in two forms\n",
    "1. .csv file\n",
    "2. SQLite Database\n",
    "\n",
    "In order to load the data, We have used the SQLITE dataset as it is easier to query the data and visualise the data efficiently.\n",
    "<br> \n",
    "\n",
    "Here as we only want to get the global sentiment of the recommendations (positive or negative), we will purposefully ignore all Scores equal to 3. If the score is above 3, then the recommendation wil be set to \"positive\". Otherwise, it will be set to \"negative\"."
   ]
  },
  {
   "cell_type": "code",
   "execution_count": 2,
   "metadata": {
    "colab": {},
    "colab_type": "code",
    "id": "VjruyB_RxYwK"
   },
   "outputs": [],
   "source": [
    "%matplotlib inline\n",
    "import warnings\n",
    "warnings.filterwarnings(\"ignore\")\n",
    "\n",
    "\n",
    "import sqlite3\n",
    "import pandas as pd\n",
    "import numpy as np\n",
    "import nltk\n",
    "import string\n",
    "import matplotlib.pyplot as plt\n",
    "import seaborn as sns\n",
    "# from sklearn.feature_extraction.text import TfidfTransformer\n",
    "from sklearn.feature_extraction.text import TfidfVectorizer\n",
    "\n",
    "from sklearn.feature_extraction.text import CountVectorizer\n",
    "from sklearn.metrics import confusion_matrix\n",
    "from sklearn import metrics\n",
    "from sklearn.metrics import roc_curve, auc\n",
    "# from nltk.stem.porter import PorterStemmer\n",
    "\n",
    "import re\n",
    "# Tutorial about Python regular expressions: https://pymotw.com/2/re/\n",
    "import string\n",
    "from nltk.corpus import stopwords\n",
    "# from nltk.stem import PorterStemmer\n",
    "# from nltk.stem.wordnet import WordNetLemmatizer\n",
    "\n",
    "from gensim.models import Word2Vec\n",
    "from gensim.models import KeyedVectors\n",
    "import pickle\n",
    "\n",
    "from tqdm import tqdm\n",
    "import os"
   ]
  },
  {
   "cell_type": "code",
   "execution_count": 3,
   "metadata": {
    "colab": {
     "base_uri": "https://localhost:8080/",
     "height": 84
    },
    "colab_type": "code",
    "id": "w_A5aYhuXb2E",
    "outputId": "bb356834-3426-4789-8f3a-96fa19972d48"
   },
   "outputs": [
    {
     "name": "stdout",
     "output_type": "stream",
     "text": [
      "+------------+-------+-----------------+-----------+\n",
      "| Vectorizer | Model | Hyperparameters | AUC Score |\n",
      "+------------+-------+-----------------+-----------+\n",
      "+------------+-------+-----------------+-----------+\n"
     ]
    }
   ],
   "source": [
    "# Using prettyTable for showing the observations\n",
    "from prettytable import PrettyTable\n",
    "table = PrettyTable()\n",
    "table.field_names= [\"Vectorizer\",\"Model\",\"Hyperparameters\",\"AUC Score\"]\n",
    "print(table)"
   ]
  },
  {
   "cell_type": "code",
   "execution_count": 4,
   "metadata": {
    "colab": {
     "base_uri": "https://localhost:8080/",
     "height": 54
    },
    "colab_type": "code",
    "id": "emiIUKaCXp_v",
    "outputId": "1811c02d-737b-4797-e80d-de6bf680faa8"
   },
   "outputs": [
    {
     "name": "stdout",
     "output_type": "stream",
     "text": [
      "['Assignment1_Habermans', 'models', 'database.sqlite', 'Assignment5_LogisticRegression', 'Assignment4_NaiveBayes', 'Assignment2_AmazonFoodReviews', 'Assignment3_kNN', 'Assignment6_SGD', 'Assignment7_SVM']\n"
     ]
    }
   ],
   "source": [
    "dir_path = '../'\n",
    "print(os.listdir(dir_path))"
   ]
  },
  {
   "cell_type": "code",
   "execution_count": 6,
   "metadata": {
    "colab": {
     "base_uri": "https://localhost:8080/",
     "height": 338
    },
    "colab_type": "code",
    "id": "LXZujVg8xYwP",
    "outputId": "07697f2e-0dec-48a2-8529-69738dcbbed9"
   },
   "outputs": [
    {
     "name": "stdout",
     "output_type": "stream",
     "text": [
      "Number of data points in our data (100000, 10)\n"
     ]
    },
    {
     "data": {
      "text/html": [
       "<div>\n",
       "<style scoped>\n",
       "    .dataframe tbody tr th:only-of-type {\n",
       "        vertical-align: middle;\n",
       "    }\n",
       "\n",
       "    .dataframe tbody tr th {\n",
       "        vertical-align: top;\n",
       "    }\n",
       "\n",
       "    .dataframe thead th {\n",
       "        text-align: right;\n",
       "    }\n",
       "</style>\n",
       "<table border=\"1\" class=\"dataframe\">\n",
       "  <thead>\n",
       "    <tr style=\"text-align: right;\">\n",
       "      <th></th>\n",
       "      <th>Id</th>\n",
       "      <th>ProductId</th>\n",
       "      <th>UserId</th>\n",
       "      <th>ProfileName</th>\n",
       "      <th>HelpfulnessNumerator</th>\n",
       "      <th>HelpfulnessDenominator</th>\n",
       "      <th>Score</th>\n",
       "      <th>Time</th>\n",
       "      <th>Summary</th>\n",
       "      <th>Text</th>\n",
       "    </tr>\n",
       "  </thead>\n",
       "  <tbody>\n",
       "    <tr>\n",
       "      <th>0</th>\n",
       "      <td>2</td>\n",
       "      <td>B00813GRG4</td>\n",
       "      <td>A1D87F6ZCVE5NK</td>\n",
       "      <td>dll pa</td>\n",
       "      <td>0</td>\n",
       "      <td>0</td>\n",
       "      <td>0</td>\n",
       "      <td>1346976000</td>\n",
       "      <td>Not as Advertised</td>\n",
       "      <td>Product arrived labeled as Jumbo Salted Peanut...</td>\n",
       "    </tr>\n",
       "    <tr>\n",
       "      <th>1</th>\n",
       "      <td>4</td>\n",
       "      <td>B000UA0QIQ</td>\n",
       "      <td>A395BORC6FGVXV</td>\n",
       "      <td>Karl</td>\n",
       "      <td>3</td>\n",
       "      <td>3</td>\n",
       "      <td>0</td>\n",
       "      <td>1307923200</td>\n",
       "      <td>Cough Medicine</td>\n",
       "      <td>If you are looking for the secret ingredient i...</td>\n",
       "    </tr>\n",
       "    <tr>\n",
       "      <th>2</th>\n",
       "      <td>13</td>\n",
       "      <td>B0009XLVG0</td>\n",
       "      <td>A327PCT23YH90</td>\n",
       "      <td>LT</td>\n",
       "      <td>1</td>\n",
       "      <td>1</td>\n",
       "      <td>0</td>\n",
       "      <td>1339545600</td>\n",
       "      <td>My Cats Are Not Fans of the New Food</td>\n",
       "      <td>My cats have been happily eating Felidae Plati...</td>\n",
       "    </tr>\n",
       "  </tbody>\n",
       "</table>\n",
       "</div>"
      ],
      "text/plain": [
       "   Id   ProductId          UserId ProfileName  HelpfulnessNumerator  \\\n",
       "0   2  B00813GRG4  A1D87F6ZCVE5NK      dll pa                     0   \n",
       "1   4  B000UA0QIQ  A395BORC6FGVXV        Karl                     3   \n",
       "2  13  B0009XLVG0   A327PCT23YH90          LT                     1   \n",
       "\n",
       "   HelpfulnessDenominator  Score        Time  \\\n",
       "0                       0      0  1346976000   \n",
       "1                       3      0  1307923200   \n",
       "2                       1      0  1339545600   \n",
       "\n",
       "                                Summary  \\\n",
       "0                     Not as Advertised   \n",
       "1                        Cough Medicine   \n",
       "2  My Cats Are Not Fans of the New Food   \n",
       "\n",
       "                                                Text  \n",
       "0  Product arrived labeled as Jumbo Salted Peanut...  \n",
       "1  If you are looking for the secret ingredient i...  \n",
       "2  My cats have been happily eating Felidae Plati...  "
      ]
     },
     "execution_count": 6,
     "metadata": {},
     "output_type": "execute_result"
    }
   ],
   "source": [
    "# using SQLite Table to read data.\n",
    "con = sqlite3.connect(dir_path+'database.sqlite') \n",
    "\n",
    "# filtering only positive and negative reviews i.e. \n",
    "# not taking into consideration those reviews with Score=3\n",
    "# SELECT * FROM Reviews WHERE Score != 3 LIMIT 500000, will give top 500000 \n",
    "# data points\n",
    "# you can change the number to any other number based on your computing power\n",
    "\n",
    "# filtered_data = pd.read_sql_query(\"\"\" SELECT * FROM Reviews WHERE \n",
    "# Score != 3 LIMIT 500000\"\"\", con) \n",
    "# for tsne assignment you can take 5k data points\n",
    "\n",
    "filtered_data = pd.read_sql_query(\n",
    "            \"SELECT * FROM Reviews WHERE Score < 3 LIMIT 50000\", con)\n",
    "filtered_data = filtered_data.append(\n",
    "            pd.read_sql_query(\n",
    "            \"SELECT * FROM Reviews WHERE Score > 3 LIMIT 50000\", con))\n",
    "\n",
    "\n",
    "# Give reviews with Score>3 a positive rating(1), and reviews with a \n",
    "# score<3 a negative rating(0).\n",
    "def partition(x):\n",
    "    if x < 3:\n",
    "        return 0\n",
    "    return 1\n",
    "\n",
    "#changing reviews with score less than 3 to be positive and vice-versa\n",
    "actualScore = filtered_data['Score']\n",
    "positiveNegative = actualScore.map(partition) \n",
    "filtered_data['Score'] = positiveNegative\n",
    "print(\"Number of data points in our data\", filtered_data.shape)\n",
    "filtered_data.head(3)"
   ]
  },
  {
   "cell_type": "code",
   "execution_count": 7,
   "metadata": {
    "colab": {},
    "colab_type": "code",
    "id": "1bzfkZuFxYwW"
   },
   "outputs": [],
   "source": [
    "display = pd.read_sql_query(\"\"\"\n",
    "SELECT UserId, ProductId, ProfileName, Time, Score, Text, COUNT(*)\n",
    "FROM Reviews\n",
    "GROUP BY UserId\n",
    "HAVING COUNT(*)>1\n",
    "\"\"\", con)"
   ]
  },
  {
   "cell_type": "code",
   "execution_count": 8,
   "metadata": {
    "colab": {
     "base_uri": "https://localhost:8080/",
     "height": 212
    },
    "colab_type": "code",
    "id": "Q3fqBrs5xYwZ",
    "outputId": "08eff0ad-9b35-4c72-bcb6-85c72cb1c597",
    "scrolled": true
   },
   "outputs": [
    {
     "name": "stdout",
     "output_type": "stream",
     "text": [
      "(80668, 7)\n"
     ]
    },
    {
     "data": {
      "text/html": [
       "<div>\n",
       "<style scoped>\n",
       "    .dataframe tbody tr th:only-of-type {\n",
       "        vertical-align: middle;\n",
       "    }\n",
       "\n",
       "    .dataframe tbody tr th {\n",
       "        vertical-align: top;\n",
       "    }\n",
       "\n",
       "    .dataframe thead th {\n",
       "        text-align: right;\n",
       "    }\n",
       "</style>\n",
       "<table border=\"1\" class=\"dataframe\">\n",
       "  <thead>\n",
       "    <tr style=\"text-align: right;\">\n",
       "      <th></th>\n",
       "      <th>UserId</th>\n",
       "      <th>ProductId</th>\n",
       "      <th>ProfileName</th>\n",
       "      <th>Time</th>\n",
       "      <th>Score</th>\n",
       "      <th>Text</th>\n",
       "      <th>COUNT(*)</th>\n",
       "    </tr>\n",
       "  </thead>\n",
       "  <tbody>\n",
       "    <tr>\n",
       "      <th>0</th>\n",
       "      <td>#oc-R115TNMSPFT9I7</td>\n",
       "      <td>B005ZBZLT4</td>\n",
       "      <td>Breyton</td>\n",
       "      <td>1331510400</td>\n",
       "      <td>2</td>\n",
       "      <td>Overall its just OK when considering the price...</td>\n",
       "      <td>2</td>\n",
       "    </tr>\n",
       "    <tr>\n",
       "      <th>1</th>\n",
       "      <td>#oc-R11D9D7SHXIJB9</td>\n",
       "      <td>B005HG9ESG</td>\n",
       "      <td>Louis E. Emory \"hoppy\"</td>\n",
       "      <td>1342396800</td>\n",
       "      <td>5</td>\n",
       "      <td>My wife has recurring extreme muscle spasms, u...</td>\n",
       "      <td>3</td>\n",
       "    </tr>\n",
       "    <tr>\n",
       "      <th>2</th>\n",
       "      <td>#oc-R11DNU2NBKQ23Z</td>\n",
       "      <td>B005ZBZLT4</td>\n",
       "      <td>Kim Cieszykowski</td>\n",
       "      <td>1348531200</td>\n",
       "      <td>1</td>\n",
       "      <td>This coffee is horrible and unfortunately not ...</td>\n",
       "      <td>2</td>\n",
       "    </tr>\n",
       "    <tr>\n",
       "      <th>3</th>\n",
       "      <td>#oc-R11O5J5ZVQE25C</td>\n",
       "      <td>B005HG9ESG</td>\n",
       "      <td>Penguin Chick</td>\n",
       "      <td>1346889600</td>\n",
       "      <td>5</td>\n",
       "      <td>This will be the bottle that you grab from the...</td>\n",
       "      <td>3</td>\n",
       "    </tr>\n",
       "    <tr>\n",
       "      <th>4</th>\n",
       "      <td>#oc-R12KPBODL2B5ZD</td>\n",
       "      <td>B007OSBEV0</td>\n",
       "      <td>Christopher P. Presta</td>\n",
       "      <td>1348617600</td>\n",
       "      <td>1</td>\n",
       "      <td>I didnt like this coffee. Instead of telling y...</td>\n",
       "      <td>2</td>\n",
       "    </tr>\n",
       "  </tbody>\n",
       "</table>\n",
       "</div>"
      ],
      "text/plain": [
       "               UserId   ProductId             ProfileName        Time  Score  \\\n",
       "0  #oc-R115TNMSPFT9I7  B005ZBZLT4                 Breyton  1331510400      2   \n",
       "1  #oc-R11D9D7SHXIJB9  B005HG9ESG  Louis E. Emory \"hoppy\"  1342396800      5   \n",
       "2  #oc-R11DNU2NBKQ23Z  B005ZBZLT4        Kim Cieszykowski  1348531200      1   \n",
       "3  #oc-R11O5J5ZVQE25C  B005HG9ESG           Penguin Chick  1346889600      5   \n",
       "4  #oc-R12KPBODL2B5ZD  B007OSBEV0   Christopher P. Presta  1348617600      1   \n",
       "\n",
       "                                                Text  COUNT(*)  \n",
       "0  Overall its just OK when considering the price...         2  \n",
       "1  My wife has recurring extreme muscle spasms, u...         3  \n",
       "2  This coffee is horrible and unfortunately not ...         2  \n",
       "3  This will be the bottle that you grab from the...         3  \n",
       "4  I didnt like this coffee. Instead of telling y...         2  "
      ]
     },
     "execution_count": 8,
     "metadata": {},
     "output_type": "execute_result"
    }
   ],
   "source": [
    "print(display.shape)\n",
    "display.head()"
   ]
  },
  {
   "cell_type": "code",
   "execution_count": 9,
   "metadata": {
    "colab": {
     "base_uri": "https://localhost:8080/",
     "height": 95
    },
    "colab_type": "code",
    "id": "OcEer6zExYwe",
    "outputId": "c143e33e-bca1-4668-fe4f-5a57b0973cf7"
   },
   "outputs": [
    {
     "data": {
      "text/html": [
       "<div>\n",
       "<style scoped>\n",
       "    .dataframe tbody tr th:only-of-type {\n",
       "        vertical-align: middle;\n",
       "    }\n",
       "\n",
       "    .dataframe tbody tr th {\n",
       "        vertical-align: top;\n",
       "    }\n",
       "\n",
       "    .dataframe thead th {\n",
       "        text-align: right;\n",
       "    }\n",
       "</style>\n",
       "<table border=\"1\" class=\"dataframe\">\n",
       "  <thead>\n",
       "    <tr style=\"text-align: right;\">\n",
       "      <th></th>\n",
       "      <th>UserId</th>\n",
       "      <th>ProductId</th>\n",
       "      <th>ProfileName</th>\n",
       "      <th>Time</th>\n",
       "      <th>Score</th>\n",
       "      <th>Text</th>\n",
       "      <th>COUNT(*)</th>\n",
       "    </tr>\n",
       "  </thead>\n",
       "  <tbody>\n",
       "    <tr>\n",
       "      <th>80638</th>\n",
       "      <td>AZY10LLTJ71NX</td>\n",
       "      <td>B001ATMQK2</td>\n",
       "      <td>undertheshrine \"undertheshrine\"</td>\n",
       "      <td>1296691200</td>\n",
       "      <td>5</td>\n",
       "      <td>I bought this 6 pack because for the price tha...</td>\n",
       "      <td>5</td>\n",
       "    </tr>\n",
       "  </tbody>\n",
       "</table>\n",
       "</div>"
      ],
      "text/plain": [
       "              UserId   ProductId                      ProfileName        Time  \\\n",
       "80638  AZY10LLTJ71NX  B001ATMQK2  undertheshrine \"undertheshrine\"  1296691200   \n",
       "\n",
       "       Score                                               Text  COUNT(*)  \n",
       "80638      5  I bought this 6 pack because for the price tha...         5  "
      ]
     },
     "execution_count": 9,
     "metadata": {},
     "output_type": "execute_result"
    }
   ],
   "source": [
    "display[display['UserId']=='AZY10LLTJ71NX']"
   ]
  },
  {
   "cell_type": "code",
   "execution_count": 10,
   "metadata": {
    "colab": {
     "base_uri": "https://localhost:8080/",
     "height": 34
    },
    "colab_type": "code",
    "id": "Bp9W1ddTxYwk",
    "outputId": "c56ec0f8-c44e-4742-87c3-972b5a592be9"
   },
   "outputs": [
    {
     "data": {
      "text/plain": [
       "393063"
      ]
     },
     "execution_count": 10,
     "metadata": {},
     "output_type": "execute_result"
    }
   ],
   "source": [
    "display['COUNT(*)'].sum()"
   ]
  },
  {
   "cell_type": "markdown",
   "metadata": {
    "colab_type": "text",
    "id": "aIMV7lGixYwo"
   },
   "source": [
    "#  [2] Exploratory Data Analysis"
   ]
  },
  {
   "cell_type": "markdown",
   "metadata": {
    "colab_type": "text",
    "id": "2c0ljGjMxYwp"
   },
   "source": [
    "## [2.1] Data Cleaning: Deduplication\n",
    "\n",
    "It is observed (as shown in the table below) that the reviews data had many duplicate entries. Hence it was necessary to remove duplicates in order to get unbiased results for the analysis of the data.  Following is an example:"
   ]
  },
  {
   "cell_type": "code",
   "execution_count": 11,
   "metadata": {
    "colab": {
     "base_uri": "https://localhost:8080/",
     "height": 551
    },
    "colab_type": "code",
    "id": "3B-OE4JTxYwq",
    "outputId": "b8934148-6538-4ad6-f130-84e07b71722e",
    "scrolled": false
   },
   "outputs": [
    {
     "data": {
      "text/html": [
       "<div>\n",
       "<style scoped>\n",
       "    .dataframe tbody tr th:only-of-type {\n",
       "        vertical-align: middle;\n",
       "    }\n",
       "\n",
       "    .dataframe tbody tr th {\n",
       "        vertical-align: top;\n",
       "    }\n",
       "\n",
       "    .dataframe thead th {\n",
       "        text-align: right;\n",
       "    }\n",
       "</style>\n",
       "<table border=\"1\" class=\"dataframe\">\n",
       "  <thead>\n",
       "    <tr style=\"text-align: right;\">\n",
       "      <th></th>\n",
       "      <th>Id</th>\n",
       "      <th>ProductId</th>\n",
       "      <th>UserId</th>\n",
       "      <th>ProfileName</th>\n",
       "      <th>HelpfulnessNumerator</th>\n",
       "      <th>HelpfulnessDenominator</th>\n",
       "      <th>Score</th>\n",
       "      <th>Time</th>\n",
       "      <th>Summary</th>\n",
       "      <th>Text</th>\n",
       "    </tr>\n",
       "  </thead>\n",
       "  <tbody>\n",
       "    <tr>\n",
       "      <th>0</th>\n",
       "      <td>78445</td>\n",
       "      <td>B000HDL1RQ</td>\n",
       "      <td>AR5J8UI46CURR</td>\n",
       "      <td>Geetha Krishnan</td>\n",
       "      <td>2</td>\n",
       "      <td>2</td>\n",
       "      <td>5</td>\n",
       "      <td>1199577600</td>\n",
       "      <td>LOACKER QUADRATINI VANILLA WAFERS</td>\n",
       "      <td>DELICIOUS WAFERS. I FIND THAT EUROPEAN WAFERS ...</td>\n",
       "    </tr>\n",
       "    <tr>\n",
       "      <th>1</th>\n",
       "      <td>138317</td>\n",
       "      <td>B000HDOPYC</td>\n",
       "      <td>AR5J8UI46CURR</td>\n",
       "      <td>Geetha Krishnan</td>\n",
       "      <td>2</td>\n",
       "      <td>2</td>\n",
       "      <td>5</td>\n",
       "      <td>1199577600</td>\n",
       "      <td>LOACKER QUADRATINI VANILLA WAFERS</td>\n",
       "      <td>DELICIOUS WAFERS. I FIND THAT EUROPEAN WAFERS ...</td>\n",
       "    </tr>\n",
       "    <tr>\n",
       "      <th>2</th>\n",
       "      <td>138277</td>\n",
       "      <td>B000HDOPYM</td>\n",
       "      <td>AR5J8UI46CURR</td>\n",
       "      <td>Geetha Krishnan</td>\n",
       "      <td>2</td>\n",
       "      <td>2</td>\n",
       "      <td>5</td>\n",
       "      <td>1199577600</td>\n",
       "      <td>LOACKER QUADRATINI VANILLA WAFERS</td>\n",
       "      <td>DELICIOUS WAFERS. I FIND THAT EUROPEAN WAFERS ...</td>\n",
       "    </tr>\n",
       "    <tr>\n",
       "      <th>3</th>\n",
       "      <td>73791</td>\n",
       "      <td>B000HDOPZG</td>\n",
       "      <td>AR5J8UI46CURR</td>\n",
       "      <td>Geetha Krishnan</td>\n",
       "      <td>2</td>\n",
       "      <td>2</td>\n",
       "      <td>5</td>\n",
       "      <td>1199577600</td>\n",
       "      <td>LOACKER QUADRATINI VANILLA WAFERS</td>\n",
       "      <td>DELICIOUS WAFERS. I FIND THAT EUROPEAN WAFERS ...</td>\n",
       "    </tr>\n",
       "    <tr>\n",
       "      <th>4</th>\n",
       "      <td>155049</td>\n",
       "      <td>B000PAQ75C</td>\n",
       "      <td>AR5J8UI46CURR</td>\n",
       "      <td>Geetha Krishnan</td>\n",
       "      <td>2</td>\n",
       "      <td>2</td>\n",
       "      <td>5</td>\n",
       "      <td>1199577600</td>\n",
       "      <td>LOACKER QUADRATINI VANILLA WAFERS</td>\n",
       "      <td>DELICIOUS WAFERS. I FIND THAT EUROPEAN WAFERS ...</td>\n",
       "    </tr>\n",
       "  </tbody>\n",
       "</table>\n",
       "</div>"
      ],
      "text/plain": [
       "       Id   ProductId         UserId      ProfileName  HelpfulnessNumerator  \\\n",
       "0   78445  B000HDL1RQ  AR5J8UI46CURR  Geetha Krishnan                     2   \n",
       "1  138317  B000HDOPYC  AR5J8UI46CURR  Geetha Krishnan                     2   \n",
       "2  138277  B000HDOPYM  AR5J8UI46CURR  Geetha Krishnan                     2   \n",
       "3   73791  B000HDOPZG  AR5J8UI46CURR  Geetha Krishnan                     2   \n",
       "4  155049  B000PAQ75C  AR5J8UI46CURR  Geetha Krishnan                     2   \n",
       "\n",
       "   HelpfulnessDenominator  Score        Time  \\\n",
       "0                       2      5  1199577600   \n",
       "1                       2      5  1199577600   \n",
       "2                       2      5  1199577600   \n",
       "3                       2      5  1199577600   \n",
       "4                       2      5  1199577600   \n",
       "\n",
       "                             Summary  \\\n",
       "0  LOACKER QUADRATINI VANILLA WAFERS   \n",
       "1  LOACKER QUADRATINI VANILLA WAFERS   \n",
       "2  LOACKER QUADRATINI VANILLA WAFERS   \n",
       "3  LOACKER QUADRATINI VANILLA WAFERS   \n",
       "4  LOACKER QUADRATINI VANILLA WAFERS   \n",
       "\n",
       "                                                Text  \n",
       "0  DELICIOUS WAFERS. I FIND THAT EUROPEAN WAFERS ...  \n",
       "1  DELICIOUS WAFERS. I FIND THAT EUROPEAN WAFERS ...  \n",
       "2  DELICIOUS WAFERS. I FIND THAT EUROPEAN WAFERS ...  \n",
       "3  DELICIOUS WAFERS. I FIND THAT EUROPEAN WAFERS ...  \n",
       "4  DELICIOUS WAFERS. I FIND THAT EUROPEAN WAFERS ...  "
      ]
     },
     "execution_count": 11,
     "metadata": {},
     "output_type": "execute_result"
    }
   ],
   "source": [
    "display= pd.read_sql_query(\"\"\"\n",
    "SELECT *\n",
    "FROM Reviews\n",
    "WHERE Score != 3 AND UserId=\"AR5J8UI46CURR\"\n",
    "ORDER BY ProductID\n",
    "\"\"\", con)\n",
    "display.head()"
   ]
  },
  {
   "cell_type": "markdown",
   "metadata": {
    "colab_type": "text",
    "id": "JNMm8WBFxYww"
   },
   "source": [
    "As it can be seen above that same user has multiple reviews with same values for HelpfulnessNumerator, HelpfulnessDenominator, Score, Time, Summary and Text and on doing analysis it was found that <br>\n",
    "<br> \n",
    "ProductId=B000HDOPZG was Loacker Quadratini Vanilla Wafer Cookies, 8.82-Ounce Packages (Pack of 8)<br>\n",
    "<br> \n",
    "ProductId=B000HDL1RQ was Loacker Quadratini Lemon Wafer Cookies, 8.82-Ounce Packages (Pack of 8) and so on<br>\n",
    "\n",
    "It was inferred after analysis that reviews with same parameters other than ProductId belonged to the same product just having different flavour or quantity. Hence in order to reduce redundancy it was decided to eliminate the rows having same parameters.<br>\n",
    "\n",
    "The method used for the same was that we first sort the data according to ProductId and then just keep the first similar product review and delelte the others. for eg. in the above just the review for ProductId=B000HDL1RQ remains. This method ensures that there is only one representative for each product and deduplication without sorting would lead to possibility of different representatives still existing for the same product."
   ]
  },
  {
   "cell_type": "code",
   "execution_count": 12,
   "metadata": {
    "colab": {},
    "colab_type": "code",
    "id": "y_oY5ETExYwx"
   },
   "outputs": [],
   "source": [
    "#Sorting data according to ProductId in ascending order\n",
    "sorted_data=filtered_data.sort_values('ProductId', \n",
    "                              axis=0, ascending=True, inplace=False, \n",
    "                              kind='quicksort', na_position='last')"
   ]
  },
  {
   "cell_type": "code",
   "execution_count": 13,
   "metadata": {
    "colab": {
     "base_uri": "https://localhost:8080/",
     "height": 34
    },
    "colab_type": "code",
    "id": "LG_xHqSvxYw7",
    "outputId": "9de30830-223c-404b-c2c3-6e0ffcd41f03"
   },
   "outputs": [
    {
     "data": {
      "text/plain": [
       "(83317, 10)"
      ]
     },
     "execution_count": 13,
     "metadata": {},
     "output_type": "execute_result"
    }
   ],
   "source": [
    "#Deduplication of entries\n",
    "final=sorted_data.drop_duplicates(subset={\"UserId\",\"ProfileName\",\n",
    "                           \"Time\",\"Text\"}, keep='first', inplace=False)\n",
    "final.shape"
   ]
  },
  {
   "cell_type": "code",
   "execution_count": 14,
   "metadata": {
    "colab": {
     "base_uri": "https://localhost:8080/",
     "height": 34
    },
    "colab_type": "code",
    "id": "bMjGUuQYxYxA",
    "outputId": "860b45c9-0067-4fb8-ecca-c658add7b9b1"
   },
   "outputs": [
    {
     "data": {
      "text/plain": [
       "83.317"
      ]
     },
     "execution_count": 14,
     "metadata": {},
     "output_type": "execute_result"
    }
   ],
   "source": [
    "#Checking to see how much % of data still remains\n",
    "(final['Id'].size*1.0)/(filtered_data['Id'].size*1.0)*100"
   ]
  },
  {
   "cell_type": "markdown",
   "metadata": {
    "colab_type": "text",
    "id": "_o0A0WlWxYxE"
   },
   "source": [
    "<b>Observation:-</b> It was also seen that in two rows given below the value of HelpfulnessNumerator is greater than HelpfulnessDenominator which is not practically possible hence these two rows too are removed from calcualtions"
   ]
  },
  {
   "cell_type": "code",
   "execution_count": 15,
   "metadata": {
    "colab": {
     "base_uri": "https://localhost:8080/",
     "height": 274
    },
    "colab_type": "code",
    "id": "cWChZ_FaxYxF",
    "outputId": "7e1101b7-3e44-4102-f80d-770b274850f2"
   },
   "outputs": [
    {
     "data": {
      "text/html": [
       "<div>\n",
       "<style scoped>\n",
       "    .dataframe tbody tr th:only-of-type {\n",
       "        vertical-align: middle;\n",
       "    }\n",
       "\n",
       "    .dataframe tbody tr th {\n",
       "        vertical-align: top;\n",
       "    }\n",
       "\n",
       "    .dataframe thead th {\n",
       "        text-align: right;\n",
       "    }\n",
       "</style>\n",
       "<table border=\"1\" class=\"dataframe\">\n",
       "  <thead>\n",
       "    <tr style=\"text-align: right;\">\n",
       "      <th></th>\n",
       "      <th>Id</th>\n",
       "      <th>ProductId</th>\n",
       "      <th>UserId</th>\n",
       "      <th>ProfileName</th>\n",
       "      <th>HelpfulnessNumerator</th>\n",
       "      <th>HelpfulnessDenominator</th>\n",
       "      <th>Score</th>\n",
       "      <th>Time</th>\n",
       "      <th>Summary</th>\n",
       "      <th>Text</th>\n",
       "    </tr>\n",
       "  </thead>\n",
       "  <tbody>\n",
       "    <tr>\n",
       "      <th>0</th>\n",
       "      <td>64422</td>\n",
       "      <td>B000MIDROQ</td>\n",
       "      <td>A161DK06JJMCYF</td>\n",
       "      <td>J. E. Stephens \"Jeanne\"</td>\n",
       "      <td>3</td>\n",
       "      <td>1</td>\n",
       "      <td>5</td>\n",
       "      <td>1224892800</td>\n",
       "      <td>Bought This for My Son at College</td>\n",
       "      <td>My son loves spaghetti so I didn't hesitate or...</td>\n",
       "    </tr>\n",
       "    <tr>\n",
       "      <th>1</th>\n",
       "      <td>44737</td>\n",
       "      <td>B001EQ55RW</td>\n",
       "      <td>A2V0I904FH7ABY</td>\n",
       "      <td>Ram</td>\n",
       "      <td>3</td>\n",
       "      <td>2</td>\n",
       "      <td>4</td>\n",
       "      <td>1212883200</td>\n",
       "      <td>Pure cocoa taste with crunchy almonds inside</td>\n",
       "      <td>It was almost a 'love at first bite' - the per...</td>\n",
       "    </tr>\n",
       "  </tbody>\n",
       "</table>\n",
       "</div>"
      ],
      "text/plain": [
       "      Id   ProductId          UserId              ProfileName  \\\n",
       "0  64422  B000MIDROQ  A161DK06JJMCYF  J. E. Stephens \"Jeanne\"   \n",
       "1  44737  B001EQ55RW  A2V0I904FH7ABY                      Ram   \n",
       "\n",
       "   HelpfulnessNumerator  HelpfulnessDenominator  Score        Time  \\\n",
       "0                     3                       1      5  1224892800   \n",
       "1                     3                       2      4  1212883200   \n",
       "\n",
       "                                        Summary  \\\n",
       "0             Bought This for My Son at College   \n",
       "1  Pure cocoa taste with crunchy almonds inside   \n",
       "\n",
       "                                                Text  \n",
       "0  My son loves spaghetti so I didn't hesitate or...  \n",
       "1  It was almost a 'love at first bite' - the per...  "
      ]
     },
     "execution_count": 15,
     "metadata": {},
     "output_type": "execute_result"
    }
   ],
   "source": [
    "display= pd.read_sql_query(\"\"\"\n",
    "SELECT *\n",
    "FROM Reviews\n",
    "WHERE Score != 3 AND Id=44737 OR Id=64422\n",
    "ORDER BY ProductID\n",
    "\"\"\", con)\n",
    "\n",
    "display.head()"
   ]
  },
  {
   "cell_type": "code",
   "execution_count": 16,
   "metadata": {
    "colab": {},
    "colab_type": "code",
    "id": "3-i1qJ6RxYxJ"
   },
   "outputs": [],
   "source": [
    "final=final[final.HelpfulnessNumerator<=final.HelpfulnessDenominator]"
   ]
  },
  {
   "cell_type": "code",
   "execution_count": 17,
   "metadata": {
    "colab": {
     "base_uri": "https://localhost:8080/",
     "height": 84
    },
    "colab_type": "code",
    "id": "lT9VEX6IxYxM",
    "outputId": "0f9ca4bd-6c60-4790-f7de-44a04ba35ec4"
   },
   "outputs": [
    {
     "name": "stdout",
     "output_type": "stream",
     "text": [
      "(83315, 10)\n"
     ]
    },
    {
     "data": {
      "text/plain": [
       "1    45420\n",
       "0    37895\n",
       "Name: Score, dtype: int64"
      ]
     },
     "execution_count": 17,
     "metadata": {},
     "output_type": "execute_result"
    }
   ],
   "source": [
    "#Before starting the next phase of preprocessing lets see the \n",
    "# number of entries left\n",
    "print(final.shape)\n",
    "\n",
    "#How many positive and negative reviews are present in our dataset?\n",
    "final['Score'].value_counts()"
   ]
  },
  {
   "cell_type": "markdown",
   "metadata": {
    "colab_type": "text",
    "id": "8upXXSc_xYxQ"
   },
   "source": [
    "#  [3] Preprocessing"
   ]
  },
  {
   "cell_type": "markdown",
   "metadata": {
    "colab_type": "text",
    "id": "1q90S2oFxYxR"
   },
   "source": [
    "## [3.1].  Preprocessing Review Text\n",
    "\n",
    "Now that we have finished deduplication our data requires some preprocessing before we go on further<br> \n",
    "with analysis and making the prediction model.\n",
    "\n",
    "Hence in the Preprocessing phase we do the following in the order below:-\n",
    "\n",
    "1. Begin by removing the html tags\n",
    "2. Remove any punctuations or limited set of special characters like , or . or # etc.\n",
    "3. Check if the word is made up of english letters and is not alpha-numeric\n",
    "4. Check to see if the length of the word is greater than 2 (as it was researched that there is<br>\n",
    "no adjective in 2-letters)\n",
    "5. Convert the word to lowercase\n",
    "6. Remove Stopwords\n",
    "7. Finally Snowball Stemming the word (it was obsereved to be better than Porter Stemming)<br>\n",
    "\n",
    "After which we collect the words used to describe positive and negative reviews"
   ]
  },
  {
   "cell_type": "code",
   "execution_count": 18,
   "metadata": {
    "colab": {
     "base_uri": "https://localhost:8080/",
     "height": 171
    },
    "colab_type": "code",
    "id": "5eVGUYN6xYxT",
    "outputId": "e0e6e409-be06-4018-f93e-46c35be34bb7"
   },
   "outputs": [
    {
     "name": "stdout",
     "output_type": "stream",
     "text": [
      "This is one of the best children's books ever written but it is a mini version of the book and was not portrayed as one.  It is over priced for the product.  I sent an email regarding my bewilderment  to Amazon and got no response.\n",
      "==================================================\n",
      "This stuff tasted so terrible that I had to spit it out before any more of the content permeated my poor mouth. Most people around me wouldn't take up the dare to try one because of the hamster-cage smell drifting out of the bag. The couple people who tried couldn't keep it down. Listen, it's very hard to change your lifestyle, and cookies are more than just food that's bad for you. Cookies make a person feel good, it's true. But if regular cookies have been removed from your menu, try to find something else. Anything else.\n",
      "==================================================\n",
      "These rose buds from Catey13 are precious. They have a soft aroma and a pretty look to them. I plan to use them for small sachets in the bags I bought from catey13, and use rose-colored ribbon to adorn the bags. I'm so glad this seller. I bought several things from her and she gave me a refund on the combined shipping costs.\n",
      "==================================================\n",
      "I have bought this brand of Chai for years and love it.  It is so satisfying and different from the decaf coffee I was drinking.  It's like a special treat.\n",
      "==================================================\n"
     ]
    }
   ],
   "source": [
    "# printing some random reviews\n",
    "sent_0 = final['Text'].values[0]\n",
    "print(sent_0)\n",
    "print(\"=\"*50)\n",
    "\n",
    "sent_1000 = final['Text'].values[1000]\n",
    "print(sent_1000)\n",
    "print(\"=\"*50)\n",
    "\n",
    "sent_1500 = final['Text'].values[1500]\n",
    "print(sent_1500)\n",
    "print(\"=\"*50)\n",
    "\n",
    "sent_4900 = final['Text'].values[4900]\n",
    "print(sent_4900)\n",
    "print(\"=\"*50)"
   ]
  },
  {
   "cell_type": "code",
   "execution_count": 19,
   "metadata": {
    "colab": {
     "base_uri": "https://localhost:8080/",
     "height": 54
    },
    "colab_type": "code",
    "id": "IbYMMGbyxYxY",
    "outputId": "c853ddc2-8625-4172-822b-b99d3d459359"
   },
   "outputs": [
    {
     "name": "stdout",
     "output_type": "stream",
     "text": [
      "This is one of the best children's books ever written but it is a mini version of the book and was not portrayed as one.  It is over priced for the product.  I sent an email regarding my bewilderment  to Amazon and got no response.\n"
     ]
    }
   ],
   "source": [
    "# remove urls from text python: https://stackoverflow.com/a/40823105/4084039\n",
    "sent_0 = re.sub(r\"http\\S+\", \"\", sent_0)\n",
    "sent_1000 = re.sub(r\"http\\S+\", \"\", sent_1000)\n",
    "sent_150 = re.sub(r\"http\\S+\", \"\", sent_1500)\n",
    "sent_4900 = re.sub(r\"http\\S+\", \"\", sent_4900)\n",
    "\n",
    "print(sent_0)"
   ]
  },
  {
   "cell_type": "code",
   "execution_count": 20,
   "metadata": {
    "colab": {
     "base_uri": "https://localhost:8080/",
     "height": 154
    },
    "colab_type": "code",
    "id": "KzLmcTlexYxe",
    "outputId": "27e5df71-c015-48af-cbff-15fdc3f91a2f"
   },
   "outputs": [
    {
     "name": "stdout",
     "output_type": "stream",
     "text": [
      "This is one of the best children's books ever written but it is a mini version of the book and was not portrayed as one.  It is over priced for the product.  I sent an email regarding my bewilderment  to Amazon and got no response.\n",
      "==================================================\n",
      "This stuff tasted so terrible that I had to spit it out before any more of the content permeated my poor mouth. Most people around me wouldn't take up the dare to try one because of the hamster-cage smell drifting out of the bag. The couple people who tried couldn't keep it down. Listen, it's very hard to change your lifestyle, and cookies are more than just food that's bad for you. Cookies make a person feel good, it's true. But if regular cookies have been removed from your menu, try to find something else. Anything else.\n",
      "==================================================\n",
      "These rose buds from Catey13 are precious. They have a soft aroma and a pretty look to them. I plan to use them for small sachets in the bags I bought from catey13, and use rose-colored ribbon to adorn the bags. I'm so glad this seller. I bought several things from her and she gave me a refund on the combined shipping costs.\n",
      "==================================================\n",
      "I have bought this brand of Chai for years and love it.  It is so satisfying and different from the decaf coffee I was drinking.  It's like a special treat.\n"
     ]
    }
   ],
   "source": [
    "# https://stackoverflow.com/questions/16206380/python-beautifulsoup-\\\n",
    "# how-to-remove-all-tags-from-an-element\n",
    "from bs4 import BeautifulSoup\n",
    "\n",
    "soup = BeautifulSoup(sent_0, 'lxml')\n",
    "text = soup.get_text()\n",
    "print(text)\n",
    "print(\"=\"*50)\n",
    "\n",
    "soup = BeautifulSoup(sent_1000, 'lxml')\n",
    "text = soup.get_text()\n",
    "print(text)\n",
    "print(\"=\"*50)\n",
    "\n",
    "soup = BeautifulSoup(sent_1500, 'lxml')\n",
    "text = soup.get_text()\n",
    "print(text)\n",
    "print(\"=\"*50)\n",
    "\n",
    "soup = BeautifulSoup(sent_4900, 'lxml')\n",
    "text = soup.get_text()\n",
    "print(text)"
   ]
  },
  {
   "cell_type": "code",
   "execution_count": 21,
   "metadata": {
    "colab": {},
    "colab_type": "code",
    "id": "MFHeQ1EdxYxj"
   },
   "outputs": [],
   "source": [
    "# https://stackoverflow.com/a/47091490/4084039\n",
    "import re\n",
    "\n",
    "def decontracted(phrase):\n",
    "    # specific\n",
    "    phrase = re.sub(r\"won't\", \"will not\", phrase)\n",
    "    phrase = re.sub(r\"can\\'t\", \"can not\", phrase)\n",
    "\n",
    "    # general\n",
    "    phrase = re.sub(r\"n\\'t\", \" not\", phrase)\n",
    "    phrase = re.sub(r\"\\'re\", \" are\", phrase)\n",
    "    phrase = re.sub(r\"\\'s\", \" is\", phrase)\n",
    "    phrase = re.sub(r\"\\'d\", \" would\", phrase)\n",
    "    phrase = re.sub(r\"\\'ll\", \" will\", phrase)\n",
    "    phrase = re.sub(r\"\\'t\", \" not\", phrase)\n",
    "    phrase = re.sub(r\"\\'ve\", \" have\", phrase)\n",
    "    phrase = re.sub(r\"\\'m\", \" am\", phrase)\n",
    "    return phrase"
   ]
  },
  {
   "cell_type": "code",
   "execution_count": 22,
   "metadata": {
    "colab": {
     "base_uri": "https://localhost:8080/",
     "height": 70
    },
    "colab_type": "code",
    "id": "_Rd6CIOLxYxm",
    "outputId": "175cf16d-3434-43d2-a34b-3ba54fc9fa22"
   },
   "outputs": [
    {
     "name": "stdout",
     "output_type": "stream",
     "text": [
      "These rose buds from Catey13 are precious. They have a soft aroma and a pretty look to them. I plan to use them for small sachets in the bags I bought from catey13, and use rose-colored ribbon to adorn the bags. I am so glad this seller. I bought several things from her and she gave me a refund on the combined shipping costs.\n",
      "==================================================\n"
     ]
    }
   ],
   "source": [
    "sent_1500 = decontracted(sent_1500)\n",
    "print(sent_1500)\n",
    "print(\"=\"*50)"
   ]
  },
  {
   "cell_type": "code",
   "execution_count": 23,
   "metadata": {
    "colab": {
     "base_uri": "https://localhost:8080/",
     "height": 54
    },
    "colab_type": "code",
    "id": "ybv_uaFyxYxp",
    "outputId": "219a3ed4-c6e7-4b53-d219-77cf8c009a92"
   },
   "outputs": [
    {
     "name": "stdout",
     "output_type": "stream",
     "text": [
      "This is one of the best children's books ever written but it is a mini version of the book and was not portrayed as one.  It is over priced for the product.  I sent an email regarding my bewilderment  to Amazon and got no response.\n"
     ]
    }
   ],
   "source": [
    "#remove words with numbers python: https://stackoverflow.com/a/18082370/4084039\n",
    "sent_0 = re.sub(\"\\S*\\d\\S*\", \"\", sent_0).strip()\n",
    "print(sent_0)"
   ]
  },
  {
   "cell_type": "code",
   "execution_count": 24,
   "metadata": {
    "colab": {
     "base_uri": "https://localhost:8080/",
     "height": 54
    },
    "colab_type": "code",
    "id": "FP9PBbMoxYxs",
    "outputId": "a95074e7-704f-46ab-b512-22492a9440b1"
   },
   "outputs": [
    {
     "name": "stdout",
     "output_type": "stream",
     "text": [
      "These rose buds from Catey13 are precious They have a soft aroma and a pretty look to them I plan to use them for small sachets in the bags I bought from catey13 and use rose colored ribbon to adorn the bags I am so glad this seller I bought several things from her and she gave me a refund on the combined shipping costs \n"
     ]
    }
   ],
   "source": [
    "#remove spacial character: https://stackoverflow.com/a/5843547/4084039\n",
    "sent_1500 = re.sub('[^A-Za-z0-9]+', ' ', sent_1500)\n",
    "print(sent_1500)"
   ]
  },
  {
   "cell_type": "code",
   "execution_count": 25,
   "metadata": {
    "colab": {},
    "colab_type": "code",
    "id": "fqcHDfjdxYxw"
   },
   "outputs": [],
   "source": [
    "# https://gist.github.com/sebleier/554280\n",
    "# we are removing the words from the stop words list: 'no', 'nor', 'not'\n",
    "# <br /><br /> ==> after the above steps, we are getting \"br br\"\n",
    "# we are including them into stop words list\n",
    "# instead of <br /> if we have <br/> these tags would have revmoved \n",
    "# in the 1st step\n",
    "\n",
    "stopwords= set(['br', 'the', 'i', 'me', 'my', 'myself', 'we', 'our', 'ours',\\\n",
    "                'ourselves', 'you', \"you're\", \"you've\",\\\n",
    "\"you'll\", \"you'd\", 'your', 'yours', 'yourself', 'yourselves', 'he', 'him',\\\n",
    "                'his', 'himself', \\\n",
    "'she', \"she's\", 'her', 'hers', 'herself', 'it', \"it's\", 'its', 'itself', \\\n",
    "                'they', 'them', 'their',\\\n",
    "'theirs', 'themselves', 'what', 'which', 'who', 'whom', 'this', 'that',\\\n",
    "                \"that'll\", 'these', 'those', \\\n",
    "'am', 'is', 'are', 'was', 'were', 'be', 'been', 'being', 'have', 'has',\\\n",
    "                'had', 'having', 'do', 'does', \\\n",
    "'did', 'doing', 'a', 'an', 'the', 'and', 'but', 'if', 'or', 'because', \\\n",
    "                'as', 'until', 'while', 'of', \\\n",
    "'at', 'by', 'for', 'with', 'about', 'against', 'between', 'into', 'through',\\\n",
    "                'during', 'before', 'after',\\\n",
    "'above', 'below', 'to', 'from', 'up', 'down', 'in', 'out', 'on', 'off',\\\n",
    "                'over', 'under', 'again', 'further',\\\n",
    "'then', 'once', 'here', 'there', 'when', 'where', 'why', 'how', 'all',\\\n",
    "                'any', 'both', 'each', 'few', 'more',\\\n",
    "'most', 'other', 'some', 'such', 'only', 'own', 'same', 'so', 'than',\\\n",
    "                'too', 'very', \\\n",
    "'s', 't', 'can', 'will', 'just', 'don', \"don't\", 'should', \"should've\",\\\n",
    "                'now', 'd', 'll', 'm', 'o', 're', \\\n",
    "'ve', 'y', 'ain', 'aren', \"aren't\", 'couldn', \"couldn't\", 'didn',\\\n",
    "                \"didn't\", 'doesn', \"doesn't\", 'hadn',\\\n",
    "\"hadn't\", 'hasn', \"hasn't\", 'haven', \"haven't\", 'isn', \"isn't\",\\\n",
    "                'ma', 'mightn', \"mightn't\", 'mustn',\\\n",
    "\"mustn't\", 'needn', \"needn't\", 'shan', \"shan't\", 'shouldn',\\\n",
    "                \"shouldn't\", 'wasn', \"wasn't\", 'weren', \"weren't\", \\\n",
    "'won', \"won't\", 'wouldn', \"wouldn't\"])"
   ]
  },
  {
   "cell_type": "code",
   "execution_count": 26,
   "metadata": {
    "colab": {
     "base_uri": "https://localhost:8080/",
     "height": 34
    },
    "colab_type": "code",
    "id": "ASHH72tmxYx0",
    "outputId": "01eb34ee-0a2e-4935-f668-d511aa6b1e22"
   },
   "outputs": [
    {
     "name": "stderr",
     "output_type": "stream",
     "text": [
      "100%|██████████| 83315/83315 [00:27<00:00, 2978.27it/s]\n"
     ]
    }
   ],
   "source": [
    "# Combining all the above stundents \n",
    "from tqdm import tqdm\n",
    "preprocessed_reviews = []\n",
    "review_score = []\n",
    "# tqdm is for printing the status bar\n",
    "for sentence, score in tqdm(final[['Text', 'Score']].values):\n",
    "    sentence = re.sub(r\"http\\S+\", \"\", sentence)\n",
    "    sentence = BeautifulSoup(sentence, 'lxml').get_text()\n",
    "    sentence = decontracted(sentence)\n",
    "    sentence = re.sub(\"\\S*\\d\\S*\", \"\", sentence).strip()\n",
    "    sentence = re.sub('[^A-Za-z]+', ' ', sentence)\n",
    "    # https://gist.github.com/sebleier/554280\n",
    "    sentence = ' '.join(e.lower() for e in sentence.split() \\\n",
    "                        if e.lower() not in stopwords)\n",
    "    preprocessed_reviews.append(sentence.strip())\n",
    "    review_score.append(score)"
   ]
  },
  {
   "cell_type": "code",
   "execution_count": 27,
   "metadata": {
    "colab": {
     "base_uri": "https://localhost:8080/",
     "height": 54
    },
    "colab_type": "code",
    "id": "fjJAX8aQxYx3",
    "outputId": "7e1d8b7c-9e6d-4c63-9ed2-8b9138a2c793"
   },
   "outputs": [
    {
     "data": {
      "text/plain": [
       "'rose buds precious soft aroma pretty look plan use small sachets bags bought use rose colored ribbon adorn bags glad seller bought several things gave refund combined shipping costs'"
      ]
     },
     "execution_count": 27,
     "metadata": {},
     "output_type": "execute_result"
    }
   ],
   "source": [
    "preprocessed_reviews[1500]"
   ]
  },
  {
   "cell_type": "code",
   "execution_count": 28,
   "metadata": {
    "colab": {
     "base_uri": "https://localhost:8080/",
     "height": 34
    },
    "colab_type": "code",
    "id": "8dgedIuzdovs",
    "outputId": "459edf28-1182-450a-a12d-94ac17a27079"
   },
   "outputs": [
    {
     "data": {
      "text/plain": [
       "83315"
      ]
     },
     "execution_count": 28,
     "metadata": {},
     "output_type": "execute_result"
    }
   ],
   "source": [
    "len(preprocessed_reviews)"
   ]
  },
  {
   "cell_type": "markdown",
   "metadata": {
    "colab_type": "text",
    "id": "dls3R9JcxYx7"
   },
   "source": [
    "<h2><font color='red'>[3.2] Preprocessing Review Summary</font></h2>"
   ]
  },
  {
   "cell_type": "code",
   "execution_count": 29,
   "metadata": {
    "colab": {
     "base_uri": "https://localhost:8080/",
     "height": 34
    },
    "colab_type": "code",
    "id": "6vIg-kXSxYx8",
    "outputId": "c8fb307d-19bc-4555-9c0c-b47f3e5413bf"
   },
   "outputs": [
    {
     "name": "stderr",
     "output_type": "stream",
     "text": [
      "100%|██████████| 83315/83315 [00:17<00:00, 4788.63it/s]\n"
     ]
    }
   ],
   "source": [
    "## Similartly you can do preprocessing for review summary also.\n",
    "# Combining all the above stundents \n",
    "preprocessed_summary = []\n",
    "for summary in tqdm(final['Summary'].values):\n",
    "    summary = re.sub(r\"http\\S+\", \"\", summary)\n",
    "    summary = BeautifulSoup(summary, 'lxml').get_text()\n",
    "    summary = decontracted(summary)\n",
    "    summary = re.sub(\"\\S*\\d\\S*\", \"\", summary).strip()\n",
    "    summary = re.sub('[^A-Za-z0-9]+', ' ', summary)   # adding 0-9 in the regex\n",
    "    summary = ' '.join(e.lower() for e in summary.split()\\\n",
    "                       if e.lower() not in stopwords)\n",
    "    preprocessed_summary.append(summary.strip())"
   ]
  },
  {
   "cell_type": "code",
   "execution_count": 30,
   "metadata": {
    "colab": {
     "base_uri": "https://localhost:8080/",
     "height": 34
    },
    "colab_type": "code",
    "id": "2ssRArfifyKr",
    "outputId": "caffca06-d997-482a-bb68-6d11bb7aa435"
   },
   "outputs": [
    {
     "data": {
      "text/plain": [
       "83315"
      ]
     },
     "execution_count": 30,
     "metadata": {},
     "output_type": "execute_result"
    }
   ],
   "source": [
    "len(preprocessed_summary)"
   ]
  },
  {
   "cell_type": "code",
   "execution_count": 31,
   "metadata": {
    "colab": {
     "base_uri": "https://localhost:8080/",
     "height": 54
    },
    "colab_type": "code",
    "id": "jEI-6U6gf1Kj",
    "outputId": "8b2ce644-8d03-4e22-a03f-4d5df8f9c522"
   },
   "outputs": [
    {
     "name": "stdout",
     "output_type": "stream",
     "text": [
      "['one best children books ever written mini version book not portrayed one priced product sent email regarding bewilderment amazon got no response awesome book poor size', 'give five stars maurice sendak story one star printed edition book children older copy book familiar previous softcover version ordered granddaughters embarrassed give gift looks puny book size postcard think overpriced learned lesson not buying softcover children books next time get used copy story great softcover book disappointing', 'dogs loves chicken product china wont buying anymore hard find chicken products made usa one isnt bad good product wont take chances till know going china imports made china', 'dogs love saw pet store tag attached regarding made china satisfied safe dog lover delites', 'received containers previously opened seals opened top containers decent pieces liver grisley pieces lot powder bottom never buy liver treats amazon big rip review freeze dried liver treats dogs']\n"
     ]
    }
   ],
   "source": [
    "preprocessed_text = [str(rev+' '+summ) for rev, summ in \\\n",
    "                     zip(preprocessed_reviews, preprocessed_summary)]\n",
    "print(preprocessed_text[:5])"
   ]
  },
  {
   "cell_type": "code",
   "execution_count": 32,
   "metadata": {
    "colab": {},
    "colab_type": "code",
    "id": "Bw1Pg282kLCQ"
   },
   "outputs": [],
   "source": [
    "# importing train_test_split to split data\n",
    "from sklearn.model_selection import train_test_split"
   ]
  },
  {
   "cell_type": "code",
   "execution_count": 35,
   "metadata": {
    "colab": {},
    "colab_type": "code",
    "id": "0C9yK1fUkTIO"
   },
   "outputs": [],
   "source": [
    "# this is random splitting into train, test and cross validation set\n",
    "ppText_train, ppText_test, rs_train, rs_test = train_test_split(\n",
    "                            preprocessed_text, review_score,\n",
    "                            test_size=0.30, random_state = 0,\n",
    "                            stratify = review_score) "
   ]
  },
  {
   "cell_type": "code",
   "execution_count": 38,
   "metadata": {
    "colab": {
     "base_uri": "https://localhost:8080/",
     "height": 50
    },
    "colab_type": "code",
    "id": "FdiVpeIPkkwd",
    "outputId": "1c87d1d5-dc81-46cb-da37-a4fee9544f51"
   },
   "outputs": [
    {
     "name": "stdout",
     "output_type": "stream",
     "text": [
      "Train data length  58320\n",
      "Test data length  24995\n"
     ]
    }
   ],
   "source": [
    "print(\"Train data length \", len(ppText_train))\n",
    "print(\"Test data length \", len(ppText_test))"
   ]
  },
  {
   "cell_type": "code",
   "execution_count": 39,
   "metadata": {
    "colab": {
     "base_uri": "https://localhost:8080/",
     "height": 87
    },
    "colab_type": "code",
    "id": "TVwpWhrQk-pG",
    "outputId": "aa6233c2-42d8-4f05-a403-00e652dcf895"
   },
   "outputs": [
    {
     "data": {
      "text/plain": [
       "['bought emergen c normal vitamins not work good one everytime feel beginning get sick start taking stops symptoms day amazing love not getting sick flew anymore would recommend best',\n",
       " 'works chicken fish beef pork fast easy makes taste excellent plus buying bulk box stores awesome stuff',\n",
       " 'package label looks different one says mount sterling goat milk feta greek style used buy lots loved nice crumbly salads omelets bunch recipes flavoful long shelf life not surprised opened package crumble salad not crumbly no different sliceable cheese figured labeling mistake returned store later thing returned store dug bottom heap found last packages real feta even see difference outside package part description website dry crumbly cheese excellent dishes vegetables label picture exactly one buy looked today emailed mount sterling politely explaing situation figured would want know received curt reply telling welcome return store month ago decided try even though still not look like feta package bought anyway not nice crumbly feta returned checked cops like cheeses including raw milk chedder not likely buy companythat not care either explaining correcting problem not exactly make trust quality may sell feta soon buyers try crumble not buying disappointed loved cheese not feta']"
      ]
     },
     "execution_count": 39,
     "metadata": {},
     "output_type": "execute_result"
    }
   ],
   "source": [
    "ppText_train[:3]"
   ]
  },
  {
   "cell_type": "markdown",
   "metadata": {
    "colab_type": "text",
    "id": "BNdMk_R-xYx-"
   },
   "source": [
    "# [4] Featurization"
   ]
  },
  {
   "cell_type": "markdown",
   "metadata": {
    "colab_type": "text",
    "id": "Sx-BwTNsxYx_"
   },
   "source": [
    "## [4.1] BAG OF WORDS"
   ]
  },
  {
   "cell_type": "code",
   "execution_count": 40,
   "metadata": {
    "colab": {
     "base_uri": "https://localhost:8080/",
     "height": 118
    },
    "colab_type": "code",
    "id": "ShuLHyKJxYyA",
    "outputId": "62e2bf4d-7598-4407-dad4-cbe0beec33a1"
   },
   "outputs": [
    {
     "name": "stdout",
     "output_type": "stream",
     "text": [
      "some feature names  ['able', 'able find', 'able get', 'absolute', 'absolute favorite', 'absolutely', 'absolutely delicious', 'absolutely love', 'absolutely loves', 'absolutely no']\n",
      "==================================================\n",
      "Reading vectors from drive..\n",
      "\n",
      "Shapes After Vectorization \n",
      "Train shape  (58320, 5000) 58320\n",
      "Test shape   (24995, 5000) 24995\n",
      "Unique words in training :  5000\n"
     ]
    }
   ],
   "source": [
    "#BoW\n",
    "fullPath = dir_path+'models/'+'bow_vectors.pickle'\n",
    "useOldData = True\n",
    "count_vect = CountVectorizer(ngram_range=(1,2), min_df=10,\n",
    "                          max_features=5000) #in scikit-learn\n",
    "count_vect.fit(ppText_train)\n",
    "print(\"some feature names \", count_vect.get_feature_names()[:10])\n",
    "print('='*50)\n",
    "if os.path.isfile(fullPath) and useOldData:\n",
    "    print(\"Reading vectors from drive..\")\n",
    "    with open(fullPath, 'rb') as f:\n",
    "        bow_train, bow_test = pickle.load(f)\n",
    "    \n",
    "else:\n",
    "    bow_train = count_vect.transform(ppText_train)\n",
    "    bow_test = count_vect.transform(ppText_test)\n",
    "  \n",
    "    # Save the vectors\n",
    "    with open(fullPath,'wb') as f:\n",
    "        pickle.dump((bow_train, bow_test), f)\n",
    "\n",
    "print(\"\\nShapes After Vectorization \")\n",
    "print(\"Train shape \", bow_train.shape, len(rs_train))\n",
    "print(\"Test shape  \", bow_test.shape, len(rs_test))\n",
    "print(\"Unique words in training : \", bow_train.get_shape()[1])"
   ]
  },
  {
   "cell_type": "markdown",
   "metadata": {
    "colab_type": "text",
    "id": "yNBDxZQixYyC"
   },
   "source": [
    "## [4.2] Bi-Grams and n-Grams."
   ]
  },
  {
   "cell_type": "code",
   "execution_count": 0,
   "metadata": {
    "colab": {
     "base_uri": "https://localhost:8080/",
     "height": 72
    },
    "colab_type": "code",
    "id": "L_M7j_FlxYyC",
    "outputId": "b8da9a8e-8846-4c9d-979a-81edb4280ed3"
   },
   "outputs": [
    {
     "name": "stdout",
     "output_type": "stream",
     "text": [
      "the type of count vectorizer  <class 'scipy.sparse.csr.csr_matrix'>\n",
      "the shape of out text BOW vectorizer  (83315, 5000)\n",
      "the number of unique words including both unigrams and bigrams  5000\n"
     ]
    }
   ],
   "source": [
    "#bi-gram, tri-gram and n-gram\n",
    "\n",
    "#removing stop words like \"not\" should be avoided before building n-grams\n",
    "# count_vect = CountVectorizer(ngram_range=(1,2))\n",
    "# please do read the CountVectorizer documentation \n",
    "#http://scikit-learn.org/stable/modules/generated/\n",
    "#sklearn.feature_extraction.text.CountVectorizer.html\n",
    "\n",
    "count_vect_bi = CountVectorizer(ngram_range=(1,2), min_df=10, \n",
    "                                max_features=5000)\n",
    "final_bigram_counts = count_vect_bi.fit_transform(preprocessed_text)\n",
    "print(\"the type of count vectorizer \",type(final_bigram_counts))\n",
    "print(\"the shape of out text BOW vectorizer \",final_bigram_counts.get_shape())\n",
    "print(\"the number of unique words including both unigrams and bigrams \", \n",
    "                    final_bigram_counts.get_shape()[1])"
   ]
  },
  {
   "cell_type": "markdown",
   "metadata": {
    "colab_type": "text",
    "id": "kMYxHNk7xYyG"
   },
   "source": [
    "## [4.3] TF-IDF"
   ]
  },
  {
   "cell_type": "code",
   "execution_count": 41,
   "metadata": {
    "colab": {
     "base_uri": "https://localhost:8080/",
     "height": 118
    },
    "colab_type": "code",
    "id": "tOuwWPSExYyG",
    "outputId": "16737d10-f032-47e8-f388-b6943cc32bdf"
   },
   "outputs": [
    {
     "name": "stdout",
     "output_type": "stream",
     "text": [
      "Some sample features(unique words in the training corpus) ['able', 'able find', 'able get', 'absolute', 'absolute favorite', 'absolutely', 'absolutely delicious', 'absolutely love', 'absolutely loves', 'absolutely no']\n",
      "==================================================\n",
      "Reading vectors from drive..\n",
      "\n",
      "Shapes After Vectorization \n",
      "Train shape  (58320, 5000) 58320\n",
      "Test shape   (24995, 5000) 24995\n",
      "Unique words in training :  5000\n"
     ]
    }
   ],
   "source": [
    "fullPath = dir_path+'models/'+'tfIdf_vectors.pickle'\n",
    "useOldData=True\n",
    "tf_idf_vect = TfidfVectorizer(ngram_range=(1,2), min_df=10,\n",
    "                             max_features=5000)\n",
    "tf_idf_vect.fit(ppText_train)\n",
    "print(\"Some sample features(unique words in the training corpus)\",\n",
    "    tf_idf_vect.get_feature_names()[0:10])\n",
    "print('='*50)\n",
    "if os.path.isfile(fullPath) and useOldData:\n",
    "    print(\"Reading vectors from drive..\")\n",
    "    with open(fullPath, 'rb') as f:\n",
    "        tfIdf_train, tfIdf_test = pickle.load(f)\n",
    "    \n",
    "else:\n",
    "    tfIdf_train = tf_idf_vect.transform(ppText_train)\n",
    "    tfIdf_test = tf_idf_vect.transform(ppText_test)\n",
    "  \n",
    "    # Save the vectors\n",
    "    with open(fullPath,'wb') as f:\n",
    "        pickle.dump((tfIdf_train, tfIdf_test), f)\n",
    "\n",
    "\n",
    "print(\"\\nShapes After Vectorization \")\n",
    "print(\"Train shape \", tfIdf_train.shape, len(rs_train))\n",
    "print(\"Test shape  \", tfIdf_test.shape, len(rs_test))\n",
    "print(\"Unique words in training : \", tfIdf_train.get_shape()[1])"
   ]
  },
  {
   "cell_type": "markdown",
   "metadata": {
    "colab_type": "text",
    "id": "BjmU2_lBxYyJ"
   },
   "source": [
    "## [4.4] Word2Vec"
   ]
  },
  {
   "cell_type": "code",
   "execution_count": 42,
   "metadata": {
    "colab": {},
    "colab_type": "code",
    "id": "vPfAgkWDxYyM"
   },
   "outputs": [],
   "source": [
    "# Train your own Word2Vec model using your own text corpus\n",
    "i=0\n",
    "\n",
    "# list of sentences divided into train and test set\n",
    "train_sentences = [sentence.split() for sentence in ppText_train]\n",
    "test_sentences = [sentence.split() for sentence in ppText_test]"
   ]
  },
  {
   "cell_type": "code",
   "execution_count": 43,
   "metadata": {
    "colab": {
     "base_uri": "https://localhost:8080/",
     "height": 87
    },
    "colab_type": "code",
    "id": "HozwUf1xxYyR",
    "outputId": "2db0fe55-7c59-4355-90a3-a4b590e3e1f9",
    "scrolled": true
   },
   "outputs": [
    {
     "name": "stdout",
     "output_type": "stream",
     "text": [
      "[('awesome', 0.8134129047393799), ('fantastic', 0.7916662693023682), ('excellent', 0.7807477712631226), ('terrific', 0.7619752883911133), ('wonderful', 0.7503091096878052), ('good', 0.7279794812202454), ('perfect', 0.684151828289032), ('amazing', 0.6613575220108032), ('nice', 0.6196218729019165), ('fabulous', 0.6102997064590454)]\n",
      "==================================================\n",
      "[('nastiest', 0.7822471857070923), ('greatest', 0.6812180280685425), ('disgusting', 0.6689467430114746), ('grossest', 0.6398121118545532), ('best', 0.6092371940612793), ('weakest', 0.6060304641723633), ('terrible', 0.5948117971420288), ('weirdest', 0.5907611846923828), ('vile', 0.5707257986068726), ('awful', 0.5698878765106201)]\n"
     ]
    }
   ],
   "source": [
    "# Using Google News Word2Vectors\n",
    "\n",
    "# in this project we are using a pretrained model by google\n",
    "# its 3.3G file, once you load this into your memory \n",
    "# it occupies ~9Gb, so please do this step only if you have >12G of ram\n",
    "# we will provide a pickle file wich contains a dict , \n",
    "# and it contains all our courpus words as keys and  model[word] as values\n",
    "# To use this code-snippet, download \"GoogleNews-vectors-negative300.bin\" \n",
    "# from https://drive.google.com/file/d/0B7XkCwpI5KDYNlNUTTlSS21pQmM/edit\n",
    "# it's 1.9GB in size.\n",
    "\n",
    "\n",
    "# http://kavita-ganesan.com/gensim-word2vec-tutorial-starter-code/#.W17SRFAzZPY\n",
    "# you can comment this whole cell\n",
    "# or change these varible according to your need\n",
    "\n",
    "is_your_ram_gt_16g=False\n",
    "want_to_use_google_w2v = False\n",
    "want_to_train_w2v = True\n",
    "fullPath = dir_path+'models/'+'w2V_model.pickle'\n",
    "useOldData=True\n",
    "\n",
    "if want_to_train_w2v:\n",
    "    # min_count = 5 considers only words that occured atleast 5 times\n",
    "    if os.path.isfile(fullPath) and useOldData:\n",
    "        with open(fullPath, 'rb') as f:\n",
    "            w2v_model = pickle.load(f)\n",
    "    else:\n",
    "        w2v_model=Word2Vec(train_sentences,min_count=5,size=128, workers=4)\n",
    "        # Save word2Vec model\n",
    "        with open(fullPath,'wb') as f:\n",
    "            pickle.dump(w2v_model, f)\n",
    "    print(w2v_model.wv.most_similar('great'))\n",
    "    print('='*50)\n",
    "    print(w2v_model.wv.most_similar('worst'))\n",
    "    \n",
    "elif want_to_use_google_w2v and is_your_ram_gt_16g:\n",
    "    if os.path.isfile('GoogleNews-vectors-negative300.bin'):\n",
    "        w2v_model=KeyedVectors.load_word2vec_format(\n",
    "                      'GoogleNews-vectors-negative300.bin', binary=True)\n",
    "        print(w2v_model.wv.most_similar('great'))\n",
    "        print(w2v_model.wv.most_similar('worst'))\n",
    "    else:\n",
    "        print(\"you don't have gogole's word2vec file, keep \\\n",
    "          want_to_train_w2v = True, to train your own w2v \")"
   ]
  },
  {
   "cell_type": "code",
   "execution_count": 44,
   "metadata": {
    "colab": {
     "base_uri": "https://localhost:8080/",
     "height": 70
    },
    "colab_type": "code",
    "id": "MnQ3E8aYxYyV",
    "outputId": "d1b283e1-b5d0-4d0d-e2c4-eb292c231093"
   },
   "outputs": [
    {
     "name": "stdout",
     "output_type": "stream",
     "text": [
      "number of words that occured minimum 5 times  15456\n",
      "sample words  ['little', 'disappointed', 'mild', 'tried', 'brewing', 'stronger', 'not', 'cup', 'tea', 'great', 'singapore', 'satay', 'favourite', 'food', 'sauce', 'much', 'tamarind', 'peanuts', 'ground', 'finely', 'like', 'eating', 'coarse', 'sugar', 'brand', 'makes', 'better', 'could', 'find', 'let', 'back', 'sure', 'note', 'marinade', 'bottom', 'expecting', 'rising', 'pizza', 'crust', 'might', 'get', 'standard', 'dough', 'need', 'look', 'elsewhere', 'said', 'pretty', 'good', 'right']\n"
     ]
    }
   ],
   "source": [
    "w2v_words = list(w2v_model.wv.vocab)\n",
    "print(\"number of words that occured minimum 5 times \",len(w2v_words))\n",
    "print(\"sample words \", w2v_words[0:50])"
   ]
  },
  {
   "cell_type": "markdown",
   "metadata": {
    "colab_type": "text",
    "id": "wxJ5-su5xYyc"
   },
   "source": [
    "## [4.4.1] Converting text into vectors using Avg W2V, TFIDF-W2V"
   ]
  },
  {
   "cell_type": "markdown",
   "metadata": {
    "colab_type": "text",
    "id": "GOAOCCn0xYyd"
   },
   "source": [
    "#### [4.4.1.1] Avg W2v"
   ]
  },
  {
   "cell_type": "code",
   "execution_count": 45,
   "metadata": {
    "colab": {
     "base_uri": "https://localhost:8080/",
     "height": 67
    },
    "colab_type": "code",
    "id": "7lF30n8-xYye",
    "outputId": "8ff93286-367d-497b-b44f-8d579ba18d14"
   },
   "outputs": [
    {
     "name": "stdout",
     "output_type": "stream",
     "text": [
      "Vectors loaded from drive..\n",
      "Dims of Train : (58320, 128)\n",
      "Dims of Test : (24995, 128)\n"
     ]
    }
   ],
   "source": [
    "fullPath = dir_path+'models/'+'avg_W2V.pickle'\n",
    "useOldData=True\n",
    "\n",
    "# average Word2Vec\n",
    "\n",
    "avgW2V_train, avgW2V_test = [], []\n",
    "c = 0\n",
    "\n",
    "if os.path.isfile(fullPath) and useOldData:\n",
    "    print(\"Vectors loaded from drive..\")\n",
    "    with open(fullPath, 'rb') as f:\n",
    "        avgW2V_train, avgW2V_test = pickle.load(f)\n",
    "    \n",
    "else:\n",
    "    for i, sent_set in enumerate([train_sentences, test_sentences]):\n",
    "        for sent in sent_set:\n",
    "            c += 1\n",
    "            if c % 1000==0:\n",
    "                print(\"Progress : {:3d} %  \".format(\n",
    "                        int(c/len(preprocessed_reviews)*100)),\n",
    "                        end='\\r')\n",
    "            sent_vec = np.zeros(128)\n",
    "            cnt_words = 0\n",
    "            for word in sent:\n",
    "                if word in w2v_words:\n",
    "                    vec = w2v_model.wv[word]\n",
    "                    sent_vec += vec\n",
    "                    cnt_words += 1\n",
    "            if cnt_words != 0:\n",
    "                sent_vec /= cnt_words\n",
    "            if i==0:\n",
    "                avgW2V_train.append(sent_vec)\n",
    "            if i==1:\n",
    "                avgW2V_test.append(sent_vec)\n",
    "  \n",
    "    print(\"Saving to drive..\")\n",
    "    with open(fullPath,'wb') as f:\n",
    "        pickle.dump((avgW2V_train, avgW2V_test), f)\n",
    "\n",
    "print(\"Dims of Train : ({}, {})\".format(len(avgW2V_train), \n",
    "                                        len(avgW2V_train[0])))\n",
    "print(\"Dims of Test : ({}, {})\".format(len(avgW2V_test), \n",
    "                                       len(avgW2V_test[0])))"
   ]
  },
  {
   "cell_type": "markdown",
   "metadata": {
    "colab_type": "text",
    "id": "ezxM79-MxYyi"
   },
   "source": [
    "#### [4.4.1.2] TFIDF weighted W2v"
   ]
  },
  {
   "cell_type": "code",
   "execution_count": 46,
   "metadata": {
    "colab": {},
    "colab_type": "code",
    "id": "prD-tyLyxYyj"
   },
   "outputs": [],
   "source": [
    "# S = [\"abc def pqr\", \"def def def abc\", \"pqr pqr def\"]\n",
    "model = TfidfVectorizer(min_df=5)\n",
    "tf_idf_matrix = model.fit_transform(ppText_train)\n",
    "# we are converting a dictionary with word as a key, and the idf as a value\n",
    "dictionary = dict(zip(model.get_feature_names(), list(model.idf_)))"
   ]
  },
  {
   "cell_type": "code",
   "execution_count": 47,
   "metadata": {
    "colab": {
     "base_uri": "https://localhost:8080/",
     "height": 67
    },
    "colab_type": "code",
    "id": "Mtj-cCzcxYyl",
    "outputId": "d00a1966-b90c-497c-e9fb-456fae247d70",
    "scrolled": true
   },
   "outputs": [
    {
     "name": "stdout",
     "output_type": "stream",
     "text": [
      "Vectors loaded from drive..\n",
      "Dims of Train : (58320, 128)\n",
      "Dims of Test : (24995, 128)\n"
     ]
    }
   ],
   "source": [
    "# TF-IDF weighted Word2Vec\n",
    "tfidf_feat = model.get_feature_names() # tfidf words/col-names\n",
    "# final_tf_idf is the sparse matrix with row= sentence, \n",
    "# col=word and cell_val = tfidf\n",
    "\n",
    "fullPath = dir_path+'models/'+'tfIdf_avg_W2V.pickle'\n",
    "useOldData=True\n",
    "\n",
    "tfidf_avgW2V_train, tfidf_avgW2V_test = [], []\n",
    "c = 0\n",
    "\n",
    "if os.path.isfile(fullPath) and useOldData:\n",
    "    print(\"Vectors loaded from drive..\")\n",
    "    with open(fullPath, 'rb') as f:\n",
    "        tfidf_avgW2V_train, tfidf_avgW2V_test = pickle.load(f)\n",
    "    \n",
    "else:\n",
    "    for i, sent_set in enumerate([train_sentences, test_sentences]):\n",
    "        for sent in sent_set:\n",
    "            c += 1\n",
    "            if c % 1000==0:\n",
    "                print(\"Progress : {:3d} %  \".format(\n",
    "                        int(c/len(preprocessed_reviews)*100)), \n",
    "                        end='\\r')\n",
    "            sent_vec = np.zeros(128)\n",
    "            weight_sum = 0\n",
    "            for word in sent:\n",
    "                if word in w2v_words and word in tfidf_feat:\n",
    "                    vec = w2v_model.wv[word]\n",
    "                    tf_idf = dictionary[word]*(sent.count(word)/len(sent))\n",
    "                    sent_vec += (vec * tf_idf)\n",
    "                    weight_sum += tf_idf\n",
    "            if weight_sum != 0:\n",
    "                sent_vec /= weight_sum\n",
    "            if i==0:\n",
    "                tfidf_avgW2V_train.append(sent_vec)\n",
    "            if i==1:\n",
    "                tfidf_avgW2V_test.append(sent_vec)\n",
    "              \n",
    "    print(\"Saving to drive..\")\n",
    "    with open(fullPath,'wb') as f:\n",
    "        pickle.dump((tfidf_avgW2V_train, tfidf_avgW2V_test), f)\n",
    "    \n",
    "\n",
    "print(\"Dims of Train : ({}, {})\".format(len(tfidf_avgW2V_train), \n",
    "                                        len(tfidf_avgW2V_train[0])))\n",
    "print(\"Dims of Test : ({}, {})\".format(len(tfidf_avgW2V_test), \n",
    "                                       len(tfidf_avgW2V_test[0])))"
   ]
  },
  {
   "cell_type": "markdown",
   "metadata": {
    "colab_type": "text",
    "id": "euNx8Z--xYyo"
   },
   "source": [
    "# [5] Assignment 7: SVM"
   ]
  },
  {
   "cell_type": "markdown",
   "metadata": {
    "colab_type": "text",
    "id": "5vHsl4jzxYyo"
   },
   "source": [
    "<ol>\n",
    "    <li><strong>Apply SVM on these feature sets</strong>\n",
    "        <ul>\n",
    "            <li><font color='red'>SET 1:</font>Review text, preprocessed one converted into vectors using (BOW)</li>\n",
    "            <li><font color='red'>SET 2:</font>Review text, preprocessed one converted into vectors using (TFIDF)</li>\n",
    "            <li><font color='red'>SET 3:</font>Review text, preprocessed one converted into vectors using (AVG W2v)</li>\n",
    "            <li><font color='red'>SET 4:</font>Review text, preprocessed one converted into vectors using (TFIDF W2v)</li>\n",
    "        </ul>\n",
    "    </li>\n",
    "    <br>\n",
    "    <li><strong>Procedure</strong>\n",
    "        <ul>\n",
    "    <li>You need to work with 2 versions of SVM\n",
    "        <ul><li>Linear kernel</li>\n",
    "            <li>RBF kernel</li></ul>\n",
    "    <li>When you are working with linear kernel, use SGDClassifier’ with hinge loss because it is computationally less expensive.</li>\n",
    "    <li>When you are working with ‘SGDClassifier’ with hinge loss and trying to find the AUC\n",
    "        score, you would have to use <a href='https://scikit-learn.org/stable/modules/generated/sklearn.calibration.CalibratedClassifierCV.html'>CalibratedClassifierCV</a></li>\n",
    "    <li>Similarly, like kdtree of knn, when you are working with RBF kernel it's better to reduce\n",
    "the number of dimensions. You can put min_df = 10, max_features = 500 and consider a sample size of 40k points.</li>                \n",
    "        </ul>\n",
    "    </li>\n",
    "    <br>\n",
    "    <li><strong>Hyper paramter tuning (find best alpha in range [10^-4 to 10^4], and the best penalty among 'l1', 'l2')</strong>\n",
    "        <ul>\n",
    "    <li>Find the best hyper parameter which will give the maximum <a href='https://www.appliedaicourse.com/course/applied-ai-course-online/lessons/receiver-operating-characteristic-curve-roc-curve-and-auc-1/'>AUC</a> value</li>\n",
    "    <li>Find the best hyper paramter using k-fold cross validation or simple cross validation data</li>\n",
    "    <li>Use gridsearch cv or randomsearch cv or you can also write your own for loops to do this task of hyperparameter tuning</li>          \n",
    "        </ul>\n",
    "    </li>\n",
    "    <br>\n",
    "    <li><strong>Feature importance</strong>\n",
    "        <ul>\n",
    "    <li>When you are working on the linear kernel with BOW or TFIDF please print the top 10 best\n",
    "features for each of the positive and negative classes.</li>\n",
    "        </ul>\n",
    "    </li>\n",
    "    <br>\n",
    "    <li><strong>Feature engineering</strong>\n",
    "        <ul>\n",
    "    <li>To increase the performance of your model, you can also experiment with with feature engineering like :</li>\n",
    "            <ul>\n",
    "            <li>Taking length of reviews as another feature.</li>\n",
    "            <li>Considering some features from review summary as well.</li>\n",
    "        </ul>\n",
    "        </ul>\n",
    "    </li>\n",
    "    <br>\n",
    "    <li><strong>Representation of results</strong>\n",
    "        <ul>\n",
    "    <li>You need to plot the performance of model both on train data and cross validation data for each hyper parameter, like shown in the figure.\n",
    "    <img src='train_cv_auc.JPG' width=300px></li>\n",
    "    <li>Once after you found the best hyper parameter, you need to train your model with it, and find the AUC on test data and plot the ROC curve on both train and test.\n",
    "    <img src='train_test_auc.JPG' width=300px></li>\n",
    "    <li>Along with plotting ROC curve, you need to print the <a href='https://www.appliedaicourse.com/course/applied-ai-course-online/lessons/confusion-matrix-tpr-fpr-fnr-tnr-1/'>confusion matrix</a> with predicted and original labels of test data points. Please visualize your confusion matrices using <a href='https://seaborn.pydata.org/generated/seaborn.heatmap.html'>seaborn heatmaps.\n",
    "    <img src='confusion_matrix.png' width=300px></li>\n",
    "        </ul>\n",
    "    </li>\n",
    "    <br>\n",
    "    <li><strong>Conclusion</strong>\n",
    "        <ul>\n",
    "    <li>You need to summarize the results at the end of the notebook, summarize it in the table format. To print out a table please refer to this prettytable library<a href='http://zetcode.com/python/prettytable/'>  link</a> \n",
    "        <img src='summary.JPG' width=400px>\n",
    "    </li>\n",
    "        </ul>\n",
    "</ol>"
   ]
  },
  {
   "cell_type": "markdown",
   "metadata": {
    "colab_type": "text",
    "id": "BNZ7-7aqxYyq"
   },
   "source": [
    "<h4><font color='red'>Note: Data Leakage</font></h4>\n",
    "\n",
    "1. There will be an issue of data-leakage if you vectorize the entire data and then split it into train/cv/test.\n",
    "2. To avoid the issue of data-leakag, make sure to split your data first and then vectorize it. \n",
    "3. While vectorizing your data, apply the method fit_transform() on you train data, and apply the method transform() on cv/test data.\n",
    "4. For more details please go through this <a href='https://soundcloud.com/applied-ai-course/leakage-bow-and-tfidf'>link.</a>"
   ]
  },
  {
   "cell_type": "markdown",
   "metadata": {
    "colab_type": "text",
    "id": "4oTV6DAxxYys"
   },
   "source": [
    "# Applying SVM"
   ]
  },
  {
   "cell_type": "markdown",
   "metadata": {
    "colab_type": "text",
    "id": "RmgON0lExYyy"
   },
   "source": [
    "## [5.1] Linear SVM"
   ]
  },
  {
   "cell_type": "code",
   "execution_count": 48,
   "metadata": {
    "colab": {},
    "colab_type": "code",
    "id": "mOoEDTjgVCo-"
   },
   "outputs": [],
   "source": [
    "from sklearn.linear_model import SGDClassifier\n",
    "from sklearn.calibration import CalibratedClassifierCV\n",
    "from sklearn.metrics import roc_auc_score, roc_curve, auc \\\n",
    "                , accuracy_score, classification_report\n",
    "import matplotlib.pyplot as plt\n",
    "from sklearn.model_selection import GridSearchCV\n",
    "import seaborn as sns"
   ]
  },
  {
   "cell_type": "code",
   "execution_count": 228,
   "metadata": {
    "colab": {},
    "colab_type": "code",
    "id": "E7uo8sxSWM8S"
   },
   "outputs": [],
   "source": [
    "def SgdSvm_Classifier(X_train, y_train):\n",
    "    alphaList = np.array([0.0001, 0.0005, 0.001, 0.005, 0.01, 0.05, 0.1, 0.5, \\\n",
    "                        1, 10, 50, 100, 500, 1000, 5000, 10000])\n",
    "    params_dict = [{'alpha': alphaList}]\n",
    "    sgd_optimal = SGDClassifier(loss='hinge', penalty='l2',\n",
    "                                n_jobs=-1)\n",
    "    \n",
    "    grid = GridSearchCV(estimator=sgd_optimal, \n",
    "                        param_grid=params_dict, \n",
    "                        scoring='roc_auc', n_jobs=4, cv=5)\n",
    "    \n",
    "    grid_result = grid.fit(X_train, y_train)\n",
    "    train_auc = grid_result.cv_results_['mean_train_score']\n",
    "    train_auc_std = grid_result.cv_results_['std_train_score']\n",
    "    cv_auc = grid_result.cv_results_['mean_test_score']\n",
    "    cv_auc_std = grid_result.cv_results_['std_test_score']\n",
    "    \n",
    "    print(\"Optimal Parameters : \", grid_result.best_estimator_.get_params())\n",
    "    \n",
    "    plt.figure(figsize=(10.0, 8.0))\n",
    "    plt.plot(np.log10(alphaList), train_auc, label='Train AUC vs Alpha')\n",
    "    # this code is copied from here: https://stackoverflow.com/a/48803361/4084039\n",
    "    plt.gca().fill_between(np.log10(alphaList), train_auc - train_auc_std, \n",
    "                          train_auc + train_auc_std, alpha=0.2, color='darkblue')\n",
    "    \n",
    "    plt.plot(np.log10(alphaList), cv_auc, label='CV AUC vs Alpha')\n",
    "    plt.gca().fill_between(np.log10(alphaList), cv_auc - cv_auc_std, \n",
    "                          cv_auc + cv_auc_std, alpha=0.2, color='darkorange')\n",
    "    \n",
    "    plt.title('Area under ROC vs Alpha')\n",
    "    plt.xlabel('Alpha')\n",
    "    plt.ylabel('Area')\n",
    "    plt.legend(loc='lower left')\n",
    "    plt.show()   "
   ]
  },
  {
   "cell_type": "code",
   "execution_count": 178,
   "metadata": {
    "colab": {},
    "colab_type": "code",
    "id": "K6CbTFLMm-0k"
   },
   "outputs": [],
   "source": [
    "def SgdSvm_Classifier_Test(alpha, X_train, y_train, X_test, y_test):\n",
    "    # Setting up the classifier using optimal params\n",
    "\n",
    "    sgd_optimal = SGDClassifier(loss='hinge', alpha=alpha,\n",
    "                                penalty='l2', \n",
    "                                n_jobs=-1)\n",
    "    # we have to fit the SGDClassifier so that we can access the coef_\n",
    "    sgd_optimal.fit(X_train, y_train)\n",
    "    calibrator = CalibratedClassifierCV(sgd_optimal, cv=5, \n",
    "                                        method='isotonic')\n",
    "    # Lets refit the calibrator to find probabilities\n",
    "    calibrator.fit(X_train, y_train)\n",
    "    \n",
    "    # Prediction on training and test set using optimal classifier\n",
    "    logProb_train = calibrator.predict_proba(X_train)\n",
    "    logProb_test = calibrator.predict_proba(X_test)\n",
    "    pred_train = np.argmax(logProb_train, axis =1)\n",
    "    pred_test = np.argmax(logProb_test, axis =1)\n",
    "    print(\"Using Alpha value for sgd-SVM - \", alpha)\n",
    "    print(\"Train accuracy for optimal sgd-SVM \", round(\n",
    "                        accuracy_score(y_train, pred_train)*100, 2))\n",
    "    print(\"Test accuracy for optimal sgd-SVM \", round(\n",
    "                        accuracy_score(y_test, pred_test) * 100, 2))\n",
    "\n",
    "    # ROC-AUC on train & test data\n",
    "    train_fpr, train_tpr, thresholds = roc_curve(y_train, \n",
    "                                logProb_train[:, 1], pos_label=1)\n",
    "    test_fpr, test_tpr, thresholds = roc_curve(y_test, \n",
    "                                logProb_test[:, 1], pos_label=1)\n",
    "\n",
    "\n",
    "    # Draw ROC curve\n",
    "    plt.plot(train_fpr, train_tpr, label=\"Train AUC = \"+str(round(\n",
    "                                    auc(train_fpr, train_tpr), 2)))\n",
    "    auc_score = round(auc(test_fpr, test_tpr), 2)\n",
    "    plt.plot(test_fpr, test_tpr, label=\"Test AUC = \"+str(auc_score))\n",
    "    plt.legend()\n",
    "    plt.xlabel(\"False Pos Rate\")\n",
    "    plt.ylabel(\"True Pos Rate\")\n",
    "    plt.title(\"ROC Curve of Train and Test\")\n",
    "    plt.show()\n",
    "    \n",
    "    return sgd_optimal, pred_train, pred_test, auc_score"
   ]
  },
  {
   "cell_type": "code",
   "execution_count": 177,
   "metadata": {
    "colab": {},
    "colab_type": "code",
    "id": "ggrRJZuVxjvv"
   },
   "outputs": [],
   "source": [
    "def draw_Confusion_Matrix(actual, predicted):\n",
    "    class_label = [\"negative\", \"positive\"]\n",
    "    conf_matrix = confusion_matrix(actual, predicted)\n",
    "    df_cm = pd.DataFrame(conf_matrix, index = class_label, columns = class_label)\n",
    "    hm = sns.heatmap(df_cm, annot = True, fmt = \"d\")\n",
    "    plt.xlabel(\"Predicted Label\")\n",
    "    plt.ylabel(\"True Label\")\n",
    "    plt.show()"
   ]
  },
  {
   "cell_type": "markdown",
   "metadata": {
    "colab_type": "text",
    "id": "hhkp97xPxYyz"
   },
   "source": [
    "### [5.1.1] Applying Linear SVM on BOW,<font color='red'> SET 1</font>"
   ]
  },
  {
   "cell_type": "code",
   "execution_count": 126,
   "metadata": {
    "colab": {
     "base_uri": "https://localhost:8080/",
     "height": 279
    },
    "colab_type": "code",
    "id": "qmlBMIidxYyz",
    "outputId": "b7198ecb-cd48-4b49-94e2-5a7727e74dde"
   },
   "outputs": [
    {
     "name": "stdout",
     "output_type": "stream",
     "text": [
      "Optimal Parameters :  {'alpha': 0.001, 'average': False, 'class_weight': None, 'early_stopping': False, 'epsilon': 0.1, 'eta0': 0.0, 'fit_intercept': True, 'l1_ratio': 0.15, 'learning_rate': 'optimal', 'loss': 'hinge', 'max_iter': None, 'n_iter': None, 'n_iter_no_change': 5, 'n_jobs': -1, 'penalty': 'l2', 'power_t': 0.5, 'random_state': None, 'shuffle': True, 'tol': None, 'validation_fraction': 0.1, 'verbose': 0, 'warm_start': False}\n",
      "(16,)\n",
      "(16,)\n"
     ]
    },
    {
     "data": {
      "image/png": "[encoded data removed]",
      "text/plain": [
       "<Figure size 720x576 with 1 Axes>"
      ]
     },
     "metadata": {
      "needs_background": "light"
     },
     "output_type": "display_data"
    }
   ],
   "source": [
    "# Please write all the code with proper documentation\n",
    "SgdSvm_Classifier(bow_train, rs_train)"
   ]
  },
  {
   "cell_type": "code",
   "execution_count": 140,
   "metadata": {},
   "outputs": [
    {
     "name": "stdout",
     "output_type": "stream",
     "text": [
      "Using Alpha value for sgd-SVM -  0.001\n",
      "Train accuracy for optimal sgd-SVM  94.11\n",
      "Test accuracy for optimal sgd-SVM  92.53\n"
     ]
    },
    {
     "data": {
      "image/png": "[encoded data removed]",
      "text/plain": [
       "<Figure size 432x288 with 1 Axes>"
      ]
     },
     "metadata": {
      "needs_background": "light"
     },
     "output_type": "display_data"
    }
   ],
   "source": [
    "# Please write all the code with proper documentation\n",
    "bow_alpha=0.001\n",
    "classifier, pred_train, pred_test, auc_score = SgdSvm_Classifier_Test(\n",
    "                                    bow_alpha, bow_train, \n",
    "                                    rs_train, bow_test, \n",
    "                                    rs_test)"
   ]
  },
  {
   "cell_type": "code",
   "execution_count": 128,
   "metadata": {},
   "outputs": [
    {
     "name": "stdout",
     "output_type": "stream",
     "text": [
      "Training Confusion Matrix\n"
     ]
    },
    {
     "data": {
      "image/png": "[encoded data removed]",
      "text/plain": [
       "<Figure size 432x288 with 2 Axes>"
      ]
     },
     "metadata": {
      "needs_background": "light"
     },
     "output_type": "display_data"
    },
    {
     "name": "stdout",
     "output_type": "stream",
     "text": [
      "\n",
      "\n",
      "\n",
      "Test Confusion Matrix\n"
     ]
    },
    {
     "data": {
      "image/png": "[encoded data removed]",
      "text/plain": [
       "<Figure size 432x288 with 2 Axes>"
      ]
     },
     "metadata": {
      "needs_background": "light"
     },
     "output_type": "display_data"
    }
   ],
   "source": [
    "print(\"Training Confusion Matrix\")\n",
    "draw_Confusion_Matrix(rs_train, pred_train)\n",
    "print('\\n\\n')\n",
    "\n",
    "print(\"Test Confusion Matrix\")\n",
    "draw_Confusion_Matrix(rs_test, pred_test)\n",
    "table.add_row([\"BOW\", \"SGD Linear SVM\", bow_alpha, \n",
    "               auc_score])"
   ]
  },
  {
   "cell_type": "code",
   "execution_count": 129,
   "metadata": {},
   "outputs": [
    {
     "name": "stdout",
     "output_type": "stream",
     "text": [
      "              precision    recall  f1-score   support\n",
      "\n",
      "           0       0.92      0.92      0.92     11357\n",
      "           1       0.93      0.93      0.93     13638\n",
      "\n",
      "   micro avg       0.93      0.93      0.93     24995\n",
      "   macro avg       0.93      0.93      0.93     24995\n",
      "weighted avg       0.93      0.93      0.93     24995\n",
      "\n"
     ]
    }
   ],
   "source": [
    "# Classification report \n",
    "print(classification_report(rs_test, pred_test))"
   ]
  },
  {
   "cell_type": "code",
   "execution_count": 141,
   "metadata": {},
   "outputs": [
    {
     "name": "stdout",
     "output_type": "stream",
     "text": [
      "Sparsity :  0.0 %\n"
     ]
    }
   ],
   "source": [
    "# Please write all the code with proper documentation\n",
    "zero_w = classifier.coef_.size - np.count_nonzero(classifier.coef_)\n",
    "total_w = classifier.coef_.size\n",
    "print(\"Sparsity :  {} %\".format(round((zero_w*100)/total_w ,2)))"
   ]
  },
  {
   "cell_type": "code",
   "execution_count": 146,
   "metadata": {},
   "outputs": [
    {
     "name": "stdout",
     "output_type": "stream",
     "text": [
      "Top 10 positive features are : \n",
      "['not disappointed' 'excellent' 'delicious' 'awesome' 'not bad' 'yummy'\n",
      " 'best' 'perfect' 'yum' 'loves']\n"
     ]
    }
   ],
   "source": [
    "# Top 10 positive features\n",
    "print(\"Top 10 positive features are : \")\n",
    "print(np.take(count_vect.get_feature_names(), \n",
    "              classifier.coef_[0].argsort()[:-11:-1]))"
   ]
  },
  {
   "cell_type": "code",
   "execution_count": 147,
   "metadata": {},
   "outputs": [
    {
     "name": "stdout",
     "output_type": "stream",
     "text": [
      "Top 10 Negative features are : \n",
      "['not good' 'disappointing' 'not worth' 'worst' 'disappointed' 'terrible'\n",
      " 'awful' 'horrible' 'not great' 'disappointment']\n"
     ]
    }
   ],
   "source": [
    "# Top 10 negative features\n",
    "print(\"Top 10 Negative features are : \")\n",
    "print(np.take(count_vect.get_feature_names(), \n",
    "              (-classifier.coef_[0]).argsort()[:-11:-1]))"
   ]
  },
  {
   "cell_type": "markdown",
   "metadata": {
    "colab_type": "text",
    "id": "rCAytbAyxYy1"
   },
   "source": [
    "### [5.1.2] Applying Linear SVM on TFIDF,<font color='red'> SET 2</font>"
   ]
  },
  {
   "cell_type": "code",
   "execution_count": 156,
   "metadata": {
    "colab": {},
    "colab_type": "code",
    "id": "n88FHnJXxYy2"
   },
   "outputs": [
    {
     "name": "stdout",
     "output_type": "stream",
     "text": [
      "Optimal Parameters :  {'alpha': 0.0001, 'average': False, 'class_weight': None, 'early_stopping': False, 'epsilon': 0.1, 'eta0': 0.0, 'fit_intercept': True, 'l1_ratio': 0.15, 'learning_rate': 'optimal', 'loss': 'hinge', 'max_iter': None, 'n_iter': None, 'n_iter_no_change': 5, 'n_jobs': -1, 'penalty': 'l2', 'power_t': 0.5, 'random_state': None, 'shuffle': True, 'tol': None, 'validation_fraction': 0.1, 'verbose': 0, 'warm_start': False}\n",
      "(16,)\n",
      "(16,)\n"
     ]
    },
    {
     "data": {
      "image/png": "[encoded data removed]",
      "text/plain": [
       "<Figure size 720x576 with 1 Axes>"
      ]
     },
     "metadata": {
      "needs_background": "light"
     },
     "output_type": "display_data"
    }
   ],
   "source": [
    "# Please write all the code with proper documentation\n",
    "SgdSvm_Classifier(tfIdf_train, rs_train)"
   ]
  },
  {
   "cell_type": "code",
   "execution_count": 157,
   "metadata": {},
   "outputs": [
    {
     "name": "stdout",
     "output_type": "stream",
     "text": [
      "Using Alpha value for sgd-SVM -  0.0001\n",
      "Train accuracy for optimal sgd-SVM  93.46\n",
      "Test accuracy for optimal sgd-SVM  92.47\n"
     ]
    },
    {
     "data": {
      "image/png": "[encoded data removed]",
      "text/plain": [
       "<Figure size 432x288 with 1 Axes>"
      ]
     },
     "metadata": {
      "needs_background": "light"
     },
     "output_type": "display_data"
    }
   ],
   "source": [
    "# Please write all the code with proper documentation\n",
    "tfIdf_alpha=0.0001\n",
    "classifier, pred_train, pred_test, auc_score = SgdSvm_Classifier_Test(\n",
    "                                    tfIdf_alpha, tfIdf_train, \n",
    "                                    rs_train, tfIdf_test, \n",
    "                                    rs_test)"
   ]
  },
  {
   "cell_type": "code",
   "execution_count": 166,
   "metadata": {},
   "outputs": [
    {
     "name": "stdout",
     "output_type": "stream",
     "text": [
      "Training Confusion Matrix\n"
     ]
    },
    {
     "data": {
      "image/png": "[encoded data removed]",
      "text/plain": [
       "<Figure size 432x288 with 2 Axes>"
      ]
     },
     "metadata": {
      "needs_background": "light"
     },
     "output_type": "display_data"
    },
    {
     "name": "stdout",
     "output_type": "stream",
     "text": [
      "\n",
      "\n",
      "\n",
      "Test Confusion Matrix\n"
     ]
    },
    {
     "data": {
      "image/png": "[encoded data removed]",
      "text/plain": [
       "<Figure size 432x288 with 2 Axes>"
      ]
     },
     "metadata": {
      "needs_background": "light"
     },
     "output_type": "display_data"
    }
   ],
   "source": [
    "print(\"Training Confusion Matrix\")\n",
    "draw_Confusion_Matrix(rs_train, pred_train)\n",
    "print('\\n\\n')\n",
    "\n",
    "print(\"Test Confusion Matrix\")\n",
    "draw_Confusion_Matrix(rs_test, pred_test)\n",
    "table.add_row([\"Tf-Idf\", \"SGD Linear SVM\", tfIdf_alpha,\n",
    "               auc_score])"
   ]
  },
  {
   "cell_type": "code",
   "execution_count": 168,
   "metadata": {},
   "outputs": [
    {
     "name": "stdout",
     "output_type": "stream",
     "text": [
      "              precision    recall  f1-score   support\n",
      "\n",
      "           0       0.92      0.92      0.92     11357\n",
      "           1       0.93      0.93      0.93     13638\n",
      "\n",
      "   micro avg       0.92      0.92      0.92     24995\n",
      "   macro avg       0.92      0.92      0.92     24995\n",
      "weighted avg       0.92      0.92      0.92     24995\n",
      "\n"
     ]
    }
   ],
   "source": [
    "# Classification report \n",
    "print(classification_report(rs_test, pred_test))"
   ]
  },
  {
   "cell_type": "code",
   "execution_count": 172,
   "metadata": {},
   "outputs": [
    {
     "name": "stdout",
     "output_type": "stream",
     "text": [
      "Top 10 positive features are : \n",
      "['great' 'best' 'delicious' 'good' 'excellent' 'loves' 'perfect' 'love'\n",
      " 'awesome' 'yummy']\n"
     ]
    }
   ],
   "source": [
    "# Top 10 positive features\n",
    "print(\"Top 10 positive features are : \")\n",
    "print(np.take(tf_idf_vect.get_feature_names(), \n",
    "              classifier.coef_[0].argsort()[:-11:-1]))"
   ]
  },
  {
   "cell_type": "code",
   "execution_count": 173,
   "metadata": {},
   "outputs": [
    {
     "name": "stdout",
     "output_type": "stream",
     "text": [
      "Top 10 negative features are : \n",
      "['not' 'disappointed' 'not good' 'disappointing' 'worst' 'terrible'\n",
      " 'not worth' 'horrible' 'awful' 'unfortunately']\n"
     ]
    }
   ],
   "source": [
    "# Top 10 negative features\n",
    "print(\"Top 10 negative features are : \")\n",
    "print(np.take(tf_idf_vect.get_feature_names(), \n",
    "              (-classifier.coef_[0]).argsort()[:-11:-1]))"
   ]
  },
  {
   "cell_type": "markdown",
   "metadata": {
    "colab_type": "text",
    "id": "Foepy7gmxYy5"
   },
   "source": [
    "### [5.1.3]  Applying Linear SVM on AVG W2V,<font color='red'> SET 3</font>"
   ]
  },
  {
   "cell_type": "code",
   "execution_count": 174,
   "metadata": {
    "colab": {},
    "colab_type": "code",
    "id": "-Evf06roxYy7"
   },
   "outputs": [
    {
     "name": "stdout",
     "output_type": "stream",
     "text": [
      "Optimal Parameters :  {'alpha': 0.001, 'average': False, 'class_weight': None, 'early_stopping': False, 'epsilon': 0.1, 'eta0': 0.0, 'fit_intercept': True, 'l1_ratio': 0.15, 'learning_rate': 'optimal', 'loss': 'hinge', 'max_iter': None, 'n_iter': None, 'n_iter_no_change': 5, 'n_jobs': -1, 'penalty': 'l2', 'power_t': 0.5, 'random_state': None, 'shuffle': True, 'tol': None, 'validation_fraction': 0.1, 'verbose': 0, 'warm_start': False}\n",
      "(16,)\n",
      "(16,)\n"
     ]
    },
    {
     "data": {
      "image/png": "[encoded data removed]",
      "text/plain": [
       "<Figure size 720x576 with 1 Axes>"
      ]
     },
     "metadata": {
      "needs_background": "light"
     },
     "output_type": "display_data"
    }
   ],
   "source": [
    "# Please write all the code with proper documentation\n",
    "SgdSvm_Classifier(avgW2V_train, rs_train)"
   ]
  },
  {
   "cell_type": "code",
   "execution_count": 179,
   "metadata": {},
   "outputs": [
    {
     "name": "stdout",
     "output_type": "stream",
     "text": [
      "Using Alpha value for sgd-SVM -  0.0001\n",
      "Train accuracy for optimal sgd-SVM  88.76\n",
      "Test accuracy for optimal sgd-SVM  88.95\n"
     ]
    },
    {
     "data": {
      "image/png": "[encoded data removed]",
      "text/plain": [
       "<Figure size 432x288 with 1 Axes>"
      ]
     },
     "metadata": {
      "needs_background": "light"
     },
     "output_type": "display_data"
    }
   ],
   "source": [
    "# Please write all the code with proper documentation\n",
    "avgW2V_alpha=0.0001\n",
    "classifier, pred_train, pred_test, auc_score = SgdSvm_Classifier_Test(\n",
    "                                    avgW2V_alpha, avgW2V_train, \n",
    "                                    rs_train, avgW2V_test, \n",
    "                                    rs_test)"
   ]
  },
  {
   "cell_type": "code",
   "execution_count": 180,
   "metadata": {},
   "outputs": [
    {
     "name": "stdout",
     "output_type": "stream",
     "text": [
      "Training Confusion Matrix\n"
     ]
    },
    {
     "data": {
      "image/png": "[encoded data removed]",
      "text/plain": [
       "<Figure size 432x288 with 2 Axes>"
      ]
     },
     "metadata": {
      "needs_background": "light"
     },
     "output_type": "display_data"
    },
    {
     "name": "stdout",
     "output_type": "stream",
     "text": [
      "\n",
      "\n",
      "\n",
      "Test Confusion Matrix\n"
     ]
    },
    {
     "data": {
      "image/png": "[encoded data removed]",
      "text/plain": [
       "<Figure size 432x288 with 2 Axes>"
      ]
     },
     "metadata": {
      "needs_background": "light"
     },
     "output_type": "display_data"
    }
   ],
   "source": [
    "print(\"Training Confusion Matrix\")\n",
    "draw_Confusion_Matrix(rs_train, pred_train)\n",
    "print('\\n\\n')\n",
    "\n",
    "print(\"Test Confusion Matrix\")\n",
    "draw_Confusion_Matrix(rs_test, pred_test)\n",
    "table.add_row([\"Avg W2V\", \"SGD Linear SVM\", avgW2V_alpha,\n",
    "               auc_score])"
   ]
  },
  {
   "cell_type": "code",
   "execution_count": 181,
   "metadata": {},
   "outputs": [
    {
     "name": "stdout",
     "output_type": "stream",
     "text": [
      "              precision    recall  f1-score   support\n",
      "\n",
      "           0       0.88      0.88      0.88     11357\n",
      "           1       0.90      0.90      0.90     13638\n",
      "\n",
      "   micro avg       0.89      0.89      0.89     24995\n",
      "   macro avg       0.89      0.89      0.89     24995\n",
      "weighted avg       0.89      0.89      0.89     24995\n",
      "\n"
     ]
    }
   ],
   "source": [
    "# Classification report \n",
    "print(classification_report(rs_test, pred_test))"
   ]
  },
  {
   "cell_type": "markdown",
   "metadata": {
    "colab_type": "text",
    "id": "--aiqi0PxYzL"
   },
   "source": [
    "### [5.1.4]  Applying Linear SVM on TFIDF W2V,<font color='red'> SET 4</font>"
   ]
  },
  {
   "cell_type": "code",
   "execution_count": 191,
   "metadata": {
    "colab": {},
    "colab_type": "code",
    "id": "K8clRM0AxYzM"
   },
   "outputs": [
    {
     "name": "stdout",
     "output_type": "stream",
     "text": [
      "Optimal Parameters :  {'alpha': 0.001, 'average': False, 'class_weight': None, 'early_stopping': False, 'epsilon': 0.1, 'eta0': 0.0, 'fit_intercept': True, 'l1_ratio': 0.15, 'learning_rate': 'optimal', 'loss': 'hinge', 'max_iter': None, 'n_iter': None, 'n_iter_no_change': 5, 'n_jobs': -1, 'penalty': 'l2', 'power_t': 0.5, 'random_state': None, 'shuffle': True, 'tol': None, 'validation_fraction': 0.1, 'verbose': 0, 'warm_start': False}\n",
      "(16,)\n",
      "(16,)\n"
     ]
    },
    {
     "data": {
      "image/png": "[encoded data removed]",
      "text/plain": [
       "<Figure size 720x576 with 1 Axes>"
      ]
     },
     "metadata": {
      "needs_background": "light"
     },
     "output_type": "display_data"
    }
   ],
   "source": [
    "# Please write all the code with proper documentation\n",
    "SgdSvm_Classifier(tfidf_avgW2V_train, rs_train)"
   ]
  },
  {
   "cell_type": "code",
   "execution_count": 192,
   "metadata": {},
   "outputs": [
    {
     "name": "stdout",
     "output_type": "stream",
     "text": [
      "Using Alpha value for sgd-SVM -  0.001\n",
      "Train accuracy for optimal sgd-SVM  86.51\n",
      "Test accuracy for optimal sgd-SVM  86.25\n"
     ]
    },
    {
     "data": {
      "image/png": "[encoded data removed]",
      "text/plain": [
       "<Figure size 432x288 with 1 Axes>"
      ]
     },
     "metadata": {
      "needs_background": "light"
     },
     "output_type": "display_data"
    }
   ],
   "source": [
    "# Please write all the code with proper documentation\n",
    "tfIdfAvgW2V_alpha=0.001\n",
    "classifier, pred_train, pred_test, auc_score = SgdSvm_Classifier_Test(\n",
    "                                    tfIdfAvgW2V_alpha, tfidf_avgW2V_train, \n",
    "                                    rs_train, tfidf_avgW2V_test, \n",
    "                                    rs_test)"
   ]
  },
  {
   "cell_type": "code",
   "execution_count": 193,
   "metadata": {},
   "outputs": [
    {
     "name": "stdout",
     "output_type": "stream",
     "text": [
      "Training Confusion Matrix\n"
     ]
    },
    {
     "data": {
      "image/png": "[encoded data removed]",
      "text/plain": [
       "<Figure size 432x288 with 2 Axes>"
      ]
     },
     "metadata": {
      "needs_background": "light"
     },
     "output_type": "display_data"
    },
    {
     "name": "stdout",
     "output_type": "stream",
     "text": [
      "\n",
      "\n",
      "\n",
      "Test Confusion Matrix\n"
     ]
    },
    {
     "data": {
      "image/png": "[encoded data removed]",
      "text/plain": [
       "<Figure size 432x288 with 2 Axes>"
      ]
     },
     "metadata": {
      "needs_background": "light"
     },
     "output_type": "display_data"
    }
   ],
   "source": [
    "print(\"Training Confusion Matrix\")\n",
    "draw_Confusion_Matrix(rs_train, pred_train)\n",
    "print('\\n\\n')\n",
    "\n",
    "print(\"Test Confusion Matrix\")\n",
    "draw_Confusion_Matrix(rs_test, pred_test)\n",
    "table.add_row([\"Tf-Idf Avg W2V\", \"SGD Linear SVM\", tfIdfAvgW2V_alpha,\n",
    "               auc_score])"
   ]
  },
  {
   "cell_type": "code",
   "execution_count": 194,
   "metadata": {},
   "outputs": [
    {
     "name": "stdout",
     "output_type": "stream",
     "text": [
      "              precision    recall  f1-score   support\n",
      "\n",
      "           0       0.85      0.85      0.85     11357\n",
      "           1       0.87      0.87      0.87     13638\n",
      "\n",
      "   micro avg       0.86      0.86      0.86     24995\n",
      "   macro avg       0.86      0.86      0.86     24995\n",
      "weighted avg       0.86      0.86      0.86     24995\n",
      "\n"
     ]
    }
   ],
   "source": [
    "# Classification report \n",
    "print(classification_report(rs_test, pred_test))"
   ]
  },
  {
   "cell_type": "markdown",
   "metadata": {
    "colab_type": "text",
    "id": "npH2KC4vxYzO"
   },
   "source": [
    "## [5.2] RBF SVM"
   ]
  },
  {
   "cell_type": "code",
   "execution_count": null,
   "metadata": {},
   "outputs": [],
   "source": [
    "# Its running for 1 day without any results for 40k data points. \n",
    "# Reducing data to 20k\n",
    "# For RBF SVM we will use 15k train and 5k test points."
   ]
  },
  {
   "cell_type": "code",
   "execution_count": 110,
   "metadata": {},
   "outputs": [],
   "source": [
    "ppText_train, ppText_test, rs_train, rs_test = [],[],[],[]\n",
    "pptrO, pptstO = 0, 0\n",
    "for i, p in enumerate(preprocessed_text):\n",
    "    if review_score[i]==0:\n",
    "        if pptrO <7500:\n",
    "            ppText_train.append(p)\n",
    "            rs_train.append(0)\n",
    "            pptrO += 1\n",
    "        elif pptstO <2500:\n",
    "            ppText_test.append(p)\n",
    "            rs_test.append(0)\n",
    "            pptstO += 1\n",
    "    elif review_score[i] ==1:\n",
    "        if len(ppText_train)-pptrO <7500:\n",
    "            ppText_train.append(p)\n",
    "            rs_train.append(1)\n",
    "        elif len(ppText_test)-pptstO <2500:\n",
    "            ppText_test.append(p)\n",
    "            rs_test.append(1)\n",
    "    else:\n",
    "        pass\n",
    "    if len(ppText_train)==15000 and len(ppText_test)==5000:\n",
    "        break"
   ]
  },
  {
   "cell_type": "code",
   "execution_count": 115,
   "metadata": {},
   "outputs": [
    {
     "name": "stdout",
     "output_type": "stream",
     "text": [
      "some feature names  ['able', 'absolutely', 'actually', 'add', 'added', 'ago', 'almost', 'also', 'although', 'always']\n",
      "==================================================\n",
      "\n",
      "Shapes After Vectorization \n",
      "Train shape  (15000, 500) 15000\n",
      "Test shape   (5000, 500) 5000\n",
      "Unique words in training :  500\n"
     ]
    }
   ],
   "source": [
    "#BoW\n",
    "fullPath = dir_path+'models/'+'bow_vectors_rbf.pickle'\n",
    "useOldData = False\n",
    "count_vect = CountVectorizer(ngram_range=(1,2), min_df=10,\n",
    "                          max_features=500) #in scikit-learn\n",
    "count_vect.fit(ppText_train)\n",
    "print(\"some feature names \", count_vect.get_feature_names()[:10])\n",
    "print('='*50)\n",
    "if os.path.isfile(fullPath) and useOldData:\n",
    "    print(\"Reading vectors from drive..\")\n",
    "    with open(fullPath, 'rb') as f:\n",
    "        bow_train, bow_test = pickle.load(f)\n",
    "    \n",
    "else:\n",
    "    bow_train = count_vect.transform(ppText_train)\n",
    "    bow_test = count_vect.transform(ppText_test)\n",
    "  \n",
    "    # Save the vectors\n",
    "    with open(fullPath,'wb') as f:\n",
    "        pickle.dump((bow_train, bow_test), f)\n",
    "\n",
    "print(\"\\nShapes After Vectorization \")\n",
    "print(\"Train shape \", bow_train.shape, len(rs_train))\n",
    "print(\"Test shape  \", bow_test.shape, len(rs_test))\n",
    "print(\"Unique words in training : \", bow_train.get_shape()[1])"
   ]
  },
  {
   "cell_type": "code",
   "execution_count": 185,
   "metadata": {},
   "outputs": [
    {
     "name": "stdout",
     "output_type": "stream",
     "text": [
      "Some sample features(unique words in the training corpus) ['able', 'absolutely', 'actually', 'add', 'added', 'ago', 'almost', 'also', 'although', 'always']\n",
      "==================================================\n",
      "\n",
      "Shapes After Vectorization \n",
      "Train shape  (15000, 500) 15000\n",
      "Test shape   (5000, 500) 5000\n",
      "Unique words in training :  500\n"
     ]
    }
   ],
   "source": [
    "#tf-Idf\n",
    "fullPath = dir_path+'models/'+'tfIdf_vectors_rbf.pickle'\n",
    "useOldData=True\n",
    "tf_idf_vect = TfidfVectorizer(ngram_range=(1,2), min_df=10,\n",
    "                             max_features=500)\n",
    "tf_idf_vect.fit(ppText_train)\n",
    "print(\"Some sample features(unique words in the training corpus)\",\n",
    "    tf_idf_vect.get_feature_names()[0:10])\n",
    "print('='*50)\n",
    "if os.path.isfile(fullPath) and useOldData:\n",
    "    print(\"Reading vectors from drive..\")\n",
    "    with open(fullPath, 'rb') as f:\n",
    "        tfIdf_train, tfIdf_test = pickle.load(f)\n",
    "    \n",
    "else:\n",
    "    tfIdf_train = tf_idf_vect.transform(ppText_train)\n",
    "    tfIdf_test = tf_idf_vect.transform(ppText_test)\n",
    "  \n",
    "    # Save the vectors\n",
    "    with open(fullPath,'wb') as f:\n",
    "        pickle.dump((tfIdf_train, tfIdf_test), f)\n",
    "\n",
    "\n",
    "print(\"\\nShapes After Vectorization \")\n",
    "print(\"Train shape \", tfIdf_train.shape, len(rs_train))\n",
    "print(\"Test shape  \", tfIdf_test.shape, len(rs_test))\n",
    "print(\"Unique words in training : \", tfIdf_train.get_shape()[1])"
   ]
  },
  {
   "cell_type": "code",
   "execution_count": 190,
   "metadata": {},
   "outputs": [],
   "source": [
    "# Avg W2V\n",
    "\n",
    "# Train your own Word2Vec model using your own text corpus\n",
    "i=0\n",
    "\n",
    "# list of sentences divided into train and test set\n",
    "train_sentences = [sentence.split() for sentence in ppText_train]\n",
    "test_sentences = [sentence.split() for sentence in ppText_test]"
   ]
  },
  {
   "cell_type": "code",
   "execution_count": 191,
   "metadata": {},
   "outputs": [
    {
     "name": "stdout",
     "output_type": "stream",
     "text": [
      "[('good', 0.8453381061553955), ('excellent', 0.8048703670501709), ('wonderful', 0.7937352657318115), ('amazing', 0.7792501449584961), ('awesome', 0.7622500658035278), ('fantastic', 0.7570558786392212), ('perfect', 0.7455378174781799), ('delicious', 0.7233303785324097), ('yummy', 0.7231276631355286), ('love', 0.7105463743209839)]\n",
      "==================================================\n",
      "[('ever', 0.8869836330413818), ('eaten', 0.8469640612602234), ('remember', 0.7808690071105957), ('trinidad', 0.7737390995025635), ('disgusting', 0.7705298662185669), ('experience', 0.7632001042366028), ('best', 0.7525022029876709), ('tasted', 0.7455431222915649), ('far', 0.7422235608100891), ('folgers', 0.7404943108558655)]\n"
     ]
    }
   ],
   "source": [
    "is_your_ram_gt_16g=False\n",
    "want_to_use_google_w2v = False\n",
    "want_to_train_w2v = True\n",
    "fullPath = dir_path+'models/'+'w2V_model_rbf.pickle'\n",
    "useOldData=True\n",
    "\n",
    "if want_to_train_w2v:\n",
    "    # min_count = 5 considers only words that occured atleast 5 times\n",
    "    if os.path.isfile(fullPath) and useOldData:\n",
    "        with open(fullPath, 'rb') as f:\n",
    "            w2v_model = pickle.load(f)\n",
    "    else:\n",
    "        w2v_model=Word2Vec(train_sentences,min_count=5,size=128, workers=4)\n",
    "        # Save word2Vec model\n",
    "        with open(fullPath,'wb') as f:\n",
    "            pickle.dump(w2v_model, f)\n",
    "    print(w2v_model.wv.most_similar('great'))\n",
    "    print('='*50)\n",
    "    print(w2v_model.wv.most_similar('worst'))\n",
    "    \n",
    "elif want_to_use_google_w2v and is_your_ram_gt_16g:\n",
    "    if os.path.isfile('GoogleNews-vectors-negative300.bin'):\n",
    "        w2v_model=KeyedVectors.load_word2vec_format(\n",
    "                      'GoogleNews-vectors-negative300.bin', binary=True)\n",
    "        print(w2v_model.wv.most_similar('great'))\n",
    "        print(w2v_model.wv.most_similar('worst'))\n",
    "    else:\n",
    "        print(\"you don't have gogole's word2vec file, keep \\\n",
    "          want_to_train_w2v = True, to train your own w2v \")"
   ]
  },
  {
   "cell_type": "code",
   "execution_count": 192,
   "metadata": {},
   "outputs": [
    {
     "name": "stdout",
     "output_type": "stream",
     "text": [
      "number of words that occured minimum 5 times  8076\n",
      "sample words  ['one', 'best', 'children', 'books', 'ever', 'written', 'mini', 'version', 'book', 'not', 'priced', 'product', 'sent', 'email', 'regarding', 'amazon', 'got', 'no', 'response', 'awesome', 'poor', 'size', 'give', 'five', 'stars', 'story', 'star', 'printed', 'edition', 'older', 'copy', 'familiar', 'previous', 'ordered', 'embarrassed', 'gift', 'looks', 'think', 'overpriced', 'learned', 'lesson', 'buying', 'next', 'time', 'get', 'used', 'great', 'disappointing', 'dogs', 'loves']\n"
     ]
    }
   ],
   "source": [
    "w2v_words = list(w2v_model.wv.vocab)\n",
    "print(\"number of words that occured minimum 5 times \",len(w2v_words))\n",
    "print(\"sample words \", w2v_words[0:50])"
   ]
  },
  {
   "cell_type": "code",
   "execution_count": 194,
   "metadata": {},
   "outputs": [
    {
     "name": "stdout",
     "output_type": "stream",
     "text": [
      "Saving to drive.. \n",
      "Dims of Train : (15000, 128)\n",
      "Dims of Test : (5000, 128)\n"
     ]
    }
   ],
   "source": [
    "fullPath = dir_path+'models/'+'avg_W2V_rbf.pickle'\n",
    "useOldData=True\n",
    "\n",
    "# average Word2Vec\n",
    "\n",
    "avgW2V_train, avgW2V_test = [], []\n",
    "c = 0\n",
    "\n",
    "if os.path.isfile(fullPath) and useOldData:\n",
    "    print(\"Vectors loaded from drive..\")\n",
    "    with open(fullPath, 'rb') as f:\n",
    "        avgW2V_train, avgW2V_test = pickle.load(f)\n",
    "    \n",
    "else:\n",
    "    for i, sent_set in enumerate([train_sentences, test_sentences]):\n",
    "        for sent in sent_set:\n",
    "            c += 1\n",
    "            if c % 1000==0:\n",
    "                print(\"Progress : {:3d} %  \".format(\n",
    "                        int(c/len(preprocessed_reviews)*100)),\n",
    "                        end='\\r')\n",
    "            sent_vec = np.zeros(128)\n",
    "            cnt_words = 0\n",
    "            for word in sent:\n",
    "                if word in w2v_words:\n",
    "                    vec = w2v_model.wv[word]\n",
    "                    sent_vec += vec\n",
    "                    cnt_words += 1\n",
    "            if cnt_words != 0:\n",
    "                sent_vec /= cnt_words\n",
    "            if i==0:\n",
    "                avgW2V_train.append(sent_vec)\n",
    "            if i==1:\n",
    "                avgW2V_test.append(sent_vec)\n",
    "  \n",
    "    print(\"Saving to drive..\")\n",
    "    with open(fullPath,'wb') as f:\n",
    "        pickle.dump((avgW2V_train, avgW2V_test), f)\n",
    "\n",
    "print(\"Dims of Train : ({}, {})\".format(len(avgW2V_train), \n",
    "                                        len(avgW2V_train[0])))\n",
    "print(\"Dims of Test : ({}, {})\".format(len(avgW2V_test), \n",
    "                                       len(avgW2V_test[0])))"
   ]
  },
  {
   "cell_type": "code",
   "execution_count": 200,
   "metadata": {},
   "outputs": [],
   "source": [
    "# Tf-Idf weighted Word2Vec\n",
    "# S = [\"abc def pqr\", \"def def def abc\", \"pqr pqr def\"]\n",
    "model = TfidfVectorizer(min_df=5)\n",
    "tf_idf_matrix = model.fit_transform(ppText_train)\n",
    "# we are converting a dictionary with word as a key, and the idf as a value\n",
    "dictionary = dict(zip(model.get_feature_names(), list(model.idf_)))"
   ]
  },
  {
   "cell_type": "code",
   "execution_count": 201,
   "metadata": {},
   "outputs": [
    {
     "name": "stdout",
     "output_type": "stream",
     "text": [
      "Saving to drive.. \n",
      "Dims of Train : (15000, 128)\n",
      "Dims of Test : (5000, 128)\n"
     ]
    }
   ],
   "source": [
    "# TF-IDF weighted Word2Vec\n",
    "tfidf_feat = model.get_feature_names() # tfidf words/col-names\n",
    "# final_tf_idf is the sparse matrix with row= sentence, \n",
    "# col=word and cell_val = tfidf\n",
    "\n",
    "fullPath = dir_path+'models/'+'tfIdf_avg_W2V_rbf.pickle'\n",
    "useOldData=True\n",
    "\n",
    "tfidf_avgW2V_train, tfidf_avgW2V_test = [], []\n",
    "c = 0\n",
    "\n",
    "if os.path.isfile(fullPath) and useOldData:\n",
    "    print(\"Vectors loaded from drive..\")\n",
    "    with open(fullPath, 'rb') as f:\n",
    "        tfidf_avgW2V_train, tfidf_avgW2V_test = pickle.load(f)\n",
    "    \n",
    "else:\n",
    "    for i, sent_set in enumerate([train_sentences, test_sentences]):\n",
    "        for sent in sent_set:\n",
    "            c += 1\n",
    "            if c % 1000==0:\n",
    "                print(\"Progress : {:3d} %  \".format(\n",
    "                        int(c/len(preprocessed_reviews)*100)), \n",
    "                        end='\\r')\n",
    "            sent_vec = np.zeros(128)\n",
    "            weight_sum = 0\n",
    "            for word in sent:\n",
    "                if word in w2v_words and word in tfidf_feat:\n",
    "                    vec = w2v_model.wv[word]\n",
    "                    tf_idf = dictionary[word]*(sent.count(word)/len(sent))\n",
    "                    sent_vec += (vec * tf_idf)\n",
    "                    weight_sum += tf_idf\n",
    "            if weight_sum != 0:\n",
    "                sent_vec /= weight_sum\n",
    "            if i==0:\n",
    "                tfidf_avgW2V_train.append(sent_vec)\n",
    "            if i==1:\n",
    "                tfidf_avgW2V_test.append(sent_vec)\n",
    "              \n",
    "    print(\"Saving to drive..\")\n",
    "    with open(fullPath,'wb') as f:\n",
    "        pickle.dump((tfidf_avgW2V_train, tfidf_avgW2V_test), f)\n",
    "    \n",
    "\n",
    "print(\"Dims of Train : ({}, {})\".format(len(tfidf_avgW2V_train), \n",
    "                                        len(tfidf_avgW2V_train[0])))\n",
    "print(\"Dims of Test : ({}, {})\".format(len(tfidf_avgW2V_test), \n",
    "                                       len(tfidf_avgW2V_test[0])))"
   ]
  },
  {
   "cell_type": "code",
   "execution_count": null,
   "metadata": {},
   "outputs": [],
   "source": []
  },
  {
   "cell_type": "code",
   "execution_count": null,
   "metadata": {},
   "outputs": [],
   "source": []
  },
  {
   "cell_type": "code",
   "execution_count": 116,
   "metadata": {},
   "outputs": [],
   "source": [
    "from sklearn.svm import SVC"
   ]
  },
  {
   "cell_type": "code",
   "execution_count": 169,
   "metadata": {},
   "outputs": [],
   "source": [
    "def SvcSvm_Classifier(X_train, y_train):\n",
    "    cList = [0.001, 0.01, 0.1, 1, 10]\n",
    "    gammaList = [0.001, 0.01, 0.1, 1, 10]\n",
    "    params_dict = [{'C': cList, 'gamma': gammaList}]\n",
    "    svc_optimal = SVC(kernel='rbf')\n",
    "    \n",
    "    grid = GridSearchCV(estimator=svc_optimal, \n",
    "                        param_grid=params_dict, \n",
    "                        scoring='roc_auc', n_jobs=5, cv=5)\n",
    "    \n",
    "    grid_result = grid.fit(X_train, y_train)\n",
    "    train_auc = grid_result.cv_results_['mean_train_score']\n",
    "    train_auc_std = grid_result.cv_results_['std_train_score']\n",
    "    cv_auc = grid_result.cv_results_['mean_test_score']\n",
    "    cv_auc_std = grid_result.cv_results_['std_test_score']\n",
    "    \n",
    "    print(\"Optimal Parameters : \", grid_result.best_estimator_.get_params())\n",
    "    \n",
    "    \n",
    "    plt.figure(figsize=(10.0, 8.0))\n",
    "    ax = sns.heatmap(train_auc.reshape(len(gammaList),len(cList)), \n",
    "                     annot=True, square=False,  cmap=\"Oranges\",\n",
    "                     xticklabels=[\"g = \"+str(g) for g in gammaList],\n",
    "                     yticklabels=[\"c = \"+str(c) for c in cList])\n",
    "    plt.title(\"Training scores for C and gamma\")\n",
    "    plt.show()\n",
    "    print('')\n",
    "    \n",
    "    plt.figure(figsize=(10.0, 8.0))\n",
    "    ax = sns.heatmap(cv_auc.reshape(len(gammaList),len(cList)), \n",
    "                     annot=True, square=False,  cmap=\"Blues\",\n",
    "                     xticklabels=[\"g = \"+str(g) for g in gammaList],\n",
    "                     yticklabels=[\"c = \"+str(c) for c in cList])\n",
    "    plt.title(\"Cross-val scores for C and gamma\")\n",
    "    plt.show()"
   ]
  },
  {
   "cell_type": "code",
   "execution_count": 173,
   "metadata": {},
   "outputs": [],
   "source": [
    "def SvcSvm_Classifier_Test(C, gamma, X_train, y_train, X_test, y_test):\n",
    "    # Setting up the classifier using optimal params\n",
    "\n",
    "    svc_optimal = SVC(kernel='rbf', C=C, gamma=gamma, probability=True)\n",
    "    \n",
    "    # we have to fit the SGDClassifier so that we can access the coef_\n",
    "    svc_optimal.fit(X_train, y_train)\n",
    "    \n",
    "    # Prediction on training and test set using optimal classifier\n",
    "    logProb_train = svc_optimal.predict_log_proba(X_train)\n",
    "    logProb_test = svc_optimal.predict_log_proba(X_test)\n",
    "    pred_train = np.argmax(logProb_train, axis =1)\n",
    "    pred_test = np.argmax(logProb_test, axis =1)\n",
    "    print(\"Using C value for svc-SVM - \", C)\n",
    "    print(\"Using gamma value for svc-SVM - \", gamma)\n",
    "    print(\"Train accuracy for optimal svc-SVM \", round(\n",
    "                        accuracy_score(y_train, pred_train)*100, 2))\n",
    "    print(\"Test accuracy for optimal svc-SVM \", round(\n",
    "                        accuracy_score(y_test, pred_test) * 100, 2))\n",
    "\n",
    "    # ROC-AUC on train & test data\n",
    "    train_fpr, train_tpr, thresholds = roc_curve(y_train, \n",
    "                                logProb_train[:, 1], pos_label=1)\n",
    "    test_fpr, test_tpr, thresholds = roc_curve(y_test, \n",
    "                                logProb_test[:, 1], pos_label=1)\n",
    "\n",
    "\n",
    "    # Draw ROC curve\n",
    "    plt.plot(train_fpr, train_tpr, label=\"Train AUC = \"+str(round(\n",
    "                                    auc(train_fpr, train_tpr), 2)))\n",
    "    auc_score = round(auc(test_fpr, test_tpr), 2)\n",
    "    plt.plot(test_fpr, test_tpr, label=\"Test AUC = \"+str(auc_score))\n",
    "    plt.legend()\n",
    "    plt.xlabel(\"False Pos Rate\")\n",
    "    plt.ylabel(\"True Pos Rate\")\n",
    "    plt.title(\"ROC Curve of Train and Test\")\n",
    "    plt.show()\n",
    "    \n",
    "    return svc_optimal, pred_train, pred_test, auc_score"
   ]
  },
  {
   "cell_type": "markdown",
   "metadata": {
    "colab_type": "text",
    "id": "V6d1zrv2xYzO"
   },
   "source": [
    "### [5.2.1] Applying RBF SVM on BOW,<font color='red'> SET 1</font>"
   ]
  },
  {
   "cell_type": "code",
   "execution_count": 170,
   "metadata": {},
   "outputs": [
    {
     "name": "stdout",
     "output_type": "stream",
     "text": [
      "Optimal Parameters :  {'C': 1, 'cache_size': 200, 'class_weight': None, 'coef0': 0.0, 'decision_function_shape': 'ovr', 'degree': 3, 'gamma': 0.01, 'kernel': 'rbf', 'max_iter': -1, 'probability': False, 'random_state': None, 'shrinking': True, 'tol': 0.001, 'verbose': False}\n"
     ]
    },
    {
     "data": {
      "image/png": "[encoded data removed]",
      "text/plain": [
       "<Figure size 720x576 with 2 Axes>"
      ]
     },
     "metadata": {
      "needs_background": "light"
     },
     "output_type": "display_data"
    },
    {
     "name": "stdout",
     "output_type": "stream",
     "text": [
      "\n"
     ]
    },
    {
     "data": {
      "image/png": "[encoded data removed]",
      "text/plain": [
       "<Figure size 720x576 with 2 Axes>"
      ]
     },
     "metadata": {
      "needs_background": "light"
     },
     "output_type": "display_data"
    }
   ],
   "source": [
    "# Please write all the code with proper documentation\n",
    "SvcSvm_Classifier(bow_train, rs_train)"
   ]
  },
  {
   "cell_type": "code",
   "execution_count": 174,
   "metadata": {},
   "outputs": [
    {
     "name": "stdout",
     "output_type": "stream",
     "text": [
      "Using C value for svc-SVM -  1\n",
      "Using gamma value for svc-SVM -  0.01\n",
      "Train accuracy for optimal svc-SVM  91.24\n",
      "Test accuracy for optimal svc-SVM  87.86\n"
     ]
    },
    {
     "data": {
      "image/png": "[encoded data removed]",
      "text/plain": [
       "<Figure size 432x288 with 1 Axes>"
      ]
     },
     "metadata": {
      "needs_background": "light"
     },
     "output_type": "display_data"
    }
   ],
   "source": [
    "# Please write all the code with proper documentation\n",
    "bow_C, bow_gamma = 1, 0.01\n",
    "classifier, pred_train, pred_test, auc_score = SvcSvm_Classifier_Test(\n",
    "                                    bow_C, bow_gamma, bow_train, \n",
    "                                    rs_train, bow_test, \n",
    "                                    rs_test)"
   ]
  },
  {
   "cell_type": "code",
   "execution_count": 178,
   "metadata": {},
   "outputs": [
    {
     "name": "stdout",
     "output_type": "stream",
     "text": [
      "Training Confusion Matrix\n"
     ]
    },
    {
     "data": {
      "image/png": "[encoded data removed]",
      "text/plain": [
       "<Figure size 432x288 with 2 Axes>"
      ]
     },
     "metadata": {
      "needs_background": "light"
     },
     "output_type": "display_data"
    },
    {
     "name": "stdout",
     "output_type": "stream",
     "text": [
      "\n",
      "\n",
      "\n",
      "Test Confusion Matrix\n"
     ]
    },
    {
     "data": {
      "image/png": "[encoded data removed]",
      "text/plain": [
       "<Figure size 432x288 with 2 Axes>"
      ]
     },
     "metadata": {
      "needs_background": "light"
     },
     "output_type": "display_data"
    }
   ],
   "source": [
    "print(\"Training Confusion Matrix\")\n",
    "draw_Confusion_Matrix(rs_train, pred_train)\n",
    "print('\\n\\n')\n",
    "\n",
    "print(\"Test Confusion Matrix\")\n",
    "draw_Confusion_Matrix(rs_test, pred_test)\n",
    "table.add_row([\"BOW\", \"RBF Support Vector Machine\", \n",
    "               \"c: {0}  gamma: {1}\".format(bow_C, bow_gamma), \n",
    "               auc_score])"
   ]
  },
  {
   "cell_type": "code",
   "execution_count": 180,
   "metadata": {},
   "outputs": [
    {
     "name": "stdout",
     "output_type": "stream",
     "text": [
      "              precision    recall  f1-score   support\n",
      "\n",
      "           0       0.86      0.90      0.88      2500\n",
      "           1       0.90      0.86      0.88      2500\n",
      "\n",
      "   micro avg       0.88      0.88      0.88      5000\n",
      "   macro avg       0.88      0.88      0.88      5000\n",
      "weighted avg       0.88      0.88      0.88      5000\n",
      "\n"
     ]
    }
   ],
   "source": [
    "# Classification report \n",
    "print(classification_report(rs_test, pred_test))"
   ]
  },
  {
   "cell_type": "markdown",
   "metadata": {
    "colab_type": "text",
    "id": "_8t905a3xYzR"
   },
   "source": [
    "### [5.2.2] Applying RBF SVM on TFIDF,<font color='red'> SET 2</font>"
   ]
  },
  {
   "cell_type": "code",
   "execution_count": 186,
   "metadata": {
    "colab": {},
    "colab_type": "code",
    "id": "EHUr-wZZxYzR"
   },
   "outputs": [
    {
     "name": "stdout",
     "output_type": "stream",
     "text": [
      "Optimal Parameters :  {'C': 1, 'cache_size': 200, 'class_weight': None, 'coef0': 0.0, 'decision_function_shape': 'ovr', 'degree': 3, 'gamma': 1, 'kernel': 'rbf', 'max_iter': -1, 'probability': False, 'random_state': None, 'shrinking': True, 'tol': 0.001, 'verbose': False}\n"
     ]
    },
    {
     "data": {
      "image/png": "[encoded data removed]",
      "text/plain": [
       "<Figure size 720x576 with 2 Axes>"
      ]
     },
     "metadata": {
      "needs_background": "light"
     },
     "output_type": "display_data"
    },
    {
     "name": "stdout",
     "output_type": "stream",
     "text": [
      "\n"
     ]
    },
    {
     "data": {
      "image/png": "[encoded data removed]",
      "text/plain": [
       "<Figure size 720x576 with 2 Axes>"
      ]
     },
     "metadata": {
      "needs_background": "light"
     },
     "output_type": "display_data"
    }
   ],
   "source": [
    "# Please write all the code with proper documentation\n",
    "SvcSvm_Classifier(tfIdf_train, rs_train)"
   ]
  },
  {
   "cell_type": "code",
   "execution_count": 187,
   "metadata": {},
   "outputs": [
    {
     "name": "stdout",
     "output_type": "stream",
     "text": [
      "Using C value for svc-SVM -  1\n",
      "Using gamma value for svc-SVM -  1\n",
      "Train accuracy for optimal svc-SVM  96.31\n",
      "Test accuracy for optimal svc-SVM  88.2\n"
     ]
    },
    {
     "data": {
      "image/png": "[encoded data removed]",
      "text/plain": [
       "<Figure size 432x288 with 1 Axes>"
      ]
     },
     "metadata": {
      "needs_background": "light"
     },
     "output_type": "display_data"
    }
   ],
   "source": [
    "# Please write all the code with proper documentation\n",
    "tfIdf_C, tfIdf_gamma =1, 1\n",
    "classifier, pred_train, pred_test, auc_score = SvcSvm_Classifier_Test(\n",
    "                                    tfIdf_C, tfIdf_gamma, tfIdf_train, \n",
    "                                    rs_train, tfIdf_test, \n",
    "                                    rs_test)"
   ]
  },
  {
   "cell_type": "code",
   "execution_count": 188,
   "metadata": {},
   "outputs": [
    {
     "name": "stdout",
     "output_type": "stream",
     "text": [
      "Training Confusion Matrix\n"
     ]
    },
    {
     "data": {
      "image/png": "[encoded data removed]",
      "text/plain": [
       "<Figure size 432x288 with 2 Axes>"
      ]
     },
     "metadata": {
      "needs_background": "light"
     },
     "output_type": "display_data"
    },
    {
     "name": "stdout",
     "output_type": "stream",
     "text": [
      "\n",
      "\n",
      "\n",
      "Test Confusion Matrix\n"
     ]
    },
    {
     "data": {
      "image/png": "[encoded data removed]",
      "text/plain": [
       "<Figure size 432x288 with 2 Axes>"
      ]
     },
     "metadata": {
      "needs_background": "light"
     },
     "output_type": "display_data"
    }
   ],
   "source": [
    "print(\"Training Confusion Matrix\")\n",
    "draw_Confusion_Matrix(rs_train, pred_train)\n",
    "print('\\n\\n')\n",
    "\n",
    "print(\"Test Confusion Matrix\")\n",
    "draw_Confusion_Matrix(rs_test, pred_test)\n",
    "table.add_row([\"Tf-Idf\", \"RBF Support Vector Machine\", \n",
    "               \"c: {0}  gamma: {1}\".format(tfIdf_C, tfIdf_gamma), \n",
    "               auc_score])"
   ]
  },
  {
   "cell_type": "code",
   "execution_count": 189,
   "metadata": {},
   "outputs": [
    {
     "name": "stdout",
     "output_type": "stream",
     "text": [
      "              precision    recall  f1-score   support\n",
      "\n",
      "           0       0.87      0.90      0.88      2500\n",
      "           1       0.90      0.86      0.88      2500\n",
      "\n",
      "   micro avg       0.88      0.88      0.88      5000\n",
      "   macro avg       0.88      0.88      0.88      5000\n",
      "weighted avg       0.88      0.88      0.88      5000\n",
      "\n"
     ]
    }
   ],
   "source": [
    "# Classification report \n",
    "print(classification_report(rs_test, pred_test))"
   ]
  },
  {
   "cell_type": "markdown",
   "metadata": {
    "colab_type": "text",
    "id": "87d9ZySHxYzV"
   },
   "source": [
    "### [5.2.3]  Applying RBF SVM on AVG W2V,<font color='red'> SET 3</font>"
   ]
  },
  {
   "cell_type": "code",
   "execution_count": 195,
   "metadata": {
    "colab": {},
    "colab_type": "code",
    "id": "7jTDUuYzxYzW"
   },
   "outputs": [
    {
     "name": "stdout",
     "output_type": "stream",
     "text": [
      "Optimal Parameters :  {'C': 10, 'cache_size': 200, 'class_weight': None, 'coef0': 0.0, 'decision_function_shape': 'ovr', 'degree': 3, 'gamma': 0.1, 'kernel': 'rbf', 'max_iter': -1, 'probability': False, 'random_state': None, 'shrinking': True, 'tol': 0.001, 'verbose': False}\n"
     ]
    },
    {
     "data": {
      "image/png": "[encoded data removed]",
      "text/plain": [
       "<Figure size 720x576 with 2 Axes>"
      ]
     },
     "metadata": {
      "needs_background": "light"
     },
     "output_type": "display_data"
    },
    {
     "name": "stdout",
     "output_type": "stream",
     "text": [
      "\n"
     ]
    },
    {
     "data": {
      "image/png": "[encoded data removed]",
      "text/plain": [
       "<Figure size 720x576 with 2 Axes>"
      ]
     },
     "metadata": {
      "needs_background": "light"
     },
     "output_type": "display_data"
    }
   ],
   "source": [
    "# Please write all the code with proper documentation\n",
    "SvcSvm_Classifier(avgW2V_train, rs_train)"
   ]
  },
  {
   "cell_type": "code",
   "execution_count": 196,
   "metadata": {},
   "outputs": [
    {
     "name": "stdout",
     "output_type": "stream",
     "text": [
      "Using C value for svc-SVM -  10\n",
      "Using gamma value for svc-SVM -  0.1\n",
      "Train accuracy for optimal svc-SVM  87.63\n",
      "Test accuracy for optimal svc-SVM  87.12\n"
     ]
    },
    {
     "data": {
      "image/png": "[encoded data removed]",
      "text/plain": [
       "<Figure size 432x288 with 1 Axes>"
      ]
     },
     "metadata": {
      "needs_background": "light"
     },
     "output_type": "display_data"
    }
   ],
   "source": [
    "# Please write all the code with proper documentation\n",
    "avgW2V_C, avgW2V_gamma =10, 0.1\n",
    "classifier, pred_train, pred_test, auc_score = SvcSvm_Classifier_Test(\n",
    "                                    avgW2V_C, avgW2V_gamma, avgW2V_train, \n",
    "                                    rs_train, avgW2V_test, \n",
    "                                    rs_test)"
   ]
  },
  {
   "cell_type": "code",
   "execution_count": 197,
   "metadata": {},
   "outputs": [
    {
     "name": "stdout",
     "output_type": "stream",
     "text": [
      "Training Confusion Matrix\n"
     ]
    },
    {
     "data": {
      "image/png": "[encoded data removed]",
      "text/plain": [
       "<Figure size 432x288 with 2 Axes>"
      ]
     },
     "metadata": {
      "needs_background": "light"
     },
     "output_type": "display_data"
    },
    {
     "name": "stdout",
     "output_type": "stream",
     "text": [
      "\n",
      "\n",
      "\n",
      "Test Confusion Matrix\n"
     ]
    },
    {
     "data": {
      "image/png": "[encoded data removed]",
      "text/plain": [
       "<Figure size 432x288 with 2 Axes>"
      ]
     },
     "metadata": {
      "needs_background": "light"
     },
     "output_type": "display_data"
    }
   ],
   "source": [
    "print(\"Training Confusion Matrix\")\n",
    "draw_Confusion_Matrix(rs_train, pred_train)\n",
    "print('\\n\\n')\n",
    "\n",
    "print(\"Test Confusion Matrix\")\n",
    "draw_Confusion_Matrix(rs_test, pred_test)\n",
    "table.add_row([\"Avg W2V\", \"RBF Support Vector Machine\", \n",
    "               \"c: {0}  gamma: {1}\".format(avgW2V_C, avgW2V_gamma), \n",
    "               auc_score])"
   ]
  },
  {
   "cell_type": "code",
   "execution_count": 198,
   "metadata": {},
   "outputs": [
    {
     "name": "stdout",
     "output_type": "stream",
     "text": [
      "              precision    recall  f1-score   support\n",
      "\n",
      "           0       0.86      0.89      0.87      2500\n",
      "           1       0.89      0.85      0.87      2500\n",
      "\n",
      "   micro avg       0.87      0.87      0.87      5000\n",
      "   macro avg       0.87      0.87      0.87      5000\n",
      "weighted avg       0.87      0.87      0.87      5000\n",
      "\n"
     ]
    }
   ],
   "source": [
    "# Classification report \n",
    "print(classification_report(rs_test, pred_test))"
   ]
  },
  {
   "cell_type": "markdown",
   "metadata": {
    "colab_type": "text",
    "id": "SYZ4C51nxYzX"
   },
   "source": [
    "### [5.2.4]  Applying RBF SVM on TFIDF W2V,<font color='red'> SET 4</font>"
   ]
  },
  {
   "cell_type": "code",
   "execution_count": 202,
   "metadata": {
    "colab": {},
    "colab_type": "code",
    "id": "5asgtWTIxYzY"
   },
   "outputs": [
    {
     "name": "stdout",
     "output_type": "stream",
     "text": [
      "Optimal Parameters :  {'C': 10, 'cache_size': 200, 'class_weight': None, 'coef0': 0.0, 'decision_function_shape': 'ovr', 'degree': 3, 'gamma': 0.1, 'kernel': 'rbf', 'max_iter': -1, 'probability': False, 'random_state': None, 'shrinking': True, 'tol': 0.001, 'verbose': False}\n"
     ]
    },
    {
     "data": {
      "image/png": "[encoded data removed]",
      "text/plain": [
       "<Figure size 720x576 with 2 Axes>"
      ]
     },
     "metadata": {
      "needs_background": "light"
     },
     "output_type": "display_data"
    },
    {
     "name": "stdout",
     "output_type": "stream",
     "text": [
      "\n"
     ]
    },
    {
     "data": {
      "image/png": "[encoded data removed]",
      "text/plain": [
       "<Figure size 720x576 with 2 Axes>"
      ]
     },
     "metadata": {
      "needs_background": "light"
     },
     "output_type": "display_data"
    }
   ],
   "source": [
    "# Please write all the code with proper documentation\n",
    "SvcSvm_Classifier(tfidf_avgW2V_train, rs_train)"
   ]
  },
  {
   "cell_type": "code",
   "execution_count": 203,
   "metadata": {},
   "outputs": [
    {
     "name": "stdout",
     "output_type": "stream",
     "text": [
      "Using C value for svc-SVM -  10\n",
      "Using gamma value for svc-SVM -  0.1\n",
      "Train accuracy for optimal svc-SVM  86.84\n",
      "Test accuracy for optimal svc-SVM  84.98\n"
     ]
    },
    {
     "data": {
      "image/png": "[encoded data removed]",
      "text/plain": [
       "<Figure size 432x288 with 1 Axes>"
      ]
     },
     "metadata": {
      "needs_background": "light"
     },
     "output_type": "display_data"
    }
   ],
   "source": [
    "# Please write all the code with proper documentation\n",
    "tfIdfavgW2V_C, tfIdfavgW2V_gamma = 10, 0.1\n",
    "classifier, pred_train, pred_test, auc_score = SvcSvm_Classifier_Test(\n",
    "                        tfIdfavgW2V_C, tfIdfavgW2V_gamma, tfidf_avgW2V_train, \n",
    "                                rs_train, tfidf_avgW2V_test, \n",
    "                                rs_test)"
   ]
  },
  {
   "cell_type": "code",
   "execution_count": 204,
   "metadata": {},
   "outputs": [
    {
     "name": "stdout",
     "output_type": "stream",
     "text": [
      "Training Confusion Matrix\n"
     ]
    },
    {
     "data": {
      "image/png": "[encoded data removed]",
      "text/plain": [
       "<Figure size 432x288 with 2 Axes>"
      ]
     },
     "metadata": {
      "needs_background": "light"
     },
     "output_type": "display_data"
    },
    {
     "name": "stdout",
     "output_type": "stream",
     "text": [
      "\n",
      "\n",
      "\n",
      "Test Confusion Matrix\n"
     ]
    },
    {
     "data": {
      "image/png": "[encoded data removed]",
      "text/plain": [
       "<Figure size 432x288 with 2 Axes>"
      ]
     },
     "metadata": {
      "needs_background": "light"
     },
     "output_type": "display_data"
    }
   ],
   "source": [
    "print(\"Training Confusion Matrix\")\n",
    "draw_Confusion_Matrix(rs_train, pred_train)\n",
    "print('\\n\\n')\n",
    "\n",
    "print(\"Test Confusion Matrix\")\n",
    "draw_Confusion_Matrix(rs_test, pred_test)\n",
    "table.add_row([\"TfIdf Avg W2V\", \"RBF Support Vector Machine\", \n",
    "               \"c: {0}  gamma: {1}\".format(tfIdfavgW2V_C, tfIdfavgW2V_gamma), \n",
    "               auc_score])"
   ]
  },
  {
   "cell_type": "code",
   "execution_count": 205,
   "metadata": {},
   "outputs": [
    {
     "name": "stdout",
     "output_type": "stream",
     "text": [
      "              precision    recall  f1-score   support\n",
      "\n",
      "           0       0.83      0.88      0.85      2500\n",
      "           1       0.87      0.82      0.85      2500\n",
      "\n",
      "   micro avg       0.85      0.85      0.85      5000\n",
      "   macro avg       0.85      0.85      0.85      5000\n",
      "weighted avg       0.85      0.85      0.85      5000\n",
      "\n"
     ]
    }
   ],
   "source": [
    "# Classification report \n",
    "print(classification_report(rs_test, pred_test))"
   ]
  },
  {
   "cell_type": "markdown",
   "metadata": {
    "colab_type": "text",
    "id": "McHXEEgLxYza"
   },
   "source": [
    "# [6] Conclusions"
   ]
  },
  {
   "cell_type": "code",
   "execution_count": 230,
   "metadata": {
    "colab": {},
    "colab_type": "code",
    "id": "r4ezwRqCxYza"
   },
   "outputs": [
    {
     "name": "stdout",
     "output_type": "stream",
     "text": [
      "+---------------+----------------------------+-------------------+-----------+\n",
      "|   Vectorizer  |           Model            |  Hyperparameters  | AUC Score |\n",
      "+---------------+----------------------------+-------------------+-----------+\n",
      "|      BOW      | RBF Support Vector Machine | c: 1  gamma: 0.01 |    0.95   |\n",
      "|     Tf-Idf    | RBF Support Vector Machine |   c: 1  gamma: 1  |    0.95   |\n",
      "|    Avg W2V    | RBF Support Vector Machine | c: 10  gamma: 0.1 |    0.94   |\n",
      "| TfIdf Avg W2V | RBF Support Vector Machine | c: 10  gamma: 0.1 |    0.92   |\n",
      "|      BOW      |       SGD Linear SVM       |    alpha: 0.001   |    0.97   |\n",
      "|     Tf-Idf    |       SGD Linear SVM       |   alpha: 0.0001   |    0.98   |\n",
      "|    Avg W2V    |       SGD Linear SVM       |   alpha: 0.0001   |    0.95   |\n",
      "| TfIdf Avg W2V |       SGD Linear SVM       |    alpha: 0.001   |    0.94   |\n",
      "+---------------+----------------------------+-------------------+-----------+\n"
     ]
    }
   ],
   "source": [
    "# Please compare all your models using Prettytable library\n",
    "print(table)"
   ]
  },
  {
   "cell_type": "markdown",
   "metadata": {},
   "source": [
    "    - We observe that in case of linear SVM (which is almost like Logistic \n",
    "        Regression), the alpha value remained either 0.001 or 0.0001 and we get\n",
    "        good values of AUC score (>0.90)\n",
    "        \n",
    "    - The linear kernel is also pretty fast as it involves simple computations \n",
    "        which can be vectorised and made fast compared to the rbf kernel\n",
    "        \n",
    "    - While we use support vector machine with the rbf kernel we observe a huge\n",
    "        leap in the runtime as the kernel is very complex compared to rbf\n",
    "        \n",
    "    - When we are working with bow and tf-Idf vectors, we have lots of features \n",
    "        thus more focus is on regularisation (C = 1) and working with average and\n",
    "        tf-Idf weighted average word2Vec focus to fitting the data points in a \n",
    "        more better way, so increase C"
   ]
  },
  {
   "cell_type": "code",
   "execution_count": null,
   "metadata": {},
   "outputs": [],
   "source": []
  }
 ],
 "metadata": {
  "colab": {
   "collapsed_sections": [
    "rCAytbAyxYy1",
    "Foepy7gmxYy5",
    "--aiqi0PxYzL",
    "npH2KC4vxYzO",
    "V6d1zrv2xYzO",
    "_8t905a3xYzR",
    "87d9ZySHxYzV",
    "SYZ4C51nxYzX"
   ],
   "name": "07 Amazon Fine Food Reviews Analysis_Support Vector Machines.ipynb",
   "provenance": [],
   "toc_visible": true,
   "version": "0.3.2"
  },
  "kernelspec": {
   "display_name": "Python 3",
   "language": "python",
   "name": "python3"
  },
  "language_info": {
   "codemirror_mode": {
    "name": "ipython",
    "version": 3
   },
   "file_extension": ".py",
   "mimetype": "text/x-python",
   "name": "python",
   "nbconvert_exporter": "python",
   "pygments_lexer": "ipython3",
   "version": "3.6.8"
  }
 },
 "nbformat": 4,
 "nbformat_minor": 1
}
