{
 "cells": [
  {
   "cell_type": "code",
   "execution_count": 1,
   "metadata": {
    "colab": {
     "base_uri": "https://localhost:8080/",
     "height": 35
    },
    "colab_type": "code",
    "id": "Jr4cugH3mZ_X",
    "outputId": "cb29e4ba-cffa-4df8-afe5-a5dd79ea50b2"
   },
   "outputs": [
    {
     "name": "stderr",
     "output_type": "stream",
     "text": [
      "Using TensorFlow backend.\n"
     ]
    }
   ],
   "source": [
    "# Credits: https://machinelearningmastery.com/sequence-classification-lstm-recurrent-neural-networks-python-keras/\n",
    "# LSTM for sequence classification in the IMDB dataset\n",
    "import numpy\n",
    "from keras.datasets import imdb\n",
    "from keras.preprocessing.text import Tokenizer\n",
    "from keras.models import Sequential\n",
    "from keras.layers import Dense\n",
    "from keras.layers import LSTM\n",
    "from keras.layers.embeddings import Embedding\n",
    "from keras.preprocessing import sequence\n",
    "# fix random seed for reproducibility\n",
    "numpy.random.seed(7)"
   ]
  },
  {
   "cell_type": "code",
   "execution_count": 0,
   "metadata": {
    "colab": {},
    "colab_type": "code",
    "id": "yqaVFs344ASg"
   },
   "outputs": [],
   "source": [
    "import warnings\n",
    "warnings.filterwarnings(\"ignore\")\n",
    "warnings.simplefilter(action='ignore', category=FutureWarning)"
   ]
  },
  {
   "cell_type": "code",
   "execution_count": 3,
   "metadata": {
    "colab": {
     "base_uri": "https://localhost:8080/",
     "height": 90
    },
    "colab_type": "code",
    "id": "x48JE6QSFwUh",
    "outputId": "5e32b79c-ee13-477c-be94-b60d736a178e"
   },
   "outputs": [
    {
     "name": "stdout",
     "output_type": "stream",
     "text": [
      "+---------------+---------------+----------+------+\n",
      "| Embedding Len | Architechture | Accuracy | Loss |\n",
      "+---------------+---------------+----------+------+\n",
      "+---------------+---------------+----------+------+\n"
     ]
    }
   ],
   "source": [
    "# Using Prettytable for displaying the observations\n",
    "from prettytable import PrettyTable\n",
    "table = PrettyTable()\n",
    "table.field_names = [\"Embedding Len\", \"Architechture\", \"Accuracy\", \"Loss\"]\n",
    "print(table)"
   ]
  },
  {
   "cell_type": "code",
   "execution_count": 0,
   "metadata": {
    "colab": {},
    "colab_type": "code",
    "id": "eQFAtP20GS17"
   },
   "outputs": [],
   "source": [
    "# 1. Please remove the imdb code as it causes confusion. \n",
    "# 2. Plot the loss and accuracies for both train and test data. \n",
    "# 3. Make sure none of your models overfit. \n",
    "# 4. Add a pretty table in the end comparing all the models. "
   ]
  },
  {
   "cell_type": "code",
   "execution_count": 4,
   "metadata": {
    "colab": {
     "base_uri": "https://localhost:8080/",
     "height": 128
    },
    "colab_type": "code",
    "id": "HKPaI_1T2ucv",
    "outputId": "49e0aa81-e774-4b6d-886a-fc3aaf30c8b0"
   },
   "outputs": [
    {
     "name": "stdout",
     "output_type": "stream",
     "text": [
      "Go to this URL in a browser: https://accounts.google.com/o/oauth2/auth?client_id=947318989803-6bn6qk8qdgf4n4g3pfee6491hc0brc4i.apps.googleusercontent.com&redirect_uri=urn%3Aietf%3Awg%3Aoauth%3A2.0%3Aoob&scope=email%20https%3A%2F%2Fwww.googleapis.com%2Fauth%2Fdocs.test%20https%3A%2F%2Fwww.googleapis.com%2Fauth%2Fdrive%20https%3A%2F%2Fwww.googleapis.com%2Fauth%2Fdrive.photos.readonly%20https%3A%2F%2Fwww.googleapis.com%2Fauth%2Fpeopleapi.readonly&response_type=code\n",
      "\n",
      "Enter your authorization code:\n",
      "··········\n",
      "Mounted at /content/drive\n"
     ]
    }
   ],
   "source": [
    "from google.colab import drive\n",
    "drive.mount('/content/drive')"
   ]
  },
  {
   "cell_type": "code",
   "execution_count": 0,
   "metadata": {
    "colab": {},
    "colab_type": "code",
    "id": "8aFKw5AJNyoq"
   },
   "outputs": [],
   "source": [
    "import sqlite3\n",
    "import os, re\n",
    "from tqdm import tqdm\n",
    "import numpy as np\n",
    "import pandas as pd\n",
    "from bs4 import BeautifulSoup\n",
    "import matplotlib.pyplot as plt"
   ]
  },
  {
   "cell_type": "code",
   "execution_count": 0,
   "metadata": {
    "colab": {},
    "colab_type": "code",
    "id": "ELsRNGYxLAjY"
   },
   "outputs": [],
   "source": [
    "from sklearn.model_selection import train_test_split"
   ]
  },
  {
   "cell_type": "code",
   "execution_count": 0,
   "metadata": {
    "colab": {},
    "colab_type": "code",
    "id": "fAgMXuv6OTLz"
   },
   "outputs": [],
   "source": [
    "dir_path='/content/drive/My Drive/Colab Notebooks/AppliedAI/'"
   ]
  },
  {
   "cell_type": "code",
   "execution_count": 0,
   "metadata": {
    "colab": {},
    "colab_type": "code",
    "id": "-Syq4H4f2yVw"
   },
   "outputs": [],
   "source": [
    "# Subsequent code copied from previous assignments\n",
    "\n",
    "con = sqlite3.connect(dir_path+'database.sqlite')\n",
    "filtered_data = pd.read_sql_query(\n",
    "          \"SELECT * FROM Reviews WHERE Score < 3 LIMIT 50000\", con)\n",
    "\n",
    "filtered_data = filtered_data.append(pd.read_sql_query(\n",
    "        \"SELECT * FROM Reviews WHERE Score > 3 LIMIT 50000\", con))\n",
    "filtered_data.reset_index(drop=True, inplace=True)"
   ]
  },
  {
   "cell_type": "code",
   "execution_count": 0,
   "metadata": {
    "colab": {},
    "colab_type": "code",
    "id": "RcHJlYp72yQA"
   },
   "outputs": [],
   "source": [
    "# changing reviews with score less than 3 to be positive and vice-versa\n",
    "filtered_data['Score']=filtered_data['Score'].apply(lambda x : 0 if x<3 else 1)"
   ]
  },
  {
   "cell_type": "code",
   "execution_count": 0,
   "metadata": {
    "colab": {},
    "colab_type": "code",
    "id": "OxWYlFjGSMUo"
   },
   "outputs": [],
   "source": [
    "#Sorting data according to ProductId in ascending order\n",
    "sorted_data=filtered_data.sort_values('ProductId', axis=0, ascending=True,\n",
    "                        inplace=False,kind='quicksort',na_position='last')"
   ]
  },
  {
   "cell_type": "code",
   "execution_count": 10,
   "metadata": {
    "colab": {
     "base_uri": "https://localhost:8080/",
     "height": 35
    },
    "colab_type": "code",
    "id": "eocsLKzDSMSN",
    "outputId": "9e7504db-536f-494c-d599-544b7eeadcc9"
   },
   "outputs": [
    {
     "data": {
      "text/plain": [
       "(83317, 10)"
      ]
     },
     "execution_count": 10,
     "metadata": {
      "tags": []
     },
     "output_type": "execute_result"
    }
   ],
   "source": [
    "#Deduplication of entries\n",
    "final=sorted_data.drop_duplicates(subset={\"UserId\",\"ProfileName\",\n",
    "                      \"Time\",\"Text\"},keep='first', inplace=False)\n",
    "final.shape"
   ]
  },
  {
   "cell_type": "code",
   "execution_count": 0,
   "metadata": {
    "colab": {},
    "colab_type": "code",
    "id": "SX9T7M1rT8eZ"
   },
   "outputs": [],
   "source": [
    "final=final[final.HelpfulnessNumerator<=final.HelpfulnessDenominator]"
   ]
  },
  {
   "cell_type": "code",
   "execution_count": 12,
   "metadata": {
    "colab": {
     "base_uri": "https://localhost:8080/",
     "height": 90
    },
    "colab_type": "code",
    "id": "ubMIU66cT8bH",
    "outputId": "016da128-26b4-4626-c47a-5540811cea89"
   },
   "outputs": [
    {
     "name": "stdout",
     "output_type": "stream",
     "text": [
      "(83315, 10)\n"
     ]
    },
    {
     "data": {
      "text/plain": [
       "1    45420\n",
       "0    37895\n",
       "Name: Score, dtype: int64"
      ]
     },
     "execution_count": 12,
     "metadata": {
      "tags": []
     },
     "output_type": "execute_result"
    }
   ],
   "source": [
    "print(final.shape)\n",
    "#How many positive and negative reviews are present in our dataset?\n",
    "final['Score'].value_counts()"
   ]
  },
  {
   "cell_type": "code",
   "execution_count": 0,
   "metadata": {
    "colab": {},
    "colab_type": "code",
    "id": "JJKaqGlbT8Y8"
   },
   "outputs": [],
   "source": [
    "def decontracted(phrase):\n",
    "  # specific\n",
    "  phrase = re.sub(r\"won't\", \"will not\", phrase)\n",
    "  phrase = re.sub(r\"can\\'t\", \"can not\", phrase)\n",
    "  # general\n",
    "  phrase = re.sub(r\"n\\'t\", \" not\", phrase)\n",
    "  phrase = re.sub(r\"\\'re\", \" are\", phrase)\n",
    "  phrase = re.sub(r\"\\'s\", \" is\", phrase)\n",
    "  phrase = re.sub(r\"\\'d\", \" would\", phrase)\n",
    "  phrase = re.sub(r\"\\'ll\", \" will\", phrase)\n",
    "  phrase = re.sub(r\"\\'t\", \" not\", phrase)\n",
    "  phrase = re.sub(r\"\\'ve\", \" have\", phrase)\n",
    "  phrase = re.sub(r\"\\'m\", \" am\", phrase)\n",
    "  return phrase"
   ]
  },
  {
   "cell_type": "code",
   "execution_count": 0,
   "metadata": {
    "colab": {},
    "colab_type": "code",
    "id": "cjm0c9EMT8WP"
   },
   "outputs": [],
   "source": [
    "stopwords= set(['br', 'the', 'i', 'me', 'my', 'myself', 'we', 'our', 'ours',\\\n",
    "                'ourselves', 'you', \"you're\", \"you've\",\\\n",
    "\"you'll\", \"you'd\", 'your', 'yours', 'yourself', 'yourselves', 'he', 'him',\\\n",
    "                'his', 'himself', \\\n",
    "'she', \"she's\", 'her', 'hers', 'herself', 'it', \"it's\", 'its', 'itself', \\\n",
    "                'they', 'them', 'their',\\\n",
    "'theirs', 'themselves', 'what', 'which', 'who', 'whom', 'this', 'that',\\\n",
    "                \"that'll\", 'these', 'those', \\\n",
    "'am', 'is', 'are', 'was', 'were', 'be', 'been', 'being', 'have', 'has',\\\n",
    "                'had', 'having', 'do', 'does', \\\n",
    "'did', 'doing', 'a', 'an', 'the', 'and', 'but', 'if', 'or', 'because', \\\n",
    "                'as', 'until', 'while', 'of', \\\n",
    "'at', 'by', 'for', 'with', 'about', 'against', 'between', 'into', 'through',\\\n",
    "                'during', 'before', 'after',\\\n",
    "'above', 'below', 'to', 'from', 'up', 'down', 'in', 'out', 'on', 'off',\\\n",
    "                'over', 'under', 'again', 'further',\\\n",
    "'then', 'once', 'here', 'there', 'when', 'where', 'why', 'how', 'all',\\\n",
    "                'any', 'both', 'each', 'few', 'more',\\\n",
    "'most', 'other', 'some', 'such', 'only', 'own', 'same', 'so', 'than',\\\n",
    "                'too', 'very', \\\n",
    "'s', 't', 'can', 'will', 'just', 'don', \"don't\", 'should', \"should've\",\\\n",
    "                'now', 'd', 'll', 'm', 'o', 're', \\\n",
    "'ve', 'y', 'ain', 'aren', \"aren't\", 'couldn', \"couldn't\", 'didn',\\\n",
    "                \"didn't\", 'doesn', \"doesn't\", 'hadn',\\\n",
    "\"hadn't\", 'hasn', \"hasn't\", 'haven', \"haven't\", 'isn', \"isn't\",\\\n",
    "                'ma', 'mightn', \"mightn't\", 'mustn',\\\n",
    "\"mustn't\", 'needn', \"needn't\", 'shan', \"shan't\", 'shouldn',\\\n",
    "                \"shouldn't\", 'wasn', \"wasn't\", 'weren', \"weren't\", \\\n",
    "'won', \"won't\", 'wouldn', \"wouldn't\"])"
   ]
  },
  {
   "cell_type": "code",
   "execution_count": 15,
   "metadata": {
    "colab": {
     "base_uri": "https://localhost:8080/",
     "height": 35
    },
    "colab_type": "code",
    "id": "fXZA5oQp2yBI",
    "outputId": "0a7cd801-1850-409a-da98-92d75b8c69f1"
   },
   "outputs": [
    {
     "name": "stderr",
     "output_type": "stream",
     "text": [
      "100%|██████████| 83315/83315 [00:33<00:00, 2491.64it/s]\n"
     ]
    }
   ],
   "source": [
    "preprocessed_reviews = []\n",
    "review_score = []\n",
    "# tqdm is for printing the status bar\n",
    "for sentence, score in tqdm(final[['Text', 'Score']].values):\n",
    "  sentence = re.sub(r\"http\\S+\", \"\", sentence)\n",
    "  sentence = BeautifulSoup(sentence, 'lxml').get_text()\n",
    "  sentence = decontracted(sentence)\n",
    "  sentence = re.sub(\"\\S*\\d\\S*\", \"\", sentence).strip()\n",
    "  sentence = re.sub('[^A-Za-z]+', ' ', sentence)\n",
    "  # https://gist.github.com/sebleier/554280\n",
    "  sentence = ' '.join(e.lower() for e in sentence.split() \\\n",
    "                            if e.lower() not in stopwords)\n",
    "  preprocessed_reviews.append(sentence.strip())\n",
    "  review_score.append(score)"
   ]
  },
  {
   "cell_type": "code",
   "execution_count": 16,
   "metadata": {
    "colab": {
     "base_uri": "https://localhost:8080/",
     "height": 35
    },
    "colab_type": "code",
    "id": "QNWvRdrsVHNB",
    "outputId": "c34c6abe-2222-4b05-bd21-0ea46c4d372b"
   },
   "outputs": [
    {
     "name": "stderr",
     "output_type": "stream",
     "text": [
      "100%|██████████| 83315/83315 [00:20<00:00, 4020.21it/s]\n"
     ]
    }
   ],
   "source": [
    "## Similartly you can do preprocessing for review summary also.\n",
    "# Combining all the above stundents\n",
    "preprocessed_summary = []\n",
    "for summary in tqdm(final['Summary'].values):\n",
    "  summary = re.sub(r\"http\\S+\", \"\", summary)\n",
    "  summary = BeautifulSoup(summary, 'lxml').get_text()\n",
    "  summary = decontracted(summary)\n",
    "  summary = re.sub(\"\\S*\\d\\S*\", \"\", summary).strip()\n",
    "  summary = re.sub('[^A-Za-z0-9]+', ' ', summary)\n",
    "  # adding 0-9 in the regex\n",
    "  summary = ' '.join(e.lower() for e in summary.split()\\\n",
    "                          if e.lower() not in stopwords)\n",
    "  preprocessed_summary.append(summary.strip())"
   ]
  },
  {
   "cell_type": "code",
   "execution_count": 17,
   "metadata": {
    "colab": {
     "base_uri": "https://localhost:8080/",
     "height": 55
    },
    "colab_type": "code",
    "id": "PyLCtqj_WPCO",
    "outputId": "da6178c9-3c5d-4c83-c027-3f5d7ade189b"
   },
   "outputs": [
    {
     "name": "stdout",
     "output_type": "stream",
     "text": [
      "['one best children books ever written mini version book not portrayed one priced product sent email regarding bewilderment amazon got no response awesome book poor size', 'give five stars maurice sendak story one star printed edition book children older copy book familiar previous softcover version ordered granddaughters embarrassed give gift looks puny book size postcard think overpriced learned lesson not buying softcover children books next time get used copy story great softcover book disappointing', 'dogs loves chicken product china wont buying anymore hard find chicken products made usa one isnt bad good product wont take chances till know going china imports made china', 'dogs love saw pet store tag attached regarding made china satisfied safe dog lover delites', 'received containers previously opened seals opened top containers decent pieces liver grisley pieces lot powder bottom never buy liver treats amazon big rip review freeze dried liver treats dogs']\n"
     ]
    }
   ],
   "source": [
    "preprocessed_text = [str(rev+' '+summ) for rev, summ in \\\n",
    "zip(preprocessed_reviews, preprocessed_summary)]\n",
    "print(preprocessed_text[:5])"
   ]
  },
  {
   "cell_type": "code",
   "execution_count": 0,
   "metadata": {
    "colab": {},
    "colab_type": "code",
    "id": "bEIUL2CIzs0_"
   },
   "outputs": [],
   "source": [
    "# PLot the length of the text \n",
    "text_lens = [len(text.split()) for text in preprocessed_text]"
   ]
  },
  {
   "cell_type": "code",
   "execution_count": 19,
   "metadata": {
    "colab": {
     "base_uri": "https://localhost:8080/",
     "height": 35
    },
    "colab_type": "code",
    "id": "3v1vhumo3VuL",
    "outputId": "d89ee059-9d52-4de7-adf8-4511dbbb9c3f"
   },
   "outputs": [
    {
     "data": {
      "text/plain": [
       "952"
      ]
     },
     "execution_count": 19,
     "metadata": {
      "tags": []
     },
     "output_type": "execute_result"
    }
   ],
   "source": [
    "max(text_lens)"
   ]
  },
  {
   "cell_type": "code",
   "execution_count": 20,
   "metadata": {
    "colab": {
     "base_uri": "https://localhost:8080/",
     "height": 284
    },
    "colab_type": "code",
    "id": "qVRLwk6D1nk9",
    "outputId": "9ed48b00-d127-46fe-ac73-159f2d4c6ec1"
   },
   "outputs": [
    {
     "data": {
      "image/png": "[encoded data removed]",
      "text/plain": [
       "<Figure size 432x288 with 1 Axes>"
      ]
     },
     "metadata": {
      "tags": []
     },
     "output_type": "display_data"
    }
   ],
   "source": [
    "plt.hist(text_lens, bins=10)\n",
    "plt.ylabel('No of Reviews')\n",
    "plt.xlabel('Words')\n",
    "plt.show()"
   ]
  },
  {
   "cell_type": "code",
   "execution_count": 0,
   "metadata": {
    "colab": {},
    "colab_type": "code",
    "id": "vJsptHPI3aqD"
   },
   "outputs": [],
   "source": [
    "# Although the maximum value of length of text is 952, but we can fix that to \n",
    "# 400 as that would cover almost whole of the data (as seen from plot)"
   ]
  },
  {
   "cell_type": "code",
   "execution_count": 0,
   "metadata": {
    "colab": {},
    "colab_type": "code",
    "id": "Ha1M9Jk2Ne8h"
   },
   "outputs": [],
   "source": [
    "# this is random splitting into train, test and cross validation set\n",
    "X_train, X_test, y_train, y_test = train_test_split(preprocessed_text,\n",
    "                              review_score,test_size=0.30, random_state = 0,\n",
    "                              stratify = review_score)"
   ]
  },
  {
   "cell_type": "code",
   "execution_count": 0,
   "metadata": {
    "colab": {},
    "colab_type": "code",
    "id": "ytB6CBTj3wkJ"
   },
   "outputs": [],
   "source": [
    "X_cv, X_test, y_cv, y_test = train_test_split(X_test,y_test,\n",
    "                              test_size=0.50, random_state = 0,\n",
    "                              stratify = y_test)"
   ]
  },
  {
   "cell_type": "code",
   "execution_count": 0,
   "metadata": {
    "colab": {},
    "colab_type": "code",
    "id": "h8L8CYjL3oTS"
   },
   "outputs": [],
   "source": [
    "### Create Tokenizer\n",
    "vocabulary_size = 5000\n",
    "tokenizer = Tokenizer(num_words= vocabulary_size)\n",
    "tokenizer.fit_on_texts(X_train)"
   ]
  },
  {
   "cell_type": "code",
   "execution_count": 0,
   "metadata": {
    "colab": {},
    "colab_type": "code",
    "id": "wuXqMoCxVWTW"
   },
   "outputs": [],
   "source": [
    "# Convert text to int sequences\n",
    "X_train = tokenizer.texts_to_sequences(X_train)\n",
    "X_test = tokenizer.texts_to_sequences(X_test)\n",
    "X_cv = tokenizer.texts_to_sequences(X_cv)"
   ]
  },
  {
   "cell_type": "code",
   "execution_count": 0,
   "metadata": {
    "colab": {},
    "colab_type": "code",
    "id": "QRxUx35zT9w9"
   },
   "outputs": [],
   "source": [
    "# truncate and/or pad input sequences\n",
    "max_review_length = 400\n",
    "X_train = sequence.pad_sequences(X_train, maxlen=max_review_length)\n",
    "X_test = sequence.pad_sequences(X_test, maxlen=max_review_length)\n",
    "X_cv = sequence.pad_sequences(X_cv, maxlen=max_review_length)"
   ]
  },
  {
   "cell_type": "code",
   "execution_count": 27,
   "metadata": {
    "colab": {
     "base_uri": "https://localhost:8080/",
     "height": 72
    },
    "colab_type": "code",
    "id": "A7yod0NirjHx",
    "outputId": "a85c80a1-6c9f-4c01-a98e-36b674ba1f91"
   },
   "outputs": [
    {
     "name": "stdout",
     "output_type": "stream",
     "text": [
      "(58320, 400)\n",
      "(12498, 400)\n",
      "(12497, 400)\n"
     ]
    }
   ],
   "source": [
    "print(X_train.shape)\n",
    "print(X_test.shape)\n",
    "print(X_cv.shape)"
   ]
  },
  {
   "cell_type": "code",
   "execution_count": 28,
   "metadata": {
    "colab": {
     "base_uri": "https://localhost:8080/",
     "height": 546
    },
    "colab_type": "code",
    "id": "P1b7qKlKT9mW",
    "outputId": "c2773c17-636d-4074-c6f4-f80714c45b17"
   },
   "outputs": [
    {
     "name": "stdout",
     "output_type": "stream",
     "text": [
      "WARNING:tensorflow:From /usr/local/lib/python3.6/dist-packages/keras/backend/tensorflow_backend.py:66: The name tf.get_default_graph is deprecated. Please use tf.compat.v1.get_default_graph instead.\n",
      "\n",
      "WARNING:tensorflow:From /usr/local/lib/python3.6/dist-packages/keras/backend/tensorflow_backend.py:541: The name tf.placeholder is deprecated. Please use tf.compat.v1.placeholder instead.\n",
      "\n",
      "WARNING:tensorflow:From /usr/local/lib/python3.6/dist-packages/keras/backend/tensorflow_backend.py:4432: The name tf.random_uniform is deprecated. Please use tf.random.uniform instead.\n",
      "\n",
      "WARNING:tensorflow:From /usr/local/lib/python3.6/dist-packages/keras/optimizers.py:793: The name tf.train.Optimizer is deprecated. Please use tf.compat.v1.train.Optimizer instead.\n",
      "\n",
      "WARNING:tensorflow:From /usr/local/lib/python3.6/dist-packages/keras/backend/tensorflow_backend.py:3657: The name tf.log is deprecated. Please use tf.math.log instead.\n",
      "\n",
      "WARNING:tensorflow:From /usr/local/lib/python3.6/dist-packages/tensorflow_core/python/ops/nn_impl.py:183: where (from tensorflow.python.ops.array_ops) is deprecated and will be removed in a future version.\n",
      "Instructions for updating:\n",
      "Use tf.where in 2.0, which has the same broadcast rule as np.where\n",
      "Model: \"sequential_1\"\n",
      "_________________________________________________________________\n",
      "Layer (type)                 Output Shape              Param #   \n",
      "=================================================================\n",
      "embedding_1 (Embedding)      (None, 400, 32)           160032    \n",
      "_________________________________________________________________\n",
      "lstm_1 (LSTM)                (None, 50)                16600     \n",
      "_________________________________________________________________\n",
      "dense_1 (Dense)              (None, 1)                 51        \n",
      "=================================================================\n",
      "Total params: 176,683\n",
      "Trainable params: 176,683\n",
      "Non-trainable params: 0\n",
      "_________________________________________________________________\n",
      "None\n"
     ]
    }
   ],
   "source": [
    "# create the model\n",
    "embedding_vecor_length = 32\n",
    "model = Sequential()\n",
    "model.add(Embedding(vocabulary_size+1, embedding_vecor_length, \n",
    "                    input_length=max_review_length))\n",
    "model.add(LSTM(50))\n",
    "# , activation='tanh', use_bias=True, \n",
    "#                kernel_initializer='glorot_uniform'\n",
    "model.add(Dense(1, activation='sigmoid'))\n",
    "model.compile(loss='binary_crossentropy', \n",
    "              optimizer='adam', metrics=['accuracy'])\n",
    "print(model.summary())\n",
    "#Refer: https://datascience.stackexchange.com/questions/10615/number-of-parameters-in-an-lstm-model"
   ]
  },
  {
   "cell_type": "code",
   "execution_count": 29,
   "metadata": {
    "colab": {
     "base_uri": "https://localhost:8080/",
     "height": 710
    },
    "colab_type": "code",
    "id": "UeP8hTz33SKl",
    "outputId": "1272e128-6793-49ac-d5be-98b079607b7a"
   },
   "outputs": [
    {
     "name": "stdout",
     "output_type": "stream",
     "text": [
      "WARNING:tensorflow:From /usr/local/lib/python3.6/dist-packages/keras/backend/tensorflow_backend.py:1033: The name tf.assign_add is deprecated. Please use tf.compat.v1.assign_add instead.\n",
      "\n",
      "WARNING:tensorflow:From /usr/local/lib/python3.6/dist-packages/keras/backend/tensorflow_backend.py:1020: The name tf.assign is deprecated. Please use tf.compat.v1.assign instead.\n",
      "\n",
      "WARNING:tensorflow:From /usr/local/lib/python3.6/dist-packages/keras/backend/tensorflow_backend.py:3005: The name tf.Session is deprecated. Please use tf.compat.v1.Session instead.\n",
      "\n",
      "Train on 58320 samples, validate on 12497 samples\n",
      "Epoch 1/10\n",
      "WARNING:tensorflow:From /usr/local/lib/python3.6/dist-packages/keras/backend/tensorflow_backend.py:190: The name tf.get_default_session is deprecated. Please use tf.compat.v1.get_default_session instead.\n",
      "\n",
      "WARNING:tensorflow:From /usr/local/lib/python3.6/dist-packages/keras/backend/tensorflow_backend.py:197: The name tf.ConfigProto is deprecated. Please use tf.compat.v1.ConfigProto instead.\n",
      "\n",
      "WARNING:tensorflow:From /usr/local/lib/python3.6/dist-packages/keras/backend/tensorflow_backend.py:207: The name tf.global_variables is deprecated. Please use tf.compat.v1.global_variables instead.\n",
      "\n",
      "WARNING:tensorflow:From /usr/local/lib/python3.6/dist-packages/keras/backend/tensorflow_backend.py:216: The name tf.is_variable_initialized is deprecated. Please use tf.compat.v1.is_variable_initialized instead.\n",
      "\n",
      "WARNING:tensorflow:From /usr/local/lib/python3.6/dist-packages/keras/backend/tensorflow_backend.py:223: The name tf.variables_initializer is deprecated. Please use tf.compat.v1.variables_initializer instead.\n",
      "\n",
      " - 243s - loss: 0.2863 - acc: 0.8756 - val_loss: 0.2030 - val_acc: 0.9185\n",
      "Epoch 2/10\n",
      " - 240s - loss: 0.1823 - acc: 0.9307 - val_loss: 0.1933 - val_acc: 0.9225\n",
      "Epoch 3/10\n",
      " - 242s - loss: 0.1640 - acc: 0.9370 - val_loss: 0.1975 - val_acc: 0.9241\n",
      "Epoch 4/10\n",
      " - 242s - loss: 0.1456 - acc: 0.9461 - val_loss: 0.1981 - val_acc: 0.9229\n",
      "Epoch 5/10\n",
      " - 240s - loss: 0.1269 - acc: 0.9526 - val_loss: 0.2144 - val_acc: 0.9236\n",
      "Epoch 6/10\n",
      " - 242s - loss: 0.1135 - acc: 0.9586 - val_loss: 0.2275 - val_acc: 0.9184\n",
      "Epoch 7/10\n",
      " - 236s - loss: 0.0992 - acc: 0.9642 - val_loss: 0.2229 - val_acc: 0.9187\n",
      "Epoch 8/10\n",
      " - 236s - loss: 0.0891 - acc: 0.9683 - val_loss: 0.2501 - val_acc: 0.9193\n",
      "Epoch 9/10\n",
      " - 236s - loss: 0.0783 - acc: 0.9735 - val_loss: 0.2831 - val_acc: 0.9173\n",
      "Epoch 10/10\n",
      " - 236s - loss: 0.0696 - acc: 0.9771 - val_loss: 0.2706 - val_acc: 0.9166\n"
     ]
    }
   ],
   "source": [
    "# https://stackoverflow.com/questions/41908379/keras-plot-training-validation-and-test-set-accuracy\n",
    "history = model.fit(X_train, y_train, validation_data=(X_cv, y_cv), \n",
    "                        nb_epoch=10, batch_size=128, verbose =2)"
   ]
  },
  {
   "cell_type": "code",
   "execution_count": 30,
   "metadata": {
    "colab": {
     "base_uri": "https://localhost:8080/",
     "height": 295
    },
    "colab_type": "code",
    "id": "wwuSZF13TzLO",
    "outputId": "01d02e0f-7aa0-4d09-d350-40cb55514e53"
   },
   "outputs": [
    {
     "data": {
      "image/png": "[encoded data removed]",
      "text/plain": [
       "<Figure size 432x288 with 1 Axes>"
      ]
     },
     "metadata": {
      "tags": []
     },
     "output_type": "display_data"
    }
   ],
   "source": [
    "# This is for plotting the model loss\n",
    "plt.plot(history.history['loss'])\n",
    "plt.plot(history.history['val_loss'])\n",
    "plt.title('model loss')\n",
    "plt.ylabel('loss')\n",
    "plt.xlabel('epoch')\n",
    "plt.legend(['train', 'cv'], loc='upper left')\n",
    "plt.show()"
   ]
  },
  {
   "cell_type": "code",
   "execution_count": 31,
   "metadata": {
    "colab": {
     "base_uri": "https://localhost:8080/",
     "height": 295
    },
    "colab_type": "code",
    "id": "9fjmtscKJyyu",
    "outputId": "dfd20ca9-83f9-45cd-d896-9733e9687067"
   },
   "outputs": [
    {
     "data": {
      "image/png": "[encoded data removed]",
      "text/plain": [
       "<Figure size 432x288 with 1 Axes>"
      ]
     },
     "metadata": {
      "tags": []
     },
     "output_type": "display_data"
    }
   ],
   "source": [
    "# This is for plotting the model accuracy\n",
    "plt.plot(history.history['acc'])\n",
    "plt.plot(history.history['val_acc'])\n",
    "plt.title('model accuracy')\n",
    "plt.ylabel('accuracy')\n",
    "plt.xlabel('epoch')\n",
    "plt.legend(['train', 'cv'], loc='upper left')\n",
    "plt.show()"
   ]
  },
  {
   "cell_type": "code",
   "execution_count": 32,
   "metadata": {
    "colab": {
     "base_uri": "https://localhost:8080/",
     "height": 54
    },
    "colab_type": "code",
    "id": "-GihOqF8J9u4",
    "outputId": "ffedd10e-76eb-41ef-9344-110668d62f3d"
   },
   "outputs": [
    {
     "name": "stdout",
     "output_type": "stream",
     "text": [
      "Accuracy: 91.41%\n",
      "Loss : 0.27%\n"
     ]
    }
   ],
   "source": [
    "# Final evaluation of the model\n",
    "scores = model.evaluate(X_test, y_test, verbose=0)\n",
    "print(\"Accuracy: %.2f%%\" % (scores[1]*100))\n",
    "print(\"Loss : %.2f%%\" % (scores[0]))"
   ]
  },
  {
   "cell_type": "code",
   "execution_count": 0,
   "metadata": {
    "colab": {},
    "colab_type": "code",
    "id": "PNbl5MZDCfoe"
   },
   "outputs": [],
   "source": [
    "table.add_row([32, 'LSTM(50)-Dense', 'Train: 97%  Test:91%', \n",
    "               'Train: 0.06  Test: 0.27'])"
   ]
  },
  {
   "cell_type": "code",
   "execution_count": 0,
   "metadata": {
    "colab": {},
    "colab_type": "code",
    "id": "Fk4aQejXz7uT"
   },
   "outputs": [],
   "source": [
    "# Model 2"
   ]
  },
  {
   "cell_type": "code",
   "execution_count": 35,
   "metadata": {
    "colab": {
     "base_uri": "https://localhost:8080/",
     "height": 437
    },
    "colab_type": "code",
    "id": "tlRMhKUCz83D",
    "outputId": "24887fa1-97d4-4799-ee68-bdb2bc8f83f4"
   },
   "outputs": [
    {
     "name": "stdout",
     "output_type": "stream",
     "text": [
      "WARNING:tensorflow:From /usr/local/lib/python3.6/dist-packages/keras/backend/tensorflow_backend.py:148: The name tf.placeholder_with_default is deprecated. Please use tf.compat.v1.placeholder_with_default instead.\n",
      "\n",
      "WARNING:tensorflow:From /usr/local/lib/python3.6/dist-packages/keras/backend/tensorflow_backend.py:3733: calling dropout (from tensorflow.python.ops.nn_ops) with keep_prob is deprecated and will be removed in a future version.\n",
      "Instructions for updating:\n",
      "Please use `rate` instead of `keep_prob`. Rate should be set to `rate = 1 - keep_prob`.\n",
      "Model: \"sequential_2\"\n",
      "_________________________________________________________________\n",
      "Layer (type)                 Output Shape              Param #   \n",
      "=================================================================\n",
      "embedding_2 (Embedding)      (None, 400, 64)           320064    \n",
      "_________________________________________________________________\n",
      "lstm_2 (LSTM)                (None, 400, 32)           12416     \n",
      "_________________________________________________________________\n",
      "lstm_3 (LSTM)                (None, 16)                3136      \n",
      "_________________________________________________________________\n",
      "dense_2 (Dense)              (None, 1)                 17        \n",
      "=================================================================\n",
      "Total params: 335,633\n",
      "Trainable params: 335,633\n",
      "Non-trainable params: 0\n",
      "_________________________________________________________________\n",
      "None\n"
     ]
    }
   ],
   "source": [
    "# create the model\n",
    "embedding_vecor_length = 64\n",
    "model = Sequential()\n",
    "model.add(Embedding(vocabulary_size+1, embedding_vecor_length, \n",
    "                    input_length=max_review_length))\n",
    "model.add(LSTM(32, return_sequences=True, dropout=0.3))\n",
    "model.add(LSTM(16, dropout=0.3))\n",
    "model.add(Dense(1, activation='sigmoid'))\n",
    "model.compile(loss='binary_crossentropy', \n",
    "              optimizer='adam', metrics=['accuracy'])\n",
    "print(model.summary())\n",
    "#Refer: https://datascience.stackexchange.com/questions/10615/number-of-parameters-in-an-lstm-model"
   ]
  },
  {
   "cell_type": "code",
   "execution_count": 36,
   "metadata": {
    "colab": {
     "base_uri": "https://localhost:8080/",
     "height": 399
    },
    "colab_type": "code",
    "id": "zll0RfHLz948",
    "outputId": "2ceaac8b-025a-4c5f-b96d-0b7778706630"
   },
   "outputs": [
    {
     "name": "stdout",
     "output_type": "stream",
     "text": [
      "Train on 58320 samples, validate on 12497 samples\n",
      "Epoch 1/10\n",
      " - 425s - loss: 0.3034 - acc: 0.8686 - val_loss: 0.2022 - val_acc: 0.9201\n",
      "Epoch 2/10\n",
      " - 422s - loss: 0.1845 - acc: 0.9299 - val_loss: 0.1899 - val_acc: 0.9254\n",
      "Epoch 3/10\n",
      " - 421s - loss: 0.1571 - acc: 0.9400 - val_loss: 0.1927 - val_acc: 0.9261\n",
      "Epoch 4/10\n",
      " - 416s - loss: 0.1375 - acc: 0.9482 - val_loss: 0.2201 - val_acc: 0.9219\n",
      "Epoch 5/10\n",
      " - 416s - loss: 0.1208 - acc: 0.9554 - val_loss: 0.2046 - val_acc: 0.9240\n",
      "Epoch 6/10\n",
      " - 418s - loss: 0.1072 - acc: 0.9613 - val_loss: 0.2219 - val_acc: 0.9235\n",
      "Epoch 7/10\n",
      " - 404s - loss: 0.0955 - acc: 0.9657 - val_loss: 0.2285 - val_acc: 0.9228\n",
      "Epoch 8/10\n",
      " - 402s - loss: 0.0863 - acc: 0.9693 - val_loss: 0.2438 - val_acc: 0.9208\n",
      "Epoch 9/10\n",
      " - 402s - loss: 0.0762 - acc: 0.9735 - val_loss: 0.2481 - val_acc: 0.9197\n",
      "Epoch 10/10\n",
      " - 409s - loss: 0.0670 - acc: 0.9767 - val_loss: 0.2661 - val_acc: 0.9202\n"
     ]
    }
   ],
   "source": [
    "history = model.fit(X_train, y_train, nb_epoch=10, batch_size=128,\n",
    "                   validation_data=(X_cv, y_cv), verbose=2)"
   ]
  },
  {
   "cell_type": "code",
   "execution_count": 37,
   "metadata": {
    "colab": {
     "base_uri": "https://localhost:8080/",
     "height": 295
    },
    "colab_type": "code",
    "id": "6IE76SWbLFix",
    "outputId": "350ac98f-97e6-4038-e289-26fb5c83cbb6"
   },
   "outputs": [
    {
     "data": {
      "image/png": "[encoded data removed]",
      "text/plain": [
       "<Figure size 432x288 with 1 Axes>"
      ]
     },
     "metadata": {
      "tags": []
     },
     "output_type": "display_data"
    }
   ],
   "source": [
    "# This is for plotting the model loss\n",
    "plt.plot(history.history['loss'])\n",
    "plt.plot(history.history['val_loss'])\n",
    "plt.title('model loss')\n",
    "plt.ylabel('loss')\n",
    "plt.xlabel('epoch')\n",
    "plt.legend(['train', 'cv'], loc='upper left')\n",
    "plt.show()"
   ]
  },
  {
   "cell_type": "code",
   "execution_count": 38,
   "metadata": {
    "colab": {
     "base_uri": "https://localhost:8080/",
     "height": 295
    },
    "colab_type": "code",
    "id": "m1G8f_Z-R7I4",
    "outputId": "41bef584-24c0-44b5-cdde-5382140a5c51"
   },
   "outputs": [
    {
     "data": {
      "image/png": "[encoded data removed]",
      "text/plain": [
       "<Figure size 432x288 with 1 Axes>"
      ]
     },
     "metadata": {
      "tags": []
     },
     "output_type": "display_data"
    }
   ],
   "source": [
    "# This is for plotting the model accuracy\n",
    "plt.plot(history.history['acc'])\n",
    "plt.plot(history.history['val_acc'])\n",
    "plt.title('model accuracy')\n",
    "plt.ylabel('accuracy')\n",
    "plt.xlabel('epoch')\n",
    "plt.legend(['train', 'cv'], loc='upper left')\n",
    "plt.show()"
   ]
  },
  {
   "cell_type": "code",
   "execution_count": 39,
   "metadata": {
    "colab": {
     "base_uri": "https://localhost:8080/",
     "height": 54
    },
    "colab_type": "code",
    "id": "6CXHCPhkyCsk",
    "outputId": "d93a988b-b7d0-4b04-f959-1bc70e8a0794"
   },
   "outputs": [
    {
     "name": "stdout",
     "output_type": "stream",
     "text": [
      "Accuracy: 91.82%\n",
      "Loss : 0.28%\n"
     ]
    }
   ],
   "source": [
    "# Final evaluation of the model\n",
    "scores = model.evaluate(X_test, y_test, verbose=0)\n",
    "print(\"Accuracy: %.2f%%\" % (scores[1]*100))\n",
    "print(\"Loss : %.2f%%\" % (scores[0]))"
   ]
  },
  {
   "cell_type": "code",
   "execution_count": 0,
   "metadata": {
    "colab": {},
    "colab_type": "code",
    "id": "AQgbVLsLha-V"
   },
   "outputs": [],
   "source": [
    "table.add_row([64, 'LSTM(32)-LSTM(16)-Dense', 'Train: 97.6%  Test:91.8%', \n",
    "               'Train: 0.06  Test: 0.28'])"
   ]
  },
  {
   "cell_type": "code",
   "execution_count": 0,
   "metadata": {
    "colab": {},
    "colab_type": "code",
    "id": "SgHZr2TiOE2w"
   },
   "outputs": [],
   "source": []
  },
  {
   "cell_type": "code",
   "execution_count": 0,
   "metadata": {
    "colab": {},
    "colab_type": "code",
    "id": "CAEsywdwOErz"
   },
   "outputs": [],
   "source": [
    "# Model 3"
   ]
  },
  {
   "cell_type": "code",
   "execution_count": 42,
   "metadata": {
    "colab": {
     "base_uri": "https://localhost:8080/",
     "height": 290
    },
    "colab_type": "code",
    "id": "Thz98tpAOF0s",
    "outputId": "78b95f1e-3d8c-4494-9ba4-614ab7ecbeaf"
   },
   "outputs": [
    {
     "name": "stdout",
     "output_type": "stream",
     "text": [
      "Model: \"sequential_3\"\n",
      "_________________________________________________________________\n",
      "Layer (type)                 Output Shape              Param #   \n",
      "=================================================================\n",
      "embedding_3 (Embedding)      (None, 400, 32)           160032    \n",
      "_________________________________________________________________\n",
      "lstm_4 (LSTM)                (None, 50)                16600     \n",
      "_________________________________________________________________\n",
      "dense_3 (Dense)              (None, 1)                 51        \n",
      "=================================================================\n",
      "Total params: 176,683\n",
      "Trainable params: 176,683\n",
      "Non-trainable params: 0\n",
      "_________________________________________________________________\n",
      "None\n"
     ]
    }
   ],
   "source": [
    "# create the model\n",
    "embedding_vecor_length = 32\n",
    "model = Sequential()\n",
    "model.add(Embedding(vocabulary_size+1, embedding_vecor_length, \n",
    "                    input_length=max_review_length))\n",
    "model.add(LSTM(50, activation='tanh', use_bias=True, \n",
    "               kernel_initializer='glorot_uniform'))\n",
    "model.add(Dense(1, activation='sigmoid'))\n",
    "model.compile(loss='binary_crossentropy', \n",
    "              optimizer='adam', metrics=['accuracy'])\n",
    "print(model.summary())"
   ]
  },
  {
   "cell_type": "code",
   "execution_count": 43,
   "metadata": {
    "colab": {
     "base_uri": "https://localhost:8080/",
     "height": 399
    },
    "colab_type": "code",
    "id": "gC7T5pNJOxwR",
    "outputId": "00452864-8eb5-4726-8565-5c8e361fc2fc"
   },
   "outputs": [
    {
     "name": "stdout",
     "output_type": "stream",
     "text": [
      "Train on 58320 samples, validate on 12497 samples\n",
      "Epoch 1/10\n",
      " - 248s - loss: 0.3186 - acc: 0.8611 - val_loss: 0.2083 - val_acc: 0.9178\n",
      "Epoch 2/10\n",
      " - 244s - loss: 0.1880 - acc: 0.9270 - val_loss: 0.1954 - val_acc: 0.9223\n",
      "Epoch 3/10\n",
      " - 249s - loss: 0.1668 - acc: 0.9370 - val_loss: 0.1983 - val_acc: 0.9217\n",
      "Epoch 4/10\n",
      " - 252s - loss: 0.1520 - acc: 0.9430 - val_loss: 0.1968 - val_acc: 0.9232\n",
      "Epoch 5/10\n",
      " - 248s - loss: 0.1361 - acc: 0.9497 - val_loss: 0.2006 - val_acc: 0.9221\n",
      "Epoch 6/10\n",
      " - 249s - loss: 0.1200 - acc: 0.9568 - val_loss: 0.2228 - val_acc: 0.9196\n",
      "Epoch 7/10\n",
      " - 250s - loss: 0.1069 - acc: 0.9623 - val_loss: 0.2278 - val_acc: 0.9179\n",
      "Epoch 8/10\n",
      " - 247s - loss: 0.0947 - acc: 0.9671 - val_loss: 0.2359 - val_acc: 0.9179\n",
      "Epoch 9/10\n",
      " - 252s - loss: 0.0831 - acc: 0.9721 - val_loss: 0.2501 - val_acc: 0.9168\n",
      "Epoch 10/10\n",
      " - 257s - loss: 0.0723 - acc: 0.9761 - val_loss: 0.2624 - val_acc: 0.9142\n"
     ]
    }
   ],
   "source": [
    "history = model.fit(X_train, y_train, nb_epoch=10, batch_size=128,\n",
    "                   validation_data=(X_cv, y_cv), verbose=2)"
   ]
  },
  {
   "cell_type": "code",
   "execution_count": 44,
   "metadata": {
    "colab": {
     "base_uri": "https://localhost:8080/",
     "height": 295
    },
    "colab_type": "code",
    "id": "tS8af6QoOxum",
    "outputId": "c9a832dc-f28f-4428-d578-de46da430cbe"
   },
   "outputs": [
    {
     "data": {
      "image/png": "[encoded data removed]",
      "text/plain": [
       "<Figure size 432x288 with 1 Axes>"
      ]
     },
     "metadata": {
      "tags": []
     },
     "output_type": "display_data"
    }
   ],
   "source": [
    "# This is for plotting the model loss\n",
    "plt.plot(history.history['loss'])\n",
    "plt.plot(history.history['val_loss'])\n",
    "plt.title('model loss')\n",
    "plt.ylabel('loss')\n",
    "plt.xlabel('epoch')\n",
    "plt.legend(['train', 'cv'], loc='upper left')\n",
    "plt.show()"
   ]
  },
  {
   "cell_type": "code",
   "execution_count": 45,
   "metadata": {
    "colab": {
     "base_uri": "https://localhost:8080/",
     "height": 295
    },
    "colab_type": "code",
    "id": "CJeroBk9Oxrz",
    "outputId": "06f71dc7-8eec-4e33-bc54-30d3f0522e0f"
   },
   "outputs": [
    {
     "data": {
      "image/png": "[encoded data removed]",
      "text/plain": [
       "<Figure size 432x288 with 1 Axes>"
      ]
     },
     "metadata": {
      "tags": []
     },
     "output_type": "display_data"
    }
   ],
   "source": [
    "# This is for plotting the model accuracy\n",
    "plt.plot(history.history['acc'])\n",
    "plt.plot(history.history['val_acc'])\n",
    "plt.title('model accuracy')\n",
    "plt.ylabel('accuracy')\n",
    "plt.xlabel('epoch')\n",
    "plt.legend(['train', 'cv'], loc='upper left')\n",
    "plt.show()"
   ]
  },
  {
   "cell_type": "code",
   "execution_count": 47,
   "metadata": {
    "colab": {
     "base_uri": "https://localhost:8080/",
     "height": 54
    },
    "colab_type": "code",
    "id": "kKm5yHtdOxo8",
    "outputId": "c65e5523-27a8-422b-8b50-2126679e15a2"
   },
   "outputs": [
    {
     "name": "stdout",
     "output_type": "stream",
     "text": [
      "Accuracy: 91.65%\n",
      "Loss : 0.26%\n"
     ]
    }
   ],
   "source": [
    "# Final evaluation of the model\n",
    "scores = model.evaluate(X_test, y_test, verbose=0)\n",
    "print(\"Accuracy: %.2f%%\" % (scores[1]*100))\n",
    "print(\"Loss : %.2f%%\" % (scores[0]))"
   ]
  },
  {
   "cell_type": "code",
   "execution_count": 0,
   "metadata": {
    "colab": {},
    "colab_type": "code",
    "id": "iobJ4GmHiHma"
   },
   "outputs": [],
   "source": [
    "table.add_row([32, 'LSTM(50)-Dense', 'Train: 97.6%  Test:91.6%', \n",
    "               'Train: 0.07  Test: 0.26'])"
   ]
  },
  {
   "cell_type": "code",
   "execution_count": 0,
   "metadata": {
    "colab": {},
    "colab_type": "code",
    "id": "-YhQH1aPctg_"
   },
   "outputs": [],
   "source": []
  },
  {
   "cell_type": "markdown",
   "metadata": {
    "colab_type": "text",
    "id": "aoCkp648ttzZ"
   },
   "source": []
  },
  {
   "cell_type": "code",
   "execution_count": 0,
   "metadata": {
    "colab": {},
    "colab_type": "code",
    "id": "IqmZX2pbcteK"
   },
   "outputs": [],
   "source": [
    "# Model 4"
   ]
  },
  {
   "cell_type": "code",
   "execution_count": 52,
   "metadata": {
    "colab": {
     "base_uri": "https://localhost:8080/",
     "height": 290
    },
    "colab_type": "code",
    "id": "zxWVzN6GctaS",
    "outputId": "aa6ac61d-9045-40f5-85c1-e11b0f84853d"
   },
   "outputs": [
    {
     "name": "stdout",
     "output_type": "stream",
     "text": [
      "Model: \"sequential_4\"\n",
      "_________________________________________________________________\n",
      "Layer (type)                 Output Shape              Param #   \n",
      "=================================================================\n",
      "embedding_4 (Embedding)      (None, 400, 32)           160032    \n",
      "_________________________________________________________________\n",
      "lstm_5 (LSTM)                (None, 32)                8320      \n",
      "_________________________________________________________________\n",
      "dense_4 (Dense)              (None, 1)                 33        \n",
      "=================================================================\n",
      "Total params: 168,385\n",
      "Trainable params: 168,385\n",
      "Non-trainable params: 0\n",
      "_________________________________________________________________\n",
      "None\n"
     ]
    }
   ],
   "source": [
    "# create the model\n",
    "embedding_vecor_length = 32\n",
    "model = Sequential()\n",
    "model.add(Embedding(vocabulary_size+1, embedding_vecor_length, \n",
    "                    input_length=max_review_length))\n",
    "model.add(LSTM(32, activation='tanh', use_bias=True, \n",
    "               kernel_initializer='glorot_uniform', dropout=0.4))\n",
    "model.add(Dense(1, activation='sigmoid'))\n",
    "model.compile(loss='binary_crossentropy', \n",
    "              optimizer='adam', metrics=['accuracy'])\n",
    "print(model.summary())"
   ]
  },
  {
   "cell_type": "code",
   "execution_count": 53,
   "metadata": {
    "colab": {
     "base_uri": "https://localhost:8080/",
     "height": 399
    },
    "colab_type": "code",
    "id": "aodJgdVTctYZ",
    "outputId": "1ff14391-0328-4d05-a590-f748214ce9b6"
   },
   "outputs": [
    {
     "name": "stdout",
     "output_type": "stream",
     "text": [
      "Train on 58320 samples, validate on 12497 samples\n",
      "Epoch 1/10\n",
      " - 213s - loss: 0.3061 - acc: 0.8620 - val_loss: 0.2007 - val_acc: 0.9222\n",
      "Epoch 2/10\n",
      " - 212s - loss: 0.1861 - acc: 0.9282 - val_loss: 0.1914 - val_acc: 0.9246\n",
      "Epoch 3/10\n",
      " - 209s - loss: 0.1656 - acc: 0.9365 - val_loss: 0.1906 - val_acc: 0.9233\n",
      "Epoch 4/10\n",
      " - 207s - loss: 0.1518 - acc: 0.9423 - val_loss: 0.1960 - val_acc: 0.9238\n",
      "Epoch 5/10\n",
      " - 211s - loss: 0.1389 - acc: 0.9477 - val_loss: 0.2019 - val_acc: 0.9229\n",
      "Epoch 6/10\n",
      " - 209s - loss: 0.1287 - acc: 0.9518 - val_loss: 0.2117 - val_acc: 0.9201\n",
      "Epoch 7/10\n",
      " - 209s - loss: 0.1181 - acc: 0.9560 - val_loss: 0.2203 - val_acc: 0.9217\n",
      "Epoch 8/10\n",
      " - 209s - loss: 0.1109 - acc: 0.9594 - val_loss: 0.2365 - val_acc: 0.9196\n",
      "Epoch 9/10\n",
      " - 210s - loss: 0.1042 - acc: 0.9621 - val_loss: 0.2396 - val_acc: 0.9189\n",
      "Epoch 10/10\n",
      " - 212s - loss: 0.0976 - acc: 0.9644 - val_loss: 0.2447 - val_acc: 0.9209\n"
     ]
    }
   ],
   "source": [
    "history = model.fit(X_train, y_train, nb_epoch=10, batch_size=128,\n",
    "                   validation_data=(X_cv, y_cv), verbose=2)"
   ]
  },
  {
   "cell_type": "code",
   "execution_count": 54,
   "metadata": {
    "colab": {
     "base_uri": "https://localhost:8080/",
     "height": 295
    },
    "colab_type": "code",
    "id": "lArihseBctVX",
    "outputId": "7c4fdb3f-082a-4aae-ce4a-77910a487896"
   },
   "outputs": [
    {
     "data": {
      "image/png": "[encoded data removed]",
      "text/plain": [
       "<Figure size 432x288 with 1 Axes>"
      ]
     },
     "metadata": {
      "tags": []
     },
     "output_type": "display_data"
    }
   ],
   "source": [
    "# This is for plotting the model loss\n",
    "plt.plot(history.history['loss'])\n",
    "plt.plot(history.history['val_loss'])\n",
    "plt.title('model loss')\n",
    "plt.ylabel('loss')\n",
    "plt.xlabel('epoch')\n",
    "plt.legend(['train', 'cv'], loc='upper left')\n",
    "plt.show()"
   ]
  },
  {
   "cell_type": "code",
   "execution_count": 55,
   "metadata": {
    "colab": {
     "base_uri": "https://localhost:8080/",
     "height": 295
    },
    "colab_type": "code",
    "id": "Akn_HAtCctGN",
    "outputId": "776cacf9-c0be-48b6-afb8-d3ee344ee2e3"
   },
   "outputs": [
    {
     "data": {
      "image/png": "[encoded data removed]",
      "text/plain": [
       "<Figure size 432x288 with 1 Axes>"
      ]
     },
     "metadata": {
      "tags": []
     },
     "output_type": "display_data"
    }
   ],
   "source": [
    "# This is for plotting the model accuracy\n",
    "plt.plot(history.history['acc'])\n",
    "plt.plot(history.history['val_acc'])\n",
    "plt.title('model accuracy')\n",
    "plt.ylabel('accuracy')\n",
    "plt.xlabel('epoch')\n",
    "plt.legend(['train', 'cv'], loc='upper left')\n",
    "plt.show()"
   ]
  },
  {
   "cell_type": "code",
   "execution_count": 56,
   "metadata": {
    "colab": {
     "base_uri": "https://localhost:8080/",
     "height": 54
    },
    "colab_type": "code",
    "id": "R_n8HV_zOFtK",
    "outputId": "a959bf50-7749-498e-b27d-d4996abe3eb3"
   },
   "outputs": [
    {
     "name": "stdout",
     "output_type": "stream",
     "text": [
      "Accuracy: 91.77%\n",
      "Loss : 0.25%\n"
     ]
    }
   ],
   "source": [
    "# Final evaluation of the model\n",
    "scores = model.evaluate(X_test, y_test, verbose=0)\n",
    "print(\"Accuracy: %.2f%%\" % (scores[1]*100))\n",
    "print(\"Loss : %.2f%%\" % (scores[0]))"
   ]
  },
  {
   "cell_type": "code",
   "execution_count": 0,
   "metadata": {
    "colab": {},
    "colab_type": "code",
    "id": "udWG8g8DdbsE"
   },
   "outputs": [],
   "source": [
    "table.add_row([32, 'LSTM(32)-Dense', 'Train: 96.4%  Test:91.7%', \n",
    "               'Train: 0.09  Test: 0.25'])"
   ]
  },
  {
   "cell_type": "code",
   "execution_count": 0,
   "metadata": {
    "colab": {},
    "colab_type": "code",
    "id": "pEjbrVAg2ft3"
   },
   "outputs": [],
   "source": []
  },
  {
   "cell_type": "code",
   "execution_count": 0,
   "metadata": {
    "colab": {},
    "colab_type": "code",
    "id": "OxwweSE50hMA"
   },
   "outputs": [],
   "source": [
    "# Model 5"
   ]
  },
  {
   "cell_type": "code",
   "execution_count": 58,
   "metadata": {
    "colab": {
     "base_uri": "https://localhost:8080/",
     "height": 290
    },
    "colab_type": "code",
    "id": "wQ4VteE-0hKO",
    "outputId": "3a4196ee-6fe2-415c-b57f-f45b3b3541fd"
   },
   "outputs": [
    {
     "name": "stdout",
     "output_type": "stream",
     "text": [
      "Model: \"sequential_5\"\n",
      "_________________________________________________________________\n",
      "Layer (type)                 Output Shape              Param #   \n",
      "=================================================================\n",
      "embedding_5 (Embedding)      (None, 400, 32)           160032    \n",
      "_________________________________________________________________\n",
      "lstm_6 (LSTM)                (None, 10)                1720      \n",
      "_________________________________________________________________\n",
      "dense_5 (Dense)              (None, 1)                 11        \n",
      "=================================================================\n",
      "Total params: 161,763\n",
      "Trainable params: 161,763\n",
      "Non-trainable params: 0\n",
      "_________________________________________________________________\n",
      "None\n"
     ]
    }
   ],
   "source": [
    "# create the model\n",
    "embedding_vecor_length = 32\n",
    "model = Sequential()\n",
    "model.add(Embedding(vocabulary_size+1, embedding_vecor_length, \n",
    "                    input_length=max_review_length))\n",
    "model.add(LSTM(10, dropout=0.5))\n",
    "model.add(Dense(1, activation='sigmoid'))\n",
    "model.compile(loss='binary_crossentropy', \n",
    "              optimizer='adam', metrics=['accuracy'])\n",
    "print(model.summary())"
   ]
  },
  {
   "cell_type": "code",
   "execution_count": 59,
   "metadata": {
    "colab": {
     "base_uri": "https://localhost:8080/",
     "height": 399
    },
    "colab_type": "code",
    "id": "Pbv3n_830hHa",
    "outputId": "4ac114f3-b4d8-48cc-b6a0-31a29839cf1a"
   },
   "outputs": [
    {
     "name": "stdout",
     "output_type": "stream",
     "text": [
      "Train on 58320 samples, validate on 12497 samples\n",
      "Epoch 1/10\n",
      " - 167s - loss: 0.3602 - acc: 0.8461 - val_loss: 0.2259 - val_acc: 0.9115\n",
      "Epoch 2/10\n",
      " - 163s - loss: 0.2076 - acc: 0.9194 - val_loss: 0.2027 - val_acc: 0.9218\n",
      "Epoch 3/10\n",
      " - 164s - loss: 0.1817 - acc: 0.9320 - val_loss: 0.1995 - val_acc: 0.9213\n",
      "Epoch 4/10\n",
      " - 163s - loss: 0.1664 - acc: 0.9368 - val_loss: 0.1986 - val_acc: 0.9232\n",
      "Epoch 5/10\n",
      " - 162s - loss: 0.1547 - acc: 0.9425 - val_loss: 0.1982 - val_acc: 0.9246\n",
      "Epoch 6/10\n",
      " - 162s - loss: 0.1453 - acc: 0.9457 - val_loss: 0.2010 - val_acc: 0.9233\n",
      "Epoch 7/10\n",
      " - 163s - loss: 0.1366 - acc: 0.9493 - val_loss: 0.2044 - val_acc: 0.9221\n",
      "Epoch 8/10\n",
      " - 162s - loss: 0.1298 - acc: 0.9520 - val_loss: 0.2157 - val_acc: 0.9218\n",
      "Epoch 9/10\n",
      " - 163s - loss: 0.1239 - acc: 0.9544 - val_loss: 0.2143 - val_acc: 0.9213\n",
      "Epoch 10/10\n",
      " - 163s - loss: 0.1154 - acc: 0.9575 - val_loss: 0.2230 - val_acc: 0.9208\n"
     ]
    }
   ],
   "source": [
    "history = model.fit(X_train, y_train, nb_epoch=10, batch_size=128,\n",
    "                   validation_data=(X_cv, y_cv), verbose=2)"
   ]
  },
  {
   "cell_type": "code",
   "execution_count": 60,
   "metadata": {
    "colab": {
     "base_uri": "https://localhost:8080/",
     "height": 295
    },
    "colab_type": "code",
    "id": "nFdyDetZ0hDg",
    "outputId": "16f09992-d7a6-43aa-9dd4-166464d2de97"
   },
   "outputs": [
    {
     "data": {
      "image/png": "[encoded data removed]",
      "text/plain": [
       "<Figure size 432x288 with 1 Axes>"
      ]
     },
     "metadata": {
      "tags": []
     },
     "output_type": "display_data"
    }
   ],
   "source": [
    "# This is for plotting the model loss\n",
    "plt.plot(history.history['loss'])\n",
    "plt.plot(history.history['val_loss'])\n",
    "plt.title('model loss')\n",
    "plt.ylabel('loss')\n",
    "plt.xlabel('epoch')\n",
    "plt.legend(['train', 'cv'], loc='upper left')\n",
    "plt.show()"
   ]
  },
  {
   "cell_type": "code",
   "execution_count": 61,
   "metadata": {
    "colab": {
     "base_uri": "https://localhost:8080/",
     "height": 295
    },
    "colab_type": "code",
    "id": "6kc7CqIB0hBt",
    "outputId": "0925ad56-9a6a-4a53-903e-a8720ef2538f"
   },
   "outputs": [
    {
     "data": {
      "image/png": "[encoded data removed]",
      "text/plain": [
       "<Figure size 432x288 with 1 Axes>"
      ]
     },
     "metadata": {
      "tags": []
     },
     "output_type": "display_data"
    }
   ],
   "source": [
    "# This is for plotting the model accuracy\n",
    "plt.plot(history.history['acc'])\n",
    "plt.plot(history.history['val_acc'])\n",
    "plt.title('model accuracy')\n",
    "plt.ylabel('accuracy')\n",
    "plt.xlabel('epoch')\n",
    "plt.legend(['train', 'cv'], loc='upper left')\n",
    "plt.show()"
   ]
  },
  {
   "cell_type": "code",
   "execution_count": 62,
   "metadata": {
    "colab": {
     "base_uri": "https://localhost:8080/",
     "height": 54
    },
    "colab_type": "code",
    "id": "25U0Jcvz0g9R",
    "outputId": "17b506e9-443e-4113-cdb3-022339d4d22a"
   },
   "outputs": [
    {
     "name": "stdout",
     "output_type": "stream",
     "text": [
      "Accuracy: 92.16%\n",
      "Loss : 0.22%\n"
     ]
    }
   ],
   "source": [
    "# Final evaluation of the model\n",
    "scores = model.evaluate(X_test, y_test, verbose=0)\n",
    "print(\"Accuracy: %.2f%%\" % (scores[1]*100))\n",
    "print(\"Loss : %.2f%%\" % (scores[0]))"
   ]
  },
  {
   "cell_type": "code",
   "execution_count": 0,
   "metadata": {
    "colab": {},
    "colab_type": "code",
    "id": "uqnDs4cq0gwe"
   },
   "outputs": [],
   "source": [
    "table.add_row([32, 'LSTM(10)-Dense', 'Train: 95.7%  Test:92.1%', \n",
    "               'Train: 0.11  Test: 0.22'])"
   ]
  },
  {
   "cell_type": "code",
   "execution_count": 64,
   "metadata": {
    "colab": {
     "base_uri": "https://localhost:8080/",
     "height": 201
    },
    "colab_type": "code",
    "id": "CUZ98-1z0gun",
    "outputId": "f2e3e166-8f8b-4943-9ab7-ba95b77b26a2"
   },
   "outputs": [
    {
     "name": "stdout",
     "output_type": "stream",
     "text": [
      "+---------------+-------------------------+--------------------------+-------------------------+\n",
      "| Embedding Len |      Architechture      |         Accuracy         |           Loss          |\n",
      "+---------------+-------------------------+--------------------------+-------------------------+\n",
      "|       32      |      LSTM(50)-Dense     |   Train: 97%  Test:91%   | Train: 0.06  Test: 0.27 |\n",
      "|       64      | LSTM(32)-LSTM(16)-Dense | Train: 97.6%  Test:91.8% | Train: 0.06  Test: 0.28 |\n",
      "|       32      |      LSTM(50)-Dense     | Train: 97.6%  Test:91.6% | Train: 0.07  Test: 0.26 |\n",
      "|       32      |      LSTM(32)-Dense     | Train: 96.4%  Test:91.7% | Train: 0.09  Test: 0.25 |\n",
      "|       32      |      LSTM(10)-Dense     | Train: 95.7%  Test:92.1% | Train: 0.11  Test: 0.22 |\n",
      "+---------------+-------------------------+--------------------------+-------------------------+\n"
     ]
    }
   ],
   "source": [
    "print(table)"
   ]
  },
  {
   "cell_type": "code",
   "execution_count": 0,
   "metadata": {
    "colab": {},
    "colab_type": "code",
    "id": "KVt36DVu4gk4"
   },
   "outputs": [],
   "source": [
    "# Clearly we can see that the initial models are having a pretty good accuracy\n",
    "# on the test data but are clearly showing some sign of overfitting a little bit.\n",
    "# Towards the last model we are able to compensate this issue to some extent\n",
    "# by training on an extremly simplified model having very few LSTM units."
   ]
  }
 ],
 "metadata": {
  "accelerator": "TPU",
  "colab": {
   "collapsed_sections": [],
   "name": "Copy of LSTM_IMDB.ipynb",
   "provenance": []
  },
  "kernelspec": {
   "display_name": "Python 3",
   "language": "python",
   "name": "python3"
  },
  "language_info": {
   "codemirror_mode": {
    "name": "ipython",
    "version": 3
   },
   "file_extension": ".py",
   "mimetype": "text/x-python",
   "name": "python",
   "nbconvert_exporter": "python",
   "pygments_lexer": "ipython3",
   "version": "3.7.3"
  }
 },
 "nbformat": 4,
 "nbformat_minor": 1
}
